{
 "cells": [
  {
   "cell_type": "markdown",
   "metadata": {},
   "source": [
    "# CoronaVirus\n",
    "\n",
    "* Coronavirus disease (COVID-19) is an infectious disease caused by a newly discovered coronavirus.\n",
    "\n",
    "* Most people infected with the COVID-19 virus will experience mild to moderate respiratory illness and recover without requiring special treatment.  Older people, and those with underlying medical problems like cardiovascular disease, diabetes, chronic respiratory disease, and cancer are more likely to develop serious illness.\n",
    " \n",
    "* The best way to prevent and slow down transmission is to be well informed about the COVID-19 virus, the disease it causes and how it spreads. Protect yourself and others from infection by washing your hands or using an alcohol based rub frequently and not touching your face. \n",
    " \n",
    "* The COVID-19 virus spreads primarily through droplets of saliva or discharge from the nose when an infected person coughs or sneezes, so it’s important that you also practice respiratory etiquette (for example, by coughing into a flexed elbow).\n",
    "\n",
    "\n",
    "<img src = \"https://i.pinimg.com/originals/a8/d8/66/a8d866c87e75ae65af8a3f167ee1e8f6.gif\"/>"
   ]
  },
  {
   "cell_type": "code",
   "execution_count": 2,
   "metadata": {
    "_kg_hide-input": true
   },
   "outputs": [
    {
     "ename": "ModuleNotFoundError",
     "evalue": "No module named 'plotly'",
     "output_type": "error",
     "traceback": [
      "\u001b[0;31m---------------------------------------------------------------------------\u001b[0m",
      "\u001b[0;31mModuleNotFoundError\u001b[0m                       Traceback (most recent call last)",
      "\u001b[0;32m<ipython-input-2-17025e0bc424>\u001b[0m in \u001b[0;36m<module>\u001b[0;34m\u001b[0m\n\u001b[1;32m      5\u001b[0m \u001b[0;34m\u001b[0m\u001b[0m\n\u001b[1;32m      6\u001b[0m \u001b[0;34m\u001b[0m\u001b[0m\n\u001b[0;32m----> 7\u001b[0;31m \u001b[0;32mfrom\u001b[0m \u001b[0mplotly\u001b[0m\u001b[0;34m.\u001b[0m\u001b[0moffline\u001b[0m \u001b[0;32mimport\u001b[0m \u001b[0miplot\u001b[0m\u001b[0;34m,\u001b[0m \u001b[0minit_notebook_mode\u001b[0m\u001b[0;34m\u001b[0m\u001b[0;34m\u001b[0m\u001b[0m\n\u001b[0m\u001b[1;32m      8\u001b[0m \u001b[0;32mimport\u001b[0m \u001b[0mplotly\u001b[0m\u001b[0;34m.\u001b[0m\u001b[0mexpress\u001b[0m \u001b[0;32mas\u001b[0m \u001b[0mpx\u001b[0m\u001b[0;34m\u001b[0m\u001b[0;34m\u001b[0m\u001b[0m\n\u001b[1;32m      9\u001b[0m \u001b[0;32mimport\u001b[0m \u001b[0mplotly\u001b[0m\u001b[0;34m.\u001b[0m\u001b[0mgraph_objects\u001b[0m \u001b[0;32mas\u001b[0m \u001b[0mgo\u001b[0m\u001b[0;34m\u001b[0m\u001b[0;34m\u001b[0m\u001b[0m\n",
      "\u001b[0;31mModuleNotFoundError\u001b[0m: No module named 'plotly'"
     ]
    }
   ],
   "source": [
    "#Import required libraries\n",
    "\n",
    "import pandas as pd\n",
    "import numpy as np\n",
    "\n",
    "\n",
    "from plotly.offline import iplot, init_notebook_mode\n",
    "import plotly.express as px\n",
    "import plotly.graph_objects as go\n",
    "\n",
    "import cufflinks as cf\n",
    "cf.go_offline()\n",
    "import os\n",
    "\n",
    "\n",
    "import matplotlib.pyplot as plt\n",
    "import seaborn as sns"
   ]
  },
  {
   "cell_type": "markdown",
   "metadata": {},
   "source": [
    "# Importing and Visualization of data"
   ]
  },
  {
   "cell_type": "code",
   "execution_count": 2,
   "metadata": {
    "_cell_guid": "79c7e3d0-c299-4dcb-8224-4455121ee9b0",
    "_kg_hide-input": true,
    "_uuid": "d629ff2d2480ee46fbb7e2d37f6b5fab8052498a"
   },
   "outputs": [
    {
     "data": {
      "text/html": [
       "<div>\n",
       "<style scoped>\n",
       "    .dataframe tbody tr th:only-of-type {\n",
       "        vertical-align: middle;\n",
       "    }\n",
       "\n",
       "    .dataframe tbody tr th {\n",
       "        vertical-align: top;\n",
       "    }\n",
       "\n",
       "    .dataframe thead th {\n",
       "        text-align: right;\n",
       "    }\n",
       "</style>\n",
       "<table border=\"1\" class=\"dataframe\">\n",
       "  <thead>\n",
       "    <tr style=\"text-align: right;\">\n",
       "      <th></th>\n",
       "      <th>date</th>\n",
       "      <th>location</th>\n",
       "      <th>new_cases</th>\n",
       "      <th>new_deaths</th>\n",
       "      <th>total_cases</th>\n",
       "      <th>total_deaths</th>\n",
       "      <th>weekly_cases</th>\n",
       "      <th>weekly_deaths</th>\n",
       "      <th>biweekly_cases</th>\n",
       "      <th>biweekly_deaths</th>\n",
       "    </tr>\n",
       "  </thead>\n",
       "  <tbody>\n",
       "    <tr>\n",
       "      <th>0</th>\n",
       "      <td>2019-12-31</td>\n",
       "      <td>Afghanistan</td>\n",
       "      <td>0.0</td>\n",
       "      <td>0.0</td>\n",
       "      <td>0.0</td>\n",
       "      <td>0.0</td>\n",
       "      <td>NaN</td>\n",
       "      <td>NaN</td>\n",
       "      <td>NaN</td>\n",
       "      <td>NaN</td>\n",
       "    </tr>\n",
       "    <tr>\n",
       "      <th>1</th>\n",
       "      <td>2020-01-01</td>\n",
       "      <td>Afghanistan</td>\n",
       "      <td>0.0</td>\n",
       "      <td>0.0</td>\n",
       "      <td>0.0</td>\n",
       "      <td>0.0</td>\n",
       "      <td>NaN</td>\n",
       "      <td>NaN</td>\n",
       "      <td>NaN</td>\n",
       "      <td>NaN</td>\n",
       "    </tr>\n",
       "    <tr>\n",
       "      <th>2</th>\n",
       "      <td>2020-01-02</td>\n",
       "      <td>Afghanistan</td>\n",
       "      <td>0.0</td>\n",
       "      <td>0.0</td>\n",
       "      <td>0.0</td>\n",
       "      <td>0.0</td>\n",
       "      <td>NaN</td>\n",
       "      <td>NaN</td>\n",
       "      <td>NaN</td>\n",
       "      <td>NaN</td>\n",
       "    </tr>\n",
       "    <tr>\n",
       "      <th>3</th>\n",
       "      <td>2020-01-03</td>\n",
       "      <td>Afghanistan</td>\n",
       "      <td>0.0</td>\n",
       "      <td>0.0</td>\n",
       "      <td>0.0</td>\n",
       "      <td>0.0</td>\n",
       "      <td>NaN</td>\n",
       "      <td>NaN</td>\n",
       "      <td>NaN</td>\n",
       "      <td>NaN</td>\n",
       "    </tr>\n",
       "    <tr>\n",
       "      <th>4</th>\n",
       "      <td>2020-01-04</td>\n",
       "      <td>Afghanistan</td>\n",
       "      <td>0.0</td>\n",
       "      <td>0.0</td>\n",
       "      <td>0.0</td>\n",
       "      <td>0.0</td>\n",
       "      <td>NaN</td>\n",
       "      <td>NaN</td>\n",
       "      <td>NaN</td>\n",
       "      <td>NaN</td>\n",
       "    </tr>\n",
       "  </tbody>\n",
       "</table>\n",
       "</div>"
      ],
      "text/plain": [
       "         date     location  new_cases  new_deaths  total_cases  total_deaths  \\\n",
       "0  2019-12-31  Afghanistan        0.0         0.0          0.0           0.0   \n",
       "1  2020-01-01  Afghanistan        0.0         0.0          0.0           0.0   \n",
       "2  2020-01-02  Afghanistan        0.0         0.0          0.0           0.0   \n",
       "3  2020-01-03  Afghanistan        0.0         0.0          0.0           0.0   \n",
       "4  2020-01-04  Afghanistan        0.0         0.0          0.0           0.0   \n",
       "\n",
       "   weekly_cases  weekly_deaths  biweekly_cases  biweekly_deaths  \n",
       "0           NaN            NaN             NaN              NaN  \n",
       "1           NaN            NaN             NaN              NaN  \n",
       "2           NaN            NaN             NaN              NaN  \n",
       "3           NaN            NaN             NaN              NaN  \n",
       "4           NaN            NaN             NaN              NaN  "
      ]
     },
     "execution_count": 2,
     "metadata": {},
     "output_type": "execute_result"
    }
   ],
   "source": [
    "full_data = pd.read_csv('/kaggle/input/alldatas/full_data.csv')\n",
    "\n",
    "full_data.head()"
   ]
  },
  {
   "cell_type": "markdown",
   "metadata": {},
   "source": [
    "# Substitute Nan with zeros"
   ]
  },
  {
   "cell_type": "code",
   "execution_count": 3,
   "metadata": {
    "_kg_hide-input": true
   },
   "outputs": [
    {
     "data": {
      "text/html": [
       "<div>\n",
       "<style scoped>\n",
       "    .dataframe tbody tr th:only-of-type {\n",
       "        vertical-align: middle;\n",
       "    }\n",
       "\n",
       "    .dataframe tbody tr th {\n",
       "        vertical-align: top;\n",
       "    }\n",
       "\n",
       "    .dataframe thead th {\n",
       "        text-align: right;\n",
       "    }\n",
       "</style>\n",
       "<table border=\"1\" class=\"dataframe\">\n",
       "  <thead>\n",
       "    <tr style=\"text-align: right;\">\n",
       "      <th></th>\n",
       "      <th>date</th>\n",
       "      <th>location</th>\n",
       "      <th>new_cases</th>\n",
       "      <th>new_deaths</th>\n",
       "      <th>total_cases</th>\n",
       "      <th>total_deaths</th>\n",
       "      <th>weekly_cases</th>\n",
       "      <th>weekly_deaths</th>\n",
       "      <th>biweekly_cases</th>\n",
       "      <th>biweekly_deaths</th>\n",
       "    </tr>\n",
       "  </thead>\n",
       "  <tbody>\n",
       "    <tr>\n",
       "      <th>48906</th>\n",
       "      <td>2020-09-22</td>\n",
       "      <td>Zimbabwe</td>\n",
       "      <td>23.0</td>\n",
       "      <td>1.0</td>\n",
       "      <td>7706.0</td>\n",
       "      <td>226.0</td>\n",
       "      <td>175.0</td>\n",
       "      <td>2.0</td>\n",
       "      <td>408.0</td>\n",
       "      <td>16.0</td>\n",
       "    </tr>\n",
       "    <tr>\n",
       "      <th>48907</th>\n",
       "      <td>2020-09-23</td>\n",
       "      <td>Zimbabwe</td>\n",
       "      <td>5.0</td>\n",
       "      <td>0.0</td>\n",
       "      <td>7711.0</td>\n",
       "      <td>226.0</td>\n",
       "      <td>135.0</td>\n",
       "      <td>2.0</td>\n",
       "      <td>323.0</td>\n",
       "      <td>8.0</td>\n",
       "    </tr>\n",
       "    <tr>\n",
       "      <th>48908</th>\n",
       "      <td>2020-09-24</td>\n",
       "      <td>Zimbabwe</td>\n",
       "      <td>14.0</td>\n",
       "      <td>1.0</td>\n",
       "      <td>7725.0</td>\n",
       "      <td>227.0</td>\n",
       "      <td>127.0</td>\n",
       "      <td>3.0</td>\n",
       "      <td>296.0</td>\n",
       "      <td>5.0</td>\n",
       "    </tr>\n",
       "    <tr>\n",
       "      <th>48909</th>\n",
       "      <td>2020-09-25</td>\n",
       "      <td>Zimbabwe</td>\n",
       "      <td>27.0</td>\n",
       "      <td>0.0</td>\n",
       "      <td>7752.0</td>\n",
       "      <td>227.0</td>\n",
       "      <td>119.0</td>\n",
       "      <td>3.0</td>\n",
       "      <td>299.0</td>\n",
       "      <td>5.0</td>\n",
       "    </tr>\n",
       "    <tr>\n",
       "      <th>48910</th>\n",
       "      <td>2020-09-26</td>\n",
       "      <td>Zimbabwe</td>\n",
       "      <td>35.0</td>\n",
       "      <td>0.0</td>\n",
       "      <td>7787.0</td>\n",
       "      <td>227.0</td>\n",
       "      <td>140.0</td>\n",
       "      <td>3.0</td>\n",
       "      <td>308.0</td>\n",
       "      <td>3.0</td>\n",
       "    </tr>\n",
       "    <tr>\n",
       "      <th>48911</th>\n",
       "      <td>2020-09-27</td>\n",
       "      <td>Zimbabwe</td>\n",
       "      <td>16.0</td>\n",
       "      <td>0.0</td>\n",
       "      <td>7803.0</td>\n",
       "      <td>227.0</td>\n",
       "      <td>131.0</td>\n",
       "      <td>2.0</td>\n",
       "      <td>295.0</td>\n",
       "      <td>3.0</td>\n",
       "    </tr>\n",
       "    <tr>\n",
       "      <th>48912</th>\n",
       "      <td>2020-09-28</td>\n",
       "      <td>Zimbabwe</td>\n",
       "      <td>9.0</td>\n",
       "      <td>0.0</td>\n",
       "      <td>7812.0</td>\n",
       "      <td>227.0</td>\n",
       "      <td>129.0</td>\n",
       "      <td>2.0</td>\n",
       "      <td>286.0</td>\n",
       "      <td>3.0</td>\n",
       "    </tr>\n",
       "    <tr>\n",
       "      <th>48913</th>\n",
       "      <td>2020-09-29</td>\n",
       "      <td>Zimbabwe</td>\n",
       "      <td>4.0</td>\n",
       "      <td>1.0</td>\n",
       "      <td>7816.0</td>\n",
       "      <td>228.0</td>\n",
       "      <td>110.0</td>\n",
       "      <td>2.0</td>\n",
       "      <td>285.0</td>\n",
       "      <td>4.0</td>\n",
       "    </tr>\n",
       "    <tr>\n",
       "      <th>48914</th>\n",
       "      <td>2020-09-30</td>\n",
       "      <td>Zimbabwe</td>\n",
       "      <td>21.0</td>\n",
       "      <td>0.0</td>\n",
       "      <td>7837.0</td>\n",
       "      <td>228.0</td>\n",
       "      <td>126.0</td>\n",
       "      <td>2.0</td>\n",
       "      <td>261.0</td>\n",
       "      <td>4.0</td>\n",
       "    </tr>\n",
       "    <tr>\n",
       "      <th>48915</th>\n",
       "      <td>2020-10-01</td>\n",
       "      <td>Zimbabwe</td>\n",
       "      <td>1.0</td>\n",
       "      <td>0.0</td>\n",
       "      <td>7838.0</td>\n",
       "      <td>228.0</td>\n",
       "      <td>113.0</td>\n",
       "      <td>1.0</td>\n",
       "      <td>240.0</td>\n",
       "      <td>4.0</td>\n",
       "    </tr>\n",
       "    <tr>\n",
       "      <th>48916</th>\n",
       "      <td>2020-10-02</td>\n",
       "      <td>Zimbabwe</td>\n",
       "      <td>12.0</td>\n",
       "      <td>0.0</td>\n",
       "      <td>7850.0</td>\n",
       "      <td>228.0</td>\n",
       "      <td>98.0</td>\n",
       "      <td>1.0</td>\n",
       "      <td>217.0</td>\n",
       "      <td>4.0</td>\n",
       "    </tr>\n",
       "    <tr>\n",
       "      <th>48917</th>\n",
       "      <td>2020-10-03</td>\n",
       "      <td>Zimbabwe</td>\n",
       "      <td>8.0</td>\n",
       "      <td>0.0</td>\n",
       "      <td>7858.0</td>\n",
       "      <td>228.0</td>\n",
       "      <td>71.0</td>\n",
       "      <td>1.0</td>\n",
       "      <td>211.0</td>\n",
       "      <td>4.0</td>\n",
       "    </tr>\n",
       "    <tr>\n",
       "      <th>48918</th>\n",
       "      <td>2020-10-04</td>\n",
       "      <td>Zimbabwe</td>\n",
       "      <td>27.0</td>\n",
       "      <td>0.0</td>\n",
       "      <td>7885.0</td>\n",
       "      <td>228.0</td>\n",
       "      <td>82.0</td>\n",
       "      <td>1.0</td>\n",
       "      <td>213.0</td>\n",
       "      <td>3.0</td>\n",
       "    </tr>\n",
       "    <tr>\n",
       "      <th>48919</th>\n",
       "      <td>2020-10-05</td>\n",
       "      <td>Zimbabwe</td>\n",
       "      <td>0.0</td>\n",
       "      <td>0.0</td>\n",
       "      <td>7885.0</td>\n",
       "      <td>228.0</td>\n",
       "      <td>73.0</td>\n",
       "      <td>1.0</td>\n",
       "      <td>202.0</td>\n",
       "      <td>3.0</td>\n",
       "    </tr>\n",
       "    <tr>\n",
       "      <th>48920</th>\n",
       "      <td>2020-10-06</td>\n",
       "      <td>Zimbabwe</td>\n",
       "      <td>13.0</td>\n",
       "      <td>0.0</td>\n",
       "      <td>7898.0</td>\n",
       "      <td>228.0</td>\n",
       "      <td>82.0</td>\n",
       "      <td>0.0</td>\n",
       "      <td>192.0</td>\n",
       "      <td>2.0</td>\n",
       "    </tr>\n",
       "    <tr>\n",
       "      <th>48921</th>\n",
       "      <td>2020-10-07</td>\n",
       "      <td>Zimbabwe</td>\n",
       "      <td>17.0</td>\n",
       "      <td>1.0</td>\n",
       "      <td>7915.0</td>\n",
       "      <td>229.0</td>\n",
       "      <td>78.0</td>\n",
       "      <td>1.0</td>\n",
       "      <td>204.0</td>\n",
       "      <td>3.0</td>\n",
       "    </tr>\n",
       "    <tr>\n",
       "      <th>48922</th>\n",
       "      <td>2020-10-08</td>\n",
       "      <td>Zimbabwe</td>\n",
       "      <td>4.0</td>\n",
       "      <td>0.0</td>\n",
       "      <td>7919.0</td>\n",
       "      <td>229.0</td>\n",
       "      <td>81.0</td>\n",
       "      <td>1.0</td>\n",
       "      <td>194.0</td>\n",
       "      <td>2.0</td>\n",
       "    </tr>\n",
       "    <tr>\n",
       "      <th>48923</th>\n",
       "      <td>2020-10-09</td>\n",
       "      <td>Zimbabwe</td>\n",
       "      <td>32.0</td>\n",
       "      <td>0.0</td>\n",
       "      <td>7951.0</td>\n",
       "      <td>229.0</td>\n",
       "      <td>101.0</td>\n",
       "      <td>1.0</td>\n",
       "      <td>199.0</td>\n",
       "      <td>2.0</td>\n",
       "    </tr>\n",
       "    <tr>\n",
       "      <th>48924</th>\n",
       "      <td>2020-10-10</td>\n",
       "      <td>Zimbabwe</td>\n",
       "      <td>43.0</td>\n",
       "      <td>0.0</td>\n",
       "      <td>7994.0</td>\n",
       "      <td>229.0</td>\n",
       "      <td>136.0</td>\n",
       "      <td>1.0</td>\n",
       "      <td>207.0</td>\n",
       "      <td>2.0</td>\n",
       "    </tr>\n",
       "    <tr>\n",
       "      <th>48925</th>\n",
       "      <td>2020-10-11</td>\n",
       "      <td>Zimbabwe</td>\n",
       "      <td>16.0</td>\n",
       "      <td>1.0</td>\n",
       "      <td>8010.0</td>\n",
       "      <td>230.0</td>\n",
       "      <td>125.0</td>\n",
       "      <td>2.0</td>\n",
       "      <td>207.0</td>\n",
       "      <td>3.0</td>\n",
       "    </tr>\n",
       "  </tbody>\n",
       "</table>\n",
       "</div>"
      ],
      "text/plain": [
       "             date  location  new_cases  new_deaths  total_cases  total_deaths  \\\n",
       "48906  2020-09-22  Zimbabwe       23.0         1.0       7706.0         226.0   \n",
       "48907  2020-09-23  Zimbabwe        5.0         0.0       7711.0         226.0   \n",
       "48908  2020-09-24  Zimbabwe       14.0         1.0       7725.0         227.0   \n",
       "48909  2020-09-25  Zimbabwe       27.0         0.0       7752.0         227.0   \n",
       "48910  2020-09-26  Zimbabwe       35.0         0.0       7787.0         227.0   \n",
       "48911  2020-09-27  Zimbabwe       16.0         0.0       7803.0         227.0   \n",
       "48912  2020-09-28  Zimbabwe        9.0         0.0       7812.0         227.0   \n",
       "48913  2020-09-29  Zimbabwe        4.0         1.0       7816.0         228.0   \n",
       "48914  2020-09-30  Zimbabwe       21.0         0.0       7837.0         228.0   \n",
       "48915  2020-10-01  Zimbabwe        1.0         0.0       7838.0         228.0   \n",
       "48916  2020-10-02  Zimbabwe       12.0         0.0       7850.0         228.0   \n",
       "48917  2020-10-03  Zimbabwe        8.0         0.0       7858.0         228.0   \n",
       "48918  2020-10-04  Zimbabwe       27.0         0.0       7885.0         228.0   \n",
       "48919  2020-10-05  Zimbabwe        0.0         0.0       7885.0         228.0   \n",
       "48920  2020-10-06  Zimbabwe       13.0         0.0       7898.0         228.0   \n",
       "48921  2020-10-07  Zimbabwe       17.0         1.0       7915.0         229.0   \n",
       "48922  2020-10-08  Zimbabwe        4.0         0.0       7919.0         229.0   \n",
       "48923  2020-10-09  Zimbabwe       32.0         0.0       7951.0         229.0   \n",
       "48924  2020-10-10  Zimbabwe       43.0         0.0       7994.0         229.0   \n",
       "48925  2020-10-11  Zimbabwe       16.0         1.0       8010.0         230.0   \n",
       "\n",
       "       weekly_cases  weekly_deaths  biweekly_cases  biweekly_deaths  \n",
       "48906         175.0            2.0           408.0             16.0  \n",
       "48907         135.0            2.0           323.0              8.0  \n",
       "48908         127.0            3.0           296.0              5.0  \n",
       "48909         119.0            3.0           299.0              5.0  \n",
       "48910         140.0            3.0           308.0              3.0  \n",
       "48911         131.0            2.0           295.0              3.0  \n",
       "48912         129.0            2.0           286.0              3.0  \n",
       "48913         110.0            2.0           285.0              4.0  \n",
       "48914         126.0            2.0           261.0              4.0  \n",
       "48915         113.0            1.0           240.0              4.0  \n",
       "48916          98.0            1.0           217.0              4.0  \n",
       "48917          71.0            1.0           211.0              4.0  \n",
       "48918          82.0            1.0           213.0              3.0  \n",
       "48919          73.0            1.0           202.0              3.0  \n",
       "48920          82.0            0.0           192.0              2.0  \n",
       "48921          78.0            1.0           204.0              3.0  \n",
       "48922          81.0            1.0           194.0              2.0  \n",
       "48923         101.0            1.0           199.0              2.0  \n",
       "48924         136.0            1.0           207.0              2.0  \n",
       "48925         125.0            2.0           207.0              3.0  "
      ]
     },
     "execution_count": 3,
     "metadata": {},
     "output_type": "execute_result"
    }
   ],
   "source": [
    "full_data = full_data.fillna(0)\n",
    "\n",
    "full_data.tail(20)"
   ]
  },
  {
   "cell_type": "markdown",
   "metadata": {},
   "source": [
    "# Providing datatype to each column"
   ]
  },
  {
   "cell_type": "code",
   "execution_count": 4,
   "metadata": {
    "_kg_hide-input": true
   },
   "outputs": [],
   "source": [
    "from datetime import datetime\n",
    "\n",
    "full_data = full_data.astype({\n",
    "    'location':str, \n",
    "    'new_cases':int, \n",
    "    'new_deaths':int,\n",
    "    'total_cases':int,\n",
    "    'total_deaths':int,\n",
    "    'weekly_cases':int,\n",
    "    'weekly_deaths':int,\n",
    "    'biweekly_cases':int,\n",
    "    'biweekly_deaths':int\n",
    "})\n",
    "\n",
    "\n",
    "full_data.date = pd.to_datetime(full_data.date)"
   ]
  },
  {
   "cell_type": "markdown",
   "metadata": {},
   "source": [
    "# Plotting the graph of total number of cases till date"
   ]
  },
  {
   "cell_type": "code",
   "execution_count": 5,
   "metadata": {
    "_kg_hide-input": true
   },
   "outputs": [
    {
     "data": {
      "text/html": [
       "<style  type=\"text/css\" >\n",
       "#T_2c5001f6_0d19_11eb_bb5d_0242ac130202row0_col1,#T_2c5001f6_0d19_11eb_bb5d_0242ac130202row0_col2{\n",
       "            background-color:  #7f2704;\n",
       "            color:  #f1f1f1;\n",
       "        }#T_2c5001f6_0d19_11eb_bb5d_0242ac130202row1_col1{\n",
       "            background-color:  #9a3103;\n",
       "            color:  #f1f1f1;\n",
       "        }#T_2c5001f6_0d19_11eb_bb5d_0242ac130202row1_col2{\n",
       "            background-color:  #fc8b3a;\n",
       "            color:  #000000;\n",
       "        }#T_2c5001f6_0d19_11eb_bb5d_0242ac130202row2_col1{\n",
       "            background-color:  #eb600e;\n",
       "            color:  #000000;\n",
       "        }#T_2c5001f6_0d19_11eb_bb5d_0242ac130202row2_col2{\n",
       "            background-color:  #e25508;\n",
       "            color:  #000000;\n",
       "        }#T_2c5001f6_0d19_11eb_bb5d_0242ac130202row3_col1{\n",
       "            background-color:  #fedfc0;\n",
       "            color:  #000000;\n",
       "        }#T_2c5001f6_0d19_11eb_bb5d_0242ac130202row3_col2{\n",
       "            background-color:  #fee9d3;\n",
       "            color:  #000000;\n",
       "        }#T_2c5001f6_0d19_11eb_bb5d_0242ac130202row4_col1,#T_2c5001f6_0d19_11eb_bb5d_0242ac130202row5_col1{\n",
       "            background-color:  #fee7d1;\n",
       "            color:  #000000;\n",
       "        }#T_2c5001f6_0d19_11eb_bb5d_0242ac130202row4_col2,#T_2c5001f6_0d19_11eb_bb5d_0242ac130202row11_col2{\n",
       "            background-color:  #fee5cc;\n",
       "            color:  #000000;\n",
       "        }#T_2c5001f6_0d19_11eb_bb5d_0242ac130202row5_col2,#T_2c5001f6_0d19_11eb_bb5d_0242ac130202row6_col1,#T_2c5001f6_0d19_11eb_bb5d_0242ac130202row7_col1{\n",
       "            background-color:  #fee8d2;\n",
       "            color:  #000000;\n",
       "        }#T_2c5001f6_0d19_11eb_bb5d_0242ac130202row6_col2,#T_2c5001f6_0d19_11eb_bb5d_0242ac130202row8_col2{\n",
       "            background-color:  #fee1c4;\n",
       "            color:  #000000;\n",
       "        }#T_2c5001f6_0d19_11eb_bb5d_0242ac130202row7_col2{\n",
       "            background-color:  #fdab66;\n",
       "            color:  #000000;\n",
       "        }#T_2c5001f6_0d19_11eb_bb5d_0242ac130202row8_col1{\n",
       "            background-color:  #feead6;\n",
       "            color:  #000000;\n",
       "        }#T_2c5001f6_0d19_11eb_bb5d_0242ac130202row9_col1{\n",
       "            background-color:  #feebd7;\n",
       "            color:  #000000;\n",
       "        }#T_2c5001f6_0d19_11eb_bb5d_0242ac130202row9_col2{\n",
       "            background-color:  #feebd8;\n",
       "            color:  #000000;\n",
       "        }#T_2c5001f6_0d19_11eb_bb5d_0242ac130202row10_col1{\n",
       "            background-color:  #feecda;\n",
       "            color:  #000000;\n",
       "        }#T_2c5001f6_0d19_11eb_bb5d_0242ac130202row10_col2{\n",
       "            background-color:  #fdd9b4;\n",
       "            color:  #000000;\n",
       "        }#T_2c5001f6_0d19_11eb_bb5d_0242ac130202row11_col1{\n",
       "            background-color:  #feeddc;\n",
       "            color:  #000000;\n",
       "        }#T_2c5001f6_0d19_11eb_bb5d_0242ac130202row12_col1,#T_2c5001f6_0d19_11eb_bb5d_0242ac130202row12_col2{\n",
       "            background-color:  #ffeedd;\n",
       "            color:  #000000;\n",
       "        }#T_2c5001f6_0d19_11eb_bb5d_0242ac130202row13_col1{\n",
       "            background-color:  #ffefdf;\n",
       "            color:  #000000;\n",
       "        }#T_2c5001f6_0d19_11eb_bb5d_0242ac130202row13_col2,#T_2c5001f6_0d19_11eb_bb5d_0242ac130202row15_col1,#T_2c5001f6_0d19_11eb_bb5d_0242ac130202row16_col1,#T_2c5001f6_0d19_11eb_bb5d_0242ac130202row17_col1,#T_2c5001f6_0d19_11eb_bb5d_0242ac130202row18_col1,#T_2c5001f6_0d19_11eb_bb5d_0242ac130202row20_col2,#T_2c5001f6_0d19_11eb_bb5d_0242ac130202row24_col2{\n",
       "            background-color:  #fff0e1;\n",
       "            color:  #000000;\n",
       "        }#T_2c5001f6_0d19_11eb_bb5d_0242ac130202row14_col1,#T_2c5001f6_0d19_11eb_bb5d_0242ac130202row26_col2{\n",
       "            background-color:  #ffefe0;\n",
       "            color:  #000000;\n",
       "        }#T_2c5001f6_0d19_11eb_bb5d_0242ac130202row14_col2,#T_2c5001f6_0d19_11eb_bb5d_0242ac130202row27_col2{\n",
       "            background-color:  #fff2e6;\n",
       "            color:  #000000;\n",
       "        }#T_2c5001f6_0d19_11eb_bb5d_0242ac130202row15_col2{\n",
       "            background-color:  #fedebf;\n",
       "            color:  #000000;\n",
       "        }#T_2c5001f6_0d19_11eb_bb5d_0242ac130202row16_col2,#T_2c5001f6_0d19_11eb_bb5d_0242ac130202row23_col2,#T_2c5001f6_0d19_11eb_bb5d_0242ac130202row24_col1,#T_2c5001f6_0d19_11eb_bb5d_0242ac130202row25_col1,#T_2c5001f6_0d19_11eb_bb5d_0242ac130202row26_col1,#T_2c5001f6_0d19_11eb_bb5d_0242ac130202row27_col1,#T_2c5001f6_0d19_11eb_bb5d_0242ac130202row43_col2{\n",
       "            background-color:  #fff3e6;\n",
       "            color:  #000000;\n",
       "        }#T_2c5001f6_0d19_11eb_bb5d_0242ac130202row17_col2,#T_2c5001f6_0d19_11eb_bb5d_0242ac130202row21_col2,#T_2c5001f6_0d19_11eb_bb5d_0242ac130202row25_col2,#T_2c5001f6_0d19_11eb_bb5d_0242ac130202row40_col2{\n",
       "            background-color:  #fff2e5;\n",
       "            color:  #000000;\n",
       "        }#T_2c5001f6_0d19_11eb_bb5d_0242ac130202row18_col2,#T_2c5001f6_0d19_11eb_bb5d_0242ac130202row19_col1,#T_2c5001f6_0d19_11eb_bb5d_0242ac130202row20_col1,#T_2c5001f6_0d19_11eb_bb5d_0242ac130202row21_col1{\n",
       "            background-color:  #fff0e2;\n",
       "            color:  #000000;\n",
       "        }#T_2c5001f6_0d19_11eb_bb5d_0242ac130202row19_col2,#T_2c5001f6_0d19_11eb_bb5d_0242ac130202row28_col2{\n",
       "            background-color:  #ffeede;\n",
       "            color:  #000000;\n",
       "        }#T_2c5001f6_0d19_11eb_bb5d_0242ac130202row22_col1,#T_2c5001f6_0d19_11eb_bb5d_0242ac130202row31_col2{\n",
       "            background-color:  #fff1e3;\n",
       "            color:  #000000;\n",
       "        }#T_2c5001f6_0d19_11eb_bb5d_0242ac130202row22_col2,#T_2c5001f6_0d19_11eb_bb5d_0242ac130202row30_col2,#T_2c5001f6_0d19_11eb_bb5d_0242ac130202row34_col2,#T_2c5001f6_0d19_11eb_bb5d_0242ac130202row35_col2,#T_2c5001f6_0d19_11eb_bb5d_0242ac130202row44_col1,#T_2c5001f6_0d19_11eb_bb5d_0242ac130202row45_col1,#T_2c5001f6_0d19_11eb_bb5d_0242ac130202row46_col1,#T_2c5001f6_0d19_11eb_bb5d_0242ac130202row46_col2,#T_2c5001f6_0d19_11eb_bb5d_0242ac130202row47_col1,#T_2c5001f6_0d19_11eb_bb5d_0242ac130202row48_col1,#T_2c5001f6_0d19_11eb_bb5d_0242ac130202row48_col2,#T_2c5001f6_0d19_11eb_bb5d_0242ac130202row49_col1,#T_2c5001f6_0d19_11eb_bb5d_0242ac130202row50_col1,#T_2c5001f6_0d19_11eb_bb5d_0242ac130202row51_col1,#T_2c5001f6_0d19_11eb_bb5d_0242ac130202row52_col1,#T_2c5001f6_0d19_11eb_bb5d_0242ac130202row53_col1,#T_2c5001f6_0d19_11eb_bb5d_0242ac130202row54_col2,#T_2c5001f6_0d19_11eb_bb5d_0242ac130202row61_col2,#T_2c5001f6_0d19_11eb_bb5d_0242ac130202row67_col2{\n",
       "            background-color:  #fff4e9;\n",
       "            color:  #000000;\n",
       "        }#T_2c5001f6_0d19_11eb_bb5d_0242ac130202row23_col1{\n",
       "            background-color:  #fff1e4;\n",
       "            color:  #000000;\n",
       "        }#T_2c5001f6_0d19_11eb_bb5d_0242ac130202row28_col1,#T_2c5001f6_0d19_11eb_bb5d_0242ac130202row29_col1,#T_2c5001f6_0d19_11eb_bb5d_0242ac130202row30_col1,#T_2c5001f6_0d19_11eb_bb5d_0242ac130202row31_col1,#T_2c5001f6_0d19_11eb_bb5d_0242ac130202row32_col1,#T_2c5001f6_0d19_11eb_bb5d_0242ac130202row33_col1,#T_2c5001f6_0d19_11eb_bb5d_0242ac130202row42_col2{\n",
       "            background-color:  #fff3e7;\n",
       "            color:  #000000;\n",
       "        }#T_2c5001f6_0d19_11eb_bb5d_0242ac130202row29_col2,#T_2c5001f6_0d19_11eb_bb5d_0242ac130202row33_col2,#T_2c5001f6_0d19_11eb_bb5d_0242ac130202row34_col1,#T_2c5001f6_0d19_11eb_bb5d_0242ac130202row35_col1,#T_2c5001f6_0d19_11eb_bb5d_0242ac130202row36_col1,#T_2c5001f6_0d19_11eb_bb5d_0242ac130202row37_col1,#T_2c5001f6_0d19_11eb_bb5d_0242ac130202row38_col1,#T_2c5001f6_0d19_11eb_bb5d_0242ac130202row39_col1,#T_2c5001f6_0d19_11eb_bb5d_0242ac130202row40_col1,#T_2c5001f6_0d19_11eb_bb5d_0242ac130202row41_col1,#T_2c5001f6_0d19_11eb_bb5d_0242ac130202row42_col1,#T_2c5001f6_0d19_11eb_bb5d_0242ac130202row43_col1{\n",
       "            background-color:  #fff4e8;\n",
       "            color:  #000000;\n",
       "        }#T_2c5001f6_0d19_11eb_bb5d_0242ac130202row32_col2,#T_2c5001f6_0d19_11eb_bb5d_0242ac130202row36_col2,#T_2c5001f6_0d19_11eb_bb5d_0242ac130202row38_col2,#T_2c5001f6_0d19_11eb_bb5d_0242ac130202row39_col2,#T_2c5001f6_0d19_11eb_bb5d_0242ac130202row50_col2,#T_2c5001f6_0d19_11eb_bb5d_0242ac130202row51_col2,#T_2c5001f6_0d19_11eb_bb5d_0242ac130202row53_col2,#T_2c5001f6_0d19_11eb_bb5d_0242ac130202row56_col2,#T_2c5001f6_0d19_11eb_bb5d_0242ac130202row58_col2,#T_2c5001f6_0d19_11eb_bb5d_0242ac130202row60_col2,#T_2c5001f6_0d19_11eb_bb5d_0242ac130202row62_col2,#T_2c5001f6_0d19_11eb_bb5d_0242ac130202row65_col2,#T_2c5001f6_0d19_11eb_bb5d_0242ac130202row66_col2,#T_2c5001f6_0d19_11eb_bb5d_0242ac130202row68_col2,#T_2c5001f6_0d19_11eb_bb5d_0242ac130202row69_col2,#T_2c5001f6_0d19_11eb_bb5d_0242ac130202row72_col2,#T_2c5001f6_0d19_11eb_bb5d_0242ac130202row73_col2,#T_2c5001f6_0d19_11eb_bb5d_0242ac130202row74_col2,#T_2c5001f6_0d19_11eb_bb5d_0242ac130202row75_col1,#T_2c5001f6_0d19_11eb_bb5d_0242ac130202row76_col1,#T_2c5001f6_0d19_11eb_bb5d_0242ac130202row77_col1,#T_2c5001f6_0d19_11eb_bb5d_0242ac130202row78_col1,#T_2c5001f6_0d19_11eb_bb5d_0242ac130202row78_col2,#T_2c5001f6_0d19_11eb_bb5d_0242ac130202row79_col1,#T_2c5001f6_0d19_11eb_bb5d_0242ac130202row79_col2,#T_2c5001f6_0d19_11eb_bb5d_0242ac130202row80_col1,#T_2c5001f6_0d19_11eb_bb5d_0242ac130202row80_col2,#T_2c5001f6_0d19_11eb_bb5d_0242ac130202row81_col1,#T_2c5001f6_0d19_11eb_bb5d_0242ac130202row82_col1,#T_2c5001f6_0d19_11eb_bb5d_0242ac130202row82_col2,#T_2c5001f6_0d19_11eb_bb5d_0242ac130202row83_col1,#T_2c5001f6_0d19_11eb_bb5d_0242ac130202row83_col2,#T_2c5001f6_0d19_11eb_bb5d_0242ac130202row84_col1,#T_2c5001f6_0d19_11eb_bb5d_0242ac130202row84_col2,#T_2c5001f6_0d19_11eb_bb5d_0242ac130202row85_col1,#T_2c5001f6_0d19_11eb_bb5d_0242ac130202row85_col2,#T_2c5001f6_0d19_11eb_bb5d_0242ac130202row86_col1,#T_2c5001f6_0d19_11eb_bb5d_0242ac130202row86_col2,#T_2c5001f6_0d19_11eb_bb5d_0242ac130202row87_col1,#T_2c5001f6_0d19_11eb_bb5d_0242ac130202row87_col2,#T_2c5001f6_0d19_11eb_bb5d_0242ac130202row88_col1,#T_2c5001f6_0d19_11eb_bb5d_0242ac130202row88_col2,#T_2c5001f6_0d19_11eb_bb5d_0242ac130202row89_col1,#T_2c5001f6_0d19_11eb_bb5d_0242ac130202row89_col2,#T_2c5001f6_0d19_11eb_bb5d_0242ac130202row90_col1,#T_2c5001f6_0d19_11eb_bb5d_0242ac130202row90_col2,#T_2c5001f6_0d19_11eb_bb5d_0242ac130202row91_col1,#T_2c5001f6_0d19_11eb_bb5d_0242ac130202row91_col2,#T_2c5001f6_0d19_11eb_bb5d_0242ac130202row92_col1,#T_2c5001f6_0d19_11eb_bb5d_0242ac130202row92_col2,#T_2c5001f6_0d19_11eb_bb5d_0242ac130202row93_col1,#T_2c5001f6_0d19_11eb_bb5d_0242ac130202row93_col2,#T_2c5001f6_0d19_11eb_bb5d_0242ac130202row94_col1,#T_2c5001f6_0d19_11eb_bb5d_0242ac130202row94_col2,#T_2c5001f6_0d19_11eb_bb5d_0242ac130202row95_col1,#T_2c5001f6_0d19_11eb_bb5d_0242ac130202row95_col2,#T_2c5001f6_0d19_11eb_bb5d_0242ac130202row96_col1,#T_2c5001f6_0d19_11eb_bb5d_0242ac130202row96_col2,#T_2c5001f6_0d19_11eb_bb5d_0242ac130202row97_col1,#T_2c5001f6_0d19_11eb_bb5d_0242ac130202row97_col2,#T_2c5001f6_0d19_11eb_bb5d_0242ac130202row98_col1,#T_2c5001f6_0d19_11eb_bb5d_0242ac130202row98_col2,#T_2c5001f6_0d19_11eb_bb5d_0242ac130202row99_col1,#T_2c5001f6_0d19_11eb_bb5d_0242ac130202row99_col2,#T_2c5001f6_0d19_11eb_bb5d_0242ac130202row100_col1,#T_2c5001f6_0d19_11eb_bb5d_0242ac130202row100_col2,#T_2c5001f6_0d19_11eb_bb5d_0242ac130202row101_col1,#T_2c5001f6_0d19_11eb_bb5d_0242ac130202row101_col2,#T_2c5001f6_0d19_11eb_bb5d_0242ac130202row102_col1,#T_2c5001f6_0d19_11eb_bb5d_0242ac130202row102_col2,#T_2c5001f6_0d19_11eb_bb5d_0242ac130202row103_col1,#T_2c5001f6_0d19_11eb_bb5d_0242ac130202row103_col2,#T_2c5001f6_0d19_11eb_bb5d_0242ac130202row104_col1,#T_2c5001f6_0d19_11eb_bb5d_0242ac130202row104_col2,#T_2c5001f6_0d19_11eb_bb5d_0242ac130202row105_col1,#T_2c5001f6_0d19_11eb_bb5d_0242ac130202row105_col2,#T_2c5001f6_0d19_11eb_bb5d_0242ac130202row106_col1,#T_2c5001f6_0d19_11eb_bb5d_0242ac130202row106_col2,#T_2c5001f6_0d19_11eb_bb5d_0242ac130202row107_col1,#T_2c5001f6_0d19_11eb_bb5d_0242ac130202row107_col2,#T_2c5001f6_0d19_11eb_bb5d_0242ac130202row108_col1,#T_2c5001f6_0d19_11eb_bb5d_0242ac130202row108_col2,#T_2c5001f6_0d19_11eb_bb5d_0242ac130202row109_col1,#T_2c5001f6_0d19_11eb_bb5d_0242ac130202row109_col2,#T_2c5001f6_0d19_11eb_bb5d_0242ac130202row110_col1,#T_2c5001f6_0d19_11eb_bb5d_0242ac130202row110_col2,#T_2c5001f6_0d19_11eb_bb5d_0242ac130202row111_col1,#T_2c5001f6_0d19_11eb_bb5d_0242ac130202row111_col2,#T_2c5001f6_0d19_11eb_bb5d_0242ac130202row112_col1,#T_2c5001f6_0d19_11eb_bb5d_0242ac130202row112_col2,#T_2c5001f6_0d19_11eb_bb5d_0242ac130202row113_col1,#T_2c5001f6_0d19_11eb_bb5d_0242ac130202row113_col2,#T_2c5001f6_0d19_11eb_bb5d_0242ac130202row114_col1,#T_2c5001f6_0d19_11eb_bb5d_0242ac130202row114_col2,#T_2c5001f6_0d19_11eb_bb5d_0242ac130202row115_col1,#T_2c5001f6_0d19_11eb_bb5d_0242ac130202row115_col2,#T_2c5001f6_0d19_11eb_bb5d_0242ac130202row116_col1,#T_2c5001f6_0d19_11eb_bb5d_0242ac130202row116_col2,#T_2c5001f6_0d19_11eb_bb5d_0242ac130202row117_col1,#T_2c5001f6_0d19_11eb_bb5d_0242ac130202row117_col2,#T_2c5001f6_0d19_11eb_bb5d_0242ac130202row118_col1,#T_2c5001f6_0d19_11eb_bb5d_0242ac130202row118_col2,#T_2c5001f6_0d19_11eb_bb5d_0242ac130202row119_col1,#T_2c5001f6_0d19_11eb_bb5d_0242ac130202row119_col2,#T_2c5001f6_0d19_11eb_bb5d_0242ac130202row120_col1,#T_2c5001f6_0d19_11eb_bb5d_0242ac130202row120_col2,#T_2c5001f6_0d19_11eb_bb5d_0242ac130202row121_col1,#T_2c5001f6_0d19_11eb_bb5d_0242ac130202row121_col2,#T_2c5001f6_0d19_11eb_bb5d_0242ac130202row122_col1,#T_2c5001f6_0d19_11eb_bb5d_0242ac130202row122_col2,#T_2c5001f6_0d19_11eb_bb5d_0242ac130202row123_col1,#T_2c5001f6_0d19_11eb_bb5d_0242ac130202row123_col2,#T_2c5001f6_0d19_11eb_bb5d_0242ac130202row124_col1,#T_2c5001f6_0d19_11eb_bb5d_0242ac130202row124_col2,#T_2c5001f6_0d19_11eb_bb5d_0242ac130202row125_col1,#T_2c5001f6_0d19_11eb_bb5d_0242ac130202row125_col2,#T_2c5001f6_0d19_11eb_bb5d_0242ac130202row126_col1,#T_2c5001f6_0d19_11eb_bb5d_0242ac130202row126_col2,#T_2c5001f6_0d19_11eb_bb5d_0242ac130202row127_col1,#T_2c5001f6_0d19_11eb_bb5d_0242ac130202row127_col2,#T_2c5001f6_0d19_11eb_bb5d_0242ac130202row128_col1,#T_2c5001f6_0d19_11eb_bb5d_0242ac130202row128_col2,#T_2c5001f6_0d19_11eb_bb5d_0242ac130202row129_col1,#T_2c5001f6_0d19_11eb_bb5d_0242ac130202row129_col2,#T_2c5001f6_0d19_11eb_bb5d_0242ac130202row130_col1,#T_2c5001f6_0d19_11eb_bb5d_0242ac130202row130_col2,#T_2c5001f6_0d19_11eb_bb5d_0242ac130202row131_col1,#T_2c5001f6_0d19_11eb_bb5d_0242ac130202row131_col2,#T_2c5001f6_0d19_11eb_bb5d_0242ac130202row132_col1,#T_2c5001f6_0d19_11eb_bb5d_0242ac130202row132_col2,#T_2c5001f6_0d19_11eb_bb5d_0242ac130202row133_col1,#T_2c5001f6_0d19_11eb_bb5d_0242ac130202row133_col2,#T_2c5001f6_0d19_11eb_bb5d_0242ac130202row134_col1,#T_2c5001f6_0d19_11eb_bb5d_0242ac130202row134_col2,#T_2c5001f6_0d19_11eb_bb5d_0242ac130202row135_col1,#T_2c5001f6_0d19_11eb_bb5d_0242ac130202row135_col2,#T_2c5001f6_0d19_11eb_bb5d_0242ac130202row136_col1,#T_2c5001f6_0d19_11eb_bb5d_0242ac130202row136_col2,#T_2c5001f6_0d19_11eb_bb5d_0242ac130202row137_col1,#T_2c5001f6_0d19_11eb_bb5d_0242ac130202row137_col2,#T_2c5001f6_0d19_11eb_bb5d_0242ac130202row138_col1,#T_2c5001f6_0d19_11eb_bb5d_0242ac130202row138_col2,#T_2c5001f6_0d19_11eb_bb5d_0242ac130202row139_col1,#T_2c5001f6_0d19_11eb_bb5d_0242ac130202row139_col2,#T_2c5001f6_0d19_11eb_bb5d_0242ac130202row140_col1,#T_2c5001f6_0d19_11eb_bb5d_0242ac130202row140_col2,#T_2c5001f6_0d19_11eb_bb5d_0242ac130202row141_col1,#T_2c5001f6_0d19_11eb_bb5d_0242ac130202row141_col2,#T_2c5001f6_0d19_11eb_bb5d_0242ac130202row142_col1,#T_2c5001f6_0d19_11eb_bb5d_0242ac130202row142_col2,#T_2c5001f6_0d19_11eb_bb5d_0242ac130202row143_col1,#T_2c5001f6_0d19_11eb_bb5d_0242ac130202row143_col2,#T_2c5001f6_0d19_11eb_bb5d_0242ac130202row144_col1,#T_2c5001f6_0d19_11eb_bb5d_0242ac130202row144_col2,#T_2c5001f6_0d19_11eb_bb5d_0242ac130202row145_col1,#T_2c5001f6_0d19_11eb_bb5d_0242ac130202row145_col2,#T_2c5001f6_0d19_11eb_bb5d_0242ac130202row146_col1,#T_2c5001f6_0d19_11eb_bb5d_0242ac130202row146_col2,#T_2c5001f6_0d19_11eb_bb5d_0242ac130202row147_col1,#T_2c5001f6_0d19_11eb_bb5d_0242ac130202row147_col2,#T_2c5001f6_0d19_11eb_bb5d_0242ac130202row148_col1,#T_2c5001f6_0d19_11eb_bb5d_0242ac130202row148_col2,#T_2c5001f6_0d19_11eb_bb5d_0242ac130202row149_col1,#T_2c5001f6_0d19_11eb_bb5d_0242ac130202row149_col2,#T_2c5001f6_0d19_11eb_bb5d_0242ac130202row150_col1,#T_2c5001f6_0d19_11eb_bb5d_0242ac130202row150_col2,#T_2c5001f6_0d19_11eb_bb5d_0242ac130202row151_col1,#T_2c5001f6_0d19_11eb_bb5d_0242ac130202row151_col2,#T_2c5001f6_0d19_11eb_bb5d_0242ac130202row152_col1,#T_2c5001f6_0d19_11eb_bb5d_0242ac130202row152_col2,#T_2c5001f6_0d19_11eb_bb5d_0242ac130202row153_col1,#T_2c5001f6_0d19_11eb_bb5d_0242ac130202row153_col2,#T_2c5001f6_0d19_11eb_bb5d_0242ac130202row154_col1,#T_2c5001f6_0d19_11eb_bb5d_0242ac130202row154_col2,#T_2c5001f6_0d19_11eb_bb5d_0242ac130202row155_col1,#T_2c5001f6_0d19_11eb_bb5d_0242ac130202row155_col2,#T_2c5001f6_0d19_11eb_bb5d_0242ac130202row156_col1,#T_2c5001f6_0d19_11eb_bb5d_0242ac130202row156_col2,#T_2c5001f6_0d19_11eb_bb5d_0242ac130202row157_col1,#T_2c5001f6_0d19_11eb_bb5d_0242ac130202row157_col2,#T_2c5001f6_0d19_11eb_bb5d_0242ac130202row158_col1,#T_2c5001f6_0d19_11eb_bb5d_0242ac130202row158_col2,#T_2c5001f6_0d19_11eb_bb5d_0242ac130202row159_col1,#T_2c5001f6_0d19_11eb_bb5d_0242ac130202row159_col2,#T_2c5001f6_0d19_11eb_bb5d_0242ac130202row160_col1,#T_2c5001f6_0d19_11eb_bb5d_0242ac130202row160_col2,#T_2c5001f6_0d19_11eb_bb5d_0242ac130202row161_col1,#T_2c5001f6_0d19_11eb_bb5d_0242ac130202row161_col2,#T_2c5001f6_0d19_11eb_bb5d_0242ac130202row162_col1,#T_2c5001f6_0d19_11eb_bb5d_0242ac130202row162_col2,#T_2c5001f6_0d19_11eb_bb5d_0242ac130202row163_col1,#T_2c5001f6_0d19_11eb_bb5d_0242ac130202row163_col2,#T_2c5001f6_0d19_11eb_bb5d_0242ac130202row164_col1,#T_2c5001f6_0d19_11eb_bb5d_0242ac130202row164_col2,#T_2c5001f6_0d19_11eb_bb5d_0242ac130202row165_col1,#T_2c5001f6_0d19_11eb_bb5d_0242ac130202row165_col2,#T_2c5001f6_0d19_11eb_bb5d_0242ac130202row166_col1,#T_2c5001f6_0d19_11eb_bb5d_0242ac130202row166_col2,#T_2c5001f6_0d19_11eb_bb5d_0242ac130202row167_col1,#T_2c5001f6_0d19_11eb_bb5d_0242ac130202row167_col2,#T_2c5001f6_0d19_11eb_bb5d_0242ac130202row168_col1,#T_2c5001f6_0d19_11eb_bb5d_0242ac130202row168_col2,#T_2c5001f6_0d19_11eb_bb5d_0242ac130202row169_col1,#T_2c5001f6_0d19_11eb_bb5d_0242ac130202row169_col2,#T_2c5001f6_0d19_11eb_bb5d_0242ac130202row170_col1,#T_2c5001f6_0d19_11eb_bb5d_0242ac130202row170_col2,#T_2c5001f6_0d19_11eb_bb5d_0242ac130202row171_col1,#T_2c5001f6_0d19_11eb_bb5d_0242ac130202row171_col2,#T_2c5001f6_0d19_11eb_bb5d_0242ac130202row172_col1,#T_2c5001f6_0d19_11eb_bb5d_0242ac130202row172_col2,#T_2c5001f6_0d19_11eb_bb5d_0242ac130202row173_col1,#T_2c5001f6_0d19_11eb_bb5d_0242ac130202row173_col2,#T_2c5001f6_0d19_11eb_bb5d_0242ac130202row174_col1,#T_2c5001f6_0d19_11eb_bb5d_0242ac130202row174_col2,#T_2c5001f6_0d19_11eb_bb5d_0242ac130202row175_col1,#T_2c5001f6_0d19_11eb_bb5d_0242ac130202row175_col2,#T_2c5001f6_0d19_11eb_bb5d_0242ac130202row176_col1,#T_2c5001f6_0d19_11eb_bb5d_0242ac130202row176_col2,#T_2c5001f6_0d19_11eb_bb5d_0242ac130202row177_col1,#T_2c5001f6_0d19_11eb_bb5d_0242ac130202row177_col2,#T_2c5001f6_0d19_11eb_bb5d_0242ac130202row178_col1,#T_2c5001f6_0d19_11eb_bb5d_0242ac130202row178_col2,#T_2c5001f6_0d19_11eb_bb5d_0242ac130202row179_col1,#T_2c5001f6_0d19_11eb_bb5d_0242ac130202row179_col2,#T_2c5001f6_0d19_11eb_bb5d_0242ac130202row180_col1,#T_2c5001f6_0d19_11eb_bb5d_0242ac130202row180_col2,#T_2c5001f6_0d19_11eb_bb5d_0242ac130202row181_col1,#T_2c5001f6_0d19_11eb_bb5d_0242ac130202row181_col2,#T_2c5001f6_0d19_11eb_bb5d_0242ac130202row182_col1,#T_2c5001f6_0d19_11eb_bb5d_0242ac130202row182_col2,#T_2c5001f6_0d19_11eb_bb5d_0242ac130202row183_col1,#T_2c5001f6_0d19_11eb_bb5d_0242ac130202row183_col2,#T_2c5001f6_0d19_11eb_bb5d_0242ac130202row184_col1,#T_2c5001f6_0d19_11eb_bb5d_0242ac130202row184_col2,#T_2c5001f6_0d19_11eb_bb5d_0242ac130202row185_col1,#T_2c5001f6_0d19_11eb_bb5d_0242ac130202row185_col2,#T_2c5001f6_0d19_11eb_bb5d_0242ac130202row186_col1,#T_2c5001f6_0d19_11eb_bb5d_0242ac130202row186_col2,#T_2c5001f6_0d19_11eb_bb5d_0242ac130202row187_col1,#T_2c5001f6_0d19_11eb_bb5d_0242ac130202row187_col2,#T_2c5001f6_0d19_11eb_bb5d_0242ac130202row188_col1,#T_2c5001f6_0d19_11eb_bb5d_0242ac130202row188_col2,#T_2c5001f6_0d19_11eb_bb5d_0242ac130202row189_col1,#T_2c5001f6_0d19_11eb_bb5d_0242ac130202row189_col2,#T_2c5001f6_0d19_11eb_bb5d_0242ac130202row190_col1,#T_2c5001f6_0d19_11eb_bb5d_0242ac130202row190_col2,#T_2c5001f6_0d19_11eb_bb5d_0242ac130202row191_col1,#T_2c5001f6_0d19_11eb_bb5d_0242ac130202row191_col2,#T_2c5001f6_0d19_11eb_bb5d_0242ac130202row192_col1,#T_2c5001f6_0d19_11eb_bb5d_0242ac130202row192_col2,#T_2c5001f6_0d19_11eb_bb5d_0242ac130202row193_col1,#T_2c5001f6_0d19_11eb_bb5d_0242ac130202row193_col2,#T_2c5001f6_0d19_11eb_bb5d_0242ac130202row194_col1,#T_2c5001f6_0d19_11eb_bb5d_0242ac130202row194_col2,#T_2c5001f6_0d19_11eb_bb5d_0242ac130202row195_col1,#T_2c5001f6_0d19_11eb_bb5d_0242ac130202row195_col2,#T_2c5001f6_0d19_11eb_bb5d_0242ac130202row196_col1,#T_2c5001f6_0d19_11eb_bb5d_0242ac130202row196_col2,#T_2c5001f6_0d19_11eb_bb5d_0242ac130202row197_col1,#T_2c5001f6_0d19_11eb_bb5d_0242ac130202row197_col2,#T_2c5001f6_0d19_11eb_bb5d_0242ac130202row198_col1,#T_2c5001f6_0d19_11eb_bb5d_0242ac130202row198_col2,#T_2c5001f6_0d19_11eb_bb5d_0242ac130202row199_col1,#T_2c5001f6_0d19_11eb_bb5d_0242ac130202row199_col2,#T_2c5001f6_0d19_11eb_bb5d_0242ac130202row200_col1,#T_2c5001f6_0d19_11eb_bb5d_0242ac130202row200_col2,#T_2c5001f6_0d19_11eb_bb5d_0242ac130202row201_col1,#T_2c5001f6_0d19_11eb_bb5d_0242ac130202row201_col2,#T_2c5001f6_0d19_11eb_bb5d_0242ac130202row202_col1,#T_2c5001f6_0d19_11eb_bb5d_0242ac130202row202_col2,#T_2c5001f6_0d19_11eb_bb5d_0242ac130202row203_col1,#T_2c5001f6_0d19_11eb_bb5d_0242ac130202row203_col2,#T_2c5001f6_0d19_11eb_bb5d_0242ac130202row204_col1,#T_2c5001f6_0d19_11eb_bb5d_0242ac130202row204_col2,#T_2c5001f6_0d19_11eb_bb5d_0242ac130202row205_col1,#T_2c5001f6_0d19_11eb_bb5d_0242ac130202row205_col2,#T_2c5001f6_0d19_11eb_bb5d_0242ac130202row206_col1,#T_2c5001f6_0d19_11eb_bb5d_0242ac130202row206_col2{\n",
       "            background-color:  #fff5eb;\n",
       "            color:  #000000;\n",
       "        }#T_2c5001f6_0d19_11eb_bb5d_0242ac130202row37_col2,#T_2c5001f6_0d19_11eb_bb5d_0242ac130202row41_col2,#T_2c5001f6_0d19_11eb_bb5d_0242ac130202row44_col2,#T_2c5001f6_0d19_11eb_bb5d_0242ac130202row45_col2,#T_2c5001f6_0d19_11eb_bb5d_0242ac130202row47_col2,#T_2c5001f6_0d19_11eb_bb5d_0242ac130202row49_col2,#T_2c5001f6_0d19_11eb_bb5d_0242ac130202row52_col2,#T_2c5001f6_0d19_11eb_bb5d_0242ac130202row54_col1,#T_2c5001f6_0d19_11eb_bb5d_0242ac130202row55_col1,#T_2c5001f6_0d19_11eb_bb5d_0242ac130202row55_col2,#T_2c5001f6_0d19_11eb_bb5d_0242ac130202row56_col1,#T_2c5001f6_0d19_11eb_bb5d_0242ac130202row57_col1,#T_2c5001f6_0d19_11eb_bb5d_0242ac130202row57_col2,#T_2c5001f6_0d19_11eb_bb5d_0242ac130202row58_col1,#T_2c5001f6_0d19_11eb_bb5d_0242ac130202row59_col1,#T_2c5001f6_0d19_11eb_bb5d_0242ac130202row59_col2,#T_2c5001f6_0d19_11eb_bb5d_0242ac130202row60_col1,#T_2c5001f6_0d19_11eb_bb5d_0242ac130202row61_col1,#T_2c5001f6_0d19_11eb_bb5d_0242ac130202row62_col1,#T_2c5001f6_0d19_11eb_bb5d_0242ac130202row63_col1,#T_2c5001f6_0d19_11eb_bb5d_0242ac130202row63_col2,#T_2c5001f6_0d19_11eb_bb5d_0242ac130202row64_col1,#T_2c5001f6_0d19_11eb_bb5d_0242ac130202row64_col2,#T_2c5001f6_0d19_11eb_bb5d_0242ac130202row65_col1,#T_2c5001f6_0d19_11eb_bb5d_0242ac130202row66_col1,#T_2c5001f6_0d19_11eb_bb5d_0242ac130202row67_col1,#T_2c5001f6_0d19_11eb_bb5d_0242ac130202row68_col1,#T_2c5001f6_0d19_11eb_bb5d_0242ac130202row69_col1,#T_2c5001f6_0d19_11eb_bb5d_0242ac130202row70_col1,#T_2c5001f6_0d19_11eb_bb5d_0242ac130202row70_col2,#T_2c5001f6_0d19_11eb_bb5d_0242ac130202row71_col1,#T_2c5001f6_0d19_11eb_bb5d_0242ac130202row71_col2,#T_2c5001f6_0d19_11eb_bb5d_0242ac130202row72_col1,#T_2c5001f6_0d19_11eb_bb5d_0242ac130202row73_col1,#T_2c5001f6_0d19_11eb_bb5d_0242ac130202row74_col1,#T_2c5001f6_0d19_11eb_bb5d_0242ac130202row75_col2,#T_2c5001f6_0d19_11eb_bb5d_0242ac130202row76_col2,#T_2c5001f6_0d19_11eb_bb5d_0242ac130202row77_col2,#T_2c5001f6_0d19_11eb_bb5d_0242ac130202row81_col2{\n",
       "            background-color:  #fff5ea;\n",
       "            color:  #000000;\n",
       "        }</style><table id=\"T_2c5001f6_0d19_11eb_bb5d_0242ac130202\" ><thead>    <tr>        <th class=\"blank level0\" ></th>        <th class=\"col_heading level0 col0\" >location</th>        <th class=\"col_heading level0 col1\" >total_cases</th>        <th class=\"col_heading level0 col2\" >total_deaths</th>    </tr></thead><tbody>\n",
       "                <tr>\n",
       "                        <th id=\"T_2c5001f6_0d19_11eb_bb5d_0242ac130202level0_row0\" class=\"row_heading level0 row0\" >0</th>\n",
       "                        <td id=\"T_2c5001f6_0d19_11eb_bb5d_0242ac130202row0_col0\" class=\"data row0 col0\" >United States</td>\n",
       "                        <td id=\"T_2c5001f6_0d19_11eb_bb5d_0242ac130202row0_col1\" class=\"data row0 col1\" >7718947</td>\n",
       "                        <td id=\"T_2c5001f6_0d19_11eb_bb5d_0242ac130202row0_col2\" class=\"data row0 col2\" >214377</td>\n",
       "            </tr>\n",
       "            <tr>\n",
       "                        <th id=\"T_2c5001f6_0d19_11eb_bb5d_0242ac130202level0_row1\" class=\"row_heading level0 row1\" >1</th>\n",
       "                        <td id=\"T_2c5001f6_0d19_11eb_bb5d_0242ac130202row1_col0\" class=\"data row1 col0\" >India</td>\n",
       "                        <td id=\"T_2c5001f6_0d19_11eb_bb5d_0242ac130202row1_col1\" class=\"data row1 col1\" >7053806</td>\n",
       "                        <td id=\"T_2c5001f6_0d19_11eb_bb5d_0242ac130202row1_col2\" class=\"data row1 col2\" >108334</td>\n",
       "            </tr>\n",
       "            <tr>\n",
       "                        <th id=\"T_2c5001f6_0d19_11eb_bb5d_0242ac130202level0_row2\" class=\"row_heading level0 row2\" >2</th>\n",
       "                        <td id=\"T_2c5001f6_0d19_11eb_bb5d_0242ac130202row2_col0\" class=\"data row2 col0\" >Brazil</td>\n",
       "                        <td id=\"T_2c5001f6_0d19_11eb_bb5d_0242ac130202row2_col1\" class=\"data row2 col1\" >5082637</td>\n",
       "                        <td id=\"T_2c5001f6_0d19_11eb_bb5d_0242ac130202row2_col2\" class=\"data row2 col2\" >150198</td>\n",
       "            </tr>\n",
       "            <tr>\n",
       "                        <th id=\"T_2c5001f6_0d19_11eb_bb5d_0242ac130202level0_row3\" class=\"row_heading level0 row3\" >3</th>\n",
       "                        <td id=\"T_2c5001f6_0d19_11eb_bb5d_0242ac130202row3_col0\" class=\"data row3 col0\" >Russia</td>\n",
       "                        <td id=\"T_2c5001f6_0d19_11eb_bb5d_0242ac130202row3_col1\" class=\"data row3 col1\" >1285084</td>\n",
       "                        <td id=\"T_2c5001f6_0d19_11eb_bb5d_0242ac130202row3_col2\" class=\"data row3 col2\" >22454</td>\n",
       "            </tr>\n",
       "            <tr>\n",
       "                        <th id=\"T_2c5001f6_0d19_11eb_bb5d_0242ac130202level0_row4\" class=\"row_heading level0 row4\" >4</th>\n",
       "                        <td id=\"T_2c5001f6_0d19_11eb_bb5d_0242ac130202row4_col0\" class=\"data row4 col0\" >Colombia</td>\n",
       "                        <td id=\"T_2c5001f6_0d19_11eb_bb5d_0242ac130202row4_col1\" class=\"data row4 col1\" >902747</td>\n",
       "                        <td id=\"T_2c5001f6_0d19_11eb_bb5d_0242ac130202row4_col2\" class=\"data row4 col2\" >27660</td>\n",
       "            </tr>\n",
       "            <tr>\n",
       "                        <th id=\"T_2c5001f6_0d19_11eb_bb5d_0242ac130202level0_row5\" class=\"row_heading level0 row5\" >5</th>\n",
       "                        <td id=\"T_2c5001f6_0d19_11eb_bb5d_0242ac130202row5_col0\" class=\"data row5 col0\" >Argentina</td>\n",
       "                        <td id=\"T_2c5001f6_0d19_11eb_bb5d_0242ac130202row5_col1\" class=\"data row5 col1\" >883883</td>\n",
       "                        <td id=\"T_2c5001f6_0d19_11eb_bb5d_0242ac130202row5_col2\" class=\"data row5 col2\" >23581</td>\n",
       "            </tr>\n",
       "            <tr>\n",
       "                        <th id=\"T_2c5001f6_0d19_11eb_bb5d_0242ac130202level0_row6\" class=\"row_heading level0 row6\" >6</th>\n",
       "                        <td id=\"T_2c5001f6_0d19_11eb_bb5d_0242ac130202row6_col0\" class=\"data row6 col0\" >Peru</td>\n",
       "                        <td id=\"T_2c5001f6_0d19_11eb_bb5d_0242ac130202row6_col1\" class=\"data row6 col1\" >846088</td>\n",
       "                        <td id=\"T_2c5001f6_0d19_11eb_bb5d_0242ac130202row6_col2\" class=\"data row6 col2\" >33223</td>\n",
       "            </tr>\n",
       "            <tr>\n",
       "                        <th id=\"T_2c5001f6_0d19_11eb_bb5d_0242ac130202level0_row7\" class=\"row_heading level0 row7\" >7</th>\n",
       "                        <td id=\"T_2c5001f6_0d19_11eb_bb5d_0242ac130202row7_col0\" class=\"data row7 col0\" >Mexico</td>\n",
       "                        <td id=\"T_2c5001f6_0d19_11eb_bb5d_0242ac130202row7_col1\" class=\"data row7 col1\" >814328</td>\n",
       "                        <td id=\"T_2c5001f6_0d19_11eb_bb5d_0242ac130202row7_col2\" class=\"data row7 col2\" >83642</td>\n",
       "            </tr>\n",
       "            <tr>\n",
       "                        <th id=\"T_2c5001f6_0d19_11eb_bb5d_0242ac130202level0_row8\" class=\"row_heading level0 row8\" >8</th>\n",
       "                        <td id=\"T_2c5001f6_0d19_11eb_bb5d_0242ac130202row8_col0\" class=\"data row8 col0\" >France</td>\n",
       "                        <td id=\"T_2c5001f6_0d19_11eb_bb5d_0242ac130202row8_col1\" class=\"data row8 col1\" >718873</td>\n",
       "                        <td id=\"T_2c5001f6_0d19_11eb_bb5d_0242ac130202row8_col2\" class=\"data row8 col2\" >32684</td>\n",
       "            </tr>\n",
       "            <tr>\n",
       "                        <th id=\"T_2c5001f6_0d19_11eb_bb5d_0242ac130202level0_row9\" class=\"row_heading level0 row9\" >9</th>\n",
       "                        <td id=\"T_2c5001f6_0d19_11eb_bb5d_0242ac130202row9_col0\" class=\"data row9 col0\" >South Africa</td>\n",
       "                        <td id=\"T_2c5001f6_0d19_11eb_bb5d_0242ac130202row9_col1\" class=\"data row9 col1\" >690896</td>\n",
       "                        <td id=\"T_2c5001f6_0d19_11eb_bb5d_0242ac130202row9_col2\" class=\"data row9 col2\" >17673</td>\n",
       "            </tr>\n",
       "            <tr>\n",
       "                        <th id=\"T_2c5001f6_0d19_11eb_bb5d_0242ac130202level0_row10\" class=\"row_heading level0 row10\" >10</th>\n",
       "                        <td id=\"T_2c5001f6_0d19_11eb_bb5d_0242ac130202row10_col0\" class=\"data row10 col0\" >United Kingdom</td>\n",
       "                        <td id=\"T_2c5001f6_0d19_11eb_bb5d_0242ac130202row10_col1\" class=\"data row10 col1\" >590844</td>\n",
       "                        <td id=\"T_2c5001f6_0d19_11eb_bb5d_0242ac130202row10_col2\" class=\"data row10 col2\" >42760</td>\n",
       "            </tr>\n",
       "            <tr>\n",
       "                        <th id=\"T_2c5001f6_0d19_11eb_bb5d_0242ac130202level0_row11\" class=\"row_heading level0 row11\" >11</th>\n",
       "                        <td id=\"T_2c5001f6_0d19_11eb_bb5d_0242ac130202row11_col0\" class=\"data row11 col0\" >Iran</td>\n",
       "                        <td id=\"T_2c5001f6_0d19_11eb_bb5d_0242ac130202row11_col1\" class=\"data row11 col1\" >496253</td>\n",
       "                        <td id=\"T_2c5001f6_0d19_11eb_bb5d_0242ac130202row11_col2\" class=\"data row11 col2\" >28293</td>\n",
       "            </tr>\n",
       "            <tr>\n",
       "                        <th id=\"T_2c5001f6_0d19_11eb_bb5d_0242ac130202level0_row12\" class=\"row_heading level0 row12\" >12</th>\n",
       "                        <td id=\"T_2c5001f6_0d19_11eb_bb5d_0242ac130202row12_col0\" class=\"data row12 col0\" >Chile</td>\n",
       "                        <td id=\"T_2c5001f6_0d19_11eb_bb5d_0242ac130202row12_col1\" class=\"data row12 col1\" >479595</td>\n",
       "                        <td id=\"T_2c5001f6_0d19_11eb_bb5d_0242ac130202row12_col2\" class=\"data row12 col2\" >13272</td>\n",
       "            </tr>\n",
       "            <tr>\n",
       "                        <th id=\"T_2c5001f6_0d19_11eb_bb5d_0242ac130202level0_row13\" class=\"row_heading level0 row13\" >13</th>\n",
       "                        <td id=\"T_2c5001f6_0d19_11eb_bb5d_0242ac130202row13_col0\" class=\"data row13 col0\" >Iraq</td>\n",
       "                        <td id=\"T_2c5001f6_0d19_11eb_bb5d_0242ac130202row13_col1\" class=\"data row13 col1\" >400124</td>\n",
       "                        <td id=\"T_2c5001f6_0d19_11eb_bb5d_0242ac130202row13_col2\" class=\"data row13 col2\" >9790</td>\n",
       "            </tr>\n",
       "            <tr>\n",
       "                        <th id=\"T_2c5001f6_0d19_11eb_bb5d_0242ac130202level0_row14\" class=\"row_heading level0 row14\" >14</th>\n",
       "                        <td id=\"T_2c5001f6_0d19_11eb_bb5d_0242ac130202row14_col0\" class=\"data row14 col0\" >Bangladesh</td>\n",
       "                        <td id=\"T_2c5001f6_0d19_11eb_bb5d_0242ac130202row14_col1\" class=\"data row14 col1\" >377073</td>\n",
       "                        <td id=\"T_2c5001f6_0d19_11eb_bb5d_0242ac130202row14_col2\" class=\"data row14 col2\" >5500</td>\n",
       "            </tr>\n",
       "            <tr>\n",
       "                        <th id=\"T_2c5001f6_0d19_11eb_bb5d_0242ac130202level0_row15\" class=\"row_heading level0 row15\" >15</th>\n",
       "                        <td id=\"T_2c5001f6_0d19_11eb_bb5d_0242ac130202row15_col0\" class=\"data row15 col0\" >Italy</td>\n",
       "                        <td id=\"T_2c5001f6_0d19_11eb_bb5d_0242ac130202row15_col1\" class=\"data row15 col1\" >349494</td>\n",
       "                        <td id=\"T_2c5001f6_0d19_11eb_bb5d_0242ac130202row15_col2\" class=\"data row15 col2\" >36140</td>\n",
       "            </tr>\n",
       "            <tr>\n",
       "                        <th id=\"T_2c5001f6_0d19_11eb_bb5d_0242ac130202level0_row16\" class=\"row_heading level0 row16\" >16</th>\n",
       "                        <td id=\"T_2c5001f6_0d19_11eb_bb5d_0242ac130202row16_col0\" class=\"data row16 col0\" >Saudi Arabia</td>\n",
       "                        <td id=\"T_2c5001f6_0d19_11eb_bb5d_0242ac130202row16_col1\" class=\"data row16 col1\" >338944</td>\n",
       "                        <td id=\"T_2c5001f6_0d19_11eb_bb5d_0242ac130202row16_col2\" class=\"data row16 col2\" >5018</td>\n",
       "            </tr>\n",
       "            <tr>\n",
       "                        <th id=\"T_2c5001f6_0d19_11eb_bb5d_0242ac130202level0_row17\" class=\"row_heading level0 row17\" >17</th>\n",
       "                        <td id=\"T_2c5001f6_0d19_11eb_bb5d_0242ac130202row17_col0\" class=\"data row17 col0\" >Philippines</td>\n",
       "                        <td id=\"T_2c5001f6_0d19_11eb_bb5d_0242ac130202row17_col1\" class=\"data row17 col1\" >336926</td>\n",
       "                        <td id=\"T_2c5001f6_0d19_11eb_bb5d_0242ac130202row17_col2\" class=\"data row17 col2\" >6238</td>\n",
       "            </tr>\n",
       "            <tr>\n",
       "                        <th id=\"T_2c5001f6_0d19_11eb_bb5d_0242ac130202level0_row18\" class=\"row_heading level0 row18\" >18</th>\n",
       "                        <td id=\"T_2c5001f6_0d19_11eb_bb5d_0242ac130202row18_col0\" class=\"data row18 col0\" >Turkey</td>\n",
       "                        <td id=\"T_2c5001f6_0d19_11eb_bb5d_0242ac130202row18_col1\" class=\"data row18 col1\" >334031</td>\n",
       "                        <td id=\"T_2c5001f6_0d19_11eb_bb5d_0242ac130202row18_col2\" class=\"data row18 col2\" >8778</td>\n",
       "            </tr>\n",
       "            <tr>\n",
       "                        <th id=\"T_2c5001f6_0d19_11eb_bb5d_0242ac130202level0_row19\" class=\"row_heading level0 row19\" >19</th>\n",
       "                        <td id=\"T_2c5001f6_0d19_11eb_bb5d_0242ac130202row19_col0\" class=\"data row19 col0\" >Indonesia</td>\n",
       "                        <td id=\"T_2c5001f6_0d19_11eb_bb5d_0242ac130202row19_col1\" class=\"data row19 col1\" >328952</td>\n",
       "                        <td id=\"T_2c5001f6_0d19_11eb_bb5d_0242ac130202row19_col2\" class=\"data row19 col2\" >11765</td>\n",
       "            </tr>\n",
       "            <tr>\n",
       "                        <th id=\"T_2c5001f6_0d19_11eb_bb5d_0242ac130202level0_row20\" class=\"row_heading level0 row20\" >20</th>\n",
       "                        <td id=\"T_2c5001f6_0d19_11eb_bb5d_0242ac130202row20_col0\" class=\"data row20 col0\" >Germany</td>\n",
       "                        <td id=\"T_2c5001f6_0d19_11eb_bb5d_0242ac130202row20_col1\" class=\"data row20 col1\" >322864</td>\n",
       "                        <td id=\"T_2c5001f6_0d19_11eb_bb5d_0242ac130202row20_col2\" class=\"data row20 col2\" >9615</td>\n",
       "            </tr>\n",
       "            <tr>\n",
       "                        <th id=\"T_2c5001f6_0d19_11eb_bb5d_0242ac130202level0_row21\" class=\"row_heading level0 row21\" >21</th>\n",
       "                        <td id=\"T_2c5001f6_0d19_11eb_bb5d_0242ac130202row21_col0\" class=\"data row21 col0\" >Pakistan</td>\n",
       "                        <td id=\"T_2c5001f6_0d19_11eb_bb5d_0242ac130202row21_col1\" class=\"data row21 col1\" >318932</td>\n",
       "                        <td id=\"T_2c5001f6_0d19_11eb_bb5d_0242ac130202row21_col2\" class=\"data row21 col2\" >6570</td>\n",
       "            </tr>\n",
       "            <tr>\n",
       "                        <th id=\"T_2c5001f6_0d19_11eb_bb5d_0242ac130202level0_row22\" class=\"row_heading level0 row22\" >22</th>\n",
       "                        <td id=\"T_2c5001f6_0d19_11eb_bb5d_0242ac130202row22_col0\" class=\"data row22 col0\" >Israel</td>\n",
       "                        <td id=\"T_2c5001f6_0d19_11eb_bb5d_0242ac130202row22_col1\" class=\"data row22 col1\" >290003</td>\n",
       "                        <td id=\"T_2c5001f6_0d19_11eb_bb5d_0242ac130202row22_col2\" class=\"data row22 col2\" >1941</td>\n",
       "            </tr>\n",
       "            <tr>\n",
       "                        <th id=\"T_2c5001f6_0d19_11eb_bb5d_0242ac130202level0_row23\" class=\"row_heading level0 row23\" >23</th>\n",
       "                        <td id=\"T_2c5001f6_0d19_11eb_bb5d_0242ac130202row23_col0\" class=\"data row23 col0\" >Ukraine</td>\n",
       "                        <td id=\"T_2c5001f6_0d19_11eb_bb5d_0242ac130202row23_col1\" class=\"data row23 col1\" >256266</td>\n",
       "                        <td id=\"T_2c5001f6_0d19_11eb_bb5d_0242ac130202row23_col2\" class=\"data row23 col2\" >4887</td>\n",
       "            </tr>\n",
       "            <tr>\n",
       "                        <th id=\"T_2c5001f6_0d19_11eb_bb5d_0242ac130202level0_row24\" class=\"row_heading level0 row24\" >24</th>\n",
       "                        <td id=\"T_2c5001f6_0d19_11eb_bb5d_0242ac130202row24_col0\" class=\"data row24 col0\" >Canada</td>\n",
       "                        <td id=\"T_2c5001f6_0d19_11eb_bb5d_0242ac130202row24_col1\" class=\"data row24 col1\" >178117</td>\n",
       "                        <td id=\"T_2c5001f6_0d19_11eb_bb5d_0242ac130202row24_col2\" class=\"data row24 col2\" >9585</td>\n",
       "            </tr>\n",
       "            <tr>\n",
       "                        <th id=\"T_2c5001f6_0d19_11eb_bb5d_0242ac130202level0_row25\" class=\"row_heading level0 row25\" >25</th>\n",
       "                        <td id=\"T_2c5001f6_0d19_11eb_bb5d_0242ac130202row25_col0\" class=\"data row25 col0\" >Netherlands</td>\n",
       "                        <td id=\"T_2c5001f6_0d19_11eb_bb5d_0242ac130202row25_col1\" class=\"data row25 col1\" >168082</td>\n",
       "                        <td id=\"T_2c5001f6_0d19_11eb_bb5d_0242ac130202row25_col2\" class=\"data row25 col2\" >6558</td>\n",
       "            </tr>\n",
       "            <tr>\n",
       "                        <th id=\"T_2c5001f6_0d19_11eb_bb5d_0242ac130202level0_row26\" class=\"row_heading level0 row26\" >26</th>\n",
       "                        <td id=\"T_2c5001f6_0d19_11eb_bb5d_0242ac130202row26_col0\" class=\"data row26 col0\" >Belgium</td>\n",
       "                        <td id=\"T_2c5001f6_0d19_11eb_bb5d_0242ac130202row26_col1\" class=\"data row26 col1\" >156838</td>\n",
       "                        <td id=\"T_2c5001f6_0d19_11eb_bb5d_0242ac130202row26_col2\" class=\"data row26 col2\" >10175</td>\n",
       "            </tr>\n",
       "            <tr>\n",
       "                        <th id=\"T_2c5001f6_0d19_11eb_bb5d_0242ac130202level0_row27\" class=\"row_heading level0 row27\" >27</th>\n",
       "                        <td id=\"T_2c5001f6_0d19_11eb_bb5d_0242ac130202row27_col0\" class=\"data row27 col0\" >Romania</td>\n",
       "                        <td id=\"T_2c5001f6_0d19_11eb_bb5d_0242ac130202row27_col1\" class=\"data row27 col1\" >152403</td>\n",
       "                        <td id=\"T_2c5001f6_0d19_11eb_bb5d_0242ac130202row27_col2\" class=\"data row27 col2\" >5358</td>\n",
       "            </tr>\n",
       "            <tr>\n",
       "                        <th id=\"T_2c5001f6_0d19_11eb_bb5d_0242ac130202level0_row28\" class=\"row_heading level0 row28\" >28</th>\n",
       "                        <td id=\"T_2c5001f6_0d19_11eb_bb5d_0242ac130202row28_col0\" class=\"data row28 col0\" >Ecuador</td>\n",
       "                        <td id=\"T_2c5001f6_0d19_11eb_bb5d_0242ac130202row28_col1\" class=\"data row28 col1\" >146828</td>\n",
       "                        <td id=\"T_2c5001f6_0d19_11eb_bb5d_0242ac130202row28_col2\" class=\"data row28 col2\" >12188</td>\n",
       "            </tr>\n",
       "            <tr>\n",
       "                        <th id=\"T_2c5001f6_0d19_11eb_bb5d_0242ac130202level0_row29\" class=\"row_heading level0 row29\" >29</th>\n",
       "                        <td id=\"T_2c5001f6_0d19_11eb_bb5d_0242ac130202row29_col0\" class=\"data row29 col0\" >Morocco</td>\n",
       "                        <td id=\"T_2c5001f6_0d19_11eb_bb5d_0242ac130202row29_col1\" class=\"data row29 col1\" >146398</td>\n",
       "                        <td id=\"T_2c5001f6_0d19_11eb_bb5d_0242ac130202row29_col2\" class=\"data row29 col2\" >2530</td>\n",
       "            </tr>\n",
       "            <tr>\n",
       "                        <th id=\"T_2c5001f6_0d19_11eb_bb5d_0242ac130202level0_row30\" class=\"row_heading level0 row30\" >30</th>\n",
       "                        <td id=\"T_2c5001f6_0d19_11eb_bb5d_0242ac130202row30_col0\" class=\"data row30 col0\" >Kazakhstan</td>\n",
       "                        <td id=\"T_2c5001f6_0d19_11eb_bb5d_0242ac130202row30_col1\" class=\"data row30 col1\" >143632</td>\n",
       "                        <td id=\"T_2c5001f6_0d19_11eb_bb5d_0242ac130202row30_col2\" class=\"data row30 col2\" >2113</td>\n",
       "            </tr>\n",
       "            <tr>\n",
       "                        <th id=\"T_2c5001f6_0d19_11eb_bb5d_0242ac130202level0_row31\" class=\"row_heading level0 row31\" >31</th>\n",
       "                        <td id=\"T_2c5001f6_0d19_11eb_bb5d_0242ac130202row31_col0\" class=\"data row31 col0\" >Bolivia</td>\n",
       "                        <td id=\"T_2c5001f6_0d19_11eb_bb5d_0242ac130202row31_col1\" class=\"data row31 col1\" >138463</td>\n",
       "                        <td id=\"T_2c5001f6_0d19_11eb_bb5d_0242ac130202row31_col2\" class=\"data row31 col2\" >8292</td>\n",
       "            </tr>\n",
       "            <tr>\n",
       "                        <th id=\"T_2c5001f6_0d19_11eb_bb5d_0242ac130202level0_row32\" class=\"row_heading level0 row32\" >32</th>\n",
       "                        <td id=\"T_2c5001f6_0d19_11eb_bb5d_0242ac130202row32_col0\" class=\"data row32 col0\" >Qatar</td>\n",
       "                        <td id=\"T_2c5001f6_0d19_11eb_bb5d_0242ac130202row32_col1\" class=\"data row32 col1\" >127778</td>\n",
       "                        <td id=\"T_2c5001f6_0d19_11eb_bb5d_0242ac130202row32_col2\" class=\"data row32 col2\" >219</td>\n",
       "            </tr>\n",
       "            <tr>\n",
       "                        <th id=\"T_2c5001f6_0d19_11eb_bb5d_0242ac130202level0_row33\" class=\"row_heading level0 row33\" >33</th>\n",
       "                        <td id=\"T_2c5001f6_0d19_11eb_bb5d_0242ac130202row33_col0\" class=\"data row33 col0\" >Poland</td>\n",
       "                        <td id=\"T_2c5001f6_0d19_11eb_bb5d_0242ac130202row33_col1\" class=\"data row33 col1\" >121638</td>\n",
       "                        <td id=\"T_2c5001f6_0d19_11eb_bb5d_0242ac130202row33_col2\" class=\"data row33 col2\" >2972</td>\n",
       "            </tr>\n",
       "            <tr>\n",
       "                        <th id=\"T_2c5001f6_0d19_11eb_bb5d_0242ac130202level0_row34\" class=\"row_heading level0 row34\" >34</th>\n",
       "                        <td id=\"T_2c5001f6_0d19_11eb_bb5d_0242ac130202row34_col0\" class=\"data row34 col0\" >Panama</td>\n",
       "                        <td id=\"T_2c5001f6_0d19_11eb_bb5d_0242ac130202row34_col1\" class=\"data row34 col1\" >119666</td>\n",
       "                        <td id=\"T_2c5001f6_0d19_11eb_bb5d_0242ac130202row34_col2\" class=\"data row34 col2\" >2482</td>\n",
       "            </tr>\n",
       "            <tr>\n",
       "                        <th id=\"T_2c5001f6_0d19_11eb_bb5d_0242ac130202level0_row35\" class=\"row_heading level0 row35\" >35</th>\n",
       "                        <td id=\"T_2c5001f6_0d19_11eb_bb5d_0242ac130202row35_col0\" class=\"data row35 col0\" >Dominican Republic</td>\n",
       "                        <td id=\"T_2c5001f6_0d19_11eb_bb5d_0242ac130202row35_col1\" class=\"data row35 col1\" >118014</td>\n",
       "                        <td id=\"T_2c5001f6_0d19_11eb_bb5d_0242ac130202row35_col2\" class=\"data row35 col2\" >2167</td>\n",
       "            </tr>\n",
       "            <tr>\n",
       "                        <th id=\"T_2c5001f6_0d19_11eb_bb5d_0242ac130202level0_row36\" class=\"row_heading level0 row36\" >36</th>\n",
       "                        <td id=\"T_2c5001f6_0d19_11eb_bb5d_0242ac130202row36_col0\" class=\"data row36 col0\" >Kuwait</td>\n",
       "                        <td id=\"T_2c5001f6_0d19_11eb_bb5d_0242ac130202row36_col1\" class=\"data row36 col1\" >110568</td>\n",
       "                        <td id=\"T_2c5001f6_0d19_11eb_bb5d_0242ac130202row36_col2\" class=\"data row36 col2\" >655</td>\n",
       "            </tr>\n",
       "            <tr>\n",
       "                        <th id=\"T_2c5001f6_0d19_11eb_bb5d_0242ac130202level0_row37\" class=\"row_heading level0 row37\" >37</th>\n",
       "                        <td id=\"T_2c5001f6_0d19_11eb_bb5d_0242ac130202row37_col0\" class=\"data row37 col0\" >Czech Republic</td>\n",
       "                        <td id=\"T_2c5001f6_0d19_11eb_bb5d_0242ac130202row37_col1\" class=\"data row37 col1\" >109374</td>\n",
       "                        <td id=\"T_2c5001f6_0d19_11eb_bb5d_0242ac130202row37_col2\" class=\"data row37 col2\" >905</td>\n",
       "            </tr>\n",
       "            <tr>\n",
       "                        <th id=\"T_2c5001f6_0d19_11eb_bb5d_0242ac130202level0_row38\" class=\"row_heading level0 row38\" >38</th>\n",
       "                        <td id=\"T_2c5001f6_0d19_11eb_bb5d_0242ac130202row38_col0\" class=\"data row38 col0\" >Nepal</td>\n",
       "                        <td id=\"T_2c5001f6_0d19_11eb_bb5d_0242ac130202row38_col1\" class=\"data row38 col1\" >105684</td>\n",
       "                        <td id=\"T_2c5001f6_0d19_11eb_bb5d_0242ac130202row38_col2\" class=\"data row38 col2\" >614</td>\n",
       "            </tr>\n",
       "            <tr>\n",
       "                        <th id=\"T_2c5001f6_0d19_11eb_bb5d_0242ac130202level0_row39\" class=\"row_heading level0 row39\" >39</th>\n",
       "                        <td id=\"T_2c5001f6_0d19_11eb_bb5d_0242ac130202row39_col0\" class=\"data row39 col0\" >United Arab Emirates</td>\n",
       "                        <td id=\"T_2c5001f6_0d19_11eb_bb5d_0242ac130202row39_col1\" class=\"data row39 col1\" >105133</td>\n",
       "                        <td id=\"T_2c5001f6_0d19_11eb_bb5d_0242ac130202row39_col2\" class=\"data row39 col2\" >443</td>\n",
       "            </tr>\n",
       "            <tr>\n",
       "                        <th id=\"T_2c5001f6_0d19_11eb_bb5d_0242ac130202level0_row40\" class=\"row_heading level0 row40\" >40</th>\n",
       "                        <td id=\"T_2c5001f6_0d19_11eb_bb5d_0242ac130202row40_col0\" class=\"data row40 col0\" >Egypt</td>\n",
       "                        <td id=\"T_2c5001f6_0d19_11eb_bb5d_0242ac130202row40_col1\" class=\"data row40 col1\" >104387</td>\n",
       "                        <td id=\"T_2c5001f6_0d19_11eb_bb5d_0242ac130202row40_col2\" class=\"data row40 col2\" >6040</td>\n",
       "            </tr>\n",
       "            <tr>\n",
       "                        <th id=\"T_2c5001f6_0d19_11eb_bb5d_0242ac130202level0_row41\" class=\"row_heading level0 row41\" >41</th>\n",
       "                        <td id=\"T_2c5001f6_0d19_11eb_bb5d_0242ac130202row41_col0\" class=\"data row41 col0\" >Oman</td>\n",
       "                        <td id=\"T_2c5001f6_0d19_11eb_bb5d_0242ac130202row41_col1\" class=\"data row41 col1\" >104129</td>\n",
       "                        <td id=\"T_2c5001f6_0d19_11eb_bb5d_0242ac130202row41_col2\" class=\"data row41 col2\" >1009</td>\n",
       "            </tr>\n",
       "            <tr>\n",
       "                        <th id=\"T_2c5001f6_0d19_11eb_bb5d_0242ac130202level0_row42\" class=\"row_heading level0 row42\" >42</th>\n",
       "                        <td id=\"T_2c5001f6_0d19_11eb_bb5d_0242ac130202row42_col0\" class=\"data row42 col0\" >Guatemala</td>\n",
       "                        <td id=\"T_2c5001f6_0d19_11eb_bb5d_0242ac130202row42_col1\" class=\"data row42 col1\" >97544</td>\n",
       "                        <td id=\"T_2c5001f6_0d19_11eb_bb5d_0242ac130202row42_col2\" class=\"data row42 col2\" >3365</td>\n",
       "            </tr>\n",
       "            <tr>\n",
       "                        <th id=\"T_2c5001f6_0d19_11eb_bb5d_0242ac130202level0_row43\" class=\"row_heading level0 row43\" >43</th>\n",
       "                        <td id=\"T_2c5001f6_0d19_11eb_bb5d_0242ac130202row43_col0\" class=\"data row43 col0\" >China</td>\n",
       "                        <td id=\"T_2c5001f6_0d19_11eb_bb5d_0242ac130202row43_col1\" class=\"data row43 col1\" >90778</td>\n",
       "                        <td id=\"T_2c5001f6_0d19_11eb_bb5d_0242ac130202row43_col2\" class=\"data row43 col2\" >4739</td>\n",
       "            </tr>\n",
       "            <tr>\n",
       "                        <th id=\"T_2c5001f6_0d19_11eb_bb5d_0242ac130202level0_row44\" class=\"row_heading level0 row44\" >44</th>\n",
       "                        <td id=\"T_2c5001f6_0d19_11eb_bb5d_0242ac130202row44_col0\" class=\"data row44 col0\" >Japan</td>\n",
       "                        <td id=\"T_2c5001f6_0d19_11eb_bb5d_0242ac130202row44_col1\" class=\"data row44 col1\" >88912</td>\n",
       "                        <td id=\"T_2c5001f6_0d19_11eb_bb5d_0242ac130202row44_col2\" class=\"data row44 col2\" >1627</td>\n",
       "            </tr>\n",
       "            <tr>\n",
       "                        <th id=\"T_2c5001f6_0d19_11eb_bb5d_0242ac130202level0_row45\" class=\"row_heading level0 row45\" >45</th>\n",
       "                        <td id=\"T_2c5001f6_0d19_11eb_bb5d_0242ac130202row45_col0\" class=\"data row45 col0\" >Costa Rica</td>\n",
       "                        <td id=\"T_2c5001f6_0d19_11eb_bb5d_0242ac130202row45_col1\" class=\"data row45 col1\" >87439</td>\n",
       "                        <td id=\"T_2c5001f6_0d19_11eb_bb5d_0242ac130202row45_col2\" class=\"data row45 col2\" >1076</td>\n",
       "            </tr>\n",
       "            <tr>\n",
       "                        <th id=\"T_2c5001f6_0d19_11eb_bb5d_0242ac130202level0_row46\" class=\"row_heading level0 row46\" >46</th>\n",
       "                        <td id=\"T_2c5001f6_0d19_11eb_bb5d_0242ac130202row46_col0\" class=\"data row46 col0\" >Portugal</td>\n",
       "                        <td id=\"T_2c5001f6_0d19_11eb_bb5d_0242ac130202row46_col1\" class=\"data row46 col1\" >85574</td>\n",
       "                        <td id=\"T_2c5001f6_0d19_11eb_bb5d_0242ac130202row46_col2\" class=\"data row46 col2\" >2067</td>\n",
       "            </tr>\n",
       "            <tr>\n",
       "                        <th id=\"T_2c5001f6_0d19_11eb_bb5d_0242ac130202level0_row47\" class=\"row_heading level0 row47\" >47</th>\n",
       "                        <td id=\"T_2c5001f6_0d19_11eb_bb5d_0242ac130202row47_col0\" class=\"data row47 col0\" >Ethiopia</td>\n",
       "                        <td id=\"T_2c5001f6_0d19_11eb_bb5d_0242ac130202row47_col1\" class=\"data row47 col1\" >83429</td>\n",
       "                        <td id=\"T_2c5001f6_0d19_11eb_bb5d_0242ac130202row47_col2\" class=\"data row47 col2\" >1277</td>\n",
       "            </tr>\n",
       "            <tr>\n",
       "                        <th id=\"T_2c5001f6_0d19_11eb_bb5d_0242ac130202level0_row48\" class=\"row_heading level0 row48\" >48</th>\n",
       "                        <td id=\"T_2c5001f6_0d19_11eb_bb5d_0242ac130202row48_col0\" class=\"data row48 col0\" >Honduras</td>\n",
       "                        <td id=\"T_2c5001f6_0d19_11eb_bb5d_0242ac130202row48_col1\" class=\"data row48 col1\" >83146</td>\n",
       "                        <td id=\"T_2c5001f6_0d19_11eb_bb5d_0242ac130202row48_col2\" class=\"data row48 col2\" >2504</td>\n",
       "            </tr>\n",
       "            <tr>\n",
       "                        <th id=\"T_2c5001f6_0d19_11eb_bb5d_0242ac130202level0_row49\" class=\"row_heading level0 row49\" >49</th>\n",
       "                        <td id=\"T_2c5001f6_0d19_11eb_bb5d_0242ac130202row49_col0\" class=\"data row49 col0\" >Belarus</td>\n",
       "                        <td id=\"T_2c5001f6_0d19_11eb_bb5d_0242ac130202row49_col1\" class=\"data row49 col1\" >82471</td>\n",
       "                        <td id=\"T_2c5001f6_0d19_11eb_bb5d_0242ac130202row49_col2\" class=\"data row49 col2\" >885</td>\n",
       "            </tr>\n",
       "            <tr>\n",
       "                        <th id=\"T_2c5001f6_0d19_11eb_bb5d_0242ac130202level0_row50\" class=\"row_heading level0 row50\" >50</th>\n",
       "                        <td id=\"T_2c5001f6_0d19_11eb_bb5d_0242ac130202row50_col0\" class=\"data row50 col0\" >Venezuela</td>\n",
       "                        <td id=\"T_2c5001f6_0d19_11eb_bb5d_0242ac130202row50_col1\" class=\"data row50 col1\" >82453</td>\n",
       "                        <td id=\"T_2c5001f6_0d19_11eb_bb5d_0242ac130202row50_col2\" class=\"data row50 col2\" >691</td>\n",
       "            </tr>\n",
       "            <tr>\n",
       "                        <th id=\"T_2c5001f6_0d19_11eb_bb5d_0242ac130202level0_row51\" class=\"row_heading level0 row51\" >51</th>\n",
       "                        <td id=\"T_2c5001f6_0d19_11eb_bb5d_0242ac130202row51_col0\" class=\"data row51 col0\" >Bahrain</td>\n",
       "                        <td id=\"T_2c5001f6_0d19_11eb_bb5d_0242ac130202row51_col1\" class=\"data row51 col1\" >75287</td>\n",
       "                        <td id=\"T_2c5001f6_0d19_11eb_bb5d_0242ac130202row51_col2\" class=\"data row51 col2\" >273</td>\n",
       "            </tr>\n",
       "            <tr>\n",
       "                        <th id=\"T_2c5001f6_0d19_11eb_bb5d_0242ac130202level0_row52\" class=\"row_heading level0 row52\" >52</th>\n",
       "                        <td id=\"T_2c5001f6_0d19_11eb_bb5d_0242ac130202row52_col0\" class=\"data row52 col0\" >Moldova</td>\n",
       "                        <td id=\"T_2c5001f6_0d19_11eb_bb5d_0242ac130202row52_col1\" class=\"data row52 col1\" >61762</td>\n",
       "                        <td id=\"T_2c5001f6_0d19_11eb_bb5d_0242ac130202row52_col2\" class=\"data row52 col2\" >1458</td>\n",
       "            </tr>\n",
       "            <tr>\n",
       "                        <th id=\"T_2c5001f6_0d19_11eb_bb5d_0242ac130202level0_row53\" class=\"row_heading level0 row53\" >53</th>\n",
       "                        <td id=\"T_2c5001f6_0d19_11eb_bb5d_0242ac130202row53_col0\" class=\"data row53 col0\" >Uzbekistan</td>\n",
       "                        <td id=\"T_2c5001f6_0d19_11eb_bb5d_0242ac130202row53_col1\" class=\"data row53 col1\" >60894</td>\n",
       "                        <td id=\"T_2c5001f6_0d19_11eb_bb5d_0242ac130202row53_col2\" class=\"data row53 col2\" >503</td>\n",
       "            </tr>\n",
       "            <tr>\n",
       "                        <th id=\"T_2c5001f6_0d19_11eb_bb5d_0242ac130202level0_row54\" class=\"row_heading level0 row54\" >54</th>\n",
       "                        <td id=\"T_2c5001f6_0d19_11eb_bb5d_0242ac130202row54_col0\" class=\"data row54 col0\" >Switzerland</td>\n",
       "                        <td id=\"T_2c5001f6_0d19_11eb_bb5d_0242ac130202row54_col1\" class=\"data row54 col1\" >60230</td>\n",
       "                        <td id=\"T_2c5001f6_0d19_11eb_bb5d_0242ac130202row54_col2\" class=\"data row54 col2\" >1793</td>\n",
       "            </tr>\n",
       "            <tr>\n",
       "                        <th id=\"T_2c5001f6_0d19_11eb_bb5d_0242ac130202level0_row55\" class=\"row_heading level0 row55\" >55</th>\n",
       "                        <td id=\"T_2c5001f6_0d19_11eb_bb5d_0242ac130202row55_col0\" class=\"data row55 col0\" >Nigeria</td>\n",
       "                        <td id=\"T_2c5001f6_0d19_11eb_bb5d_0242ac130202row55_col1\" class=\"data row55 col1\" >60103</td>\n",
       "                        <td id=\"T_2c5001f6_0d19_11eb_bb5d_0242ac130202row55_col2\" class=\"data row55 col2\" >1115</td>\n",
       "            </tr>\n",
       "            <tr>\n",
       "                        <th id=\"T_2c5001f6_0d19_11eb_bb5d_0242ac130202level0_row56\" class=\"row_heading level0 row56\" >56</th>\n",
       "                        <td id=\"T_2c5001f6_0d19_11eb_bb5d_0242ac130202row56_col0\" class=\"data row56 col0\" >Singapore</td>\n",
       "                        <td id=\"T_2c5001f6_0d19_11eb_bb5d_0242ac130202row56_col1\" class=\"data row56 col1\" >57866</td>\n",
       "                        <td id=\"T_2c5001f6_0d19_11eb_bb5d_0242ac130202row56_col2\" class=\"data row56 col2\" >27</td>\n",
       "            </tr>\n",
       "            <tr>\n",
       "                        <th id=\"T_2c5001f6_0d19_11eb_bb5d_0242ac130202level0_row57\" class=\"row_heading level0 row57\" >57</th>\n",
       "                        <td id=\"T_2c5001f6_0d19_11eb_bb5d_0242ac130202row57_col0\" class=\"data row57 col0\" >Armenia</td>\n",
       "                        <td id=\"T_2c5001f6_0d19_11eb_bb5d_0242ac130202row57_col1\" class=\"data row57 col1\" >55736</td>\n",
       "                        <td id=\"T_2c5001f6_0d19_11eb_bb5d_0242ac130202row57_col2\" class=\"data row57 col2\" >1016</td>\n",
       "            </tr>\n",
       "            <tr>\n",
       "                        <th id=\"T_2c5001f6_0d19_11eb_bb5d_0242ac130202level0_row58\" class=\"row_heading level0 row58\" >58</th>\n",
       "                        <td id=\"T_2c5001f6_0d19_11eb_bb5d_0242ac130202row58_col0\" class=\"data row58 col0\" >Palestine</td>\n",
       "                        <td id=\"T_2c5001f6_0d19_11eb_bb5d_0242ac130202row58_col1\" class=\"data row58 col1\" >55134</td>\n",
       "                        <td id=\"T_2c5001f6_0d19_11eb_bb5d_0242ac130202row58_col2\" class=\"data row58 col2\" >442</td>\n",
       "            </tr>\n",
       "            <tr>\n",
       "                        <th id=\"T_2c5001f6_0d19_11eb_bb5d_0242ac130202level0_row59\" class=\"row_heading level0 row59\" >59</th>\n",
       "                        <td id=\"T_2c5001f6_0d19_11eb_bb5d_0242ac130202row59_col0\" class=\"data row59 col0\" >Austria</td>\n",
       "                        <td id=\"T_2c5001f6_0d19_11eb_bb5d_0242ac130202row59_col1\" class=\"data row59 col1\" >54685</td>\n",
       "                        <td id=\"T_2c5001f6_0d19_11eb_bb5d_0242ac130202row59_col2\" class=\"data row59 col2\" >858</td>\n",
       "            </tr>\n",
       "            <tr>\n",
       "                        <th id=\"T_2c5001f6_0d19_11eb_bb5d_0242ac130202level0_row60\" class=\"row_heading level0 row60\" >60</th>\n",
       "                        <td id=\"T_2c5001f6_0d19_11eb_bb5d_0242ac130202row60_col0\" class=\"data row60 col0\" >Puerto Rico</td>\n",
       "                        <td id=\"T_2c5001f6_0d19_11eb_bb5d_0242ac130202row60_col1\" class=\"data row60 col1\" >53364</td>\n",
       "                        <td id=\"T_2c5001f6_0d19_11eb_bb5d_0242ac130202row60_col2\" class=\"data row60 col2\" >728</td>\n",
       "            </tr>\n",
       "            <tr>\n",
       "                        <th id=\"T_2c5001f6_0d19_11eb_bb5d_0242ac130202level0_row61\" class=\"row_heading level0 row61\" >61</th>\n",
       "                        <td id=\"T_2c5001f6_0d19_11eb_bb5d_0242ac130202row61_col0\" class=\"data row61 col0\" >Algeria</td>\n",
       "                        <td id=\"T_2c5001f6_0d19_11eb_bb5d_0242ac130202row61_col1\" class=\"data row61 col1\" >52940</td>\n",
       "                        <td id=\"T_2c5001f6_0d19_11eb_bb5d_0242ac130202row61_col2\" class=\"data row61 col2\" >1795</td>\n",
       "            </tr>\n",
       "            <tr>\n",
       "                        <th id=\"T_2c5001f6_0d19_11eb_bb5d_0242ac130202level0_row62\" class=\"row_heading level0 row62\" >62</th>\n",
       "                        <td id=\"T_2c5001f6_0d19_11eb_bb5d_0242ac130202row62_col0\" class=\"data row62 col0\" >Lebanon</td>\n",
       "                        <td id=\"T_2c5001f6_0d19_11eb_bb5d_0242ac130202row62_col1\" class=\"data row62 col1\" >52558</td>\n",
       "                        <td id=\"T_2c5001f6_0d19_11eb_bb5d_0242ac130202row62_col2\" class=\"data row62 col2\" >455</td>\n",
       "            </tr>\n",
       "            <tr>\n",
       "                        <th id=\"T_2c5001f6_0d19_11eb_bb5d_0242ac130202level0_row63\" class=\"row_heading level0 row63\" >63</th>\n",
       "                        <td id=\"T_2c5001f6_0d19_11eb_bb5d_0242ac130202row63_col0\" class=\"data row63 col0\" >Paraguay</td>\n",
       "                        <td id=\"T_2c5001f6_0d19_11eb_bb5d_0242ac130202row63_col1\" class=\"data row63 col1\" >48978</td>\n",
       "                        <td id=\"T_2c5001f6_0d19_11eb_bb5d_0242ac130202row63_col2\" class=\"data row63 col2\" >1065</td>\n",
       "            </tr>\n",
       "            <tr>\n",
       "                        <th id=\"T_2c5001f6_0d19_11eb_bb5d_0242ac130202level0_row64\" class=\"row_heading level0 row64\" >64</th>\n",
       "                        <td id=\"T_2c5001f6_0d19_11eb_bb5d_0242ac130202row64_col0\" class=\"data row64 col0\" >Kyrgyzstan</td>\n",
       "                        <td id=\"T_2c5001f6_0d19_11eb_bb5d_0242ac130202row64_col1\" class=\"data row64 col1\" >48924</td>\n",
       "                        <td id=\"T_2c5001f6_0d19_11eb_bb5d_0242ac130202row64_col2\" class=\"data row64 col2\" >1082</td>\n",
       "            </tr>\n",
       "            <tr>\n",
       "                        <th id=\"T_2c5001f6_0d19_11eb_bb5d_0242ac130202level0_row65\" class=\"row_heading level0 row65\" >65</th>\n",
       "                        <td id=\"T_2c5001f6_0d19_11eb_bb5d_0242ac130202row65_col0\" class=\"data row65 col0\" >Ghana</td>\n",
       "                        <td id=\"T_2c5001f6_0d19_11eb_bb5d_0242ac130202row65_col1\" class=\"data row65 col1\" >47005</td>\n",
       "                        <td id=\"T_2c5001f6_0d19_11eb_bb5d_0242ac130202row65_col2\" class=\"data row65 col2\" >306</td>\n",
       "            </tr>\n",
       "            <tr>\n",
       "                        <th id=\"T_2c5001f6_0d19_11eb_bb5d_0242ac130202level0_row66\" class=\"row_heading level0 row66\" >66</th>\n",
       "                        <td id=\"T_2c5001f6_0d19_11eb_bb5d_0242ac130202row66_col0\" class=\"data row66 col0\" >Azerbaijan</td>\n",
       "                        <td id=\"T_2c5001f6_0d19_11eb_bb5d_0242ac130202row66_col1\" class=\"data row66 col1\" >41752</td>\n",
       "                        <td id=\"T_2c5001f6_0d19_11eb_bb5d_0242ac130202row66_col2\" class=\"data row66 col2\" >608</td>\n",
       "            </tr>\n",
       "            <tr>\n",
       "                        <th id=\"T_2c5001f6_0d19_11eb_bb5d_0242ac130202level0_row67\" class=\"row_heading level0 row67\" >67</th>\n",
       "                        <td id=\"T_2c5001f6_0d19_11eb_bb5d_0242ac130202row67_col0\" class=\"data row67 col0\" >Ireland</td>\n",
       "                        <td id=\"T_2c5001f6_0d19_11eb_bb5d_0242ac130202row67_col1\" class=\"data row67 col1\" >41714</td>\n",
       "                        <td id=\"T_2c5001f6_0d19_11eb_bb5d_0242ac130202row67_col2\" class=\"data row67 col2\" >1821</td>\n",
       "            </tr>\n",
       "            <tr>\n",
       "                        <th id=\"T_2c5001f6_0d19_11eb_bb5d_0242ac130202level0_row68\" class=\"row_heading level0 row68\" >68</th>\n",
       "                        <td id=\"T_2c5001f6_0d19_11eb_bb5d_0242ac130202row68_col0\" class=\"data row68 col0\" >Libya</td>\n",
       "                        <td id=\"T_2c5001f6_0d19_11eb_bb5d_0242ac130202row68_col1\" class=\"data row68 col1\" >41686</td>\n",
       "                        <td id=\"T_2c5001f6_0d19_11eb_bb5d_0242ac130202row68_col2\" class=\"data row68 col2\" >623</td>\n",
       "            </tr>\n",
       "            <tr>\n",
       "                        <th id=\"T_2c5001f6_0d19_11eb_bb5d_0242ac130202level0_row69\" class=\"row_heading level0 row69\" >69</th>\n",
       "                        <td id=\"T_2c5001f6_0d19_11eb_bb5d_0242ac130202row69_col0\" class=\"data row69 col0\" >Kenya</td>\n",
       "                        <td id=\"T_2c5001f6_0d19_11eb_bb5d_0242ac130202row69_col1\" class=\"data row69 col1\" >41158</td>\n",
       "                        <td id=\"T_2c5001f6_0d19_11eb_bb5d_0242ac130202row69_col2\" class=\"data row69 col2\" >760</td>\n",
       "            </tr>\n",
       "            <tr>\n",
       "                        <th id=\"T_2c5001f6_0d19_11eb_bb5d_0242ac130202level0_row70\" class=\"row_heading level0 row70\" >70</th>\n",
       "                        <td id=\"T_2c5001f6_0d19_11eb_bb5d_0242ac130202row70_col0\" class=\"data row70 col0\" >Afghanistan</td>\n",
       "                        <td id=\"T_2c5001f6_0d19_11eb_bb5d_0242ac130202row70_col1\" class=\"data row70 col1\" >39703</td>\n",
       "                        <td id=\"T_2c5001f6_0d19_11eb_bb5d_0242ac130202row70_col2\" class=\"data row70 col2\" >1473</td>\n",
       "            </tr>\n",
       "            <tr>\n",
       "                        <th id=\"T_2c5001f6_0d19_11eb_bb5d_0242ac130202level0_row71\" class=\"row_heading level0 row71\" >71</th>\n",
       "                        <td id=\"T_2c5001f6_0d19_11eb_bb5d_0242ac130202row71_col0\" class=\"data row71 col0\" >Hungary</td>\n",
       "                        <td id=\"T_2c5001f6_0d19_11eb_bb5d_0242ac130202row71_col1\" class=\"data row71 col1\" >36596</td>\n",
       "                        <td id=\"T_2c5001f6_0d19_11eb_bb5d_0242ac130202row71_col2\" class=\"data row71 col2\" >933</td>\n",
       "            </tr>\n",
       "            <tr>\n",
       "                        <th id=\"T_2c5001f6_0d19_11eb_bb5d_0242ac130202level0_row72\" class=\"row_heading level0 row72\" >72</th>\n",
       "                        <td id=\"T_2c5001f6_0d19_11eb_bb5d_0242ac130202row72_col0\" class=\"data row72 col0\" >Serbia</td>\n",
       "                        <td id=\"T_2c5001f6_0d19_11eb_bb5d_0242ac130202row72_col1\" class=\"data row72 col1\" >34685</td>\n",
       "                        <td id=\"T_2c5001f6_0d19_11eb_bb5d_0242ac130202row72_col2\" class=\"data row72 col2\" >762</td>\n",
       "            </tr>\n",
       "            <tr>\n",
       "                        <th id=\"T_2c5001f6_0d19_11eb_bb5d_0242ac130202level0_row73\" class=\"row_heading level0 row73\" >73</th>\n",
       "                        <td id=\"T_2c5001f6_0d19_11eb_bb5d_0242ac130202row73_col0\" class=\"data row73 col0\" >Denmark</td>\n",
       "                        <td id=\"T_2c5001f6_0d19_11eb_bb5d_0242ac130202row73_col1\" class=\"data row73 col1\" >32082</td>\n",
       "                        <td id=\"T_2c5001f6_0d19_11eb_bb5d_0242ac130202row73_col2\" class=\"data row73 col2\" >667</td>\n",
       "            </tr>\n",
       "            <tr>\n",
       "                        <th id=\"T_2c5001f6_0d19_11eb_bb5d_0242ac130202level0_row74\" class=\"row_heading level0 row74\" >74</th>\n",
       "                        <td id=\"T_2c5001f6_0d19_11eb_bb5d_0242ac130202row74_col0\" class=\"data row74 col0\" >Tunisia</td>\n",
       "                        <td id=\"T_2c5001f6_0d19_11eb_bb5d_0242ac130202row74_col1\" class=\"data row74 col1\" >31259</td>\n",
       "                        <td id=\"T_2c5001f6_0d19_11eb_bb5d_0242ac130202row74_col2\" class=\"data row74 col2\" >456</td>\n",
       "            </tr>\n",
       "            <tr>\n",
       "                        <th id=\"T_2c5001f6_0d19_11eb_bb5d_0242ac130202level0_row75\" class=\"row_heading level0 row75\" >75</th>\n",
       "                        <td id=\"T_2c5001f6_0d19_11eb_bb5d_0242ac130202row75_col0\" class=\"data row75 col0\" >El Salvador</td>\n",
       "                        <td id=\"T_2c5001f6_0d19_11eb_bb5d_0242ac130202row75_col1\" class=\"data row75 col1\" >29951</td>\n",
       "                        <td id=\"T_2c5001f6_0d19_11eb_bb5d_0242ac130202row75_col2\" class=\"data row75 col2\" >887</td>\n",
       "            </tr>\n",
       "            <tr>\n",
       "                        <th id=\"T_2c5001f6_0d19_11eb_bb5d_0242ac130202level0_row76\" class=\"row_heading level0 row76\" >76</th>\n",
       "                        <td id=\"T_2c5001f6_0d19_11eb_bb5d_0242ac130202row76_col0\" class=\"data row76 col0\" >Bosnia and Herzegovina</td>\n",
       "                        <td id=\"T_2c5001f6_0d19_11eb_bb5d_0242ac130202row76_col1\" class=\"data row76 col1\" >29917</td>\n",
       "                        <td id=\"T_2c5001f6_0d19_11eb_bb5d_0242ac130202row76_col2\" class=\"data row76 col2\" >926</td>\n",
       "            </tr>\n",
       "            <tr>\n",
       "                        <th id=\"T_2c5001f6_0d19_11eb_bb5d_0242ac130202level0_row77\" class=\"row_heading level0 row77\" >77</th>\n",
       "                        <td id=\"T_2c5001f6_0d19_11eb_bb5d_0242ac130202row77_col0\" class=\"data row77 col0\" >Australia</td>\n",
       "                        <td id=\"T_2c5001f6_0d19_11eb_bb5d_0242ac130202row77_col1\" class=\"data row77 col1\" >27244</td>\n",
       "                        <td id=\"T_2c5001f6_0d19_11eb_bb5d_0242ac130202row77_col2\" class=\"data row77 col2\" >897</td>\n",
       "            </tr>\n",
       "            <tr>\n",
       "                        <th id=\"T_2c5001f6_0d19_11eb_bb5d_0242ac130202level0_row78\" class=\"row_heading level0 row78\" >78</th>\n",
       "                        <td id=\"T_2c5001f6_0d19_11eb_bb5d_0242ac130202row78_col0\" class=\"data row78 col0\" >Myanmar</td>\n",
       "                        <td id=\"T_2c5001f6_0d19_11eb_bb5d_0242ac130202row78_col1\" class=\"data row78 col1\" >26064</td>\n",
       "                        <td id=\"T_2c5001f6_0d19_11eb_bb5d_0242ac130202row78_col2\" class=\"data row78 col2\" >598</td>\n",
       "            </tr>\n",
       "            <tr>\n",
       "                        <th id=\"T_2c5001f6_0d19_11eb_bb5d_0242ac130202level0_row79\" class=\"row_heading level0 row79\" >79</th>\n",
       "                        <td id=\"T_2c5001f6_0d19_11eb_bb5d_0242ac130202row79_col0\" class=\"data row79 col0\" >South Korea</td>\n",
       "                        <td id=\"T_2c5001f6_0d19_11eb_bb5d_0242ac130202row79_col1\" class=\"data row79 col1\" >24606</td>\n",
       "                        <td id=\"T_2c5001f6_0d19_11eb_bb5d_0242ac130202row79_col2\" class=\"data row79 col2\" >432</td>\n",
       "            </tr>\n",
       "            <tr>\n",
       "                        <th id=\"T_2c5001f6_0d19_11eb_bb5d_0242ac130202level0_row80\" class=\"row_heading level0 row80\" >80</th>\n",
       "                        <td id=\"T_2c5001f6_0d19_11eb_bb5d_0242ac130202row80_col0\" class=\"data row80 col0\" >Jordan</td>\n",
       "                        <td id=\"T_2c5001f6_0d19_11eb_bb5d_0242ac130202row80_col1\" class=\"data row80 col1\" >23998</td>\n",
       "                        <td id=\"T_2c5001f6_0d19_11eb_bb5d_0242ac130202row80_col2\" class=\"data row80 col2\" >181</td>\n",
       "            </tr>\n",
       "            <tr>\n",
       "                        <th id=\"T_2c5001f6_0d19_11eb_bb5d_0242ac130202level0_row81\" class=\"row_heading level0 row81\" >81</th>\n",
       "                        <td id=\"T_2c5001f6_0d19_11eb_bb5d_0242ac130202row81_col0\" class=\"data row81 col0\" >Bulgaria</td>\n",
       "                        <td id=\"T_2c5001f6_0d19_11eb_bb5d_0242ac130202row81_col1\" class=\"data row81 col1\" >23871</td>\n",
       "                        <td id=\"T_2c5001f6_0d19_11eb_bb5d_0242ac130202row81_col2\" class=\"data row81 col2\" >887</td>\n",
       "            </tr>\n",
       "            <tr>\n",
       "                        <th id=\"T_2c5001f6_0d19_11eb_bb5d_0242ac130202level0_row82\" class=\"row_heading level0 row82\" >82</th>\n",
       "                        <td id=\"T_2c5001f6_0d19_11eb_bb5d_0242ac130202row82_col0\" class=\"data row82 col0\" >Greece</td>\n",
       "                        <td id=\"T_2c5001f6_0d19_11eb_bb5d_0242ac130202row82_col1\" class=\"data row82 col1\" >22078</td>\n",
       "                        <td id=\"T_2c5001f6_0d19_11eb_bb5d_0242ac130202row82_col2\" class=\"data row82 col2\" >436</td>\n",
       "            </tr>\n",
       "            <tr>\n",
       "                        <th id=\"T_2c5001f6_0d19_11eb_bb5d_0242ac130202level0_row83\" class=\"row_heading level0 row83\" >83</th>\n",
       "                        <td id=\"T_2c5001f6_0d19_11eb_bb5d_0242ac130202row83_col0\" class=\"data row83 col0\" >Cameroon</td>\n",
       "                        <td id=\"T_2c5001f6_0d19_11eb_bb5d_0242ac130202row83_col1\" class=\"data row83 col1\" >21203</td>\n",
       "                        <td id=\"T_2c5001f6_0d19_11eb_bb5d_0242ac130202row83_col2\" class=\"data row83 col2\" >423</td>\n",
       "            </tr>\n",
       "            <tr>\n",
       "                        <th id=\"T_2c5001f6_0d19_11eb_bb5d_0242ac130202level0_row84\" class=\"row_heading level0 row84\" >84</th>\n",
       "                        <td id=\"T_2c5001f6_0d19_11eb_bb5d_0242ac130202row84_col0\" class=\"data row84 col0\" >Macedonia</td>\n",
       "                        <td id=\"T_2c5001f6_0d19_11eb_bb5d_0242ac130202row84_col1\" class=\"data row84 col1\" >20555</td>\n",
       "                        <td id=\"T_2c5001f6_0d19_11eb_bb5d_0242ac130202row84_col2\" class=\"data row84 col2\" >785</td>\n",
       "            </tr>\n",
       "            <tr>\n",
       "                        <th id=\"T_2c5001f6_0d19_11eb_bb5d_0242ac130202level0_row85\" class=\"row_heading level0 row85\" >85</th>\n",
       "                        <td id=\"T_2c5001f6_0d19_11eb_bb5d_0242ac130202row85_col0\" class=\"data row85 col0\" >Cote d'Ivoire</td>\n",
       "                        <td id=\"T_2c5001f6_0d19_11eb_bb5d_0242ac130202row85_col1\" class=\"data row85 col1\" >20128</td>\n",
       "                        <td id=\"T_2c5001f6_0d19_11eb_bb5d_0242ac130202row85_col2\" class=\"data row85 col2\" >120</td>\n",
       "            </tr>\n",
       "            <tr>\n",
       "                        <th id=\"T_2c5001f6_0d19_11eb_bb5d_0242ac130202level0_row86\" class=\"row_heading level0 row86\" >86</th>\n",
       "                        <td id=\"T_2c5001f6_0d19_11eb_bb5d_0242ac130202row86_col0\" class=\"data row86 col0\" >Croatia</td>\n",
       "                        <td id=\"T_2c5001f6_0d19_11eb_bb5d_0242ac130202row86_col1\" class=\"data row86 col1\" >19932</td>\n",
       "                        <td id=\"T_2c5001f6_0d19_11eb_bb5d_0242ac130202row86_col2\" class=\"data row86 col2\" >317</td>\n",
       "            </tr>\n",
       "            <tr>\n",
       "                        <th id=\"T_2c5001f6_0d19_11eb_bb5d_0242ac130202level0_row87\" class=\"row_heading level0 row87\" >87</th>\n",
       "                        <td id=\"T_2c5001f6_0d19_11eb_bb5d_0242ac130202row87_col0\" class=\"data row87 col0\" >Slovakia</td>\n",
       "                        <td id=\"T_2c5001f6_0d19_11eb_bb5d_0242ac130202row87_col1\" class=\"data row87 col1\" >18797</td>\n",
       "                        <td id=\"T_2c5001f6_0d19_11eb_bb5d_0242ac130202row87_col2\" class=\"data row87 col2\" >61</td>\n",
       "            </tr>\n",
       "            <tr>\n",
       "                        <th id=\"T_2c5001f6_0d19_11eb_bb5d_0242ac130202level0_row88\" class=\"row_heading level0 row88\" >88</th>\n",
       "                        <td id=\"T_2c5001f6_0d19_11eb_bb5d_0242ac130202row88_col0\" class=\"data row88 col0\" >Madagascar</td>\n",
       "                        <td id=\"T_2c5001f6_0d19_11eb_bb5d_0242ac130202row88_col1\" class=\"data row88 col1\" >16702</td>\n",
       "                        <td id=\"T_2c5001f6_0d19_11eb_bb5d_0242ac130202row88_col2\" class=\"data row88 col2\" >237</td>\n",
       "            </tr>\n",
       "            <tr>\n",
       "                        <th id=\"T_2c5001f6_0d19_11eb_bb5d_0242ac130202level0_row89\" class=\"row_heading level0 row89\" >89</th>\n",
       "                        <td id=\"T_2c5001f6_0d19_11eb_bb5d_0242ac130202row89_col0\" class=\"data row89 col0\" >Kosovo</td>\n",
       "                        <td id=\"T_2c5001f6_0d19_11eb_bb5d_0242ac130202row89_col1\" class=\"data row89 col1\" >16007</td>\n",
       "                        <td id=\"T_2c5001f6_0d19_11eb_bb5d_0242ac130202row89_col2\" class=\"data row89 col2\" >631</td>\n",
       "            </tr>\n",
       "            <tr>\n",
       "                        <th id=\"T_2c5001f6_0d19_11eb_bb5d_0242ac130202level0_row90\" class=\"row_heading level0 row90\" >90</th>\n",
       "                        <td id=\"T_2c5001f6_0d19_11eb_bb5d_0242ac130202row90_col0\" class=\"data row90 col0\" >Zambia</td>\n",
       "                        <td id=\"T_2c5001f6_0d19_11eb_bb5d_0242ac130202row90_col1\" class=\"data row90 col1\" >15339</td>\n",
       "                        <td id=\"T_2c5001f6_0d19_11eb_bb5d_0242ac130202row90_col2\" class=\"data row90 col2\" >336</td>\n",
       "            </tr>\n",
       "            <tr>\n",
       "                        <th id=\"T_2c5001f6_0d19_11eb_bb5d_0242ac130202level0_row91\" class=\"row_heading level0 row91\" >91</th>\n",
       "                        <td id=\"T_2c5001f6_0d19_11eb_bb5d_0242ac130202row91_col0\" class=\"data row91 col0\" >Senegal</td>\n",
       "                        <td id=\"T_2c5001f6_0d19_11eb_bb5d_0242ac130202row91_col1\" class=\"data row91 col1\" >15244</td>\n",
       "                        <td id=\"T_2c5001f6_0d19_11eb_bb5d_0242ac130202row91_col2\" class=\"data row91 col2\" >314</td>\n",
       "            </tr>\n",
       "            <tr>\n",
       "                        <th id=\"T_2c5001f6_0d19_11eb_bb5d_0242ac130202level0_row92\" class=\"row_heading level0 row92\" >92</th>\n",
       "                        <td id=\"T_2c5001f6_0d19_11eb_bb5d_0242ac130202row92_col0\" class=\"data row92 col0\" >Albania</td>\n",
       "                        <td id=\"T_2c5001f6_0d19_11eb_bb5d_0242ac130202row92_col1\" class=\"data row92 col1\" >15231</td>\n",
       "                        <td id=\"T_2c5001f6_0d19_11eb_bb5d_0242ac130202row92_col2\" class=\"data row92 col2\" >416</td>\n",
       "            </tr>\n",
       "            <tr>\n",
       "                        <th id=\"T_2c5001f6_0d19_11eb_bb5d_0242ac130202level0_row93\" class=\"row_heading level0 row93\" >93</th>\n",
       "                        <td id=\"T_2c5001f6_0d19_11eb_bb5d_0242ac130202row93_col0\" class=\"data row93 col0\" >Norway</td>\n",
       "                        <td id=\"T_2c5001f6_0d19_11eb_bb5d_0242ac130202row93_col1\" class=\"data row93 col1\" >15221</td>\n",
       "                        <td id=\"T_2c5001f6_0d19_11eb_bb5d_0242ac130202row93_col2\" class=\"data row93 col2\" >275</td>\n",
       "            </tr>\n",
       "            <tr>\n",
       "                        <th id=\"T_2c5001f6_0d19_11eb_bb5d_0242ac130202level0_row94\" class=\"row_heading level0 row94\" >94</th>\n",
       "                        <td id=\"T_2c5001f6_0d19_11eb_bb5d_0242ac130202row94_col0\" class=\"data row94 col0\" >Malaysia</td>\n",
       "                        <td id=\"T_2c5001f6_0d19_11eb_bb5d_0242ac130202row94_col1\" class=\"data row94 col1\" >15096</td>\n",
       "                        <td id=\"T_2c5001f6_0d19_11eb_bb5d_0242ac130202row94_col2\" class=\"data row94 col2\" >155</td>\n",
       "            </tr>\n",
       "            <tr>\n",
       "                        <th id=\"T_2c5001f6_0d19_11eb_bb5d_0242ac130202level0_row95\" class=\"row_heading level0 row95\" >95</th>\n",
       "                        <td id=\"T_2c5001f6_0d19_11eb_bb5d_0242ac130202row95_col0\" class=\"data row95 col0\" >Sudan</td>\n",
       "                        <td id=\"T_2c5001f6_0d19_11eb_bb5d_0242ac130202row95_col1\" class=\"data row95 col1\" >13670</td>\n",
       "                        <td id=\"T_2c5001f6_0d19_11eb_bb5d_0242ac130202row95_col2\" class=\"data row95 col2\" >836</td>\n",
       "            </tr>\n",
       "            <tr>\n",
       "                        <th id=\"T_2c5001f6_0d19_11eb_bb5d_0242ac130202level0_row96\" class=\"row_heading level0 row96\" >96</th>\n",
       "                        <td id=\"T_2c5001f6_0d19_11eb_bb5d_0242ac130202row96_col0\" class=\"data row96 col0\" >Montenegro</td>\n",
       "                        <td id=\"T_2c5001f6_0d19_11eb_bb5d_0242ac130202row96_col1\" class=\"data row96 col1\" >13641</td>\n",
       "                        <td id=\"T_2c5001f6_0d19_11eb_bb5d_0242ac130202row96_col2\" class=\"data row96 col2\" >198</td>\n",
       "            </tr>\n",
       "            <tr>\n",
       "                        <th id=\"T_2c5001f6_0d19_11eb_bb5d_0242ac130202level0_row97\" class=\"row_heading level0 row97\" >97</th>\n",
       "                        <td id=\"T_2c5001f6_0d19_11eb_bb5d_0242ac130202row97_col0\" class=\"data row97 col0\" >Namibia</td>\n",
       "                        <td id=\"T_2c5001f6_0d19_11eb_bb5d_0242ac130202row97_col1\" class=\"data row97 col1\" >11891</td>\n",
       "                        <td id=\"T_2c5001f6_0d19_11eb_bb5d_0242ac130202row97_col2\" class=\"data row97 col2\" >128</td>\n",
       "            </tr>\n",
       "            <tr>\n",
       "                        <th id=\"T_2c5001f6_0d19_11eb_bb5d_0242ac130202level0_row98\" class=\"row_heading level0 row98\" >98</th>\n",
       "                        <td id=\"T_2c5001f6_0d19_11eb_bb5d_0242ac130202row98_col0\" class=\"data row98 col0\" >Finland</td>\n",
       "                        <td id=\"T_2c5001f6_0d19_11eb_bb5d_0242ac130202row98_col1\" class=\"data row98 col1\" >11580</td>\n",
       "                        <td id=\"T_2c5001f6_0d19_11eb_bb5d_0242ac130202row98_col2\" class=\"data row98 col2\" >346</td>\n",
       "            </tr>\n",
       "            <tr>\n",
       "                        <th id=\"T_2c5001f6_0d19_11eb_bb5d_0242ac130202level0_row99\" class=\"row_heading level0 row99\" >99</th>\n",
       "                        <td id=\"T_2c5001f6_0d19_11eb_bb5d_0242ac130202row99_col0\" class=\"data row99 col0\" >Georgia</td>\n",
       "                        <td id=\"T_2c5001f6_0d19_11eb_bb5d_0242ac130202row99_col1\" class=\"data row99 col1\" >11271</td>\n",
       "                        <td id=\"T_2c5001f6_0d19_11eb_bb5d_0242ac130202row99_col2\" class=\"data row99 col2\" >78</td>\n",
       "            </tr>\n",
       "            <tr>\n",
       "                        <th id=\"T_2c5001f6_0d19_11eb_bb5d_0242ac130202level0_row100\" class=\"row_heading level0 row100\" >100</th>\n",
       "                        <td id=\"T_2c5001f6_0d19_11eb_bb5d_0242ac130202row100_col0\" class=\"data row100 col0\" >Guinea</td>\n",
       "                        <td id=\"T_2c5001f6_0d19_11eb_bb5d_0242ac130202row100_col1\" class=\"data row100 col1\" >10996</td>\n",
       "                        <td id=\"T_2c5001f6_0d19_11eb_bb5d_0242ac130202row100_col2\" class=\"data row100 col2\" >69</td>\n",
       "            </tr>\n",
       "            <tr>\n",
       "                        <th id=\"T_2c5001f6_0d19_11eb_bb5d_0242ac130202level0_row101\" class=\"row_heading level0 row101\" >101</th>\n",
       "                        <td id=\"T_2c5001f6_0d19_11eb_bb5d_0242ac130202row101_col0\" class=\"data row101 col0\" >Maldives</td>\n",
       "                        <td id=\"T_2c5001f6_0d19_11eb_bb5d_0242ac130202row101_col1\" class=\"data row101 col1\" >10859</td>\n",
       "                        <td id=\"T_2c5001f6_0d19_11eb_bb5d_0242ac130202row101_col2\" class=\"data row101 col2\" >34</td>\n",
       "            </tr>\n",
       "            <tr>\n",
       "                        <th id=\"T_2c5001f6_0d19_11eb_bb5d_0242ac130202level0_row102\" class=\"row_heading level0 row102\" >102</th>\n",
       "                        <td id=\"T_2c5001f6_0d19_11eb_bb5d_0242ac130202row102_col0\" class=\"data row102 col0\" >Democratic Republic of Congo</td>\n",
       "                        <td id=\"T_2c5001f6_0d19_11eb_bb5d_0242ac130202row102_col1\" class=\"data row102 col1\" >10840</td>\n",
       "                        <td id=\"T_2c5001f6_0d19_11eb_bb5d_0242ac130202row102_col2\" class=\"data row102 col2\" >275</td>\n",
       "            </tr>\n",
       "            <tr>\n",
       "                        <th id=\"T_2c5001f6_0d19_11eb_bb5d_0242ac130202level0_row103\" class=\"row_heading level0 row103\" >103</th>\n",
       "                        <td id=\"T_2c5001f6_0d19_11eb_bb5d_0242ac130202row103_col0\" class=\"data row103 col0\" >Tajikistan</td>\n",
       "                        <td id=\"T_2c5001f6_0d19_11eb_bb5d_0242ac130202row103_col1\" class=\"data row103 col1\" >10180</td>\n",
       "                        <td id=\"T_2c5001f6_0d19_11eb_bb5d_0242ac130202row103_col2\" class=\"data row103 col2\" >79</td>\n",
       "            </tr>\n",
       "            <tr>\n",
       "                        <th id=\"T_2c5001f6_0d19_11eb_bb5d_0242ac130202level0_row104\" class=\"row_heading level0 row104\" >104</th>\n",
       "                        <td id=\"T_2c5001f6_0d19_11eb_bb5d_0242ac130202row104_col0\" class=\"data row104 col0\" >Mozambique</td>\n",
       "                        <td id=\"T_2c5001f6_0d19_11eb_bb5d_0242ac130202row104_col1\" class=\"data row104 col1\" >9844</td>\n",
       "                        <td id=\"T_2c5001f6_0d19_11eb_bb5d_0242ac130202row104_col2\" class=\"data row104 col2\" >70</td>\n",
       "            </tr>\n",
       "            <tr>\n",
       "                        <th id=\"T_2c5001f6_0d19_11eb_bb5d_0242ac130202level0_row105\" class=\"row_heading level0 row105\" >105</th>\n",
       "                        <td id=\"T_2c5001f6_0d19_11eb_bb5d_0242ac130202row105_col0\" class=\"data row105 col0\" >Uganda</td>\n",
       "                        <td id=\"T_2c5001f6_0d19_11eb_bb5d_0242ac130202row105_col1\" class=\"data row105 col1\" >9701</td>\n",
       "                        <td id=\"T_2c5001f6_0d19_11eb_bb5d_0242ac130202row105_col2\" class=\"data row105 col2\" >93</td>\n",
       "            </tr>\n",
       "            <tr>\n",
       "                        <th id=\"T_2c5001f6_0d19_11eb_bb5d_0242ac130202level0_row106\" class=\"row_heading level0 row106\" >106</th>\n",
       "                        <td id=\"T_2c5001f6_0d19_11eb_bb5d_0242ac130202row106_col0\" class=\"data row106 col0\" >Luxembourg</td>\n",
       "                        <td id=\"T_2c5001f6_0d19_11eb_bb5d_0242ac130202row106_col1\" class=\"data row106 col1\" >9360</td>\n",
       "                        <td id=\"T_2c5001f6_0d19_11eb_bb5d_0242ac130202row106_col2\" class=\"data row106 col2\" >130</td>\n",
       "            </tr>\n",
       "            <tr>\n",
       "                        <th id=\"T_2c5001f6_0d19_11eb_bb5d_0242ac130202level0_row107\" class=\"row_heading level0 row107\" >107</th>\n",
       "                        <td id=\"T_2c5001f6_0d19_11eb_bb5d_0242ac130202row107_col0\" class=\"data row107 col0\" >Haiti</td>\n",
       "                        <td id=\"T_2c5001f6_0d19_11eb_bb5d_0242ac130202row107_col1\" class=\"data row107 col1\" >8860</td>\n",
       "                        <td id=\"T_2c5001f6_0d19_11eb_bb5d_0242ac130202row107_col2\" class=\"data row107 col2\" >230</td>\n",
       "            </tr>\n",
       "            <tr>\n",
       "                        <th id=\"T_2c5001f6_0d19_11eb_bb5d_0242ac130202level0_row108\" class=\"row_heading level0 row108\" >108</th>\n",
       "                        <td id=\"T_2c5001f6_0d19_11eb_bb5d_0242ac130202row108_col0\" class=\"data row108 col0\" >Gabon</td>\n",
       "                        <td id=\"T_2c5001f6_0d19_11eb_bb5d_0242ac130202row108_col1\" class=\"data row108 col1\" >8835</td>\n",
       "                        <td id=\"T_2c5001f6_0d19_11eb_bb5d_0242ac130202row108_col2\" class=\"data row108 col2\" >54</td>\n",
       "            </tr>\n",
       "            <tr>\n",
       "                        <th id=\"T_2c5001f6_0d19_11eb_bb5d_0242ac130202level0_row109\" class=\"row_heading level0 row109\" >109</th>\n",
       "                        <td id=\"T_2c5001f6_0d19_11eb_bb5d_0242ac130202row109_col0\" class=\"data row109 col0\" >Slovenia</td>\n",
       "                        <td id=\"T_2c5001f6_0d19_11eb_bb5d_0242ac130202row109_col1\" class=\"data row109 col1\" >8254</td>\n",
       "                        <td id=\"T_2c5001f6_0d19_11eb_bb5d_0242ac130202row109_col2\" class=\"data row109 col2\" >141</td>\n",
       "            </tr>\n",
       "            <tr>\n",
       "                        <th id=\"T_2c5001f6_0d19_11eb_bb5d_0242ac130202level0_row110\" class=\"row_heading level0 row110\" >110</th>\n",
       "                        <td id=\"T_2c5001f6_0d19_11eb_bb5d_0242ac130202row110_col0\" class=\"data row110 col0\" >Zimbabwe</td>\n",
       "                        <td id=\"T_2c5001f6_0d19_11eb_bb5d_0242ac130202row110_col1\" class=\"data row110 col1\" >8010</td>\n",
       "                        <td id=\"T_2c5001f6_0d19_11eb_bb5d_0242ac130202row110_col2\" class=\"data row110 col2\" >230</td>\n",
       "            </tr>\n",
       "            <tr>\n",
       "                        <th id=\"T_2c5001f6_0d19_11eb_bb5d_0242ac130202level0_row111\" class=\"row_heading level0 row111\" >111</th>\n",
       "                        <td id=\"T_2c5001f6_0d19_11eb_bb5d_0242ac130202row111_col0\" class=\"data row111 col0\" >Jamaica</td>\n",
       "                        <td id=\"T_2c5001f6_0d19_11eb_bb5d_0242ac130202row111_col1\" class=\"data row111 col1\" >7559</td>\n",
       "                        <td id=\"T_2c5001f6_0d19_11eb_bb5d_0242ac130202row111_col2\" class=\"data row111 col2\" >138</td>\n",
       "            </tr>\n",
       "            <tr>\n",
       "                        <th id=\"T_2c5001f6_0d19_11eb_bb5d_0242ac130202level0_row112\" class=\"row_heading level0 row112\" >112</th>\n",
       "                        <td id=\"T_2c5001f6_0d19_11eb_bb5d_0242ac130202row112_col0\" class=\"data row112 col0\" >Mauritania</td>\n",
       "                        <td id=\"T_2c5001f6_0d19_11eb_bb5d_0242ac130202row112_col1\" class=\"data row112 col1\" >7523</td>\n",
       "                        <td id=\"T_2c5001f6_0d19_11eb_bb5d_0242ac130202row112_col2\" class=\"data row112 col2\" >162</td>\n",
       "            </tr>\n",
       "            <tr>\n",
       "                        <th id=\"T_2c5001f6_0d19_11eb_bb5d_0242ac130202level0_row113\" class=\"row_heading level0 row113\" >113</th>\n",
       "                        <td id=\"T_2c5001f6_0d19_11eb_bb5d_0242ac130202row113_col0\" class=\"data row113 col0\" >Cape Verde</td>\n",
       "                        <td id=\"T_2c5001f6_0d19_11eb_bb5d_0242ac130202row113_col1\" class=\"data row113 col1\" >6913</td>\n",
       "                        <td id=\"T_2c5001f6_0d19_11eb_bb5d_0242ac130202row113_col2\" class=\"data row113 col2\" >74</td>\n",
       "            </tr>\n",
       "            <tr>\n",
       "                        <th id=\"T_2c5001f6_0d19_11eb_bb5d_0242ac130202level0_row114\" class=\"row_heading level0 row114\" >114</th>\n",
       "                        <td id=\"T_2c5001f6_0d19_11eb_bb5d_0242ac130202row114_col0\" class=\"data row114 col0\" >Angola</td>\n",
       "                        <td id=\"T_2c5001f6_0d19_11eb_bb5d_0242ac130202row114_col1\" class=\"data row114 col1\" >6031</td>\n",
       "                        <td id=\"T_2c5001f6_0d19_11eb_bb5d_0242ac130202row114_col2\" class=\"data row114 col2\" >212</td>\n",
       "            </tr>\n",
       "            <tr>\n",
       "                        <th id=\"T_2c5001f6_0d19_11eb_bb5d_0242ac130202level0_row115\" class=\"row_heading level0 row115\" >115</th>\n",
       "                        <td id=\"T_2c5001f6_0d19_11eb_bb5d_0242ac130202row115_col0\" class=\"data row115 col0\" >Lithuania</td>\n",
       "                        <td id=\"T_2c5001f6_0d19_11eb_bb5d_0242ac130202row115_col1\" class=\"data row115 col1\" >5963</td>\n",
       "                        <td id=\"T_2c5001f6_0d19_11eb_bb5d_0242ac130202row115_col2\" class=\"data row115 col2\" >103</td>\n",
       "            </tr>\n",
       "            <tr>\n",
       "                        <th id=\"T_2c5001f6_0d19_11eb_bb5d_0242ac130202level0_row116\" class=\"row_heading level0 row116\" >116</th>\n",
       "                        <td id=\"T_2c5001f6_0d19_11eb_bb5d_0242ac130202row116_col0\" class=\"data row116 col0\" >Cuba</td>\n",
       "                        <td id=\"T_2c5001f6_0d19_11eb_bb5d_0242ac130202row116_col1\" class=\"data row116 col1\" >5948</td>\n",
       "                        <td id=\"T_2c5001f6_0d19_11eb_bb5d_0242ac130202row116_col2\" class=\"data row116 col2\" >123</td>\n",
       "            </tr>\n",
       "            <tr>\n",
       "                        <th id=\"T_2c5001f6_0d19_11eb_bb5d_0242ac130202level0_row117\" class=\"row_heading level0 row117\" >117</th>\n",
       "                        <td id=\"T_2c5001f6_0d19_11eb_bb5d_0242ac130202row117_col0\" class=\"data row117 col0\" >Malawi</td>\n",
       "                        <td id=\"T_2c5001f6_0d19_11eb_bb5d_0242ac130202row117_col1\" class=\"data row117 col1\" >5821</td>\n",
       "                        <td id=\"T_2c5001f6_0d19_11eb_bb5d_0242ac130202row117_col2\" class=\"data row117 col2\" >180</td>\n",
       "            </tr>\n",
       "            <tr>\n",
       "                        <th id=\"T_2c5001f6_0d19_11eb_bb5d_0242ac130202level0_row118\" class=\"row_heading level0 row118\" >118</th>\n",
       "                        <td id=\"T_2c5001f6_0d19_11eb_bb5d_0242ac130202row118_col0\" class=\"data row118 col0\" >Swaziland</td>\n",
       "                        <td id=\"T_2c5001f6_0d19_11eb_bb5d_0242ac130202row118_col1\" class=\"data row118 col1\" >5660</td>\n",
       "                        <td id=\"T_2c5001f6_0d19_11eb_bb5d_0242ac130202row118_col2\" class=\"data row118 col2\" >113</td>\n",
       "            </tr>\n",
       "            <tr>\n",
       "                        <th id=\"T_2c5001f6_0d19_11eb_bb5d_0242ac130202level0_row119\" class=\"row_heading level0 row119\" >119</th>\n",
       "                        <td id=\"T_2c5001f6_0d19_11eb_bb5d_0242ac130202row119_col0\" class=\"data row119 col0\" >Djibouti</td>\n",
       "                        <td id=\"T_2c5001f6_0d19_11eb_bb5d_0242ac130202row119_col1\" class=\"data row119 col1\" >5423</td>\n",
       "                        <td id=\"T_2c5001f6_0d19_11eb_bb5d_0242ac130202row119_col2\" class=\"data row119 col2\" >61</td>\n",
       "            </tr>\n",
       "            <tr>\n",
       "                        <th id=\"T_2c5001f6_0d19_11eb_bb5d_0242ac130202level0_row120\" class=\"row_heading level0 row120\" >120</th>\n",
       "                        <td id=\"T_2c5001f6_0d19_11eb_bb5d_0242ac130202row120_col0\" class=\"data row120 col0\" >Nicaragua</td>\n",
       "                        <td id=\"T_2c5001f6_0d19_11eb_bb5d_0242ac130202row120_col1\" class=\"data row120 col1\" >5264</td>\n",
       "                        <td id=\"T_2c5001f6_0d19_11eb_bb5d_0242ac130202row120_col2\" class=\"data row120 col2\" >153</td>\n",
       "            </tr>\n",
       "            <tr>\n",
       "                        <th id=\"T_2c5001f6_0d19_11eb_bb5d_0242ac130202level0_row121\" class=\"row_heading level0 row121\" >121</th>\n",
       "                        <td id=\"T_2c5001f6_0d19_11eb_bb5d_0242ac130202row121_col0\" class=\"data row121 col0\" >Congo</td>\n",
       "                        <td id=\"T_2c5001f6_0d19_11eb_bb5d_0242ac130202row121_col1\" class=\"data row121 col1\" >5118</td>\n",
       "                        <td id=\"T_2c5001f6_0d19_11eb_bb5d_0242ac130202row121_col2\" class=\"data row121 col2\" >90</td>\n",
       "            </tr>\n",
       "            <tr>\n",
       "                        <th id=\"T_2c5001f6_0d19_11eb_bb5d_0242ac130202level0_row122\" class=\"row_heading level0 row122\" >122</th>\n",
       "                        <td id=\"T_2c5001f6_0d19_11eb_bb5d_0242ac130202row122_col0\" class=\"data row122 col0\" >Equatorial Guinea</td>\n",
       "                        <td id=\"T_2c5001f6_0d19_11eb_bb5d_0242ac130202row122_col1\" class=\"data row122 col1\" >5063</td>\n",
       "                        <td id=\"T_2c5001f6_0d19_11eb_bb5d_0242ac130202row122_col2\" class=\"data row122 col2\" >83</td>\n",
       "            </tr>\n",
       "            <tr>\n",
       "                        <th id=\"T_2c5001f6_0d19_11eb_bb5d_0242ac130202level0_row123\" class=\"row_heading level0 row123\" >123</th>\n",
       "                        <td id=\"T_2c5001f6_0d19_11eb_bb5d_0242ac130202row123_col0\" class=\"data row123 col0\" >Trinidad and Tobago</td>\n",
       "                        <td id=\"T_2c5001f6_0d19_11eb_bb5d_0242ac130202row123_col1\" class=\"data row123 col1\" >5043</td>\n",
       "                        <td id=\"T_2c5001f6_0d19_11eb_bb5d_0242ac130202row123_col2\" class=\"data row123 col2\" >90</td>\n",
       "            </tr>\n",
       "            <tr>\n",
       "                        <th id=\"T_2c5001f6_0d19_11eb_bb5d_0242ac130202level0_row124\" class=\"row_heading level0 row124\" >124</th>\n",
       "                        <td id=\"T_2c5001f6_0d19_11eb_bb5d_0242ac130202row124_col0\" class=\"data row124 col0\" >Suriname</td>\n",
       "                        <td id=\"T_2c5001f6_0d19_11eb_bb5d_0242ac130202row124_col1\" class=\"data row124 col1\" >5035</td>\n",
       "                        <td id=\"T_2c5001f6_0d19_11eb_bb5d_0242ac130202row124_col2\" class=\"data row124 col2\" >107</td>\n",
       "            </tr>\n",
       "            <tr>\n",
       "                        <th id=\"T_2c5001f6_0d19_11eb_bb5d_0242ac130202level0_row125\" class=\"row_heading level0 row125\" >125</th>\n",
       "                        <td id=\"T_2c5001f6_0d19_11eb_bb5d_0242ac130202row125_col0\" class=\"data row125 col0\" >Bahamas</td>\n",
       "                        <td id=\"T_2c5001f6_0d19_11eb_bb5d_0242ac130202row125_col1\" class=\"data row125 col1\" >5023</td>\n",
       "                        <td id=\"T_2c5001f6_0d19_11eb_bb5d_0242ac130202row125_col2\" class=\"data row125 col2\" >106</td>\n",
       "            </tr>\n",
       "            <tr>\n",
       "                        <th id=\"T_2c5001f6_0d19_11eb_bb5d_0242ac130202level0_row126\" class=\"row_heading level0 row126\" >126</th>\n",
       "                        <td id=\"T_2c5001f6_0d19_11eb_bb5d_0242ac130202row126_col0\" class=\"data row126 col0\" >Rwanda</td>\n",
       "                        <td id=\"T_2c5001f6_0d19_11eb_bb5d_0242ac130202row126_col1\" class=\"data row126 col1\" >4892</td>\n",
       "                        <td id=\"T_2c5001f6_0d19_11eb_bb5d_0242ac130202row126_col2\" class=\"data row126 col2\" >30</td>\n",
       "            </tr>\n",
       "            <tr>\n",
       "                        <th id=\"T_2c5001f6_0d19_11eb_bb5d_0242ac130202level0_row127\" class=\"row_heading level0 row127\" >127</th>\n",
       "                        <td id=\"T_2c5001f6_0d19_11eb_bb5d_0242ac130202row127_col0\" class=\"data row127 col0\" >Central African Republic</td>\n",
       "                        <td id=\"T_2c5001f6_0d19_11eb_bb5d_0242ac130202row127_col1\" class=\"data row127 col1\" >4854</td>\n",
       "                        <td id=\"T_2c5001f6_0d19_11eb_bb5d_0242ac130202row127_col2\" class=\"data row127 col2\" >62</td>\n",
       "            </tr>\n",
       "            <tr>\n",
       "                        <th id=\"T_2c5001f6_0d19_11eb_bb5d_0242ac130202level0_row128\" class=\"row_heading level0 row128\" >128</th>\n",
       "                        <td id=\"T_2c5001f6_0d19_11eb_bb5d_0242ac130202row128_col0\" class=\"data row128 col0\" >Syria</td>\n",
       "                        <td id=\"T_2c5001f6_0d19_11eb_bb5d_0242ac130202row128_col1\" class=\"data row128 col1\" >4673</td>\n",
       "                        <td id=\"T_2c5001f6_0d19_11eb_bb5d_0242ac130202row128_col2\" class=\"data row128 col2\" >221</td>\n",
       "            </tr>\n",
       "            <tr>\n",
       "                        <th id=\"T_2c5001f6_0d19_11eb_bb5d_0242ac130202level0_row129\" class=\"row_heading level0 row129\" >129</th>\n",
       "                        <td id=\"T_2c5001f6_0d19_11eb_bb5d_0242ac130202row129_col0\" class=\"data row129 col0\" >Sri Lanka</td>\n",
       "                        <td id=\"T_2c5001f6_0d19_11eb_bb5d_0242ac130202row129_col1\" class=\"data row129 col1\" >4628</td>\n",
       "                        <td id=\"T_2c5001f6_0d19_11eb_bb5d_0242ac130202row129_col2\" class=\"data row129 col2\" >13</td>\n",
       "            </tr>\n",
       "            <tr>\n",
       "                        <th id=\"T_2c5001f6_0d19_11eb_bb5d_0242ac130202level0_row130\" class=\"row_heading level0 row130\" >130</th>\n",
       "                        <td id=\"T_2c5001f6_0d19_11eb_bb5d_0242ac130202row130_col0\" class=\"data row130 col0\" >Botswana</td>\n",
       "                        <td id=\"T_2c5001f6_0d19_11eb_bb5d_0242ac130202row130_col1\" class=\"data row130 col1\" >4520</td>\n",
       "                        <td id=\"T_2c5001f6_0d19_11eb_bb5d_0242ac130202row130_col2\" class=\"data row130 col2\" >18</td>\n",
       "            </tr>\n",
       "            <tr>\n",
       "                        <th id=\"T_2c5001f6_0d19_11eb_bb5d_0242ac130202level0_row131\" class=\"row_heading level0 row131\" >131</th>\n",
       "                        <td id=\"T_2c5001f6_0d19_11eb_bb5d_0242ac130202row131_col0\" class=\"data row131 col0\" >Aruba</td>\n",
       "                        <td id=\"T_2c5001f6_0d19_11eb_bb5d_0242ac130202row131_col1\" class=\"data row131 col1\" >4188</td>\n",
       "                        <td id=\"T_2c5001f6_0d19_11eb_bb5d_0242ac130202row131_col2\" class=\"data row131 col2\" >32</td>\n",
       "            </tr>\n",
       "            <tr>\n",
       "                        <th id=\"T_2c5001f6_0d19_11eb_bb5d_0242ac130202level0_row132\" class=\"row_heading level0 row132\" >132</th>\n",
       "                        <td id=\"T_2c5001f6_0d19_11eb_bb5d_0242ac130202row132_col0\" class=\"data row132 col0\" >Somalia</td>\n",
       "                        <td id=\"T_2c5001f6_0d19_11eb_bb5d_0242ac130202row132_col1\" class=\"data row132 col1\" >3847</td>\n",
       "                        <td id=\"T_2c5001f6_0d19_11eb_bb5d_0242ac130202row132_col2\" class=\"data row132 col2\" >99</td>\n",
       "            </tr>\n",
       "            <tr>\n",
       "                        <th id=\"T_2c5001f6_0d19_11eb_bb5d_0242ac130202level0_row133\" class=\"row_heading level0 row133\" >133</th>\n",
       "                        <td id=\"T_2c5001f6_0d19_11eb_bb5d_0242ac130202row133_col0\" class=\"data row133 col0\" >Estonia</td>\n",
       "                        <td id=\"T_2c5001f6_0d19_11eb_bb5d_0242ac130202row133_col1\" class=\"data row133 col1\" >3846</td>\n",
       "                        <td id=\"T_2c5001f6_0d19_11eb_bb5d_0242ac130202row133_col2\" class=\"data row133 col2\" >68</td>\n",
       "            </tr>\n",
       "            <tr>\n",
       "                        <th id=\"T_2c5001f6_0d19_11eb_bb5d_0242ac130202level0_row134\" class=\"row_heading level0 row134\" >134</th>\n",
       "                        <td id=\"T_2c5001f6_0d19_11eb_bb5d_0242ac130202row134_col0\" class=\"data row134 col0\" >Malta</td>\n",
       "                        <td id=\"T_2c5001f6_0d19_11eb_bb5d_0242ac130202row134_col1\" class=\"data row134 col1\" >3681</td>\n",
       "                        <td id=\"T_2c5001f6_0d19_11eb_bb5d_0242ac130202row134_col2\" class=\"data row134 col2\" >41</td>\n",
       "            </tr>\n",
       "            <tr>\n",
       "                        <th id=\"T_2c5001f6_0d19_11eb_bb5d_0242ac130202level0_row135\" class=\"row_heading level0 row135\" >135</th>\n",
       "                        <td id=\"T_2c5001f6_0d19_11eb_bb5d_0242ac130202row135_col0\" class=\"data row135 col0\" >Thailand</td>\n",
       "                        <td id=\"T_2c5001f6_0d19_11eb_bb5d_0242ac130202row135_col1\" class=\"data row135 col1\" >3634</td>\n",
       "                        <td id=\"T_2c5001f6_0d19_11eb_bb5d_0242ac130202row135_col2\" class=\"data row135 col2\" >59</td>\n",
       "            </tr>\n",
       "            <tr>\n",
       "                        <th id=\"T_2c5001f6_0d19_11eb_bb5d_0242ac130202level0_row136\" class=\"row_heading level0 row136\" >136</th>\n",
       "                        <td id=\"T_2c5001f6_0d19_11eb_bb5d_0242ac130202row136_col0\" class=\"data row136 col0\" >Gambia</td>\n",
       "                        <td id=\"T_2c5001f6_0d19_11eb_bb5d_0242ac130202row136_col1\" class=\"data row136 col1\" >3628</td>\n",
       "                        <td id=\"T_2c5001f6_0d19_11eb_bb5d_0242ac130202row136_col2\" class=\"data row136 col2\" >117</td>\n",
       "            </tr>\n",
       "            <tr>\n",
       "                        <th id=\"T_2c5001f6_0d19_11eb_bb5d_0242ac130202level0_row137\" class=\"row_heading level0 row137\" >137</th>\n",
       "                        <td id=\"T_2c5001f6_0d19_11eb_bb5d_0242ac130202row137_col0\" class=\"data row137 col0\" >Iceland</td>\n",
       "                        <td id=\"T_2c5001f6_0d19_11eb_bb5d_0242ac130202row137_col1\" class=\"data row137 col1\" >3460</td>\n",
       "                        <td id=\"T_2c5001f6_0d19_11eb_bb5d_0242ac130202row137_col2\" class=\"data row137 col2\" >10</td>\n",
       "            </tr>\n",
       "            <tr>\n",
       "                        <th id=\"T_2c5001f6_0d19_11eb_bb5d_0242ac130202level0_row138\" class=\"row_heading level0 row138\" >138</th>\n",
       "                        <td id=\"T_2c5001f6_0d19_11eb_bb5d_0242ac130202row138_col0\" class=\"data row138 col0\" >Guyana</td>\n",
       "                        <td id=\"T_2c5001f6_0d19_11eb_bb5d_0242ac130202row138_col1\" class=\"data row138 col1\" >3405</td>\n",
       "                        <td id=\"T_2c5001f6_0d19_11eb_bb5d_0242ac130202row138_col2\" class=\"data row138 col2\" >102</td>\n",
       "            </tr>\n",
       "            <tr>\n",
       "                        <th id=\"T_2c5001f6_0d19_11eb_bb5d_0242ac130202level0_row139\" class=\"row_heading level0 row139\" >139</th>\n",
       "                        <td id=\"T_2c5001f6_0d19_11eb_bb5d_0242ac130202row139_col0\" class=\"data row139 col0\" >Mali</td>\n",
       "                        <td id=\"T_2c5001f6_0d19_11eb_bb5d_0242ac130202row139_col1\" class=\"data row139 col1\" >3273</td>\n",
       "                        <td id=\"T_2c5001f6_0d19_11eb_bb5d_0242ac130202row139_col2\" class=\"data row139 col2\" >132</td>\n",
       "            </tr>\n",
       "            <tr>\n",
       "                        <th id=\"T_2c5001f6_0d19_11eb_bb5d_0242ac130202level0_row140\" class=\"row_heading level0 row140\" >140</th>\n",
       "                        <td id=\"T_2c5001f6_0d19_11eb_bb5d_0242ac130202row140_col0\" class=\"data row140 col0\" >Guam</td>\n",
       "                        <td id=\"T_2c5001f6_0d19_11eb_bb5d_0242ac130202row140_col1\" class=\"data row140 col1\" >3078</td>\n",
       "                        <td id=\"T_2c5001f6_0d19_11eb_bb5d_0242ac130202row140_col2\" class=\"data row140 col2\" >60</td>\n",
       "            </tr>\n",
       "            <tr>\n",
       "                        <th id=\"T_2c5001f6_0d19_11eb_bb5d_0242ac130202level0_row141\" class=\"row_heading level0 row141\" >141</th>\n",
       "                        <td id=\"T_2c5001f6_0d19_11eb_bb5d_0242ac130202row141_col0\" class=\"data row141 col0\" >South Sudan</td>\n",
       "                        <td id=\"T_2c5001f6_0d19_11eb_bb5d_0242ac130202row141_col1\" class=\"data row141 col1\" >2761</td>\n",
       "                        <td id=\"T_2c5001f6_0d19_11eb_bb5d_0242ac130202row141_col2\" class=\"data row141 col2\" >54</td>\n",
       "            </tr>\n",
       "            <tr>\n",
       "                        <th id=\"T_2c5001f6_0d19_11eb_bb5d_0242ac130202level0_row142\" class=\"row_heading level0 row142\" >142</th>\n",
       "                        <td id=\"T_2c5001f6_0d19_11eb_bb5d_0242ac130202row142_col0\" class=\"data row142 col0\" >Andorra</td>\n",
       "                        <td id=\"T_2c5001f6_0d19_11eb_bb5d_0242ac130202row142_col1\" class=\"data row142 col1\" >2696</td>\n",
       "                        <td id=\"T_2c5001f6_0d19_11eb_bb5d_0242ac130202row142_col2\" class=\"data row142 col2\" >55</td>\n",
       "            </tr>\n",
       "            <tr>\n",
       "                        <th id=\"T_2c5001f6_0d19_11eb_bb5d_0242ac130202level0_row143\" class=\"row_heading level0 row143\" >143</th>\n",
       "                        <td id=\"T_2c5001f6_0d19_11eb_bb5d_0242ac130202row143_col0\" class=\"data row143 col0\" >French Polynesia</td>\n",
       "                        <td id=\"T_2c5001f6_0d19_11eb_bb5d_0242ac130202row143_col1\" class=\"data row143 col1\" >2692</td>\n",
       "                        <td id=\"T_2c5001f6_0d19_11eb_bb5d_0242ac130202row143_col2\" class=\"data row143 col2\" >10</td>\n",
       "            </tr>\n",
       "            <tr>\n",
       "                        <th id=\"T_2c5001f6_0d19_11eb_bb5d_0242ac130202level0_row144\" class=\"row_heading level0 row144\" >144</th>\n",
       "                        <td id=\"T_2c5001f6_0d19_11eb_bb5d_0242ac130202row144_col0\" class=\"data row144 col0\" >Latvia</td>\n",
       "                        <td id=\"T_2c5001f6_0d19_11eb_bb5d_0242ac130202row144_col1\" class=\"data row144 col1\" >2596</td>\n",
       "                        <td id=\"T_2c5001f6_0d19_11eb_bb5d_0242ac130202row144_col2\" class=\"data row144 col2\" >40</td>\n",
       "            </tr>\n",
       "            <tr>\n",
       "                        <th id=\"T_2c5001f6_0d19_11eb_bb5d_0242ac130202level0_row145\" class=\"row_heading level0 row145\" >145</th>\n",
       "                        <td id=\"T_2c5001f6_0d19_11eb_bb5d_0242ac130202row145_col0\" class=\"data row145 col0\" >Belize</td>\n",
       "                        <td id=\"T_2c5001f6_0d19_11eb_bb5d_0242ac130202row145_col1\" class=\"data row145 col1\" >2427</td>\n",
       "                        <td id=\"T_2c5001f6_0d19_11eb_bb5d_0242ac130202row145_col2\" class=\"data row145 col2\" >35</td>\n",
       "            </tr>\n",
       "            <tr>\n",
       "                        <th id=\"T_2c5001f6_0d19_11eb_bb5d_0242ac130202level0_row146\" class=\"row_heading level0 row146\" >146</th>\n",
       "                        <td id=\"T_2c5001f6_0d19_11eb_bb5d_0242ac130202row146_col0\" class=\"data row146 col0\" >Benin</td>\n",
       "                        <td id=\"T_2c5001f6_0d19_11eb_bb5d_0242ac130202row146_col1\" class=\"data row146 col1\" >2411</td>\n",
       "                        <td id=\"T_2c5001f6_0d19_11eb_bb5d_0242ac130202row146_col2\" class=\"data row146 col2\" >41</td>\n",
       "            </tr>\n",
       "            <tr>\n",
       "                        <th id=\"T_2c5001f6_0d19_11eb_bb5d_0242ac130202level0_row147\" class=\"row_heading level0 row147\" >147</th>\n",
       "                        <td id=\"T_2c5001f6_0d19_11eb_bb5d_0242ac130202row147_col0\" class=\"data row147 col0\" >Guinea-Bissau</td>\n",
       "                        <td id=\"T_2c5001f6_0d19_11eb_bb5d_0242ac130202row147_col1\" class=\"data row147 col1\" >2362</td>\n",
       "                        <td id=\"T_2c5001f6_0d19_11eb_bb5d_0242ac130202row147_col2\" class=\"data row147 col2\" >39</td>\n",
       "            </tr>\n",
       "            <tr>\n",
       "                        <th id=\"T_2c5001f6_0d19_11eb_bb5d_0242ac130202level0_row148\" class=\"row_heading level0 row148\" >148</th>\n",
       "                        <td id=\"T_2c5001f6_0d19_11eb_bb5d_0242ac130202row148_col0\" class=\"data row148 col0\" >Sierra Leone</td>\n",
       "                        <td id=\"T_2c5001f6_0d19_11eb_bb5d_0242ac130202row148_col1\" class=\"data row148 col1\" >2300</td>\n",
       "                        <td id=\"T_2c5001f6_0d19_11eb_bb5d_0242ac130202row148_col2\" class=\"data row148 col2\" >72</td>\n",
       "            </tr>\n",
       "            <tr>\n",
       "                        <th id=\"T_2c5001f6_0d19_11eb_bb5d_0242ac130202level0_row149\" class=\"row_heading level0 row149\" >149</th>\n",
       "                        <td id=\"T_2c5001f6_0d19_11eb_bb5d_0242ac130202row149_col0\" class=\"data row149 col0\" >Burkina Faso</td>\n",
       "                        <td id=\"T_2c5001f6_0d19_11eb_bb5d_0242ac130202row149_col1\" class=\"data row149 col1\" >2271</td>\n",
       "                        <td id=\"T_2c5001f6_0d19_11eb_bb5d_0242ac130202row149_col2\" class=\"data row149 col2\" >61</td>\n",
       "            </tr>\n",
       "            <tr>\n",
       "                        <th id=\"T_2c5001f6_0d19_11eb_bb5d_0242ac130202level0_row150\" class=\"row_heading level0 row150\" >150</th>\n",
       "                        <td id=\"T_2c5001f6_0d19_11eb_bb5d_0242ac130202row150_col0\" class=\"data row150 col0\" >Uruguay</td>\n",
       "                        <td id=\"T_2c5001f6_0d19_11eb_bb5d_0242ac130202row150_col1\" class=\"data row150 col1\" >2268</td>\n",
       "                        <td id=\"T_2c5001f6_0d19_11eb_bb5d_0242ac130202row150_col2\" class=\"data row150 col2\" >50</td>\n",
       "            </tr>\n",
       "            <tr>\n",
       "                        <th id=\"T_2c5001f6_0d19_11eb_bb5d_0242ac130202level0_row151\" class=\"row_heading level0 row151\" >151</th>\n",
       "                        <td id=\"T_2c5001f6_0d19_11eb_bb5d_0242ac130202row151_col0\" class=\"data row151 col0\" >Yemen</td>\n",
       "                        <td id=\"T_2c5001f6_0d19_11eb_bb5d_0242ac130202row151_col1\" class=\"data row151 col1\" >2055</td>\n",
       "                        <td id=\"T_2c5001f6_0d19_11eb_bb5d_0242ac130202row151_col2\" class=\"data row151 col2\" >595</td>\n",
       "            </tr>\n",
       "            <tr>\n",
       "                        <th id=\"T_2c5001f6_0d19_11eb_bb5d_0242ac130202level0_row152\" class=\"row_heading level0 row152\" >152</th>\n",
       "                        <td id=\"T_2c5001f6_0d19_11eb_bb5d_0242ac130202row152_col0\" class=\"data row152 col0\" >Cyprus</td>\n",
       "                        <td id=\"T_2c5001f6_0d19_11eb_bb5d_0242ac130202row152_col1\" class=\"data row152 col1\" >1986</td>\n",
       "                        <td id=\"T_2c5001f6_0d19_11eb_bb5d_0242ac130202row152_col2\" class=\"data row152 col2\" >25</td>\n",
       "            </tr>\n",
       "            <tr>\n",
       "                        <th id=\"T_2c5001f6_0d19_11eb_bb5d_0242ac130202level0_row153\" class=\"row_heading level0 row153\" >153</th>\n",
       "                        <td id=\"T_2c5001f6_0d19_11eb_bb5d_0242ac130202row153_col0\" class=\"data row153 col0\" >Togo</td>\n",
       "                        <td id=\"T_2c5001f6_0d19_11eb_bb5d_0242ac130202row153_col1\" class=\"data row153 col1\" >1935</td>\n",
       "                        <td id=\"T_2c5001f6_0d19_11eb_bb5d_0242ac130202row153_col2\" class=\"data row153 col2\" >49</td>\n",
       "            </tr>\n",
       "            <tr>\n",
       "                        <th id=\"T_2c5001f6_0d19_11eb_bb5d_0242ac130202level0_row154\" class=\"row_heading level0 row154\" >154</th>\n",
       "                        <td id=\"T_2c5001f6_0d19_11eb_bb5d_0242ac130202row154_col0\" class=\"data row154 col0\" >Lesotho</td>\n",
       "                        <td id=\"T_2c5001f6_0d19_11eb_bb5d_0242ac130202row154_col1\" class=\"data row154 col1\" >1800</td>\n",
       "                        <td id=\"T_2c5001f6_0d19_11eb_bb5d_0242ac130202row154_col2\" class=\"data row154 col2\" >42</td>\n",
       "            </tr>\n",
       "            <tr>\n",
       "                        <th id=\"T_2c5001f6_0d19_11eb_bb5d_0242ac130202level0_row155\" class=\"row_heading level0 row155\" >155</th>\n",
       "                        <td id=\"T_2c5001f6_0d19_11eb_bb5d_0242ac130202row155_col0\" class=\"data row155 col0\" >New Zealand</td>\n",
       "                        <td id=\"T_2c5001f6_0d19_11eb_bb5d_0242ac130202row155_col1\" class=\"data row155 col1\" >1515</td>\n",
       "                        <td id=\"T_2c5001f6_0d19_11eb_bb5d_0242ac130202row155_col2\" class=\"data row155 col2\" >25</td>\n",
       "            </tr>\n",
       "            <tr>\n",
       "                        <th id=\"T_2c5001f6_0d19_11eb_bb5d_0242ac130202level0_row156\" class=\"row_heading level0 row156\" >156</th>\n",
       "                        <td id=\"T_2c5001f6_0d19_11eb_bb5d_0242ac130202row156_col0\" class=\"data row156 col0\" >Liberia</td>\n",
       "                        <td id=\"T_2c5001f6_0d19_11eb_bb5d_0242ac130202row156_col1\" class=\"data row156 col1\" >1363</td>\n",
       "                        <td id=\"T_2c5001f6_0d19_11eb_bb5d_0242ac130202row156_col2\" class=\"data row156 col2\" >82</td>\n",
       "            </tr>\n",
       "            <tr>\n",
       "                        <th id=\"T_2c5001f6_0d19_11eb_bb5d_0242ac130202level0_row157\" class=\"row_heading level0 row157\" >157</th>\n",
       "                        <td id=\"T_2c5001f6_0d19_11eb_bb5d_0242ac130202row157_col0\" class=\"data row157 col0\" >United States Virgin Islands</td>\n",
       "                        <td id=\"T_2c5001f6_0d19_11eb_bb5d_0242ac130202row157_col1\" class=\"data row157 col1\" >1327</td>\n",
       "                        <td id=\"T_2c5001f6_0d19_11eb_bb5d_0242ac130202row157_col2\" class=\"data row157 col2\" >20</td>\n",
       "            </tr>\n",
       "            <tr>\n",
       "                        <th id=\"T_2c5001f6_0d19_11eb_bb5d_0242ac130202level0_row158\" class=\"row_heading level0 row158\" >158</th>\n",
       "                        <td id=\"T_2c5001f6_0d19_11eb_bb5d_0242ac130202row158_col0\" class=\"data row158 col0\" >Chad</td>\n",
       "                        <td id=\"T_2c5001f6_0d19_11eb_bb5d_0242ac130202row158_col1\" class=\"data row158 col1\" >1291</td>\n",
       "                        <td id=\"T_2c5001f6_0d19_11eb_bb5d_0242ac130202row158_col2\" class=\"data row158 col2\" >92</td>\n",
       "            </tr>\n",
       "            <tr>\n",
       "                        <th id=\"T_2c5001f6_0d19_11eb_bb5d_0242ac130202level0_row159\" class=\"row_heading level0 row159\" >159</th>\n",
       "                        <td id=\"T_2c5001f6_0d19_11eb_bb5d_0242ac130202row159_col0\" class=\"data row159 col0\" >Niger</td>\n",
       "                        <td id=\"T_2c5001f6_0d19_11eb_bb5d_0242ac130202row159_col1\" class=\"data row159 col1\" >1201</td>\n",
       "                        <td id=\"T_2c5001f6_0d19_11eb_bb5d_0242ac130202row159_col2\" class=\"data row159 col2\" >69</td>\n",
       "            </tr>\n",
       "            <tr>\n",
       "                        <th id=\"T_2c5001f6_0d19_11eb_bb5d_0242ac130202level0_row160\" class=\"row_heading level0 row160\" >160</th>\n",
       "                        <td id=\"T_2c5001f6_0d19_11eb_bb5d_0242ac130202row160_col0\" class=\"data row160 col0\" >Vietnam</td>\n",
       "                        <td id=\"T_2c5001f6_0d19_11eb_bb5d_0242ac130202row160_col1\" class=\"data row160 col1\" >1107</td>\n",
       "                        <td id=\"T_2c5001f6_0d19_11eb_bb5d_0242ac130202row160_col2\" class=\"data row160 col2\" >35</td>\n",
       "            </tr>\n",
       "            <tr>\n",
       "                        <th id=\"T_2c5001f6_0d19_11eb_bb5d_0242ac130202level0_row161\" class=\"row_heading level0 row161\" >161</th>\n",
       "                        <td id=\"T_2c5001f6_0d19_11eb_bb5d_0242ac130202row161_col0\" class=\"data row161 col0\" >Sao Tome and Principe</td>\n",
       "                        <td id=\"T_2c5001f6_0d19_11eb_bb5d_0242ac130202row161_col1\" class=\"data row161 col1\" >922</td>\n",
       "                        <td id=\"T_2c5001f6_0d19_11eb_bb5d_0242ac130202row161_col2\" class=\"data row161 col2\" >15</td>\n",
       "            </tr>\n",
       "            <tr>\n",
       "                        <th id=\"T_2c5001f6_0d19_11eb_bb5d_0242ac130202level0_row162\" class=\"row_heading level0 row162\" >162</th>\n",
       "                        <td id=\"T_2c5001f6_0d19_11eb_bb5d_0242ac130202row162_col0\" class=\"data row162 col0\" >Western Sahara</td>\n",
       "                        <td id=\"T_2c5001f6_0d19_11eb_bb5d_0242ac130202row162_col1\" class=\"data row162 col1\" >766</td>\n",
       "                        <td id=\"T_2c5001f6_0d19_11eb_bb5d_0242ac130202row162_col2\" class=\"data row162 col2\" >1</td>\n",
       "            </tr>\n",
       "            <tr>\n",
       "                        <th id=\"T_2c5001f6_0d19_11eb_bb5d_0242ac130202level0_row163\" class=\"row_heading level0 row163\" >163</th>\n",
       "                        <td id=\"T_2c5001f6_0d19_11eb_bb5d_0242ac130202row163_col0\" class=\"data row163 col0\" >San Marino</td>\n",
       "                        <td id=\"T_2c5001f6_0d19_11eb_bb5d_0242ac130202row163_col1\" class=\"data row163 col1\" >752</td>\n",
       "                        <td id=\"T_2c5001f6_0d19_11eb_bb5d_0242ac130202row163_col2\" class=\"data row163 col2\" >42</td>\n",
       "            </tr>\n",
       "            <tr>\n",
       "                        <th id=\"T_2c5001f6_0d19_11eb_bb5d_0242ac130202level0_row164\" class=\"row_heading level0 row164\" >164</th>\n",
       "                        <td id=\"T_2c5001f6_0d19_11eb_bb5d_0242ac130202row164_col0\" class=\"data row164 col0\" >Sint Maarten (Dutch part)</td>\n",
       "                        <td id=\"T_2c5001f6_0d19_11eb_bb5d_0242ac130202row164_col1\" class=\"data row164 col1\" >707</td>\n",
       "                        <td id=\"T_2c5001f6_0d19_11eb_bb5d_0242ac130202row164_col2\" class=\"data row164 col2\" >22</td>\n",
       "            </tr>\n",
       "            <tr>\n",
       "                        <th id=\"T_2c5001f6_0d19_11eb_bb5d_0242ac130202level0_row165\" class=\"row_heading level0 row165\" >165</th>\n",
       "                        <td id=\"T_2c5001f6_0d19_11eb_bb5d_0242ac130202row165_col0\" class=\"data row165 col0\" >Turks and Caicos Islands</td>\n",
       "                        <td id=\"T_2c5001f6_0d19_11eb_bb5d_0242ac130202row165_col1\" class=\"data row165 col1\" >695</td>\n",
       "                        <td id=\"T_2c5001f6_0d19_11eb_bb5d_0242ac130202row165_col2\" class=\"data row165 col2\" >6</td>\n",
       "            </tr>\n",
       "            <tr>\n",
       "                        <th id=\"T_2c5001f6_0d19_11eb_bb5d_0242ac130202level0_row166\" class=\"row_heading level0 row166\" >166</th>\n",
       "                        <td id=\"T_2c5001f6_0d19_11eb_bb5d_0242ac130202row166_col0\" class=\"data row166 col0\" >Curacao</td>\n",
       "                        <td id=\"T_2c5001f6_0d19_11eb_bb5d_0242ac130202row166_col1\" class=\"data row166 col1\" >571</td>\n",
       "                        <td id=\"T_2c5001f6_0d19_11eb_bb5d_0242ac130202row166_col2\" class=\"data row166 col2\" >1</td>\n",
       "            </tr>\n",
       "            <tr>\n",
       "                        <th id=\"T_2c5001f6_0d19_11eb_bb5d_0242ac130202level0_row167\" class=\"row_heading level0 row167\" >167</th>\n",
       "                        <td id=\"T_2c5001f6_0d19_11eb_bb5d_0242ac130202row167_col0\" class=\"data row167 col0\" >Papua New Guinea</td>\n",
       "                        <td id=\"T_2c5001f6_0d19_11eb_bb5d_0242ac130202row167_col1\" class=\"data row167 col1\" >549</td>\n",
       "                        <td id=\"T_2c5001f6_0d19_11eb_bb5d_0242ac130202row167_col2\" class=\"data row167 col2\" >7</td>\n",
       "            </tr>\n",
       "            <tr>\n",
       "                        <th id=\"T_2c5001f6_0d19_11eb_bb5d_0242ac130202level0_row168\" class=\"row_heading level0 row168\" >168</th>\n",
       "                        <td id=\"T_2c5001f6_0d19_11eb_bb5d_0242ac130202row168_col0\" class=\"data row168 col0\" >Taiwan</td>\n",
       "                        <td id=\"T_2c5001f6_0d19_11eb_bb5d_0242ac130202row168_col1\" class=\"data row168 col1\" >527</td>\n",
       "                        <td id=\"T_2c5001f6_0d19_11eb_bb5d_0242ac130202row168_col2\" class=\"data row168 col2\" >7</td>\n",
       "            </tr>\n",
       "            <tr>\n",
       "                        <th id=\"T_2c5001f6_0d19_11eb_bb5d_0242ac130202level0_row169\" class=\"row_heading level0 row169\" >169</th>\n",
       "                        <td id=\"T_2c5001f6_0d19_11eb_bb5d_0242ac130202row169_col0\" class=\"data row169 col0\" >Burundi</td>\n",
       "                        <td id=\"T_2c5001f6_0d19_11eb_bb5d_0242ac130202row169_col1\" class=\"data row169 col1\" >517</td>\n",
       "                        <td id=\"T_2c5001f6_0d19_11eb_bb5d_0242ac130202row169_col2\" class=\"data row169 col2\" >1</td>\n",
       "            </tr>\n",
       "            <tr>\n",
       "                        <th id=\"T_2c5001f6_0d19_11eb_bb5d_0242ac130202level0_row170\" class=\"row_heading level0 row170\" >170</th>\n",
       "                        <td id=\"T_2c5001f6_0d19_11eb_bb5d_0242ac130202row170_col0\" class=\"data row170 col0\" >Tanzania</td>\n",
       "                        <td id=\"T_2c5001f6_0d19_11eb_bb5d_0242ac130202row170_col1\" class=\"data row170 col1\" >509</td>\n",
       "                        <td id=\"T_2c5001f6_0d19_11eb_bb5d_0242ac130202row170_col2\" class=\"data row170 col2\" >21</td>\n",
       "            </tr>\n",
       "            <tr>\n",
       "                        <th id=\"T_2c5001f6_0d19_11eb_bb5d_0242ac130202level0_row171\" class=\"row_heading level0 row171\" >171</th>\n",
       "                        <td id=\"T_2c5001f6_0d19_11eb_bb5d_0242ac130202row171_col0\" class=\"data row171 col0\" >Comoros</td>\n",
       "                        <td id=\"T_2c5001f6_0d19_11eb_bb5d_0242ac130202row171_col1\" class=\"data row171 col1\" >495</td>\n",
       "                        <td id=\"T_2c5001f6_0d19_11eb_bb5d_0242ac130202row171_col2\" class=\"data row171 col2\" >7</td>\n",
       "            </tr>\n",
       "            <tr>\n",
       "                        <th id=\"T_2c5001f6_0d19_11eb_bb5d_0242ac130202level0_row172\" class=\"row_heading level0 row172\" >172</th>\n",
       "                        <td id=\"T_2c5001f6_0d19_11eb_bb5d_0242ac130202row172_col0\" class=\"data row172 col0\" >Faeroe Islands</td>\n",
       "                        <td id=\"T_2c5001f6_0d19_11eb_bb5d_0242ac130202row172_col1\" class=\"data row172 col1\" >477</td>\n",
       "                        <td id=\"T_2c5001f6_0d19_11eb_bb5d_0242ac130202row172_col2\" class=\"data row172 col2\" >0</td>\n",
       "            </tr>\n",
       "            <tr>\n",
       "                        <th id=\"T_2c5001f6_0d19_11eb_bb5d_0242ac130202level0_row173\" class=\"row_heading level0 row173\" >173</th>\n",
       "                        <td id=\"T_2c5001f6_0d19_11eb_bb5d_0242ac130202row173_col0\" class=\"data row173 col0\" >Gibraltar</td>\n",
       "                        <td id=\"T_2c5001f6_0d19_11eb_bb5d_0242ac130202row173_col1\" class=\"data row173 col1\" >476</td>\n",
       "                        <td id=\"T_2c5001f6_0d19_11eb_bb5d_0242ac130202row173_col2\" class=\"data row173 col2\" >0</td>\n",
       "            </tr>\n",
       "            <tr>\n",
       "                        <th id=\"T_2c5001f6_0d19_11eb_bb5d_0242ac130202level0_row174\" class=\"row_heading level0 row174\" >174</th>\n",
       "                        <td id=\"T_2c5001f6_0d19_11eb_bb5d_0242ac130202row174_col0\" class=\"data row174 col0\" >Jersey</td>\n",
       "                        <td id=\"T_2c5001f6_0d19_11eb_bb5d_0242ac130202row174_col1\" class=\"data row174 col1\" >449</td>\n",
       "                        <td id=\"T_2c5001f6_0d19_11eb_bb5d_0242ac130202row174_col2\" class=\"data row174 col2\" >32</td>\n",
       "            </tr>\n",
       "            <tr>\n",
       "                        <th id=\"T_2c5001f6_0d19_11eb_bb5d_0242ac130202level0_row175\" class=\"row_heading level0 row175\" >175</th>\n",
       "                        <td id=\"T_2c5001f6_0d19_11eb_bb5d_0242ac130202row175_col0\" class=\"data row175 col0\" >Eritrea</td>\n",
       "                        <td id=\"T_2c5001f6_0d19_11eb_bb5d_0242ac130202row175_col1\" class=\"data row175 col1\" >414</td>\n",
       "                        <td id=\"T_2c5001f6_0d19_11eb_bb5d_0242ac130202row175_col2\" class=\"data row175 col2\" >0</td>\n",
       "            </tr>\n",
       "            <tr>\n",
       "                        <th id=\"T_2c5001f6_0d19_11eb_bb5d_0242ac130202level0_row176\" class=\"row_heading level0 row176\" >176</th>\n",
       "                        <td id=\"T_2c5001f6_0d19_11eb_bb5d_0242ac130202row176_col0\" class=\"data row176 col0\" >Mauritius</td>\n",
       "                        <td id=\"T_2c5001f6_0d19_11eb_bb5d_0242ac130202row176_col1\" class=\"data row176 col1\" >395</td>\n",
       "                        <td id=\"T_2c5001f6_0d19_11eb_bb5d_0242ac130202row176_col2\" class=\"data row176 col2\" >10</td>\n",
       "            </tr>\n",
       "            <tr>\n",
       "                        <th id=\"T_2c5001f6_0d19_11eb_bb5d_0242ac130202level0_row177\" class=\"row_heading level0 row177\" >177</th>\n",
       "                        <td id=\"T_2c5001f6_0d19_11eb_bb5d_0242ac130202row177_col0\" class=\"data row177 col0\" >Isle of Man</td>\n",
       "                        <td id=\"T_2c5001f6_0d19_11eb_bb5d_0242ac130202row177_col1\" class=\"data row177 col1\" >345</td>\n",
       "                        <td id=\"T_2c5001f6_0d19_11eb_bb5d_0242ac130202row177_col2\" class=\"data row177 col2\" >24</td>\n",
       "            </tr>\n",
       "            <tr>\n",
       "                        <th id=\"T_2c5001f6_0d19_11eb_bb5d_0242ac130202level0_row178\" class=\"row_heading level0 row178\" >178</th>\n",
       "                        <td id=\"T_2c5001f6_0d19_11eb_bb5d_0242ac130202row178_col0\" class=\"data row178 col0\" >Mongolia</td>\n",
       "                        <td id=\"T_2c5001f6_0d19_11eb_bb5d_0242ac130202row178_col1\" class=\"data row178 col1\" >316</td>\n",
       "                        <td id=\"T_2c5001f6_0d19_11eb_bb5d_0242ac130202row178_col2\" class=\"data row178 col2\" >0</td>\n",
       "            </tr>\n",
       "            <tr>\n",
       "                        <th id=\"T_2c5001f6_0d19_11eb_bb5d_0242ac130202level0_row179\" class=\"row_heading level0 row179\" >179</th>\n",
       "                        <td id=\"T_2c5001f6_0d19_11eb_bb5d_0242ac130202row179_col0\" class=\"data row179 col0\" >Bhutan</td>\n",
       "                        <td id=\"T_2c5001f6_0d19_11eb_bb5d_0242ac130202row179_col1\" class=\"data row179 col1\" >306</td>\n",
       "                        <td id=\"T_2c5001f6_0d19_11eb_bb5d_0242ac130202row179_col2\" class=\"data row179 col2\" >0</td>\n",
       "            </tr>\n",
       "            <tr>\n",
       "                        <th id=\"T_2c5001f6_0d19_11eb_bb5d_0242ac130202level0_row180\" class=\"row_heading level0 row180\" >180</th>\n",
       "                        <td id=\"T_2c5001f6_0d19_11eb_bb5d_0242ac130202row180_col0\" class=\"data row180 col0\" >Cambodia</td>\n",
       "                        <td id=\"T_2c5001f6_0d19_11eb_bb5d_0242ac130202row180_col1\" class=\"data row180 col1\" >283</td>\n",
       "                        <td id=\"T_2c5001f6_0d19_11eb_bb5d_0242ac130202row180_col2\" class=\"data row180 col2\" >0</td>\n",
       "            </tr>\n",
       "            <tr>\n",
       "                        <th id=\"T_2c5001f6_0d19_11eb_bb5d_0242ac130202level0_row181\" class=\"row_heading level0 row181\" >181</th>\n",
       "                        <td id=\"T_2c5001f6_0d19_11eb_bb5d_0242ac130202row181_col0\" class=\"data row181 col0\" >Guernsey</td>\n",
       "                        <td id=\"T_2c5001f6_0d19_11eb_bb5d_0242ac130202row181_col1\" class=\"data row181 col1\" >258</td>\n",
       "                        <td id=\"T_2c5001f6_0d19_11eb_bb5d_0242ac130202row181_col2\" class=\"data row181 col2\" >13</td>\n",
       "            </tr>\n",
       "            <tr>\n",
       "                        <th id=\"T_2c5001f6_0d19_11eb_bb5d_0242ac130202level0_row182\" class=\"row_heading level0 row182\" >182</th>\n",
       "                        <td id=\"T_2c5001f6_0d19_11eb_bb5d_0242ac130202row182_col0\" class=\"data row182 col0\" >Monaco</td>\n",
       "                        <td id=\"T_2c5001f6_0d19_11eb_bb5d_0242ac130202row182_col1\" class=\"data row182 col1\" >233</td>\n",
       "                        <td id=\"T_2c5001f6_0d19_11eb_bb5d_0242ac130202row182_col2\" class=\"data row182 col2\" >1</td>\n",
       "            </tr>\n",
       "            <tr>\n",
       "                        <th id=\"T_2c5001f6_0d19_11eb_bb5d_0242ac130202level0_row183\" class=\"row_heading level0 row183\" >183</th>\n",
       "                        <td id=\"T_2c5001f6_0d19_11eb_bb5d_0242ac130202row183_col0\" class=\"data row183 col0\" >Cayman Islands</td>\n",
       "                        <td id=\"T_2c5001f6_0d19_11eb_bb5d_0242ac130202row183_col1\" class=\"data row183 col1\" >221</td>\n",
       "                        <td id=\"T_2c5001f6_0d19_11eb_bb5d_0242ac130202row183_col2\" class=\"data row183 col2\" >1</td>\n",
       "            </tr>\n",
       "            <tr>\n",
       "                        <th id=\"T_2c5001f6_0d19_11eb_bb5d_0242ac130202level0_row184\" class=\"row_heading level0 row184\" >184</th>\n",
       "                        <td id=\"T_2c5001f6_0d19_11eb_bb5d_0242ac130202row184_col0\" class=\"data row184 col0\" >Barbados</td>\n",
       "                        <td id=\"T_2c5001f6_0d19_11eb_bb5d_0242ac130202row184_col1\" class=\"data row184 col1\" >206</td>\n",
       "                        <td id=\"T_2c5001f6_0d19_11eb_bb5d_0242ac130202row184_col2\" class=\"data row184 col2\" >7</td>\n",
       "            </tr>\n",
       "            <tr>\n",
       "                        <th id=\"T_2c5001f6_0d19_11eb_bb5d_0242ac130202level0_row185\" class=\"row_heading level0 row185\" >185</th>\n",
       "                        <td id=\"T_2c5001f6_0d19_11eb_bb5d_0242ac130202row185_col0\" class=\"data row185 col0\" >Bermuda</td>\n",
       "                        <td id=\"T_2c5001f6_0d19_11eb_bb5d_0242ac130202row185_col1\" class=\"data row185 col1\" >184</td>\n",
       "                        <td id=\"T_2c5001f6_0d19_11eb_bb5d_0242ac130202row185_col2\" class=\"data row185 col2\" >9</td>\n",
       "            </tr>\n",
       "            <tr>\n",
       "                        <th id=\"T_2c5001f6_0d19_11eb_bb5d_0242ac130202level0_row186\" class=\"row_heading level0 row186\" >186</th>\n",
       "                        <td id=\"T_2c5001f6_0d19_11eb_bb5d_0242ac130202row186_col0\" class=\"data row186 col0\" >Seychelles</td>\n",
       "                        <td id=\"T_2c5001f6_0d19_11eb_bb5d_0242ac130202row186_col1\" class=\"data row186 col1\" >148</td>\n",
       "                        <td id=\"T_2c5001f6_0d19_11eb_bb5d_0242ac130202row186_col2\" class=\"data row186 col2\" >0</td>\n",
       "            </tr>\n",
       "            <tr>\n",
       "                        <th id=\"T_2c5001f6_0d19_11eb_bb5d_0242ac130202level0_row187\" class=\"row_heading level0 row187\" >187</th>\n",
       "                        <td id=\"T_2c5001f6_0d19_11eb_bb5d_0242ac130202row187_col0\" class=\"data row187 col0\" >Bonaire Sint Eustatius and Saba</td>\n",
       "                        <td id=\"T_2c5001f6_0d19_11eb_bb5d_0242ac130202row187_col1\" class=\"data row187 col1\" >147</td>\n",
       "                        <td id=\"T_2c5001f6_0d19_11eb_bb5d_0242ac130202row187_col2\" class=\"data row187 col2\" >2</td>\n",
       "            </tr>\n",
       "            <tr>\n",
       "                        <th id=\"T_2c5001f6_0d19_11eb_bb5d_0242ac130202level0_row188\" class=\"row_heading level0 row188\" >188</th>\n",
       "                        <td id=\"T_2c5001f6_0d19_11eb_bb5d_0242ac130202row188_col0\" class=\"data row188 col0\" >Brunei</td>\n",
       "                        <td id=\"T_2c5001f6_0d19_11eb_bb5d_0242ac130202row188_col1\" class=\"data row188 col1\" >146</td>\n",
       "                        <td id=\"T_2c5001f6_0d19_11eb_bb5d_0242ac130202row188_col2\" class=\"data row188 col2\" >3</td>\n",
       "            </tr>\n",
       "            <tr>\n",
       "                        <th id=\"T_2c5001f6_0d19_11eb_bb5d_0242ac130202level0_row189\" class=\"row_heading level0 row189\" >189</th>\n",
       "                        <td id=\"T_2c5001f6_0d19_11eb_bb5d_0242ac130202row189_col0\" class=\"data row189 col0\" >Liechtenstein</td>\n",
       "                        <td id=\"T_2c5001f6_0d19_11eb_bb5d_0242ac130202row189_col1\" class=\"data row189 col1\" >138</td>\n",
       "                        <td id=\"T_2c5001f6_0d19_11eb_bb5d_0242ac130202row189_col2\" class=\"data row189 col2\" >1</td>\n",
       "            </tr>\n",
       "            <tr>\n",
       "                        <th id=\"T_2c5001f6_0d19_11eb_bb5d_0242ac130202level0_row190\" class=\"row_heading level0 row190\" >190</th>\n",
       "                        <td id=\"T_2c5001f6_0d19_11eb_bb5d_0242ac130202row190_col0\" class=\"data row190 col0\" >Antigua and Barbuda</td>\n",
       "                        <td id=\"T_2c5001f6_0d19_11eb_bb5d_0242ac130202row190_col1\" class=\"data row190 col1\" >111</td>\n",
       "                        <td id=\"T_2c5001f6_0d19_11eb_bb5d_0242ac130202row190_col2\" class=\"data row190 col2\" >3</td>\n",
       "            </tr>\n",
       "            <tr>\n",
       "                        <th id=\"T_2c5001f6_0d19_11eb_bb5d_0242ac130202level0_row191\" class=\"row_heading level0 row191\" >191</th>\n",
       "                        <td id=\"T_2c5001f6_0d19_11eb_bb5d_0242ac130202row191_col0\" class=\"data row191 col0\" >Northern Mariana Islands</td>\n",
       "                        <td id=\"T_2c5001f6_0d19_11eb_bb5d_0242ac130202row191_col1\" class=\"data row191 col1\" >77</td>\n",
       "                        <td id=\"T_2c5001f6_0d19_11eb_bb5d_0242ac130202row191_col2\" class=\"data row191 col2\" >2</td>\n",
       "            </tr>\n",
       "            <tr>\n",
       "                        <th id=\"T_2c5001f6_0d19_11eb_bb5d_0242ac130202level0_row192\" class=\"row_heading level0 row192\" >192</th>\n",
       "                        <td id=\"T_2c5001f6_0d19_11eb_bb5d_0242ac130202row192_col0\" class=\"data row192 col0\" >British Virgin Islands</td>\n",
       "                        <td id=\"T_2c5001f6_0d19_11eb_bb5d_0242ac130202row192_col1\" class=\"data row192 col1\" >71</td>\n",
       "                        <td id=\"T_2c5001f6_0d19_11eb_bb5d_0242ac130202row192_col2\" class=\"data row192 col2\" >1</td>\n",
       "            </tr>\n",
       "            <tr>\n",
       "                        <th id=\"T_2c5001f6_0d19_11eb_bb5d_0242ac130202level0_row193\" class=\"row_heading level0 row193\" >193</th>\n",
       "                        <td id=\"T_2c5001f6_0d19_11eb_bb5d_0242ac130202row193_col0\" class=\"data row193 col0\" >Saint Vincent and the Grenadines</td>\n",
       "                        <td id=\"T_2c5001f6_0d19_11eb_bb5d_0242ac130202row193_col1\" class=\"data row193 col1\" >64</td>\n",
       "                        <td id=\"T_2c5001f6_0d19_11eb_bb5d_0242ac130202row193_col2\" class=\"data row193 col2\" >0</td>\n",
       "            </tr>\n",
       "            <tr>\n",
       "                        <th id=\"T_2c5001f6_0d19_11eb_bb5d_0242ac130202level0_row194\" class=\"row_heading level0 row194\" >194</th>\n",
       "                        <td id=\"T_2c5001f6_0d19_11eb_bb5d_0242ac130202row194_col0\" class=\"data row194 col0\" >Dominica</td>\n",
       "                        <td id=\"T_2c5001f6_0d19_11eb_bb5d_0242ac130202row194_col1\" class=\"data row194 col1\" >32</td>\n",
       "                        <td id=\"T_2c5001f6_0d19_11eb_bb5d_0242ac130202row194_col2\" class=\"data row194 col2\" >0</td>\n",
       "            </tr>\n",
       "            <tr>\n",
       "                        <th id=\"T_2c5001f6_0d19_11eb_bb5d_0242ac130202level0_row195\" class=\"row_heading level0 row195\" >195</th>\n",
       "                        <td id=\"T_2c5001f6_0d19_11eb_bb5d_0242ac130202row195_col0\" class=\"data row195 col0\" >Fiji</td>\n",
       "                        <td id=\"T_2c5001f6_0d19_11eb_bb5d_0242ac130202row195_col1\" class=\"data row195 col1\" >32</td>\n",
       "                        <td id=\"T_2c5001f6_0d19_11eb_bb5d_0242ac130202row195_col2\" class=\"data row195 col2\" >2</td>\n",
       "            </tr>\n",
       "            <tr>\n",
       "                        <th id=\"T_2c5001f6_0d19_11eb_bb5d_0242ac130202level0_row196\" class=\"row_heading level0 row196\" >196</th>\n",
       "                        <td id=\"T_2c5001f6_0d19_11eb_bb5d_0242ac130202row196_col0\" class=\"data row196 col0\" >Saint Lucia</td>\n",
       "                        <td id=\"T_2c5001f6_0d19_11eb_bb5d_0242ac130202row196_col1\" class=\"data row196 col1\" >29</td>\n",
       "                        <td id=\"T_2c5001f6_0d19_11eb_bb5d_0242ac130202row196_col2\" class=\"data row196 col2\" >0</td>\n",
       "            </tr>\n",
       "            <tr>\n",
       "                        <th id=\"T_2c5001f6_0d19_11eb_bb5d_0242ac130202level0_row197\" class=\"row_heading level0 row197\" >197</th>\n",
       "                        <td id=\"T_2c5001f6_0d19_11eb_bb5d_0242ac130202row197_col0\" class=\"data row197 col0\" >Timor</td>\n",
       "                        <td id=\"T_2c5001f6_0d19_11eb_bb5d_0242ac130202row197_col1\" class=\"data row197 col1\" >28</td>\n",
       "                        <td id=\"T_2c5001f6_0d19_11eb_bb5d_0242ac130202row197_col2\" class=\"data row197 col2\" >0</td>\n",
       "            </tr>\n",
       "            <tr>\n",
       "                        <th id=\"T_2c5001f6_0d19_11eb_bb5d_0242ac130202level0_row198\" class=\"row_heading level0 row198\" >198</th>\n",
       "                        <td id=\"T_2c5001f6_0d19_11eb_bb5d_0242ac130202row198_col0\" class=\"data row198 col0\" >New Caledonia</td>\n",
       "                        <td id=\"T_2c5001f6_0d19_11eb_bb5d_0242ac130202row198_col1\" class=\"data row198 col1\" >27</td>\n",
       "                        <td id=\"T_2c5001f6_0d19_11eb_bb5d_0242ac130202row198_col2\" class=\"data row198 col2\" >0</td>\n",
       "            </tr>\n",
       "            <tr>\n",
       "                        <th id=\"T_2c5001f6_0d19_11eb_bb5d_0242ac130202level0_row199\" class=\"row_heading level0 row199\" >199</th>\n",
       "                        <td id=\"T_2c5001f6_0d19_11eb_bb5d_0242ac130202row199_col0\" class=\"data row199 col0\" >Grenada</td>\n",
       "                        <td id=\"T_2c5001f6_0d19_11eb_bb5d_0242ac130202row199_col1\" class=\"data row199 col1\" >24</td>\n",
       "                        <td id=\"T_2c5001f6_0d19_11eb_bb5d_0242ac130202row199_col2\" class=\"data row199 col2\" >0</td>\n",
       "            </tr>\n",
       "            <tr>\n",
       "                        <th id=\"T_2c5001f6_0d19_11eb_bb5d_0242ac130202level0_row200\" class=\"row_heading level0 row200\" >200</th>\n",
       "                        <td id=\"T_2c5001f6_0d19_11eb_bb5d_0242ac130202row200_col0\" class=\"data row200 col0\" >Laos</td>\n",
       "                        <td id=\"T_2c5001f6_0d19_11eb_bb5d_0242ac130202row200_col1\" class=\"data row200 col1\" >23</td>\n",
       "                        <td id=\"T_2c5001f6_0d19_11eb_bb5d_0242ac130202row200_col2\" class=\"data row200 col2\" >0</td>\n",
       "            </tr>\n",
       "            <tr>\n",
       "                        <th id=\"T_2c5001f6_0d19_11eb_bb5d_0242ac130202level0_row201\" class=\"row_heading level0 row201\" >201</th>\n",
       "                        <td id=\"T_2c5001f6_0d19_11eb_bb5d_0242ac130202row201_col0\" class=\"data row201 col0\" >Saint Kitts and Nevis</td>\n",
       "                        <td id=\"T_2c5001f6_0d19_11eb_bb5d_0242ac130202row201_col1\" class=\"data row201 col1\" >19</td>\n",
       "                        <td id=\"T_2c5001f6_0d19_11eb_bb5d_0242ac130202row201_col2\" class=\"data row201 col2\" >0</td>\n",
       "            </tr>\n",
       "            <tr>\n",
       "                        <th id=\"T_2c5001f6_0d19_11eb_bb5d_0242ac130202level0_row202\" class=\"row_heading level0 row202\" >202</th>\n",
       "                        <td id=\"T_2c5001f6_0d19_11eb_bb5d_0242ac130202row202_col0\" class=\"data row202 col0\" >Greenland</td>\n",
       "                        <td id=\"T_2c5001f6_0d19_11eb_bb5d_0242ac130202row202_col1\" class=\"data row202 col1\" >16</td>\n",
       "                        <td id=\"T_2c5001f6_0d19_11eb_bb5d_0242ac130202row202_col2\" class=\"data row202 col2\" >0</td>\n",
       "            </tr>\n",
       "            <tr>\n",
       "                        <th id=\"T_2c5001f6_0d19_11eb_bb5d_0242ac130202level0_row203\" class=\"row_heading level0 row203\" >203</th>\n",
       "                        <td id=\"T_2c5001f6_0d19_11eb_bb5d_0242ac130202row203_col0\" class=\"data row203 col0\" >Falkland Islands</td>\n",
       "                        <td id=\"T_2c5001f6_0d19_11eb_bb5d_0242ac130202row203_col1\" class=\"data row203 col1\" >13</td>\n",
       "                        <td id=\"T_2c5001f6_0d19_11eb_bb5d_0242ac130202row203_col2\" class=\"data row203 col2\" >0</td>\n",
       "            </tr>\n",
       "            <tr>\n",
       "                        <th id=\"T_2c5001f6_0d19_11eb_bb5d_0242ac130202level0_row204\" class=\"row_heading level0 row204\" >204</th>\n",
       "                        <td id=\"T_2c5001f6_0d19_11eb_bb5d_0242ac130202row204_col0\" class=\"data row204 col0\" >Montserrat</td>\n",
       "                        <td id=\"T_2c5001f6_0d19_11eb_bb5d_0242ac130202row204_col1\" class=\"data row204 col1\" >13</td>\n",
       "                        <td id=\"T_2c5001f6_0d19_11eb_bb5d_0242ac130202row204_col2\" class=\"data row204 col2\" >1</td>\n",
       "            </tr>\n",
       "            <tr>\n",
       "                        <th id=\"T_2c5001f6_0d19_11eb_bb5d_0242ac130202level0_row205\" class=\"row_heading level0 row205\" >205</th>\n",
       "                        <td id=\"T_2c5001f6_0d19_11eb_bb5d_0242ac130202row205_col0\" class=\"data row205 col0\" >Vatican</td>\n",
       "                        <td id=\"T_2c5001f6_0d19_11eb_bb5d_0242ac130202row205_col1\" class=\"data row205 col1\" >12</td>\n",
       "                        <td id=\"T_2c5001f6_0d19_11eb_bb5d_0242ac130202row205_col2\" class=\"data row205 col2\" >0</td>\n",
       "            </tr>\n",
       "            <tr>\n",
       "                        <th id=\"T_2c5001f6_0d19_11eb_bb5d_0242ac130202level0_row206\" class=\"row_heading level0 row206\" >206</th>\n",
       "                        <td id=\"T_2c5001f6_0d19_11eb_bb5d_0242ac130202row206_col0\" class=\"data row206 col0\" >Anguilla</td>\n",
       "                        <td id=\"T_2c5001f6_0d19_11eb_bb5d_0242ac130202row206_col1\" class=\"data row206 col1\" >3</td>\n",
       "                        <td id=\"T_2c5001f6_0d19_11eb_bb5d_0242ac130202row206_col2\" class=\"data row206 col2\" >0</td>\n",
       "            </tr>\n",
       "    </tbody></table>"
      ],
      "text/plain": [
       "<pandas.io.formats.style.Styler at 0x7f7e3ac9c710>"
      ]
     },
     "execution_count": 5,
     "metadata": {},
     "output_type": "execute_result"
    }
   ],
   "source": [
    "# Extracting required features and processing time\n",
    "\n",
    "full_data_total = full_data[['date','location','total_cases', 'total_deaths']]\n",
    "\n",
    "latest_time = pd.to_datetime('2020-10-11 00:00:00')\n",
    "\n",
    "def return_nepal(date):\n",
    "    if(date == latest_time):\n",
    "        return True\n",
    "    else:\n",
    "        return False\n",
    "    \n",
    "def return_noworld(location):\n",
    "    if(location!='World'):\n",
    "        return True\n",
    "    else:\n",
    "        return False\n",
    "    \n",
    "full_data_total = full_data_total[full_data_total['date'].apply(return_nepal)]\n",
    "full_data_total = full_data_total[full_data_total['location'].apply(return_noworld)]\n",
    "\n",
    "full_data_total_table = full_data_total[['location','total_cases', 'total_deaths']]\n",
    "full_data_total_table = full_data_total_table.sort_values('total_cases', ascending=False)\n",
    "\n",
    "full_data_total_table = full_data_total_table.reset_index(drop=True)\n",
    "full_data_total_table.style.background_gradient(cmap='Oranges')"
   ]
  },
  {
   "cell_type": "code",
   "execution_count": 6,
   "metadata": {
    "_kg_hide-input": true
   },
   "outputs": [
    {
     "data": {
      "application/vnd.plotly.v1+json": {
       "config": {
        "plotlyServerURL": "https://plot.ly"
       },
       "data": [
        {
         "domain": {
          "x": [
           0,
           0.45
          ],
          "y": [
           0,
           1
          ]
         },
         "hole": 0.4,
         "hoverinfo": "label+percent+name",
         "labels": [
          "Afghanistan",
          "Albania",
          "Algeria",
          "Andorra",
          "Angola",
          "Anguilla",
          "Antigua and Barbuda",
          "Argentina",
          "Armenia",
          "Aruba",
          "Australia",
          "Austria",
          "Azerbaijan",
          "Bahamas",
          "Bahrain",
          "Bangladesh",
          "Barbados",
          "Belarus",
          "Belgium",
          "Belize",
          "Benin",
          "Bermuda",
          "Bhutan",
          "Bolivia",
          "Bonaire Sint Eustatius and Saba",
          "Bosnia and Herzegovina",
          "Botswana",
          "Brazil",
          "British Virgin Islands",
          "Brunei",
          "Bulgaria",
          "Burkina Faso",
          "Burundi",
          "Cambodia",
          "Cameroon",
          "Canada",
          "Cape Verde",
          "Cayman Islands",
          "Central African Republic",
          "Chad",
          "Chile",
          "China",
          "Colombia",
          "Comoros",
          "Congo",
          "Costa Rica",
          "Cote d'Ivoire",
          "Croatia",
          "Cuba",
          "Curacao",
          "Cyprus",
          "Czech Republic",
          "Democratic Republic of Congo",
          "Denmark",
          "Djibouti",
          "Dominica",
          "Dominican Republic",
          "Ecuador",
          "Egypt",
          "El Salvador",
          "Equatorial Guinea",
          "Eritrea",
          "Estonia",
          "Ethiopia",
          "Faeroe Islands",
          "Falkland Islands",
          "Fiji",
          "Finland",
          "France",
          "French Polynesia",
          "Gabon",
          "Gambia",
          "Georgia",
          "Germany",
          "Ghana",
          "Gibraltar",
          "Greece",
          "Greenland",
          "Grenada",
          "Guam",
          "Guatemala",
          "Guernsey",
          "Guinea",
          "Guinea-Bissau",
          "Guyana",
          "Haiti",
          "Honduras",
          "Hungary",
          "Iceland",
          "India",
          "Indonesia",
          "Iran",
          "Iraq",
          "Ireland",
          "Isle of Man",
          "Israel",
          "Italy",
          "Jamaica",
          "Japan",
          "Jersey",
          "Jordan",
          "Kazakhstan",
          "Kenya",
          "Kosovo",
          "Kuwait",
          "Kyrgyzstan",
          "Laos",
          "Latvia",
          "Lebanon",
          "Lesotho",
          "Liberia",
          "Libya",
          "Liechtenstein",
          "Lithuania",
          "Luxembourg",
          "Macedonia",
          "Madagascar",
          "Malawi",
          "Malaysia",
          "Maldives",
          "Mali",
          "Malta",
          "Mauritania",
          "Mauritius",
          "Mexico",
          "Moldova",
          "Monaco",
          "Mongolia",
          "Montenegro",
          "Montserrat",
          "Morocco",
          "Mozambique",
          "Myanmar",
          "Namibia",
          "Nepal",
          "Netherlands",
          "New Caledonia",
          "New Zealand",
          "Nicaragua",
          "Niger",
          "Nigeria",
          "Northern Mariana Islands",
          "Norway",
          "Oman",
          "Pakistan",
          "Palestine",
          "Panama",
          "Papua New Guinea",
          "Paraguay",
          "Peru",
          "Philippines",
          "Poland",
          "Portugal",
          "Puerto Rico",
          "Qatar",
          "Romania",
          "Russia",
          "Rwanda",
          "Saint Kitts and Nevis",
          "Saint Lucia",
          "Saint Vincent and the Grenadines",
          "San Marino",
          "Sao Tome and Principe",
          "Saudi Arabia",
          "Senegal",
          "Serbia",
          "Seychelles",
          "Sierra Leone",
          "Singapore",
          "Sint Maarten (Dutch part)",
          "Slovakia",
          "Slovenia",
          "Somalia",
          "South Africa",
          "South Korea",
          "South Sudan",
          "Sri Lanka",
          "Sudan",
          "Suriname",
          "Swaziland",
          "Switzerland",
          "Syria",
          "Taiwan",
          "Tajikistan",
          "Tanzania",
          "Thailand",
          "Timor",
          "Togo",
          "Trinidad and Tobago",
          "Tunisia",
          "Turkey",
          "Turks and Caicos Islands",
          "Uganda",
          "Ukraine",
          "United Arab Emirates",
          "United Kingdom",
          "United States",
          "United States Virgin Islands",
          "Uruguay",
          "Uzbekistan",
          "Vatican",
          "Venezuela",
          "Vietnam",
          "Western Sahara",
          "Yemen",
          "Zambia",
          "Zimbabwe"
         ],
         "name": "Total Cases",
         "textposition": "inside",
         "type": "pie",
         "values": [
          39703,
          15231,
          52940,
          2696,
          6031,
          3,
          111,
          883883,
          55736,
          4188,
          27244,
          54685,
          41752,
          5023,
          75287,
          377073,
          206,
          82471,
          156838,
          2427,
          2411,
          184,
          306,
          138463,
          147,
          29917,
          4520,
          5082637,
          71,
          146,
          23871,
          2271,
          517,
          283,
          21203,
          178117,
          6913,
          221,
          4854,
          1291,
          479595,
          90778,
          902747,
          495,
          5118,
          87439,
          20128,
          19932,
          5948,
          571,
          1986,
          109374,
          10840,
          32082,
          5423,
          32,
          118014,
          146828,
          104387,
          29951,
          5063,
          414,
          3846,
          83429,
          477,
          13,
          32,
          11580,
          718873,
          2692,
          8835,
          3628,
          11271,
          322864,
          47005,
          476,
          22078,
          16,
          24,
          3078,
          97544,
          258,
          10996,
          2362,
          3405,
          8860,
          83146,
          36596,
          3460,
          7053806,
          328952,
          496253,
          400124,
          41714,
          345,
          290003,
          349494,
          7559,
          88912,
          449,
          23998,
          143632,
          41158,
          16007,
          110568,
          48924,
          23,
          2596,
          52558,
          1800,
          1363,
          41686,
          138,
          5963,
          9360,
          20555,
          16702,
          5821,
          15096,
          10859,
          3273,
          3681,
          7523,
          395,
          814328,
          61762,
          233,
          316,
          13641,
          13,
          146398,
          9844,
          26064,
          11891,
          105684,
          168082,
          27,
          1515,
          5264,
          1201,
          60103,
          77,
          15221,
          104129,
          318932,
          55134,
          119666,
          549,
          48978,
          846088,
          336926,
          121638,
          85574,
          53364,
          127778,
          152403,
          1285084,
          4892,
          19,
          29,
          64,
          752,
          922,
          338944,
          15244,
          34685,
          148,
          2300,
          57866,
          707,
          18797,
          8254,
          3847,
          690896,
          24606,
          2761,
          4628,
          13670,
          5035,
          5660,
          60230,
          4673,
          527,
          10180,
          509,
          3634,
          28,
          1935,
          5043,
          31259,
          334031,
          695,
          9701,
          256266,
          105133,
          590844,
          7718947,
          1327,
          2268,
          60894,
          12,
          82453,
          1107,
          766,
          2055,
          15339,
          8010
         ]
        },
        {
         "domain": {
          "x": [
           0.55,
           1
          ],
          "y": [
           0,
           1
          ]
         },
         "hole": 0.4,
         "hoverinfo": "label+percent+name",
         "labels": [
          "Afghanistan",
          "Albania",
          "Algeria",
          "Andorra",
          "Angola",
          "Anguilla",
          "Antigua and Barbuda",
          "Argentina",
          "Armenia",
          "Aruba",
          "Australia",
          "Austria",
          "Azerbaijan",
          "Bahamas",
          "Bahrain",
          "Bangladesh",
          "Barbados",
          "Belarus",
          "Belgium",
          "Belize",
          "Benin",
          "Bermuda",
          "Bhutan",
          "Bolivia",
          "Bonaire Sint Eustatius and Saba",
          "Bosnia and Herzegovina",
          "Botswana",
          "Brazil",
          "British Virgin Islands",
          "Brunei",
          "Bulgaria",
          "Burkina Faso",
          "Burundi",
          "Cambodia",
          "Cameroon",
          "Canada",
          "Cape Verde",
          "Cayman Islands",
          "Central African Republic",
          "Chad",
          "Chile",
          "China",
          "Colombia",
          "Comoros",
          "Congo",
          "Costa Rica",
          "Cote d'Ivoire",
          "Croatia",
          "Cuba",
          "Curacao",
          "Cyprus",
          "Czech Republic",
          "Democratic Republic of Congo",
          "Denmark",
          "Djibouti",
          "Dominica",
          "Dominican Republic",
          "Ecuador",
          "Egypt",
          "El Salvador",
          "Equatorial Guinea",
          "Eritrea",
          "Estonia",
          "Ethiopia",
          "Faeroe Islands",
          "Falkland Islands",
          "Fiji",
          "Finland",
          "France",
          "French Polynesia",
          "Gabon",
          "Gambia",
          "Georgia",
          "Germany",
          "Ghana",
          "Gibraltar",
          "Greece",
          "Greenland",
          "Grenada",
          "Guam",
          "Guatemala",
          "Guernsey",
          "Guinea",
          "Guinea-Bissau",
          "Guyana",
          "Haiti",
          "Honduras",
          "Hungary",
          "Iceland",
          "India",
          "Indonesia",
          "Iran",
          "Iraq",
          "Ireland",
          "Isle of Man",
          "Israel",
          "Italy",
          "Jamaica",
          "Japan",
          "Jersey",
          "Jordan",
          "Kazakhstan",
          "Kenya",
          "Kosovo",
          "Kuwait",
          "Kyrgyzstan",
          "Laos",
          "Latvia",
          "Lebanon",
          "Lesotho",
          "Liberia",
          "Libya",
          "Liechtenstein",
          "Lithuania",
          "Luxembourg",
          "Macedonia",
          "Madagascar",
          "Malawi",
          "Malaysia",
          "Maldives",
          "Mali",
          "Malta",
          "Mauritania",
          "Mauritius",
          "Mexico",
          "Moldova",
          "Monaco",
          "Mongolia",
          "Montenegro",
          "Montserrat",
          "Morocco",
          "Mozambique",
          "Myanmar",
          "Namibia",
          "Nepal",
          "Netherlands",
          "New Caledonia",
          "New Zealand",
          "Nicaragua",
          "Niger",
          "Nigeria",
          "Northern Mariana Islands",
          "Norway",
          "Oman",
          "Pakistan",
          "Palestine",
          "Panama",
          "Papua New Guinea",
          "Paraguay",
          "Peru",
          "Philippines",
          "Poland",
          "Portugal",
          "Puerto Rico",
          "Qatar",
          "Romania",
          "Russia",
          "Rwanda",
          "Saint Kitts and Nevis",
          "Saint Lucia",
          "Saint Vincent and the Grenadines",
          "San Marino",
          "Sao Tome and Principe",
          "Saudi Arabia",
          "Senegal",
          "Serbia",
          "Seychelles",
          "Sierra Leone",
          "Singapore",
          "Sint Maarten (Dutch part)",
          "Slovakia",
          "Slovenia",
          "Somalia",
          "South Africa",
          "South Korea",
          "South Sudan",
          "Sri Lanka",
          "Sudan",
          "Suriname",
          "Swaziland",
          "Switzerland",
          "Syria",
          "Taiwan",
          "Tajikistan",
          "Tanzania",
          "Thailand",
          "Timor",
          "Togo",
          "Trinidad and Tobago",
          "Tunisia",
          "Turkey",
          "Turks and Caicos Islands",
          "Uganda",
          "Ukraine",
          "United Arab Emirates",
          "United Kingdom",
          "United States",
          "United States Virgin Islands",
          "Uruguay",
          "Uzbekistan",
          "Vatican",
          "Venezuela",
          "Vietnam",
          "Western Sahara",
          "Yemen",
          "Zambia",
          "Zimbabwe"
         ],
         "name": "Total Deaths",
         "textposition": "inside",
         "type": "pie",
         "values": [
          1473,
          416,
          1795,
          55,
          212,
          0,
          3,
          23581,
          1016,
          32,
          897,
          858,
          608,
          106,
          273,
          5500,
          7,
          885,
          10175,
          35,
          41,
          9,
          0,
          8292,
          2,
          926,
          18,
          150198,
          1,
          3,
          887,
          61,
          1,
          0,
          423,
          9585,
          74,
          1,
          62,
          92,
          13272,
          4739,
          27660,
          7,
          90,
          1076,
          120,
          317,
          123,
          1,
          25,
          905,
          275,
          667,
          61,
          0,
          2167,
          12188,
          6040,
          887,
          83,
          0,
          68,
          1277,
          0,
          0,
          2,
          346,
          32684,
          10,
          54,
          117,
          78,
          9615,
          306,
          0,
          436,
          0,
          0,
          60,
          3365,
          13,
          69,
          39,
          102,
          230,
          2504,
          933,
          10,
          108334,
          11765,
          28293,
          9790,
          1821,
          24,
          1941,
          36140,
          138,
          1627,
          32,
          181,
          2113,
          760,
          631,
          655,
          1082,
          0,
          40,
          455,
          42,
          82,
          623,
          1,
          103,
          130,
          785,
          237,
          180,
          155,
          34,
          132,
          41,
          162,
          10,
          83642,
          1458,
          1,
          0,
          198,
          1,
          2530,
          70,
          598,
          128,
          614,
          6558,
          0,
          25,
          153,
          69,
          1115,
          2,
          275,
          1009,
          6570,
          442,
          2482,
          7,
          1065,
          33223,
          6238,
          2972,
          2067,
          728,
          219,
          5358,
          22454,
          30,
          0,
          0,
          0,
          42,
          15,
          5018,
          314,
          762,
          0,
          72,
          27,
          22,
          61,
          141,
          99,
          17673,
          432,
          54,
          13,
          836,
          107,
          113,
          1793,
          221,
          7,
          79,
          21,
          59,
          0,
          49,
          90,
          456,
          8778,
          6,
          93,
          4887,
          443,
          42760,
          214377,
          20,
          50,
          503,
          0,
          691,
          35,
          1,
          595,
          336,
          230
         ]
        }
       ],
       "layout": {
        "annotations": [
         {
          "font": {
           "size": 13
          },
          "showarrow": false,
          "text": "Total Cases",
          "x": 0.18,
          "y": 0.5
         },
         {
          "font": {
           "size": 13
          },
          "showarrow": false,
          "text": "Total Deaths",
          "x": 0.83,
          "y": 0.5
         }
        ],
        "autosize": true,
        "template": {
         "data": {
          "bar": [
           {
            "error_x": {
             "color": "#2a3f5f"
            },
            "error_y": {
             "color": "#2a3f5f"
            },
            "marker": {
             "line": {
              "color": "#E5ECF6",
              "width": 0.5
             }
            },
            "type": "bar"
           }
          ],
          "barpolar": [
           {
            "marker": {
             "line": {
              "color": "#E5ECF6",
              "width": 0.5
             }
            },
            "type": "barpolar"
           }
          ],
          "carpet": [
           {
            "aaxis": {
             "endlinecolor": "#2a3f5f",
             "gridcolor": "white",
             "linecolor": "white",
             "minorgridcolor": "white",
             "startlinecolor": "#2a3f5f"
            },
            "baxis": {
             "endlinecolor": "#2a3f5f",
             "gridcolor": "white",
             "linecolor": "white",
             "minorgridcolor": "white",
             "startlinecolor": "#2a3f5f"
            },
            "type": "carpet"
           }
          ],
          "choropleth": [
           {
            "colorbar": {
             "outlinewidth": 0,
             "ticks": ""
            },
            "type": "choropleth"
           }
          ],
          "contour": [
           {
            "colorbar": {
             "outlinewidth": 0,
             "ticks": ""
            },
            "colorscale": [
             [
              0,
              "#0d0887"
             ],
             [
              0.1111111111111111,
              "#46039f"
             ],
             [
              0.2222222222222222,
              "#7201a8"
             ],
             [
              0.3333333333333333,
              "#9c179e"
             ],
             [
              0.4444444444444444,
              "#bd3786"
             ],
             [
              0.5555555555555556,
              "#d8576b"
             ],
             [
              0.6666666666666666,
              "#ed7953"
             ],
             [
              0.7777777777777778,
              "#fb9f3a"
             ],
             [
              0.8888888888888888,
              "#fdca26"
             ],
             [
              1,
              "#f0f921"
             ]
            ],
            "type": "contour"
           }
          ],
          "contourcarpet": [
           {
            "colorbar": {
             "outlinewidth": 0,
             "ticks": ""
            },
            "type": "contourcarpet"
           }
          ],
          "heatmap": [
           {
            "colorbar": {
             "outlinewidth": 0,
             "ticks": ""
            },
            "colorscale": [
             [
              0,
              "#0d0887"
             ],
             [
              0.1111111111111111,
              "#46039f"
             ],
             [
              0.2222222222222222,
              "#7201a8"
             ],
             [
              0.3333333333333333,
              "#9c179e"
             ],
             [
              0.4444444444444444,
              "#bd3786"
             ],
             [
              0.5555555555555556,
              "#d8576b"
             ],
             [
              0.6666666666666666,
              "#ed7953"
             ],
             [
              0.7777777777777778,
              "#fb9f3a"
             ],
             [
              0.8888888888888888,
              "#fdca26"
             ],
             [
              1,
              "#f0f921"
             ]
            ],
            "type": "heatmap"
           }
          ],
          "heatmapgl": [
           {
            "colorbar": {
             "outlinewidth": 0,
             "ticks": ""
            },
            "colorscale": [
             [
              0,
              "#0d0887"
             ],
             [
              0.1111111111111111,
              "#46039f"
             ],
             [
              0.2222222222222222,
              "#7201a8"
             ],
             [
              0.3333333333333333,
              "#9c179e"
             ],
             [
              0.4444444444444444,
              "#bd3786"
             ],
             [
              0.5555555555555556,
              "#d8576b"
             ],
             [
              0.6666666666666666,
              "#ed7953"
             ],
             [
              0.7777777777777778,
              "#fb9f3a"
             ],
             [
              0.8888888888888888,
              "#fdca26"
             ],
             [
              1,
              "#f0f921"
             ]
            ],
            "type": "heatmapgl"
           }
          ],
          "histogram": [
           {
            "marker": {
             "colorbar": {
              "outlinewidth": 0,
              "ticks": ""
             }
            },
            "type": "histogram"
           }
          ],
          "histogram2d": [
           {
            "colorbar": {
             "outlinewidth": 0,
             "ticks": ""
            },
            "colorscale": [
             [
              0,
              "#0d0887"
             ],
             [
              0.1111111111111111,
              "#46039f"
             ],
             [
              0.2222222222222222,
              "#7201a8"
             ],
             [
              0.3333333333333333,
              "#9c179e"
             ],
             [
              0.4444444444444444,
              "#bd3786"
             ],
             [
              0.5555555555555556,
              "#d8576b"
             ],
             [
              0.6666666666666666,
              "#ed7953"
             ],
             [
              0.7777777777777778,
              "#fb9f3a"
             ],
             [
              0.8888888888888888,
              "#fdca26"
             ],
             [
              1,
              "#f0f921"
             ]
            ],
            "type": "histogram2d"
           }
          ],
          "histogram2dcontour": [
           {
            "colorbar": {
             "outlinewidth": 0,
             "ticks": ""
            },
            "colorscale": [
             [
              0,
              "#0d0887"
             ],
             [
              0.1111111111111111,
              "#46039f"
             ],
             [
              0.2222222222222222,
              "#7201a8"
             ],
             [
              0.3333333333333333,
              "#9c179e"
             ],
             [
              0.4444444444444444,
              "#bd3786"
             ],
             [
              0.5555555555555556,
              "#d8576b"
             ],
             [
              0.6666666666666666,
              "#ed7953"
             ],
             [
              0.7777777777777778,
              "#fb9f3a"
             ],
             [
              0.8888888888888888,
              "#fdca26"
             ],
             [
              1,
              "#f0f921"
             ]
            ],
            "type": "histogram2dcontour"
           }
          ],
          "mesh3d": [
           {
            "colorbar": {
             "outlinewidth": 0,
             "ticks": ""
            },
            "type": "mesh3d"
           }
          ],
          "parcoords": [
           {
            "line": {
             "colorbar": {
              "outlinewidth": 0,
              "ticks": ""
             }
            },
            "type": "parcoords"
           }
          ],
          "pie": [
           {
            "automargin": true,
            "type": "pie"
           }
          ],
          "scatter": [
           {
            "marker": {
             "colorbar": {
              "outlinewidth": 0,
              "ticks": ""
             }
            },
            "type": "scatter"
           }
          ],
          "scatter3d": [
           {
            "line": {
             "colorbar": {
              "outlinewidth": 0,
              "ticks": ""
             }
            },
            "marker": {
             "colorbar": {
              "outlinewidth": 0,
              "ticks": ""
             }
            },
            "type": "scatter3d"
           }
          ],
          "scattercarpet": [
           {
            "marker": {
             "colorbar": {
              "outlinewidth": 0,
              "ticks": ""
             }
            },
            "type": "scattercarpet"
           }
          ],
          "scattergeo": [
           {
            "marker": {
             "colorbar": {
              "outlinewidth": 0,
              "ticks": ""
             }
            },
            "type": "scattergeo"
           }
          ],
          "scattergl": [
           {
            "marker": {
             "colorbar": {
              "outlinewidth": 0,
              "ticks": ""
             }
            },
            "type": "scattergl"
           }
          ],
          "scattermapbox": [
           {
            "marker": {
             "colorbar": {
              "outlinewidth": 0,
              "ticks": ""
             }
            },
            "type": "scattermapbox"
           }
          ],
          "scatterpolar": [
           {
            "marker": {
             "colorbar": {
              "outlinewidth": 0,
              "ticks": ""
             }
            },
            "type": "scatterpolar"
           }
          ],
          "scatterpolargl": [
           {
            "marker": {
             "colorbar": {
              "outlinewidth": 0,
              "ticks": ""
             }
            },
            "type": "scatterpolargl"
           }
          ],
          "scatterternary": [
           {
            "marker": {
             "colorbar": {
              "outlinewidth": 0,
              "ticks": ""
             }
            },
            "type": "scatterternary"
           }
          ],
          "surface": [
           {
            "colorbar": {
             "outlinewidth": 0,
             "ticks": ""
            },
            "colorscale": [
             [
              0,
              "#0d0887"
             ],
             [
              0.1111111111111111,
              "#46039f"
             ],
             [
              0.2222222222222222,
              "#7201a8"
             ],
             [
              0.3333333333333333,
              "#9c179e"
             ],
             [
              0.4444444444444444,
              "#bd3786"
             ],
             [
              0.5555555555555556,
              "#d8576b"
             ],
             [
              0.6666666666666666,
              "#ed7953"
             ],
             [
              0.7777777777777778,
              "#fb9f3a"
             ],
             [
              0.8888888888888888,
              "#fdca26"
             ],
             [
              1,
              "#f0f921"
             ]
            ],
            "type": "surface"
           }
          ],
          "table": [
           {
            "cells": {
             "fill": {
              "color": "#EBF0F8"
             },
             "line": {
              "color": "white"
             }
            },
            "header": {
             "fill": {
              "color": "#C8D4E3"
             },
             "line": {
              "color": "white"
             }
            },
            "type": "table"
           }
          ]
         },
         "layout": {
          "annotationdefaults": {
           "arrowcolor": "#2a3f5f",
           "arrowhead": 0,
           "arrowwidth": 1
          },
          "coloraxis": {
           "colorbar": {
            "outlinewidth": 0,
            "ticks": ""
           }
          },
          "colorscale": {
           "diverging": [
            [
             0,
             "#8e0152"
            ],
            [
             0.1,
             "#c51b7d"
            ],
            [
             0.2,
             "#de77ae"
            ],
            [
             0.3,
             "#f1b6da"
            ],
            [
             0.4,
             "#fde0ef"
            ],
            [
             0.5,
             "#f7f7f7"
            ],
            [
             0.6,
             "#e6f5d0"
            ],
            [
             0.7,
             "#b8e186"
            ],
            [
             0.8,
             "#7fbc41"
            ],
            [
             0.9,
             "#4d9221"
            ],
            [
             1,
             "#276419"
            ]
           ],
           "sequential": [
            [
             0,
             "#0d0887"
            ],
            [
             0.1111111111111111,
             "#46039f"
            ],
            [
             0.2222222222222222,
             "#7201a8"
            ],
            [
             0.3333333333333333,
             "#9c179e"
            ],
            [
             0.4444444444444444,
             "#bd3786"
            ],
            [
             0.5555555555555556,
             "#d8576b"
            ],
            [
             0.6666666666666666,
             "#ed7953"
            ],
            [
             0.7777777777777778,
             "#fb9f3a"
            ],
            [
             0.8888888888888888,
             "#fdca26"
            ],
            [
             1,
             "#f0f921"
            ]
           ],
           "sequentialminus": [
            [
             0,
             "#0d0887"
            ],
            [
             0.1111111111111111,
             "#46039f"
            ],
            [
             0.2222222222222222,
             "#7201a8"
            ],
            [
             0.3333333333333333,
             "#9c179e"
            ],
            [
             0.4444444444444444,
             "#bd3786"
            ],
            [
             0.5555555555555556,
             "#d8576b"
            ],
            [
             0.6666666666666666,
             "#ed7953"
            ],
            [
             0.7777777777777778,
             "#fb9f3a"
            ],
            [
             0.8888888888888888,
             "#fdca26"
            ],
            [
             1,
             "#f0f921"
            ]
           ]
          },
          "colorway": [
           "#636efa",
           "#EF553B",
           "#00cc96",
           "#ab63fa",
           "#FFA15A",
           "#19d3f3",
           "#FF6692",
           "#B6E880",
           "#FF97FF",
           "#FECB52"
          ],
          "font": {
           "color": "#2a3f5f"
          },
          "geo": {
           "bgcolor": "white",
           "lakecolor": "white",
           "landcolor": "#E5ECF6",
           "showlakes": true,
           "showland": true,
           "subunitcolor": "white"
          },
          "hoverlabel": {
           "align": "left"
          },
          "hovermode": "closest",
          "mapbox": {
           "style": "light"
          },
          "paper_bgcolor": "white",
          "plot_bgcolor": "#E5ECF6",
          "polar": {
           "angularaxis": {
            "gridcolor": "white",
            "linecolor": "white",
            "ticks": ""
           },
           "bgcolor": "#E5ECF6",
           "radialaxis": {
            "gridcolor": "white",
            "linecolor": "white",
            "ticks": ""
           }
          },
          "scene": {
           "xaxis": {
            "backgroundcolor": "#E5ECF6",
            "gridcolor": "white",
            "gridwidth": 2,
            "linecolor": "white",
            "showbackground": true,
            "ticks": "",
            "zerolinecolor": "white"
           },
           "yaxis": {
            "backgroundcolor": "#E5ECF6",
            "gridcolor": "white",
            "gridwidth": 2,
            "linecolor": "white",
            "showbackground": true,
            "ticks": "",
            "zerolinecolor": "white"
           },
           "zaxis": {
            "backgroundcolor": "#E5ECF6",
            "gridcolor": "white",
            "gridwidth": 2,
            "linecolor": "white",
            "showbackground": true,
            "ticks": "",
            "zerolinecolor": "white"
           }
          },
          "shapedefaults": {
           "line": {
            "color": "#2a3f5f"
           }
          },
          "ternary": {
           "aaxis": {
            "gridcolor": "white",
            "linecolor": "white",
            "ticks": ""
           },
           "baxis": {
            "gridcolor": "white",
            "linecolor": "white",
            "ticks": ""
           },
           "bgcolor": "#E5ECF6",
           "caxis": {
            "gridcolor": "white",
            "linecolor": "white",
            "ticks": ""
           }
          },
          "title": {
           "x": 0.05
          },
          "xaxis": {
           "automargin": true,
           "gridcolor": "white",
           "linecolor": "white",
           "ticks": "",
           "title": {
            "standoff": 15
           },
           "zerolinecolor": "white",
           "zerolinewidth": 2
          },
          "yaxis": {
           "automargin": true,
           "gridcolor": "white",
           "linecolor": "white",
           "ticks": "",
           "title": {
            "standoff": 15
           },
           "zerolinecolor": "white",
           "zerolinewidth": 2
          }
         }
        },
        "title": {
         "text": "CoronaVirus Total Cases and Death Cases per Country"
        },
        "width": 1000
       }
      },
      "text/html": [
       "<div>                            <div id=\"6feef4e1-1d4e-4083-bdd0-4d7f88d277ad\" class=\"plotly-graph-div\" style=\"height:525px; width:1000px;\"></div>            <script type=\"text/javascript\">                require([\"plotly\"], function(Plotly) {                    window.PLOTLYENV=window.PLOTLYENV || {};                                    if (document.getElementById(\"6feef4e1-1d4e-4083-bdd0-4d7f88d277ad\")) {                    Plotly.newPlot(                        \"6feef4e1-1d4e-4083-bdd0-4d7f88d277ad\",                        [{\"domain\": {\"x\": [0.0, 0.45], \"y\": [0.0, 1.0]}, \"hole\": 0.4, \"hoverinfo\": \"label+percent+name\", \"labels\": [\"Afghanistan\", \"Albania\", \"Algeria\", \"Andorra\", \"Angola\", \"Anguilla\", \"Antigua and Barbuda\", \"Argentina\", \"Armenia\", \"Aruba\", \"Australia\", \"Austria\", \"Azerbaijan\", \"Bahamas\", \"Bahrain\", \"Bangladesh\", \"Barbados\", \"Belarus\", \"Belgium\", \"Belize\", \"Benin\", \"Bermuda\", \"Bhutan\", \"Bolivia\", \"Bonaire Sint Eustatius and Saba\", \"Bosnia and Herzegovina\", \"Botswana\", \"Brazil\", \"British Virgin Islands\", \"Brunei\", \"Bulgaria\", \"Burkina Faso\", \"Burundi\", \"Cambodia\", \"Cameroon\", \"Canada\", \"Cape Verde\", \"Cayman Islands\", \"Central African Republic\", \"Chad\", \"Chile\", \"China\", \"Colombia\", \"Comoros\", \"Congo\", \"Costa Rica\", \"Cote d'Ivoire\", \"Croatia\", \"Cuba\", \"Curacao\", \"Cyprus\", \"Czech Republic\", \"Democratic Republic of Congo\", \"Denmark\", \"Djibouti\", \"Dominica\", \"Dominican Republic\", \"Ecuador\", \"Egypt\", \"El Salvador\", \"Equatorial Guinea\", \"Eritrea\", \"Estonia\", \"Ethiopia\", \"Faeroe Islands\", \"Falkland Islands\", \"Fiji\", \"Finland\", \"France\", \"French Polynesia\", \"Gabon\", \"Gambia\", \"Georgia\", \"Germany\", \"Ghana\", \"Gibraltar\", \"Greece\", \"Greenland\", \"Grenada\", \"Guam\", \"Guatemala\", \"Guernsey\", \"Guinea\", \"Guinea-Bissau\", \"Guyana\", \"Haiti\", \"Honduras\", \"Hungary\", \"Iceland\", \"India\", \"Indonesia\", \"Iran\", \"Iraq\", \"Ireland\", \"Isle of Man\", \"Israel\", \"Italy\", \"Jamaica\", \"Japan\", \"Jersey\", \"Jordan\", \"Kazakhstan\", \"Kenya\", \"Kosovo\", \"Kuwait\", \"Kyrgyzstan\", \"Laos\", \"Latvia\", \"Lebanon\", \"Lesotho\", \"Liberia\", \"Libya\", \"Liechtenstein\", \"Lithuania\", \"Luxembourg\", \"Macedonia\", \"Madagascar\", \"Malawi\", \"Malaysia\", \"Maldives\", \"Mali\", \"Malta\", \"Mauritania\", \"Mauritius\", \"Mexico\", \"Moldova\", \"Monaco\", \"Mongolia\", \"Montenegro\", \"Montserrat\", \"Morocco\", \"Mozambique\", \"Myanmar\", \"Namibia\", \"Nepal\", \"Netherlands\", \"New Caledonia\", \"New Zealand\", \"Nicaragua\", \"Niger\", \"Nigeria\", \"Northern Mariana Islands\", \"Norway\", \"Oman\", \"Pakistan\", \"Palestine\", \"Panama\", \"Papua New Guinea\", \"Paraguay\", \"Peru\", \"Philippines\", \"Poland\", \"Portugal\", \"Puerto Rico\", \"Qatar\", \"Romania\", \"Russia\", \"Rwanda\", \"Saint Kitts and Nevis\", \"Saint Lucia\", \"Saint Vincent and the Grenadines\", \"San Marino\", \"Sao Tome and Principe\", \"Saudi Arabia\", \"Senegal\", \"Serbia\", \"Seychelles\", \"Sierra Leone\", \"Singapore\", \"Sint Maarten (Dutch part)\", \"Slovakia\", \"Slovenia\", \"Somalia\", \"South Africa\", \"South Korea\", \"South Sudan\", \"Sri Lanka\", \"Sudan\", \"Suriname\", \"Swaziland\", \"Switzerland\", \"Syria\", \"Taiwan\", \"Tajikistan\", \"Tanzania\", \"Thailand\", \"Timor\", \"Togo\", \"Trinidad and Tobago\", \"Tunisia\", \"Turkey\", \"Turks and Caicos Islands\", \"Uganda\", \"Ukraine\", \"United Arab Emirates\", \"United Kingdom\", \"United States\", \"United States Virgin Islands\", \"Uruguay\", \"Uzbekistan\", \"Vatican\", \"Venezuela\", \"Vietnam\", \"Western Sahara\", \"Yemen\", \"Zambia\", \"Zimbabwe\"], \"name\": \"Total Cases\", \"textposition\": \"inside\", \"type\": \"pie\", \"values\": [39703, 15231, 52940, 2696, 6031, 3, 111, 883883, 55736, 4188, 27244, 54685, 41752, 5023, 75287, 377073, 206, 82471, 156838, 2427, 2411, 184, 306, 138463, 147, 29917, 4520, 5082637, 71, 146, 23871, 2271, 517, 283, 21203, 178117, 6913, 221, 4854, 1291, 479595, 90778, 902747, 495, 5118, 87439, 20128, 19932, 5948, 571, 1986, 109374, 10840, 32082, 5423, 32, 118014, 146828, 104387, 29951, 5063, 414, 3846, 83429, 477, 13, 32, 11580, 718873, 2692, 8835, 3628, 11271, 322864, 47005, 476, 22078, 16, 24, 3078, 97544, 258, 10996, 2362, 3405, 8860, 83146, 36596, 3460, 7053806, 328952, 496253, 400124, 41714, 345, 290003, 349494, 7559, 88912, 449, 23998, 143632, 41158, 16007, 110568, 48924, 23, 2596, 52558, 1800, 1363, 41686, 138, 5963, 9360, 20555, 16702, 5821, 15096, 10859, 3273, 3681, 7523, 395, 814328, 61762, 233, 316, 13641, 13, 146398, 9844, 26064, 11891, 105684, 168082, 27, 1515, 5264, 1201, 60103, 77, 15221, 104129, 318932, 55134, 119666, 549, 48978, 846088, 336926, 121638, 85574, 53364, 127778, 152403, 1285084, 4892, 19, 29, 64, 752, 922, 338944, 15244, 34685, 148, 2300, 57866, 707, 18797, 8254, 3847, 690896, 24606, 2761, 4628, 13670, 5035, 5660, 60230, 4673, 527, 10180, 509, 3634, 28, 1935, 5043, 31259, 334031, 695, 9701, 256266, 105133, 590844, 7718947, 1327, 2268, 60894, 12, 82453, 1107, 766, 2055, 15339, 8010]}, {\"domain\": {\"x\": [0.55, 1.0], \"y\": [0.0, 1.0]}, \"hole\": 0.4, \"hoverinfo\": \"label+percent+name\", \"labels\": [\"Afghanistan\", \"Albania\", \"Algeria\", \"Andorra\", \"Angola\", \"Anguilla\", \"Antigua and Barbuda\", \"Argentina\", \"Armenia\", \"Aruba\", \"Australia\", \"Austria\", \"Azerbaijan\", \"Bahamas\", \"Bahrain\", \"Bangladesh\", \"Barbados\", \"Belarus\", \"Belgium\", \"Belize\", \"Benin\", \"Bermuda\", \"Bhutan\", \"Bolivia\", \"Bonaire Sint Eustatius and Saba\", \"Bosnia and Herzegovina\", \"Botswana\", \"Brazil\", \"British Virgin Islands\", \"Brunei\", \"Bulgaria\", \"Burkina Faso\", \"Burundi\", \"Cambodia\", \"Cameroon\", \"Canada\", \"Cape Verde\", \"Cayman Islands\", \"Central African Republic\", \"Chad\", \"Chile\", \"China\", \"Colombia\", \"Comoros\", \"Congo\", \"Costa Rica\", \"Cote d'Ivoire\", \"Croatia\", \"Cuba\", \"Curacao\", \"Cyprus\", \"Czech Republic\", \"Democratic Republic of Congo\", \"Denmark\", \"Djibouti\", \"Dominica\", \"Dominican Republic\", \"Ecuador\", \"Egypt\", \"El Salvador\", \"Equatorial Guinea\", \"Eritrea\", \"Estonia\", \"Ethiopia\", \"Faeroe Islands\", \"Falkland Islands\", \"Fiji\", \"Finland\", \"France\", \"French Polynesia\", \"Gabon\", \"Gambia\", \"Georgia\", \"Germany\", \"Ghana\", \"Gibraltar\", \"Greece\", \"Greenland\", \"Grenada\", \"Guam\", \"Guatemala\", \"Guernsey\", \"Guinea\", \"Guinea-Bissau\", \"Guyana\", \"Haiti\", \"Honduras\", \"Hungary\", \"Iceland\", \"India\", \"Indonesia\", \"Iran\", \"Iraq\", \"Ireland\", \"Isle of Man\", \"Israel\", \"Italy\", \"Jamaica\", \"Japan\", \"Jersey\", \"Jordan\", \"Kazakhstan\", \"Kenya\", \"Kosovo\", \"Kuwait\", \"Kyrgyzstan\", \"Laos\", \"Latvia\", \"Lebanon\", \"Lesotho\", \"Liberia\", \"Libya\", \"Liechtenstein\", \"Lithuania\", \"Luxembourg\", \"Macedonia\", \"Madagascar\", \"Malawi\", \"Malaysia\", \"Maldives\", \"Mali\", \"Malta\", \"Mauritania\", \"Mauritius\", \"Mexico\", \"Moldova\", \"Monaco\", \"Mongolia\", \"Montenegro\", \"Montserrat\", \"Morocco\", \"Mozambique\", \"Myanmar\", \"Namibia\", \"Nepal\", \"Netherlands\", \"New Caledonia\", \"New Zealand\", \"Nicaragua\", \"Niger\", \"Nigeria\", \"Northern Mariana Islands\", \"Norway\", \"Oman\", \"Pakistan\", \"Palestine\", \"Panama\", \"Papua New Guinea\", \"Paraguay\", \"Peru\", \"Philippines\", \"Poland\", \"Portugal\", \"Puerto Rico\", \"Qatar\", \"Romania\", \"Russia\", \"Rwanda\", \"Saint Kitts and Nevis\", \"Saint Lucia\", \"Saint Vincent and the Grenadines\", \"San Marino\", \"Sao Tome and Principe\", \"Saudi Arabia\", \"Senegal\", \"Serbia\", \"Seychelles\", \"Sierra Leone\", \"Singapore\", \"Sint Maarten (Dutch part)\", \"Slovakia\", \"Slovenia\", \"Somalia\", \"South Africa\", \"South Korea\", \"South Sudan\", \"Sri Lanka\", \"Sudan\", \"Suriname\", \"Swaziland\", \"Switzerland\", \"Syria\", \"Taiwan\", \"Tajikistan\", \"Tanzania\", \"Thailand\", \"Timor\", \"Togo\", \"Trinidad and Tobago\", \"Tunisia\", \"Turkey\", \"Turks and Caicos Islands\", \"Uganda\", \"Ukraine\", \"United Arab Emirates\", \"United Kingdom\", \"United States\", \"United States Virgin Islands\", \"Uruguay\", \"Uzbekistan\", \"Vatican\", \"Venezuela\", \"Vietnam\", \"Western Sahara\", \"Yemen\", \"Zambia\", \"Zimbabwe\"], \"name\": \"Total Deaths\", \"textposition\": \"inside\", \"type\": \"pie\", \"values\": [1473, 416, 1795, 55, 212, 0, 3, 23581, 1016, 32, 897, 858, 608, 106, 273, 5500, 7, 885, 10175, 35, 41, 9, 0, 8292, 2, 926, 18, 150198, 1, 3, 887, 61, 1, 0, 423, 9585, 74, 1, 62, 92, 13272, 4739, 27660, 7, 90, 1076, 120, 317, 123, 1, 25, 905, 275, 667, 61, 0, 2167, 12188, 6040, 887, 83, 0, 68, 1277, 0, 0, 2, 346, 32684, 10, 54, 117, 78, 9615, 306, 0, 436, 0, 0, 60, 3365, 13, 69, 39, 102, 230, 2504, 933, 10, 108334, 11765, 28293, 9790, 1821, 24, 1941, 36140, 138, 1627, 32, 181, 2113, 760, 631, 655, 1082, 0, 40, 455, 42, 82, 623, 1, 103, 130, 785, 237, 180, 155, 34, 132, 41, 162, 10, 83642, 1458, 1, 0, 198, 1, 2530, 70, 598, 128, 614, 6558, 0, 25, 153, 69, 1115, 2, 275, 1009, 6570, 442, 2482, 7, 1065, 33223, 6238, 2972, 2067, 728, 219, 5358, 22454, 30, 0, 0, 0, 42, 15, 5018, 314, 762, 0, 72, 27, 22, 61, 141, 99, 17673, 432, 54, 13, 836, 107, 113, 1793, 221, 7, 79, 21, 59, 0, 49, 90, 456, 8778, 6, 93, 4887, 443, 42760, 214377, 20, 50, 503, 0, 691, 35, 1, 595, 336, 230]}],                        {\"annotations\": [{\"font\": {\"size\": 13}, \"showarrow\": false, \"text\": \"Total Cases\", \"x\": 0.18, \"y\": 0.5}, {\"font\": {\"size\": 13}, \"showarrow\": false, \"text\": \"Total Deaths\", \"x\": 0.83, \"y\": 0.5}], \"autosize\": true, \"template\": {\"data\": {\"bar\": [{\"error_x\": {\"color\": \"#2a3f5f\"}, \"error_y\": {\"color\": \"#2a3f5f\"}, \"marker\": {\"line\": {\"color\": \"#E5ECF6\", \"width\": 0.5}}, \"type\": \"bar\"}], \"barpolar\": [{\"marker\": {\"line\": {\"color\": \"#E5ECF6\", \"width\": 0.5}}, \"type\": \"barpolar\"}], \"carpet\": [{\"aaxis\": {\"endlinecolor\": \"#2a3f5f\", \"gridcolor\": \"white\", \"linecolor\": \"white\", \"minorgridcolor\": \"white\", \"startlinecolor\": \"#2a3f5f\"}, \"baxis\": {\"endlinecolor\": \"#2a3f5f\", \"gridcolor\": \"white\", \"linecolor\": \"white\", \"minorgridcolor\": \"white\", \"startlinecolor\": \"#2a3f5f\"}, \"type\": \"carpet\"}], \"choropleth\": [{\"colorbar\": {\"outlinewidth\": 0, \"ticks\": \"\"}, \"type\": \"choropleth\"}], \"contour\": [{\"colorbar\": {\"outlinewidth\": 0, \"ticks\": \"\"}, \"colorscale\": [[0.0, \"#0d0887\"], [0.1111111111111111, \"#46039f\"], [0.2222222222222222, \"#7201a8\"], [0.3333333333333333, \"#9c179e\"], [0.4444444444444444, \"#bd3786\"], [0.5555555555555556, \"#d8576b\"], [0.6666666666666666, \"#ed7953\"], [0.7777777777777778, \"#fb9f3a\"], [0.8888888888888888, \"#fdca26\"], [1.0, \"#f0f921\"]], \"type\": \"contour\"}], \"contourcarpet\": [{\"colorbar\": {\"outlinewidth\": 0, \"ticks\": \"\"}, \"type\": \"contourcarpet\"}], \"heatmap\": [{\"colorbar\": {\"outlinewidth\": 0, \"ticks\": \"\"}, \"colorscale\": [[0.0, \"#0d0887\"], [0.1111111111111111, \"#46039f\"], [0.2222222222222222, \"#7201a8\"], [0.3333333333333333, \"#9c179e\"], [0.4444444444444444, \"#bd3786\"], [0.5555555555555556, \"#d8576b\"], [0.6666666666666666, \"#ed7953\"], [0.7777777777777778, \"#fb9f3a\"], [0.8888888888888888, \"#fdca26\"], [1.0, \"#f0f921\"]], \"type\": \"heatmap\"}], \"heatmapgl\": [{\"colorbar\": {\"outlinewidth\": 0, \"ticks\": \"\"}, \"colorscale\": [[0.0, \"#0d0887\"], [0.1111111111111111, \"#46039f\"], [0.2222222222222222, \"#7201a8\"], [0.3333333333333333, \"#9c179e\"], [0.4444444444444444, \"#bd3786\"], [0.5555555555555556, \"#d8576b\"], [0.6666666666666666, \"#ed7953\"], [0.7777777777777778, \"#fb9f3a\"], [0.8888888888888888, \"#fdca26\"], [1.0, \"#f0f921\"]], \"type\": \"heatmapgl\"}], \"histogram\": [{\"marker\": {\"colorbar\": {\"outlinewidth\": 0, \"ticks\": \"\"}}, \"type\": \"histogram\"}], \"histogram2d\": [{\"colorbar\": {\"outlinewidth\": 0, \"ticks\": \"\"}, \"colorscale\": [[0.0, \"#0d0887\"], [0.1111111111111111, \"#46039f\"], [0.2222222222222222, \"#7201a8\"], [0.3333333333333333, \"#9c179e\"], [0.4444444444444444, \"#bd3786\"], [0.5555555555555556, \"#d8576b\"], [0.6666666666666666, \"#ed7953\"], [0.7777777777777778, \"#fb9f3a\"], [0.8888888888888888, \"#fdca26\"], [1.0, \"#f0f921\"]], \"type\": \"histogram2d\"}], \"histogram2dcontour\": [{\"colorbar\": {\"outlinewidth\": 0, \"ticks\": \"\"}, \"colorscale\": [[0.0, \"#0d0887\"], [0.1111111111111111, \"#46039f\"], [0.2222222222222222, \"#7201a8\"], [0.3333333333333333, \"#9c179e\"], [0.4444444444444444, \"#bd3786\"], [0.5555555555555556, \"#d8576b\"], [0.6666666666666666, \"#ed7953\"], [0.7777777777777778, \"#fb9f3a\"], [0.8888888888888888, \"#fdca26\"], [1.0, \"#f0f921\"]], \"type\": \"histogram2dcontour\"}], \"mesh3d\": [{\"colorbar\": {\"outlinewidth\": 0, \"ticks\": \"\"}, \"type\": \"mesh3d\"}], \"parcoords\": [{\"line\": {\"colorbar\": {\"outlinewidth\": 0, \"ticks\": \"\"}}, \"type\": \"parcoords\"}], \"pie\": [{\"automargin\": true, \"type\": \"pie\"}], \"scatter\": [{\"marker\": {\"colorbar\": {\"outlinewidth\": 0, \"ticks\": \"\"}}, \"type\": \"scatter\"}], \"scatter3d\": [{\"line\": {\"colorbar\": {\"outlinewidth\": 0, \"ticks\": \"\"}}, \"marker\": {\"colorbar\": {\"outlinewidth\": 0, \"ticks\": \"\"}}, \"type\": \"scatter3d\"}], \"scattercarpet\": [{\"marker\": {\"colorbar\": {\"outlinewidth\": 0, \"ticks\": \"\"}}, \"type\": \"scattercarpet\"}], \"scattergeo\": [{\"marker\": {\"colorbar\": {\"outlinewidth\": 0, \"ticks\": \"\"}}, \"type\": \"scattergeo\"}], \"scattergl\": [{\"marker\": {\"colorbar\": {\"outlinewidth\": 0, \"ticks\": \"\"}}, \"type\": \"scattergl\"}], \"scattermapbox\": [{\"marker\": {\"colorbar\": {\"outlinewidth\": 0, \"ticks\": \"\"}}, \"type\": \"scattermapbox\"}], \"scatterpolar\": [{\"marker\": {\"colorbar\": {\"outlinewidth\": 0, \"ticks\": \"\"}}, \"type\": \"scatterpolar\"}], \"scatterpolargl\": [{\"marker\": {\"colorbar\": {\"outlinewidth\": 0, \"ticks\": \"\"}}, \"type\": \"scatterpolargl\"}], \"scatterternary\": [{\"marker\": {\"colorbar\": {\"outlinewidth\": 0, \"ticks\": \"\"}}, \"type\": \"scatterternary\"}], \"surface\": [{\"colorbar\": {\"outlinewidth\": 0, \"ticks\": \"\"}, \"colorscale\": [[0.0, \"#0d0887\"], [0.1111111111111111, \"#46039f\"], [0.2222222222222222, \"#7201a8\"], [0.3333333333333333, \"#9c179e\"], [0.4444444444444444, \"#bd3786\"], [0.5555555555555556, \"#d8576b\"], [0.6666666666666666, \"#ed7953\"], [0.7777777777777778, \"#fb9f3a\"], [0.8888888888888888, \"#fdca26\"], [1.0, \"#f0f921\"]], \"type\": \"surface\"}], \"table\": [{\"cells\": {\"fill\": {\"color\": \"#EBF0F8\"}, \"line\": {\"color\": \"white\"}}, \"header\": {\"fill\": {\"color\": \"#C8D4E3\"}, \"line\": {\"color\": \"white\"}}, \"type\": \"table\"}]}, \"layout\": {\"annotationdefaults\": {\"arrowcolor\": \"#2a3f5f\", \"arrowhead\": 0, \"arrowwidth\": 1}, \"coloraxis\": {\"colorbar\": {\"outlinewidth\": 0, \"ticks\": \"\"}}, \"colorscale\": {\"diverging\": [[0, \"#8e0152\"], [0.1, \"#c51b7d\"], [0.2, \"#de77ae\"], [0.3, \"#f1b6da\"], [0.4, \"#fde0ef\"], [0.5, \"#f7f7f7\"], [0.6, \"#e6f5d0\"], [0.7, \"#b8e186\"], [0.8, \"#7fbc41\"], [0.9, \"#4d9221\"], [1, \"#276419\"]], \"sequential\": [[0.0, \"#0d0887\"], [0.1111111111111111, \"#46039f\"], [0.2222222222222222, \"#7201a8\"], [0.3333333333333333, \"#9c179e\"], [0.4444444444444444, \"#bd3786\"], [0.5555555555555556, \"#d8576b\"], [0.6666666666666666, \"#ed7953\"], [0.7777777777777778, \"#fb9f3a\"], [0.8888888888888888, \"#fdca26\"], [1.0, \"#f0f921\"]], \"sequentialminus\": [[0.0, \"#0d0887\"], [0.1111111111111111, \"#46039f\"], [0.2222222222222222, \"#7201a8\"], [0.3333333333333333, \"#9c179e\"], [0.4444444444444444, \"#bd3786\"], [0.5555555555555556, \"#d8576b\"], [0.6666666666666666, \"#ed7953\"], [0.7777777777777778, \"#fb9f3a\"], [0.8888888888888888, \"#fdca26\"], [1.0, \"#f0f921\"]]}, \"colorway\": [\"#636efa\", \"#EF553B\", \"#00cc96\", \"#ab63fa\", \"#FFA15A\", \"#19d3f3\", \"#FF6692\", \"#B6E880\", \"#FF97FF\", \"#FECB52\"], \"font\": {\"color\": \"#2a3f5f\"}, \"geo\": {\"bgcolor\": \"white\", \"lakecolor\": \"white\", \"landcolor\": \"#E5ECF6\", \"showlakes\": true, \"showland\": true, \"subunitcolor\": \"white\"}, \"hoverlabel\": {\"align\": \"left\"}, \"hovermode\": \"closest\", \"mapbox\": {\"style\": \"light\"}, \"paper_bgcolor\": \"white\", \"plot_bgcolor\": \"#E5ECF6\", \"polar\": {\"angularaxis\": {\"gridcolor\": \"white\", \"linecolor\": \"white\", \"ticks\": \"\"}, \"bgcolor\": \"#E5ECF6\", \"radialaxis\": {\"gridcolor\": \"white\", \"linecolor\": \"white\", \"ticks\": \"\"}}, \"scene\": {\"xaxis\": {\"backgroundcolor\": \"#E5ECF6\", \"gridcolor\": \"white\", \"gridwidth\": 2, \"linecolor\": \"white\", \"showbackground\": true, \"ticks\": \"\", \"zerolinecolor\": \"white\"}, \"yaxis\": {\"backgroundcolor\": \"#E5ECF6\", \"gridcolor\": \"white\", \"gridwidth\": 2, \"linecolor\": \"white\", \"showbackground\": true, \"ticks\": \"\", \"zerolinecolor\": \"white\"}, \"zaxis\": {\"backgroundcolor\": \"#E5ECF6\", \"gridcolor\": \"white\", \"gridwidth\": 2, \"linecolor\": \"white\", \"showbackground\": true, \"ticks\": \"\", \"zerolinecolor\": \"white\"}}, \"shapedefaults\": {\"line\": {\"color\": \"#2a3f5f\"}}, \"ternary\": {\"aaxis\": {\"gridcolor\": \"white\", \"linecolor\": \"white\", \"ticks\": \"\"}, \"baxis\": {\"gridcolor\": \"white\", \"linecolor\": \"white\", \"ticks\": \"\"}, \"bgcolor\": \"#E5ECF6\", \"caxis\": {\"gridcolor\": \"white\", \"linecolor\": \"white\", \"ticks\": \"\"}}, \"title\": {\"x\": 0.05}, \"xaxis\": {\"automargin\": true, \"gridcolor\": \"white\", \"linecolor\": \"white\", \"ticks\": \"\", \"title\": {\"standoff\": 15}, \"zerolinecolor\": \"white\", \"zerolinewidth\": 2}, \"yaxis\": {\"automargin\": true, \"gridcolor\": \"white\", \"linecolor\": \"white\", \"ticks\": \"\", \"title\": {\"standoff\": 15}, \"zerolinecolor\": \"white\", \"zerolinewidth\": 2}}}, \"title\": {\"text\": \"CoronaVirus Total Cases and Death Cases per Country\"}, \"width\": 1000},                        {\"responsive\": true}                    ).then(function(){\n",
       "                            \n",
       "var gd = document.getElementById('6feef4e1-1d4e-4083-bdd0-4d7f88d277ad');\n",
       "var x = new MutationObserver(function (mutations, observer) {{\n",
       "        var display = window.getComputedStyle(gd).display;\n",
       "        if (!display || display === 'none') {{\n",
       "            console.log([gd, 'removed!']);\n",
       "            Plotly.purge(gd);\n",
       "            observer.disconnect();\n",
       "        }}\n",
       "}});\n",
       "\n",
       "// Listen for the removal of the full notebook cells\n",
       "var notebookContainer = gd.closest('#notebook-container');\n",
       "if (notebookContainer) {{\n",
       "    x.observe(notebookContainer, {childList: true});\n",
       "}}\n",
       "\n",
       "// Listen for the clearing of the current output cell\n",
       "var outputEl = gd.closest('.output');\n",
       "if (outputEl) {{\n",
       "    x.observe(outputEl, {childList: true});\n",
       "}}\n",
       "\n",
       "                        })                };                });            </script>        </div>"
      ]
     },
     "metadata": {},
     "output_type": "display_data"
    }
   ],
   "source": [
    "# Visualizing the data\n",
    "\n",
    "from plotly.subplots import make_subplots\n",
    "\n",
    "labels = full_data_total['location'].tolist()\n",
    "\n",
    "values1 = full_data_total['total_cases'].tolist()\n",
    "values2 = full_data_total['total_deaths'].tolist()\n",
    "\n",
    "# Create subplots: use 'domain' type for Pie subplot\n",
    "fig = make_subplots(rows=1, cols=2, specs=[[{'type':'domain'}, {'type':'domain'}]])\n",
    "\n",
    "fig.add_trace(go.Pie(labels=labels, values=values1, name=\"Total Cases\"),\n",
    "              1, 1)\n",
    "fig.add_trace(go.Pie(labels=labels, values=values2, name=\"Total Deaths\"),\n",
    "              1, 2)\n",
    "\n",
    "# Use `hole` to create a donut-like pie chart\n",
    "fig.update_traces(hole=.4, hoverinfo=\"label+percent+name\", textposition='inside')\n",
    "\n",
    "fig.update_layout(\n",
    "    autosize=True,\n",
    "    width = 1000,\n",
    "    title_text=\"CoronaVirus Total Cases and Death Cases per Country\",\n",
    "    # Add annotations in the center of the donut pies.\n",
    "    annotations=[\n",
    "                 dict(text='Total Cases', x=0.18, y=0.5, font_size=13, showarrow=False),\n",
    "                dict(text='Total Deaths', x=0.83, y=0.5, font_size=13, showarrow=False)])\n",
    "fig.show()"
   ]
  },
  {
   "cell_type": "markdown",
   "metadata": {},
   "source": [
    "# Visualizing Total Cases in Map"
   ]
  },
  {
   "cell_type": "code",
   "execution_count": 7,
   "metadata": {
    "_kg_hide-input": true
   },
   "outputs": [
    {
     "data": {
      "application/vnd.plotly.v1+json": {
       "config": {
        "linkText": "Export to plot.ly",
        "plotlyServerURL": "https://plot.ly",
        "showLink": false
       },
       "data": [
        {
         "colorscale": [
          [
           0,
           "rgb(0,0,255)"
          ],
          [
           0.1,
           "rgb(51,153,255)"
          ],
          [
           0.2,
           "rgb(102,204,255)"
          ],
          [
           0.3,
           "rgb(153,204,255)"
          ],
          [
           0.4,
           "rgb(204,204,255)"
          ],
          [
           0.5,
           "rgb(255,255,255)"
          ],
          [
           0.6,
           "rgb(255,204,255)"
          ],
          [
           0.7,
           "rgb(255,153,255)"
          ],
          [
           0.8,
           "rgb(255,102,204)"
          ],
          [
           0.9,
           "rgb(255,102,102)"
          ],
          [
           1,
           "rgb(255,0,0)"
          ]
         ],
         "locationmode": "country names",
         "locations": [
          "Afghanistan",
          "Albania",
          "Algeria",
          "Andorra",
          "Angola",
          "Anguilla",
          "Antigua and Barbuda",
          "Argentina",
          "Armenia",
          "Aruba",
          "Australia",
          "Austria",
          "Azerbaijan",
          "Bahamas",
          "Bahrain",
          "Bangladesh",
          "Barbados",
          "Belarus",
          "Belgium",
          "Belize",
          "Benin",
          "Bermuda",
          "Bhutan",
          "Bolivia",
          "Bonaire Sint Eustatius and Saba",
          "Bosnia and Herzegovina",
          "Botswana",
          "Brazil",
          "British Virgin Islands",
          "Brunei",
          "Bulgaria",
          "Burkina Faso",
          "Burundi",
          "Cambodia",
          "Cameroon",
          "Canada",
          "Cape Verde",
          "Cayman Islands",
          "Central African Republic",
          "Chad",
          "Chile",
          "China",
          "Colombia",
          "Comoros",
          "Congo",
          "Costa Rica",
          "Cote d'Ivoire",
          "Croatia",
          "Cuba",
          "Curacao",
          "Cyprus",
          "Czech Republic",
          "Democratic Republic of Congo",
          "Denmark",
          "Djibouti",
          "Dominica",
          "Dominican Republic",
          "Ecuador",
          "Egypt",
          "El Salvador",
          "Equatorial Guinea",
          "Eritrea",
          "Estonia",
          "Ethiopia",
          "Faeroe Islands",
          "Falkland Islands",
          "Fiji",
          "Finland",
          "France",
          "French Polynesia",
          "Gabon",
          "Gambia",
          "Georgia",
          "Germany",
          "Ghana",
          "Gibraltar",
          "Greece",
          "Greenland",
          "Grenada",
          "Guam",
          "Guatemala",
          "Guernsey",
          "Guinea",
          "Guinea-Bissau",
          "Guyana",
          "Haiti",
          "Honduras",
          "Hungary",
          "Iceland",
          "India",
          "Indonesia",
          "Iran",
          "Iraq",
          "Ireland",
          "Isle of Man",
          "Israel",
          "Italy",
          "Jamaica",
          "Japan",
          "Jersey",
          "Jordan",
          "Kazakhstan",
          "Kenya",
          "Kosovo",
          "Kuwait",
          "Kyrgyzstan",
          "Laos",
          "Latvia",
          "Lebanon",
          "Lesotho",
          "Liberia",
          "Libya",
          "Liechtenstein",
          "Lithuania",
          "Luxembourg",
          "Macedonia",
          "Madagascar",
          "Malawi",
          "Malaysia",
          "Maldives",
          "Mali",
          "Malta",
          "Mauritania",
          "Mauritius",
          "Mexico",
          "Moldova",
          "Monaco",
          "Mongolia",
          "Montenegro",
          "Montserrat",
          "Morocco",
          "Mozambique",
          "Myanmar",
          "Namibia",
          "Nepal",
          "Netherlands",
          "New Caledonia",
          "New Zealand",
          "Nicaragua",
          "Niger",
          "Nigeria",
          "Northern Mariana Islands",
          "Norway",
          "Oman",
          "Pakistan",
          "Palestine",
          "Panama",
          "Papua New Guinea",
          "Paraguay",
          "Peru",
          "Philippines",
          "Poland",
          "Portugal",
          "Puerto Rico",
          "Qatar",
          "Romania",
          "Russia",
          "Rwanda",
          "Saint Kitts and Nevis",
          "Saint Lucia",
          "Saint Vincent and the Grenadines",
          "San Marino",
          "Sao Tome and Principe",
          "Saudi Arabia",
          "Senegal",
          "Serbia",
          "Seychelles",
          "Sierra Leone",
          "Singapore",
          "Sint Maarten (Dutch part)",
          "Slovakia",
          "Slovenia",
          "Somalia",
          "South Africa",
          "South Korea",
          "South Sudan",
          "Sri Lanka",
          "Sudan",
          "Suriname",
          "Swaziland",
          "Switzerland",
          "Syria",
          "Taiwan",
          "Tajikistan",
          "Tanzania",
          "Thailand",
          "Timor",
          "Togo",
          "Trinidad and Tobago",
          "Tunisia",
          "Turkey",
          "Turks and Caicos Islands",
          "Uganda",
          "Ukraine",
          "United Arab Emirates",
          "United Kingdom",
          "United States",
          "United States Virgin Islands",
          "Uruguay",
          "Uzbekistan",
          "Vatican",
          "Venezuela",
          "Vietnam",
          "Western Sahara",
          "Yemen",
          "Zambia",
          "Zimbabwe"
         ],
         "text": [
          "Afghanistan",
          "Albania",
          "Algeria",
          "Andorra",
          "Angola",
          "Anguilla",
          "Antigua and Barbuda",
          "Argentina",
          "Armenia",
          "Aruba",
          "Australia",
          "Austria",
          "Azerbaijan",
          "Bahamas",
          "Bahrain",
          "Bangladesh",
          "Barbados",
          "Belarus",
          "Belgium",
          "Belize",
          "Benin",
          "Bermuda",
          "Bhutan",
          "Bolivia",
          "Bonaire Sint Eustatius and Saba",
          "Bosnia and Herzegovina",
          "Botswana",
          "Brazil",
          "British Virgin Islands",
          "Brunei",
          "Bulgaria",
          "Burkina Faso",
          "Burundi",
          "Cambodia",
          "Cameroon",
          "Canada",
          "Cape Verde",
          "Cayman Islands",
          "Central African Republic",
          "Chad",
          "Chile",
          "China",
          "Colombia",
          "Comoros",
          "Congo",
          "Costa Rica",
          "Cote d'Ivoire",
          "Croatia",
          "Cuba",
          "Curacao",
          "Cyprus",
          "Czech Republic",
          "Democratic Republic of Congo",
          "Denmark",
          "Djibouti",
          "Dominica",
          "Dominican Republic",
          "Ecuador",
          "Egypt",
          "El Salvador",
          "Equatorial Guinea",
          "Eritrea",
          "Estonia",
          "Ethiopia",
          "Faeroe Islands",
          "Falkland Islands",
          "Fiji",
          "Finland",
          "France",
          "French Polynesia",
          "Gabon",
          "Gambia",
          "Georgia",
          "Germany",
          "Ghana",
          "Gibraltar",
          "Greece",
          "Greenland",
          "Grenada",
          "Guam",
          "Guatemala",
          "Guernsey",
          "Guinea",
          "Guinea-Bissau",
          "Guyana",
          "Haiti",
          "Honduras",
          "Hungary",
          "Iceland",
          "India",
          "Indonesia",
          "Iran",
          "Iraq",
          "Ireland",
          "Isle of Man",
          "Israel",
          "Italy",
          "Jamaica",
          "Japan",
          "Jersey",
          "Jordan",
          "Kazakhstan",
          "Kenya",
          "Kosovo",
          "Kuwait",
          "Kyrgyzstan",
          "Laos",
          "Latvia",
          "Lebanon",
          "Lesotho",
          "Liberia",
          "Libya",
          "Liechtenstein",
          "Lithuania",
          "Luxembourg",
          "Macedonia",
          "Madagascar",
          "Malawi",
          "Malaysia",
          "Maldives",
          "Mali",
          "Malta",
          "Mauritania",
          "Mauritius",
          "Mexico",
          "Moldova",
          "Monaco",
          "Mongolia",
          "Montenegro",
          "Montserrat",
          "Morocco",
          "Mozambique",
          "Myanmar",
          "Namibia",
          "Nepal",
          "Netherlands",
          "New Caledonia",
          "New Zealand",
          "Nicaragua",
          "Niger",
          "Nigeria",
          "Northern Mariana Islands",
          "Norway",
          "Oman",
          "Pakistan",
          "Palestine",
          "Panama",
          "Papua New Guinea",
          "Paraguay",
          "Peru",
          "Philippines",
          "Poland",
          "Portugal",
          "Puerto Rico",
          "Qatar",
          "Romania",
          "Russia",
          "Rwanda",
          "Saint Kitts and Nevis",
          "Saint Lucia",
          "Saint Vincent and the Grenadines",
          "San Marino",
          "Sao Tome and Principe",
          "Saudi Arabia",
          "Senegal",
          "Serbia",
          "Seychelles",
          "Sierra Leone",
          "Singapore",
          "Sint Maarten (Dutch part)",
          "Slovakia",
          "Slovenia",
          "Somalia",
          "South Africa",
          "South Korea",
          "South Sudan",
          "Sri Lanka",
          "Sudan",
          "Suriname",
          "Swaziland",
          "Switzerland",
          "Syria",
          "Taiwan",
          "Tajikistan",
          "Tanzania",
          "Thailand",
          "Timor",
          "Togo",
          "Trinidad and Tobago",
          "Tunisia",
          "Turkey",
          "Turks and Caicos Islands",
          "Uganda",
          "Ukraine",
          "United Arab Emirates",
          "United Kingdom",
          "United States",
          "United States Virgin Islands",
          "Uruguay",
          "Uzbekistan",
          "Vatican",
          "Venezuela",
          "Vietnam",
          "Western Sahara",
          "Yemen",
          "Zambia",
          "Zimbabwe"
         ],
         "type": "choropleth",
         "z": [
          39703,
          15231,
          52940,
          2696,
          6031,
          3,
          111,
          883883,
          55736,
          4188,
          27244,
          54685,
          41752,
          5023,
          75287,
          377073,
          206,
          82471,
          156838,
          2427,
          2411,
          184,
          306,
          138463,
          147,
          29917,
          4520,
          5082637,
          71,
          146,
          23871,
          2271,
          517,
          283,
          21203,
          178117,
          6913,
          221,
          4854,
          1291,
          479595,
          90778,
          902747,
          495,
          5118,
          87439,
          20128,
          19932,
          5948,
          571,
          1986,
          109374,
          10840,
          32082,
          5423,
          32,
          118014,
          146828,
          104387,
          29951,
          5063,
          414,
          3846,
          83429,
          477,
          13,
          32,
          11580,
          718873,
          2692,
          8835,
          3628,
          11271,
          322864,
          47005,
          476,
          22078,
          16,
          24,
          3078,
          97544,
          258,
          10996,
          2362,
          3405,
          8860,
          83146,
          36596,
          3460,
          7053806,
          328952,
          496253,
          400124,
          41714,
          345,
          290003,
          349494,
          7559,
          88912,
          449,
          23998,
          143632,
          41158,
          16007,
          110568,
          48924,
          23,
          2596,
          52558,
          1800,
          1363,
          41686,
          138,
          5963,
          9360,
          20555,
          16702,
          5821,
          15096,
          10859,
          3273,
          3681,
          7523,
          395,
          814328,
          61762,
          233,
          316,
          13641,
          13,
          146398,
          9844,
          26064,
          11891,
          105684,
          168082,
          27,
          1515,
          5264,
          1201,
          60103,
          77,
          15221,
          104129,
          318932,
          55134,
          119666,
          549,
          48978,
          846088,
          336926,
          121638,
          85574,
          53364,
          127778,
          152403,
          1285084,
          4892,
          19,
          29,
          64,
          752,
          922,
          338944,
          15244,
          34685,
          148,
          2300,
          57866,
          707,
          18797,
          8254,
          3847,
          690896,
          24606,
          2761,
          4628,
          13670,
          5035,
          5660,
          60230,
          4673,
          527,
          10180,
          509,
          3634,
          28,
          1935,
          5043,
          31259,
          334031,
          695,
          9701,
          256266,
          105133,
          590844,
          7718947,
          1327,
          2268,
          60894,
          12,
          82453,
          1107,
          766,
          2055,
          15339,
          8010
         ]
        }
       ],
       "layout": {
        "annotations": [
         {
          "showarrow": false,
          "text": "Projection",
          "x": 0.1,
          "xanchor": "right",
          "xref": "paper",
          "y": 0.8,
          "yanchor": "bottom"
         }
        ],
        "geo": {
         "projection": {
          "type": "hammer"
         },
         "showcoastlines": true,
         "showframe": true,
         "showlakes": true,
         "showocean": true
        },
        "template": {
         "data": {
          "bar": [
           {
            "error_x": {
             "color": "#2a3f5f"
            },
            "error_y": {
             "color": "#2a3f5f"
            },
            "marker": {
             "line": {
              "color": "#E5ECF6",
              "width": 0.5
             }
            },
            "type": "bar"
           }
          ],
          "barpolar": [
           {
            "marker": {
             "line": {
              "color": "#E5ECF6",
              "width": 0.5
             }
            },
            "type": "barpolar"
           }
          ],
          "carpet": [
           {
            "aaxis": {
             "endlinecolor": "#2a3f5f",
             "gridcolor": "white",
             "linecolor": "white",
             "minorgridcolor": "white",
             "startlinecolor": "#2a3f5f"
            },
            "baxis": {
             "endlinecolor": "#2a3f5f",
             "gridcolor": "white",
             "linecolor": "white",
             "minorgridcolor": "white",
             "startlinecolor": "#2a3f5f"
            },
            "type": "carpet"
           }
          ],
          "choropleth": [
           {
            "colorbar": {
             "outlinewidth": 0,
             "ticks": ""
            },
            "type": "choropleth"
           }
          ],
          "contour": [
           {
            "colorbar": {
             "outlinewidth": 0,
             "ticks": ""
            },
            "colorscale": [
             [
              0,
              "#0d0887"
             ],
             [
              0.1111111111111111,
              "#46039f"
             ],
             [
              0.2222222222222222,
              "#7201a8"
             ],
             [
              0.3333333333333333,
              "#9c179e"
             ],
             [
              0.4444444444444444,
              "#bd3786"
             ],
             [
              0.5555555555555556,
              "#d8576b"
             ],
             [
              0.6666666666666666,
              "#ed7953"
             ],
             [
              0.7777777777777778,
              "#fb9f3a"
             ],
             [
              0.8888888888888888,
              "#fdca26"
             ],
             [
              1,
              "#f0f921"
             ]
            ],
            "type": "contour"
           }
          ],
          "contourcarpet": [
           {
            "colorbar": {
             "outlinewidth": 0,
             "ticks": ""
            },
            "type": "contourcarpet"
           }
          ],
          "heatmap": [
           {
            "colorbar": {
             "outlinewidth": 0,
             "ticks": ""
            },
            "colorscale": [
             [
              0,
              "#0d0887"
             ],
             [
              0.1111111111111111,
              "#46039f"
             ],
             [
              0.2222222222222222,
              "#7201a8"
             ],
             [
              0.3333333333333333,
              "#9c179e"
             ],
             [
              0.4444444444444444,
              "#bd3786"
             ],
             [
              0.5555555555555556,
              "#d8576b"
             ],
             [
              0.6666666666666666,
              "#ed7953"
             ],
             [
              0.7777777777777778,
              "#fb9f3a"
             ],
             [
              0.8888888888888888,
              "#fdca26"
             ],
             [
              1,
              "#f0f921"
             ]
            ],
            "type": "heatmap"
           }
          ],
          "heatmapgl": [
           {
            "colorbar": {
             "outlinewidth": 0,
             "ticks": ""
            },
            "colorscale": [
             [
              0,
              "#0d0887"
             ],
             [
              0.1111111111111111,
              "#46039f"
             ],
             [
              0.2222222222222222,
              "#7201a8"
             ],
             [
              0.3333333333333333,
              "#9c179e"
             ],
             [
              0.4444444444444444,
              "#bd3786"
             ],
             [
              0.5555555555555556,
              "#d8576b"
             ],
             [
              0.6666666666666666,
              "#ed7953"
             ],
             [
              0.7777777777777778,
              "#fb9f3a"
             ],
             [
              0.8888888888888888,
              "#fdca26"
             ],
             [
              1,
              "#f0f921"
             ]
            ],
            "type": "heatmapgl"
           }
          ],
          "histogram": [
           {
            "marker": {
             "colorbar": {
              "outlinewidth": 0,
              "ticks": ""
             }
            },
            "type": "histogram"
           }
          ],
          "histogram2d": [
           {
            "colorbar": {
             "outlinewidth": 0,
             "ticks": ""
            },
            "colorscale": [
             [
              0,
              "#0d0887"
             ],
             [
              0.1111111111111111,
              "#46039f"
             ],
             [
              0.2222222222222222,
              "#7201a8"
             ],
             [
              0.3333333333333333,
              "#9c179e"
             ],
             [
              0.4444444444444444,
              "#bd3786"
             ],
             [
              0.5555555555555556,
              "#d8576b"
             ],
             [
              0.6666666666666666,
              "#ed7953"
             ],
             [
              0.7777777777777778,
              "#fb9f3a"
             ],
             [
              0.8888888888888888,
              "#fdca26"
             ],
             [
              1,
              "#f0f921"
             ]
            ],
            "type": "histogram2d"
           }
          ],
          "histogram2dcontour": [
           {
            "colorbar": {
             "outlinewidth": 0,
             "ticks": ""
            },
            "colorscale": [
             [
              0,
              "#0d0887"
             ],
             [
              0.1111111111111111,
              "#46039f"
             ],
             [
              0.2222222222222222,
              "#7201a8"
             ],
             [
              0.3333333333333333,
              "#9c179e"
             ],
             [
              0.4444444444444444,
              "#bd3786"
             ],
             [
              0.5555555555555556,
              "#d8576b"
             ],
             [
              0.6666666666666666,
              "#ed7953"
             ],
             [
              0.7777777777777778,
              "#fb9f3a"
             ],
             [
              0.8888888888888888,
              "#fdca26"
             ],
             [
              1,
              "#f0f921"
             ]
            ],
            "type": "histogram2dcontour"
           }
          ],
          "mesh3d": [
           {
            "colorbar": {
             "outlinewidth": 0,
             "ticks": ""
            },
            "type": "mesh3d"
           }
          ],
          "parcoords": [
           {
            "line": {
             "colorbar": {
              "outlinewidth": 0,
              "ticks": ""
             }
            },
            "type": "parcoords"
           }
          ],
          "pie": [
           {
            "automargin": true,
            "type": "pie"
           }
          ],
          "scatter": [
           {
            "marker": {
             "colorbar": {
              "outlinewidth": 0,
              "ticks": ""
             }
            },
            "type": "scatter"
           }
          ],
          "scatter3d": [
           {
            "line": {
             "colorbar": {
              "outlinewidth": 0,
              "ticks": ""
             }
            },
            "marker": {
             "colorbar": {
              "outlinewidth": 0,
              "ticks": ""
             }
            },
            "type": "scatter3d"
           }
          ],
          "scattercarpet": [
           {
            "marker": {
             "colorbar": {
              "outlinewidth": 0,
              "ticks": ""
             }
            },
            "type": "scattercarpet"
           }
          ],
          "scattergeo": [
           {
            "marker": {
             "colorbar": {
              "outlinewidth": 0,
              "ticks": ""
             }
            },
            "type": "scattergeo"
           }
          ],
          "scattergl": [
           {
            "marker": {
             "colorbar": {
              "outlinewidth": 0,
              "ticks": ""
             }
            },
            "type": "scattergl"
           }
          ],
          "scattermapbox": [
           {
            "marker": {
             "colorbar": {
              "outlinewidth": 0,
              "ticks": ""
             }
            },
            "type": "scattermapbox"
           }
          ],
          "scatterpolar": [
           {
            "marker": {
             "colorbar": {
              "outlinewidth": 0,
              "ticks": ""
             }
            },
            "type": "scatterpolar"
           }
          ],
          "scatterpolargl": [
           {
            "marker": {
             "colorbar": {
              "outlinewidth": 0,
              "ticks": ""
             }
            },
            "type": "scatterpolargl"
           }
          ],
          "scatterternary": [
           {
            "marker": {
             "colorbar": {
              "outlinewidth": 0,
              "ticks": ""
             }
            },
            "type": "scatterternary"
           }
          ],
          "surface": [
           {
            "colorbar": {
             "outlinewidth": 0,
             "ticks": ""
            },
            "colorscale": [
             [
              0,
              "#0d0887"
             ],
             [
              0.1111111111111111,
              "#46039f"
             ],
             [
              0.2222222222222222,
              "#7201a8"
             ],
             [
              0.3333333333333333,
              "#9c179e"
             ],
             [
              0.4444444444444444,
              "#bd3786"
             ],
             [
              0.5555555555555556,
              "#d8576b"
             ],
             [
              0.6666666666666666,
              "#ed7953"
             ],
             [
              0.7777777777777778,
              "#fb9f3a"
             ],
             [
              0.8888888888888888,
              "#fdca26"
             ],
             [
              1,
              "#f0f921"
             ]
            ],
            "type": "surface"
           }
          ],
          "table": [
           {
            "cells": {
             "fill": {
              "color": "#EBF0F8"
             },
             "line": {
              "color": "white"
             }
            },
            "header": {
             "fill": {
              "color": "#C8D4E3"
             },
             "line": {
              "color": "white"
             }
            },
            "type": "table"
           }
          ]
         },
         "layout": {
          "annotationdefaults": {
           "arrowcolor": "#2a3f5f",
           "arrowhead": 0,
           "arrowwidth": 1
          },
          "coloraxis": {
           "colorbar": {
            "outlinewidth": 0,
            "ticks": ""
           }
          },
          "colorscale": {
           "diverging": [
            [
             0,
             "#8e0152"
            ],
            [
             0.1,
             "#c51b7d"
            ],
            [
             0.2,
             "#de77ae"
            ],
            [
             0.3,
             "#f1b6da"
            ],
            [
             0.4,
             "#fde0ef"
            ],
            [
             0.5,
             "#f7f7f7"
            ],
            [
             0.6,
             "#e6f5d0"
            ],
            [
             0.7,
             "#b8e186"
            ],
            [
             0.8,
             "#7fbc41"
            ],
            [
             0.9,
             "#4d9221"
            ],
            [
             1,
             "#276419"
            ]
           ],
           "sequential": [
            [
             0,
             "#0d0887"
            ],
            [
             0.1111111111111111,
             "#46039f"
            ],
            [
             0.2222222222222222,
             "#7201a8"
            ],
            [
             0.3333333333333333,
             "#9c179e"
            ],
            [
             0.4444444444444444,
             "#bd3786"
            ],
            [
             0.5555555555555556,
             "#d8576b"
            ],
            [
             0.6666666666666666,
             "#ed7953"
            ],
            [
             0.7777777777777778,
             "#fb9f3a"
            ],
            [
             0.8888888888888888,
             "#fdca26"
            ],
            [
             1,
             "#f0f921"
            ]
           ],
           "sequentialminus": [
            [
             0,
             "#0d0887"
            ],
            [
             0.1111111111111111,
             "#46039f"
            ],
            [
             0.2222222222222222,
             "#7201a8"
            ],
            [
             0.3333333333333333,
             "#9c179e"
            ],
            [
             0.4444444444444444,
             "#bd3786"
            ],
            [
             0.5555555555555556,
             "#d8576b"
            ],
            [
             0.6666666666666666,
             "#ed7953"
            ],
            [
             0.7777777777777778,
             "#fb9f3a"
            ],
            [
             0.8888888888888888,
             "#fdca26"
            ],
            [
             1,
             "#f0f921"
            ]
           ]
          },
          "colorway": [
           "#636efa",
           "#EF553B",
           "#00cc96",
           "#ab63fa",
           "#FFA15A",
           "#19d3f3",
           "#FF6692",
           "#B6E880",
           "#FF97FF",
           "#FECB52"
          ],
          "font": {
           "color": "#2a3f5f"
          },
          "geo": {
           "bgcolor": "white",
           "lakecolor": "white",
           "landcolor": "#E5ECF6",
           "showlakes": true,
           "showland": true,
           "subunitcolor": "white"
          },
          "hoverlabel": {
           "align": "left"
          },
          "hovermode": "closest",
          "mapbox": {
           "style": "light"
          },
          "paper_bgcolor": "white",
          "plot_bgcolor": "#E5ECF6",
          "polar": {
           "angularaxis": {
            "gridcolor": "white",
            "linecolor": "white",
            "ticks": ""
           },
           "bgcolor": "#E5ECF6",
           "radialaxis": {
            "gridcolor": "white",
            "linecolor": "white",
            "ticks": ""
           }
          },
          "scene": {
           "xaxis": {
            "backgroundcolor": "#E5ECF6",
            "gridcolor": "white",
            "gridwidth": 2,
            "linecolor": "white",
            "showbackground": true,
            "ticks": "",
            "zerolinecolor": "white"
           },
           "yaxis": {
            "backgroundcolor": "#E5ECF6",
            "gridcolor": "white",
            "gridwidth": 2,
            "linecolor": "white",
            "showbackground": true,
            "ticks": "",
            "zerolinecolor": "white"
           },
           "zaxis": {
            "backgroundcolor": "#E5ECF6",
            "gridcolor": "white",
            "gridwidth": 2,
            "linecolor": "white",
            "showbackground": true,
            "ticks": "",
            "zerolinecolor": "white"
           }
          },
          "shapedefaults": {
           "line": {
            "color": "#2a3f5f"
           }
          },
          "ternary": {
           "aaxis": {
            "gridcolor": "white",
            "linecolor": "white",
            "ticks": ""
           },
           "baxis": {
            "gridcolor": "white",
            "linecolor": "white",
            "ticks": ""
           },
           "bgcolor": "#E5ECF6",
           "caxis": {
            "gridcolor": "white",
            "linecolor": "white",
            "ticks": ""
           }
          },
          "title": {
           "x": 0.05
          },
          "xaxis": {
           "automargin": true,
           "gridcolor": "white",
           "linecolor": "white",
           "ticks": "",
           "title": {
            "standoff": 15
           },
           "zerolinecolor": "white",
           "zerolinewidth": 2
          },
          "yaxis": {
           "automargin": true,
           "gridcolor": "white",
           "linecolor": "white",
           "ticks": "",
           "title": {
            "standoff": 15
           },
           "zerolinecolor": "white",
           "zerolinewidth": 2
          }
         }
        },
        "title": {
         "text": "CoronaVirus Total Cases"
        },
        "updatemenus": [
         {
          "buttons": [
           {
            "args": [
             "geo.projection.type",
             "equirectangular"
            ],
            "label": "equirectangular",
            "method": "relayout"
           },
           {
            "args": [
             "geo.projection.type",
             "mercator"
            ],
            "label": "mercator",
            "method": "relayout"
           },
           {
            "args": [
             "geo.projection.type",
             "orthographic"
            ],
            "label": "orthographic",
            "method": "relayout"
           },
           {
            "args": [
             "geo.projection.type",
             "natural earth"
            ],
            "label": "natural earth",
            "method": "relayout"
           },
           {
            "args": [
             "geo.projection.type",
             "kavrayskiy7"
            ],
            "label": "kavrayskiy7",
            "method": "relayout"
           },
           {
            "args": [
             "geo.projection.type",
             "miller"
            ],
            "label": "miller",
            "method": "relayout"
           },
           {
            "args": [
             "geo.projection.type",
             "robinson"
            ],
            "label": "robinson",
            "method": "relayout"
           },
           {
            "args": [
             "geo.projection.type",
             "eckert4"
            ],
            "label": "eckert4",
            "method": "relayout"
           },
           {
            "args": [
             "geo.projection.type",
             "azimuthal equal area"
            ],
            "label": "azimuthal equal area",
            "method": "relayout"
           },
           {
            "args": [
             "geo.projection.type",
             "azimuthal equidistant"
            ],
            "label": "azimuthal equidistant",
            "method": "relayout"
           },
           {
            "args": [
             "geo.projection.type",
             "conic equal area"
            ],
            "label": "conic equal area",
            "method": "relayout"
           },
           {
            "args": [
             "geo.projection.type",
             "conic conformal"
            ],
            "label": "conic conformal",
            "method": "relayout"
           },
           {
            "args": [
             "geo.projection.type",
             "conic equidistant"
            ],
            "label": "conic equidistant",
            "method": "relayout"
           },
           {
            "args": [
             "geo.projection.type",
             "gnomonic"
            ],
            "label": "gnomonic",
            "method": "relayout"
           },
           {
            "args": [
             "geo.projection.type",
             "stereographic"
            ],
            "label": "stereographic",
            "method": "relayout"
           },
           {
            "args": [
             "geo.projection.type",
             "mollweide"
            ],
            "label": "mollweide",
            "method": "relayout"
           },
           {
            "args": [
             "geo.projection.type",
             "hammer"
            ],
            "label": "hammer",
            "method": "relayout"
           },
           {
            "args": [
             "geo.projection.type",
             "transverse mercator"
            ],
            "label": "transverse mercator",
            "method": "relayout"
           },
           {
            "args": [
             "geo.projection.type",
             "albers usa"
            ],
            "label": "albers usa",
            "method": "relayout"
           },
           {
            "args": [
             "geo.projection.type",
             "winkel tripel"
            ],
            "label": "winkel tripel",
            "method": "relayout"
           }
          ],
          "x": 0.1,
          "y": 0.8,
          "yanchor": "top"
         }
        ]
       }
      },
      "text/html": [
       "<div>                            <div id=\"1a7068c2-157a-4b5c-9d98-16ff162ca71a\" class=\"plotly-graph-div\" style=\"height:525px; width:100%;\"></div>            <script type=\"text/javascript\">                require([\"plotly\"], function(Plotly) {                    window.PLOTLYENV=window.PLOTLYENV || {};                                    if (document.getElementById(\"1a7068c2-157a-4b5c-9d98-16ff162ca71a\")) {                    Plotly.newPlot(                        \"1a7068c2-157a-4b5c-9d98-16ff162ca71a\",                        [{\"colorscale\": [[0.0, \"rgb(0,0,255)\"], [0.1, \"rgb(51,153,255)\"], [0.2, \"rgb(102,204,255)\"], [0.3, \"rgb(153,204,255)\"], [0.4, \"rgb(204,204,255)\"], [0.5, \"rgb(255,255,255)\"], [0.6, \"rgb(255,204,255)\"], [0.7, \"rgb(255,153,255)\"], [0.8, \"rgb(255,102,204)\"], [0.9, \"rgb(255,102,102)\"], [1.0, \"rgb(255,0,0)\"]], \"locationmode\": \"country names\", \"locations\": [\"Afghanistan\", \"Albania\", \"Algeria\", \"Andorra\", \"Angola\", \"Anguilla\", \"Antigua and Barbuda\", \"Argentina\", \"Armenia\", \"Aruba\", \"Australia\", \"Austria\", \"Azerbaijan\", \"Bahamas\", \"Bahrain\", \"Bangladesh\", \"Barbados\", \"Belarus\", \"Belgium\", \"Belize\", \"Benin\", \"Bermuda\", \"Bhutan\", \"Bolivia\", \"Bonaire Sint Eustatius and Saba\", \"Bosnia and Herzegovina\", \"Botswana\", \"Brazil\", \"British Virgin Islands\", \"Brunei\", \"Bulgaria\", \"Burkina Faso\", \"Burundi\", \"Cambodia\", \"Cameroon\", \"Canada\", \"Cape Verde\", \"Cayman Islands\", \"Central African Republic\", \"Chad\", \"Chile\", \"China\", \"Colombia\", \"Comoros\", \"Congo\", \"Costa Rica\", \"Cote d'Ivoire\", \"Croatia\", \"Cuba\", \"Curacao\", \"Cyprus\", \"Czech Republic\", \"Democratic Republic of Congo\", \"Denmark\", \"Djibouti\", \"Dominica\", \"Dominican Republic\", \"Ecuador\", \"Egypt\", \"El Salvador\", \"Equatorial Guinea\", \"Eritrea\", \"Estonia\", \"Ethiopia\", \"Faeroe Islands\", \"Falkland Islands\", \"Fiji\", \"Finland\", \"France\", \"French Polynesia\", \"Gabon\", \"Gambia\", \"Georgia\", \"Germany\", \"Ghana\", \"Gibraltar\", \"Greece\", \"Greenland\", \"Grenada\", \"Guam\", \"Guatemala\", \"Guernsey\", \"Guinea\", \"Guinea-Bissau\", \"Guyana\", \"Haiti\", \"Honduras\", \"Hungary\", \"Iceland\", \"India\", \"Indonesia\", \"Iran\", \"Iraq\", \"Ireland\", \"Isle of Man\", \"Israel\", \"Italy\", \"Jamaica\", \"Japan\", \"Jersey\", \"Jordan\", \"Kazakhstan\", \"Kenya\", \"Kosovo\", \"Kuwait\", \"Kyrgyzstan\", \"Laos\", \"Latvia\", \"Lebanon\", \"Lesotho\", \"Liberia\", \"Libya\", \"Liechtenstein\", \"Lithuania\", \"Luxembourg\", \"Macedonia\", \"Madagascar\", \"Malawi\", \"Malaysia\", \"Maldives\", \"Mali\", \"Malta\", \"Mauritania\", \"Mauritius\", \"Mexico\", \"Moldova\", \"Monaco\", \"Mongolia\", \"Montenegro\", \"Montserrat\", \"Morocco\", \"Mozambique\", \"Myanmar\", \"Namibia\", \"Nepal\", \"Netherlands\", \"New Caledonia\", \"New Zealand\", \"Nicaragua\", \"Niger\", \"Nigeria\", \"Northern Mariana Islands\", \"Norway\", \"Oman\", \"Pakistan\", \"Palestine\", \"Panama\", \"Papua New Guinea\", \"Paraguay\", \"Peru\", \"Philippines\", \"Poland\", \"Portugal\", \"Puerto Rico\", \"Qatar\", \"Romania\", \"Russia\", \"Rwanda\", \"Saint Kitts and Nevis\", \"Saint Lucia\", \"Saint Vincent and the Grenadines\", \"San Marino\", \"Sao Tome and Principe\", \"Saudi Arabia\", \"Senegal\", \"Serbia\", \"Seychelles\", \"Sierra Leone\", \"Singapore\", \"Sint Maarten (Dutch part)\", \"Slovakia\", \"Slovenia\", \"Somalia\", \"South Africa\", \"South Korea\", \"South Sudan\", \"Sri Lanka\", \"Sudan\", \"Suriname\", \"Swaziland\", \"Switzerland\", \"Syria\", \"Taiwan\", \"Tajikistan\", \"Tanzania\", \"Thailand\", \"Timor\", \"Togo\", \"Trinidad and Tobago\", \"Tunisia\", \"Turkey\", \"Turks and Caicos Islands\", \"Uganda\", \"Ukraine\", \"United Arab Emirates\", \"United Kingdom\", \"United States\", \"United States Virgin Islands\", \"Uruguay\", \"Uzbekistan\", \"Vatican\", \"Venezuela\", \"Vietnam\", \"Western Sahara\", \"Yemen\", \"Zambia\", \"Zimbabwe\"], \"text\": [\"Afghanistan\", \"Albania\", \"Algeria\", \"Andorra\", \"Angola\", \"Anguilla\", \"Antigua and Barbuda\", \"Argentina\", \"Armenia\", \"Aruba\", \"Australia\", \"Austria\", \"Azerbaijan\", \"Bahamas\", \"Bahrain\", \"Bangladesh\", \"Barbados\", \"Belarus\", \"Belgium\", \"Belize\", \"Benin\", \"Bermuda\", \"Bhutan\", \"Bolivia\", \"Bonaire Sint Eustatius and Saba\", \"Bosnia and Herzegovina\", \"Botswana\", \"Brazil\", \"British Virgin Islands\", \"Brunei\", \"Bulgaria\", \"Burkina Faso\", \"Burundi\", \"Cambodia\", \"Cameroon\", \"Canada\", \"Cape Verde\", \"Cayman Islands\", \"Central African Republic\", \"Chad\", \"Chile\", \"China\", \"Colombia\", \"Comoros\", \"Congo\", \"Costa Rica\", \"Cote d'Ivoire\", \"Croatia\", \"Cuba\", \"Curacao\", \"Cyprus\", \"Czech Republic\", \"Democratic Republic of Congo\", \"Denmark\", \"Djibouti\", \"Dominica\", \"Dominican Republic\", \"Ecuador\", \"Egypt\", \"El Salvador\", \"Equatorial Guinea\", \"Eritrea\", \"Estonia\", \"Ethiopia\", \"Faeroe Islands\", \"Falkland Islands\", \"Fiji\", \"Finland\", \"France\", \"French Polynesia\", \"Gabon\", \"Gambia\", \"Georgia\", \"Germany\", \"Ghana\", \"Gibraltar\", \"Greece\", \"Greenland\", \"Grenada\", \"Guam\", \"Guatemala\", \"Guernsey\", \"Guinea\", \"Guinea-Bissau\", \"Guyana\", \"Haiti\", \"Honduras\", \"Hungary\", \"Iceland\", \"India\", \"Indonesia\", \"Iran\", \"Iraq\", \"Ireland\", \"Isle of Man\", \"Israel\", \"Italy\", \"Jamaica\", \"Japan\", \"Jersey\", \"Jordan\", \"Kazakhstan\", \"Kenya\", \"Kosovo\", \"Kuwait\", \"Kyrgyzstan\", \"Laos\", \"Latvia\", \"Lebanon\", \"Lesotho\", \"Liberia\", \"Libya\", \"Liechtenstein\", \"Lithuania\", \"Luxembourg\", \"Macedonia\", \"Madagascar\", \"Malawi\", \"Malaysia\", \"Maldives\", \"Mali\", \"Malta\", \"Mauritania\", \"Mauritius\", \"Mexico\", \"Moldova\", \"Monaco\", \"Mongolia\", \"Montenegro\", \"Montserrat\", \"Morocco\", \"Mozambique\", \"Myanmar\", \"Namibia\", \"Nepal\", \"Netherlands\", \"New Caledonia\", \"New Zealand\", \"Nicaragua\", \"Niger\", \"Nigeria\", \"Northern Mariana Islands\", \"Norway\", \"Oman\", \"Pakistan\", \"Palestine\", \"Panama\", \"Papua New Guinea\", \"Paraguay\", \"Peru\", \"Philippines\", \"Poland\", \"Portugal\", \"Puerto Rico\", \"Qatar\", \"Romania\", \"Russia\", \"Rwanda\", \"Saint Kitts and Nevis\", \"Saint Lucia\", \"Saint Vincent and the Grenadines\", \"San Marino\", \"Sao Tome and Principe\", \"Saudi Arabia\", \"Senegal\", \"Serbia\", \"Seychelles\", \"Sierra Leone\", \"Singapore\", \"Sint Maarten (Dutch part)\", \"Slovakia\", \"Slovenia\", \"Somalia\", \"South Africa\", \"South Korea\", \"South Sudan\", \"Sri Lanka\", \"Sudan\", \"Suriname\", \"Swaziland\", \"Switzerland\", \"Syria\", \"Taiwan\", \"Tajikistan\", \"Tanzania\", \"Thailand\", \"Timor\", \"Togo\", \"Trinidad and Tobago\", \"Tunisia\", \"Turkey\", \"Turks and Caicos Islands\", \"Uganda\", \"Ukraine\", \"United Arab Emirates\", \"United Kingdom\", \"United States\", \"United States Virgin Islands\", \"Uruguay\", \"Uzbekistan\", \"Vatican\", \"Venezuela\", \"Vietnam\", \"Western Sahara\", \"Yemen\", \"Zambia\", \"Zimbabwe\"], \"type\": \"choropleth\", \"z\": [39703, 15231, 52940, 2696, 6031, 3, 111, 883883, 55736, 4188, 27244, 54685, 41752, 5023, 75287, 377073, 206, 82471, 156838, 2427, 2411, 184, 306, 138463, 147, 29917, 4520, 5082637, 71, 146, 23871, 2271, 517, 283, 21203, 178117, 6913, 221, 4854, 1291, 479595, 90778, 902747, 495, 5118, 87439, 20128, 19932, 5948, 571, 1986, 109374, 10840, 32082, 5423, 32, 118014, 146828, 104387, 29951, 5063, 414, 3846, 83429, 477, 13, 32, 11580, 718873, 2692, 8835, 3628, 11271, 322864, 47005, 476, 22078, 16, 24, 3078, 97544, 258, 10996, 2362, 3405, 8860, 83146, 36596, 3460, 7053806, 328952, 496253, 400124, 41714, 345, 290003, 349494, 7559, 88912, 449, 23998, 143632, 41158, 16007, 110568, 48924, 23, 2596, 52558, 1800, 1363, 41686, 138, 5963, 9360, 20555, 16702, 5821, 15096, 10859, 3273, 3681, 7523, 395, 814328, 61762, 233, 316, 13641, 13, 146398, 9844, 26064, 11891, 105684, 168082, 27, 1515, 5264, 1201, 60103, 77, 15221, 104129, 318932, 55134, 119666, 549, 48978, 846088, 336926, 121638, 85574, 53364, 127778, 152403, 1285084, 4892, 19, 29, 64, 752, 922, 338944, 15244, 34685, 148, 2300, 57866, 707, 18797, 8254, 3847, 690896, 24606, 2761, 4628, 13670, 5035, 5660, 60230, 4673, 527, 10180, 509, 3634, 28, 1935, 5043, 31259, 334031, 695, 9701, 256266, 105133, 590844, 7718947, 1327, 2268, 60894, 12, 82453, 1107, 766, 2055, 15339, 8010]}],                        {\"annotations\": [{\"showarrow\": false, \"text\": \"Projection\", \"x\": 0.1, \"xanchor\": \"right\", \"xref\": \"paper\", \"y\": 0.8, \"yanchor\": \"bottom\"}], \"geo\": {\"projection\": {\"type\": \"hammer\"}, \"showcoastlines\": true, \"showframe\": true, \"showlakes\": true, \"showocean\": true}, \"template\": {\"data\": {\"bar\": [{\"error_x\": {\"color\": \"#2a3f5f\"}, \"error_y\": {\"color\": \"#2a3f5f\"}, \"marker\": {\"line\": {\"color\": \"#E5ECF6\", \"width\": 0.5}}, \"type\": \"bar\"}], \"barpolar\": [{\"marker\": {\"line\": {\"color\": \"#E5ECF6\", \"width\": 0.5}}, \"type\": \"barpolar\"}], \"carpet\": [{\"aaxis\": {\"endlinecolor\": \"#2a3f5f\", \"gridcolor\": \"white\", \"linecolor\": \"white\", \"minorgridcolor\": \"white\", \"startlinecolor\": \"#2a3f5f\"}, \"baxis\": {\"endlinecolor\": \"#2a3f5f\", \"gridcolor\": \"white\", \"linecolor\": \"white\", \"minorgridcolor\": \"white\", \"startlinecolor\": \"#2a3f5f\"}, \"type\": \"carpet\"}], \"choropleth\": [{\"colorbar\": {\"outlinewidth\": 0, \"ticks\": \"\"}, \"type\": \"choropleth\"}], \"contour\": [{\"colorbar\": {\"outlinewidth\": 0, \"ticks\": \"\"}, \"colorscale\": [[0.0, \"#0d0887\"], [0.1111111111111111, \"#46039f\"], [0.2222222222222222, \"#7201a8\"], [0.3333333333333333, \"#9c179e\"], [0.4444444444444444, \"#bd3786\"], [0.5555555555555556, \"#d8576b\"], [0.6666666666666666, \"#ed7953\"], [0.7777777777777778, \"#fb9f3a\"], [0.8888888888888888, \"#fdca26\"], [1.0, \"#f0f921\"]], \"type\": \"contour\"}], \"contourcarpet\": [{\"colorbar\": {\"outlinewidth\": 0, \"ticks\": \"\"}, \"type\": \"contourcarpet\"}], \"heatmap\": [{\"colorbar\": {\"outlinewidth\": 0, \"ticks\": \"\"}, \"colorscale\": [[0.0, \"#0d0887\"], [0.1111111111111111, \"#46039f\"], [0.2222222222222222, \"#7201a8\"], [0.3333333333333333, \"#9c179e\"], [0.4444444444444444, \"#bd3786\"], [0.5555555555555556, \"#d8576b\"], [0.6666666666666666, \"#ed7953\"], [0.7777777777777778, \"#fb9f3a\"], [0.8888888888888888, \"#fdca26\"], [1.0, \"#f0f921\"]], \"type\": \"heatmap\"}], \"heatmapgl\": [{\"colorbar\": {\"outlinewidth\": 0, \"ticks\": \"\"}, \"colorscale\": [[0.0, \"#0d0887\"], [0.1111111111111111, \"#46039f\"], [0.2222222222222222, \"#7201a8\"], [0.3333333333333333, \"#9c179e\"], [0.4444444444444444, \"#bd3786\"], [0.5555555555555556, \"#d8576b\"], [0.6666666666666666, \"#ed7953\"], [0.7777777777777778, \"#fb9f3a\"], [0.8888888888888888, \"#fdca26\"], [1.0, \"#f0f921\"]], \"type\": \"heatmapgl\"}], \"histogram\": [{\"marker\": {\"colorbar\": {\"outlinewidth\": 0, \"ticks\": \"\"}}, \"type\": \"histogram\"}], \"histogram2d\": [{\"colorbar\": {\"outlinewidth\": 0, \"ticks\": \"\"}, \"colorscale\": [[0.0, \"#0d0887\"], [0.1111111111111111, \"#46039f\"], [0.2222222222222222, \"#7201a8\"], [0.3333333333333333, \"#9c179e\"], [0.4444444444444444, \"#bd3786\"], [0.5555555555555556, \"#d8576b\"], [0.6666666666666666, \"#ed7953\"], [0.7777777777777778, \"#fb9f3a\"], [0.8888888888888888, \"#fdca26\"], [1.0, \"#f0f921\"]], \"type\": \"histogram2d\"}], \"histogram2dcontour\": [{\"colorbar\": {\"outlinewidth\": 0, \"ticks\": \"\"}, \"colorscale\": [[0.0, \"#0d0887\"], [0.1111111111111111, \"#46039f\"], [0.2222222222222222, \"#7201a8\"], [0.3333333333333333, \"#9c179e\"], [0.4444444444444444, \"#bd3786\"], [0.5555555555555556, \"#d8576b\"], [0.6666666666666666, \"#ed7953\"], [0.7777777777777778, \"#fb9f3a\"], [0.8888888888888888, \"#fdca26\"], [1.0, \"#f0f921\"]], \"type\": \"histogram2dcontour\"}], \"mesh3d\": [{\"colorbar\": {\"outlinewidth\": 0, \"ticks\": \"\"}, \"type\": \"mesh3d\"}], \"parcoords\": [{\"line\": {\"colorbar\": {\"outlinewidth\": 0, \"ticks\": \"\"}}, \"type\": \"parcoords\"}], \"pie\": [{\"automargin\": true, \"type\": \"pie\"}], \"scatter\": [{\"marker\": {\"colorbar\": {\"outlinewidth\": 0, \"ticks\": \"\"}}, \"type\": \"scatter\"}], \"scatter3d\": [{\"line\": {\"colorbar\": {\"outlinewidth\": 0, \"ticks\": \"\"}}, \"marker\": {\"colorbar\": {\"outlinewidth\": 0, \"ticks\": \"\"}}, \"type\": \"scatter3d\"}], \"scattercarpet\": [{\"marker\": {\"colorbar\": {\"outlinewidth\": 0, \"ticks\": \"\"}}, \"type\": \"scattercarpet\"}], \"scattergeo\": [{\"marker\": {\"colorbar\": {\"outlinewidth\": 0, \"ticks\": \"\"}}, \"type\": \"scattergeo\"}], \"scattergl\": [{\"marker\": {\"colorbar\": {\"outlinewidth\": 0, \"ticks\": \"\"}}, \"type\": \"scattergl\"}], \"scattermapbox\": [{\"marker\": {\"colorbar\": {\"outlinewidth\": 0, \"ticks\": \"\"}}, \"type\": \"scattermapbox\"}], \"scatterpolar\": [{\"marker\": {\"colorbar\": {\"outlinewidth\": 0, \"ticks\": \"\"}}, \"type\": \"scatterpolar\"}], \"scatterpolargl\": [{\"marker\": {\"colorbar\": {\"outlinewidth\": 0, \"ticks\": \"\"}}, \"type\": \"scatterpolargl\"}], \"scatterternary\": [{\"marker\": {\"colorbar\": {\"outlinewidth\": 0, \"ticks\": \"\"}}, \"type\": \"scatterternary\"}], \"surface\": [{\"colorbar\": {\"outlinewidth\": 0, \"ticks\": \"\"}, \"colorscale\": [[0.0, \"#0d0887\"], [0.1111111111111111, \"#46039f\"], [0.2222222222222222, \"#7201a8\"], [0.3333333333333333, \"#9c179e\"], [0.4444444444444444, \"#bd3786\"], [0.5555555555555556, \"#d8576b\"], [0.6666666666666666, \"#ed7953\"], [0.7777777777777778, \"#fb9f3a\"], [0.8888888888888888, \"#fdca26\"], [1.0, \"#f0f921\"]], \"type\": \"surface\"}], \"table\": [{\"cells\": {\"fill\": {\"color\": \"#EBF0F8\"}, \"line\": {\"color\": \"white\"}}, \"header\": {\"fill\": {\"color\": \"#C8D4E3\"}, \"line\": {\"color\": \"white\"}}, \"type\": \"table\"}]}, \"layout\": {\"annotationdefaults\": {\"arrowcolor\": \"#2a3f5f\", \"arrowhead\": 0, \"arrowwidth\": 1}, \"coloraxis\": {\"colorbar\": {\"outlinewidth\": 0, \"ticks\": \"\"}}, \"colorscale\": {\"diverging\": [[0, \"#8e0152\"], [0.1, \"#c51b7d\"], [0.2, \"#de77ae\"], [0.3, \"#f1b6da\"], [0.4, \"#fde0ef\"], [0.5, \"#f7f7f7\"], [0.6, \"#e6f5d0\"], [0.7, \"#b8e186\"], [0.8, \"#7fbc41\"], [0.9, \"#4d9221\"], [1, \"#276419\"]], \"sequential\": [[0.0, \"#0d0887\"], [0.1111111111111111, \"#46039f\"], [0.2222222222222222, \"#7201a8\"], [0.3333333333333333, \"#9c179e\"], [0.4444444444444444, \"#bd3786\"], [0.5555555555555556, \"#d8576b\"], [0.6666666666666666, \"#ed7953\"], [0.7777777777777778, \"#fb9f3a\"], [0.8888888888888888, \"#fdca26\"], [1.0, \"#f0f921\"]], \"sequentialminus\": [[0.0, \"#0d0887\"], [0.1111111111111111, \"#46039f\"], [0.2222222222222222, \"#7201a8\"], [0.3333333333333333, \"#9c179e\"], [0.4444444444444444, \"#bd3786\"], [0.5555555555555556, \"#d8576b\"], [0.6666666666666666, \"#ed7953\"], [0.7777777777777778, \"#fb9f3a\"], [0.8888888888888888, \"#fdca26\"], [1.0, \"#f0f921\"]]}, \"colorway\": [\"#636efa\", \"#EF553B\", \"#00cc96\", \"#ab63fa\", \"#FFA15A\", \"#19d3f3\", \"#FF6692\", \"#B6E880\", \"#FF97FF\", \"#FECB52\"], \"font\": {\"color\": \"#2a3f5f\"}, \"geo\": {\"bgcolor\": \"white\", \"lakecolor\": \"white\", \"landcolor\": \"#E5ECF6\", \"showlakes\": true, \"showland\": true, \"subunitcolor\": \"white\"}, \"hoverlabel\": {\"align\": \"left\"}, \"hovermode\": \"closest\", \"mapbox\": {\"style\": \"light\"}, \"paper_bgcolor\": \"white\", \"plot_bgcolor\": \"#E5ECF6\", \"polar\": {\"angularaxis\": {\"gridcolor\": \"white\", \"linecolor\": \"white\", \"ticks\": \"\"}, \"bgcolor\": \"#E5ECF6\", \"radialaxis\": {\"gridcolor\": \"white\", \"linecolor\": \"white\", \"ticks\": \"\"}}, \"scene\": {\"xaxis\": {\"backgroundcolor\": \"#E5ECF6\", \"gridcolor\": \"white\", \"gridwidth\": 2, \"linecolor\": \"white\", \"showbackground\": true, \"ticks\": \"\", \"zerolinecolor\": \"white\"}, \"yaxis\": {\"backgroundcolor\": \"#E5ECF6\", \"gridcolor\": \"white\", \"gridwidth\": 2, \"linecolor\": \"white\", \"showbackground\": true, \"ticks\": \"\", \"zerolinecolor\": \"white\"}, \"zaxis\": {\"backgroundcolor\": \"#E5ECF6\", \"gridcolor\": \"white\", \"gridwidth\": 2, \"linecolor\": \"white\", \"showbackground\": true, \"ticks\": \"\", \"zerolinecolor\": \"white\"}}, \"shapedefaults\": {\"line\": {\"color\": \"#2a3f5f\"}}, \"ternary\": {\"aaxis\": {\"gridcolor\": \"white\", \"linecolor\": \"white\", \"ticks\": \"\"}, \"baxis\": {\"gridcolor\": \"white\", \"linecolor\": \"white\", \"ticks\": \"\"}, \"bgcolor\": \"#E5ECF6\", \"caxis\": {\"gridcolor\": \"white\", \"linecolor\": \"white\", \"ticks\": \"\"}}, \"title\": {\"x\": 0.05}, \"xaxis\": {\"automargin\": true, \"gridcolor\": \"white\", \"linecolor\": \"white\", \"ticks\": \"\", \"title\": {\"standoff\": 15}, \"zerolinecolor\": \"white\", \"zerolinewidth\": 2}, \"yaxis\": {\"automargin\": true, \"gridcolor\": \"white\", \"linecolor\": \"white\", \"ticks\": \"\", \"title\": {\"standoff\": 15}, \"zerolinecolor\": \"white\", \"zerolinewidth\": 2}}}, \"title\": {\"text\": \"CoronaVirus Total Cases\"}, \"updatemenus\": [{\"buttons\": [{\"args\": [\"geo.projection.type\", \"equirectangular\"], \"label\": \"equirectangular\", \"method\": \"relayout\"}, {\"args\": [\"geo.projection.type\", \"mercator\"], \"label\": \"mercator\", \"method\": \"relayout\"}, {\"args\": [\"geo.projection.type\", \"orthographic\"], \"label\": \"orthographic\", \"method\": \"relayout\"}, {\"args\": [\"geo.projection.type\", \"natural earth\"], \"label\": \"natural earth\", \"method\": \"relayout\"}, {\"args\": [\"geo.projection.type\", \"kavrayskiy7\"], \"label\": \"kavrayskiy7\", \"method\": \"relayout\"}, {\"args\": [\"geo.projection.type\", \"miller\"], \"label\": \"miller\", \"method\": \"relayout\"}, {\"args\": [\"geo.projection.type\", \"robinson\"], \"label\": \"robinson\", \"method\": \"relayout\"}, {\"args\": [\"geo.projection.type\", \"eckert4\"], \"label\": \"eckert4\", \"method\": \"relayout\"}, {\"args\": [\"geo.projection.type\", \"azimuthal equal area\"], \"label\": \"azimuthal equal area\", \"method\": \"relayout\"}, {\"args\": [\"geo.projection.type\", \"azimuthal equidistant\"], \"label\": \"azimuthal equidistant\", \"method\": \"relayout\"}, {\"args\": [\"geo.projection.type\", \"conic equal area\"], \"label\": \"conic equal area\", \"method\": \"relayout\"}, {\"args\": [\"geo.projection.type\", \"conic conformal\"], \"label\": \"conic conformal\", \"method\": \"relayout\"}, {\"args\": [\"geo.projection.type\", \"conic equidistant\"], \"label\": \"conic equidistant\", \"method\": \"relayout\"}, {\"args\": [\"geo.projection.type\", \"gnomonic\"], \"label\": \"gnomonic\", \"method\": \"relayout\"}, {\"args\": [\"geo.projection.type\", \"stereographic\"], \"label\": \"stereographic\", \"method\": \"relayout\"}, {\"args\": [\"geo.projection.type\", \"mollweide\"], \"label\": \"mollweide\", \"method\": \"relayout\"}, {\"args\": [\"geo.projection.type\", \"hammer\"], \"label\": \"hammer\", \"method\": \"relayout\"}, {\"args\": [\"geo.projection.type\", \"transverse mercator\"], \"label\": \"transverse mercator\", \"method\": \"relayout\"}, {\"args\": [\"geo.projection.type\", \"albers usa\"], \"label\": \"albers usa\", \"method\": \"relayout\"}, {\"args\": [\"geo.projection.type\", \"winkel tripel\"], \"label\": \"winkel tripel\", \"method\": \"relayout\"}], \"x\": 0.1, \"y\": 0.8, \"yanchor\": \"top\"}]},                        {\"responsive\": true}                    ).then(function(){\n",
       "                            \n",
       "var gd = document.getElementById('1a7068c2-157a-4b5c-9d98-16ff162ca71a');\n",
       "var x = new MutationObserver(function (mutations, observer) {{\n",
       "        var display = window.getComputedStyle(gd).display;\n",
       "        if (!display || display === 'none') {{\n",
       "            console.log([gd, 'removed!']);\n",
       "            Plotly.purge(gd);\n",
       "            observer.disconnect();\n",
       "        }}\n",
       "}});\n",
       "\n",
       "// Listen for the removal of the full notebook cells\n",
       "var notebookContainer = gd.closest('#notebook-container');\n",
       "if (notebookContainer) {{\n",
       "    x.observe(notebookContainer, {childList: true});\n",
       "}}\n",
       "\n",
       "// Listen for the clearing of the current output cell\n",
       "var outputEl = gd.closest('.output');\n",
       "if (outputEl) {{\n",
       "    x.observe(outputEl, {childList: true});\n",
       "}}\n",
       "\n",
       "                        })                };                });            </script>        </div>"
      ]
     },
     "metadata": {},
     "output_type": "display_data"
    }
   ],
   "source": [
    "trace1 = [go.Choropleth(\n",
    "               colorscale = 'Picnic',\n",
    "               locationmode = 'country names',\n",
    "               locations = labels,\n",
    "               text = labels, \n",
    "               z = values1,\n",
    "               )]\n",
    "\n",
    "layout = dict(title = 'CoronaVirus Total Cases',\n",
    "                  geo = dict(\n",
    "                      showframe = True,\n",
    "                      showocean = True,\n",
    "                      showlakes = True,\n",
    "                      showcoastlines = True,\n",
    "                      projection = dict(\n",
    "                          type = 'hammer'\n",
    "        )))\n",
    "\n",
    "\n",
    "projections = [ \"equirectangular\", \"mercator\", \"orthographic\", \"natural earth\",\"kavrayskiy7\", \n",
    "               \"miller\", \"robinson\", \"eckert4\", \"azimuthal equal area\",\"azimuthal equidistant\", \n",
    "               \"conic equal area\", \"conic conformal\", \"conic equidistant\", \"gnomonic\", \"stereographic\", \n",
    "               \"mollweide\", \"hammer\", \"transverse mercator\", \"albers usa\", \"winkel tripel\" ]\n",
    "\n",
    "buttons = [dict(args = ['geo.projection.type', y],\n",
    "           label = y, method = 'relayout') for y in projections]\n",
    "annot = list([ dict( x=0.1, y=0.8, text='Projection', yanchor='bottom', \n",
    "                    xref='paper', xanchor='right', showarrow=False )])\n",
    "\n",
    "\n",
    "# Update Layout Object\n",
    "\n",
    "layout[ 'updatemenus' ] = list([ dict( x=0.1, y=0.8, buttons=buttons, yanchor='top' )])\n",
    "layout[ 'annotations' ] = annot\n",
    "\n",
    "\n",
    "fig = go.Figure(data = trace1, layout = layout)\n",
    "iplot(fig)\n"
   ]
  },
  {
   "cell_type": "markdown",
   "metadata": {},
   "source": [
    "# Bar Chart : Total Cases and Death Cases"
   ]
  },
  {
   "cell_type": "code",
   "execution_count": 8,
   "metadata": {
    "_kg_hide-input": true
   },
   "outputs": [
    {
     "data": {
      "application/vnd.plotly.v1+json": {
       "config": {
        "linkText": "Export to plot.ly",
        "plotlyServerURL": "https://plot.ly",
        "showLink": true
       },
       "data": [
        {
         "marker": {
          "color": "rgba(255, 153, 51, 0.6)",
          "line": {
           "color": "rgba(255, 153, 51, 1.0)",
           "width": 1
          }
         },
         "name": "total_cases",
         "orientation": "v",
         "text": "",
         "type": "bar",
         "x": [
          "United States",
          "India",
          "Brazil",
          "Russia",
          "Colombia",
          "Argentina",
          "Peru",
          "Mexico",
          "France",
          "South Africa"
         ],
         "y": [
          7718947,
          7053806,
          5082637,
          1285084,
          902747,
          883883,
          846088,
          814328,
          718873,
          690896
         ]
        },
        {
         "marker": {
          "color": "rgba(55, 128, 191, 0.6)",
          "line": {
           "color": "rgba(55, 128, 191, 1.0)",
           "width": 1
          }
         },
         "name": "total_deaths",
         "orientation": "v",
         "text": "",
         "type": "bar",
         "x": [
          "United States",
          "India",
          "Brazil",
          "Russia",
          "Colombia",
          "Argentina",
          "Peru",
          "Mexico",
          "France",
          "South Africa"
         ],
         "y": [
          214377,
          108334,
          150198,
          22454,
          27660,
          23581,
          33223,
          83642,
          32684,
          17673
         ]
        }
       ],
       "layout": {
        "legend": {
         "bgcolor": "#F5F6F9",
         "font": {
          "color": "#4D5663"
         }
        },
        "paper_bgcolor": "#F5F6F9",
        "plot_bgcolor": "#F5F6F9",
        "template": {
         "data": {
          "bar": [
           {
            "error_x": {
             "color": "#2a3f5f"
            },
            "error_y": {
             "color": "#2a3f5f"
            },
            "marker": {
             "line": {
              "color": "#E5ECF6",
              "width": 0.5
             }
            },
            "type": "bar"
           }
          ],
          "barpolar": [
           {
            "marker": {
             "line": {
              "color": "#E5ECF6",
              "width": 0.5
             }
            },
            "type": "barpolar"
           }
          ],
          "carpet": [
           {
            "aaxis": {
             "endlinecolor": "#2a3f5f",
             "gridcolor": "white",
             "linecolor": "white",
             "minorgridcolor": "white",
             "startlinecolor": "#2a3f5f"
            },
            "baxis": {
             "endlinecolor": "#2a3f5f",
             "gridcolor": "white",
             "linecolor": "white",
             "minorgridcolor": "white",
             "startlinecolor": "#2a3f5f"
            },
            "type": "carpet"
           }
          ],
          "choropleth": [
           {
            "colorbar": {
             "outlinewidth": 0,
             "ticks": ""
            },
            "type": "choropleth"
           }
          ],
          "contour": [
           {
            "colorbar": {
             "outlinewidth": 0,
             "ticks": ""
            },
            "colorscale": [
             [
              0,
              "#0d0887"
             ],
             [
              0.1111111111111111,
              "#46039f"
             ],
             [
              0.2222222222222222,
              "#7201a8"
             ],
             [
              0.3333333333333333,
              "#9c179e"
             ],
             [
              0.4444444444444444,
              "#bd3786"
             ],
             [
              0.5555555555555556,
              "#d8576b"
             ],
             [
              0.6666666666666666,
              "#ed7953"
             ],
             [
              0.7777777777777778,
              "#fb9f3a"
             ],
             [
              0.8888888888888888,
              "#fdca26"
             ],
             [
              1,
              "#f0f921"
             ]
            ],
            "type": "contour"
           }
          ],
          "contourcarpet": [
           {
            "colorbar": {
             "outlinewidth": 0,
             "ticks": ""
            },
            "type": "contourcarpet"
           }
          ],
          "heatmap": [
           {
            "colorbar": {
             "outlinewidth": 0,
             "ticks": ""
            },
            "colorscale": [
             [
              0,
              "#0d0887"
             ],
             [
              0.1111111111111111,
              "#46039f"
             ],
             [
              0.2222222222222222,
              "#7201a8"
             ],
             [
              0.3333333333333333,
              "#9c179e"
             ],
             [
              0.4444444444444444,
              "#bd3786"
             ],
             [
              0.5555555555555556,
              "#d8576b"
             ],
             [
              0.6666666666666666,
              "#ed7953"
             ],
             [
              0.7777777777777778,
              "#fb9f3a"
             ],
             [
              0.8888888888888888,
              "#fdca26"
             ],
             [
              1,
              "#f0f921"
             ]
            ],
            "type": "heatmap"
           }
          ],
          "heatmapgl": [
           {
            "colorbar": {
             "outlinewidth": 0,
             "ticks": ""
            },
            "colorscale": [
             [
              0,
              "#0d0887"
             ],
             [
              0.1111111111111111,
              "#46039f"
             ],
             [
              0.2222222222222222,
              "#7201a8"
             ],
             [
              0.3333333333333333,
              "#9c179e"
             ],
             [
              0.4444444444444444,
              "#bd3786"
             ],
             [
              0.5555555555555556,
              "#d8576b"
             ],
             [
              0.6666666666666666,
              "#ed7953"
             ],
             [
              0.7777777777777778,
              "#fb9f3a"
             ],
             [
              0.8888888888888888,
              "#fdca26"
             ],
             [
              1,
              "#f0f921"
             ]
            ],
            "type": "heatmapgl"
           }
          ],
          "histogram": [
           {
            "marker": {
             "colorbar": {
              "outlinewidth": 0,
              "ticks": ""
             }
            },
            "type": "histogram"
           }
          ],
          "histogram2d": [
           {
            "colorbar": {
             "outlinewidth": 0,
             "ticks": ""
            },
            "colorscale": [
             [
              0,
              "#0d0887"
             ],
             [
              0.1111111111111111,
              "#46039f"
             ],
             [
              0.2222222222222222,
              "#7201a8"
             ],
             [
              0.3333333333333333,
              "#9c179e"
             ],
             [
              0.4444444444444444,
              "#bd3786"
             ],
             [
              0.5555555555555556,
              "#d8576b"
             ],
             [
              0.6666666666666666,
              "#ed7953"
             ],
             [
              0.7777777777777778,
              "#fb9f3a"
             ],
             [
              0.8888888888888888,
              "#fdca26"
             ],
             [
              1,
              "#f0f921"
             ]
            ],
            "type": "histogram2d"
           }
          ],
          "histogram2dcontour": [
           {
            "colorbar": {
             "outlinewidth": 0,
             "ticks": ""
            },
            "colorscale": [
             [
              0,
              "#0d0887"
             ],
             [
              0.1111111111111111,
              "#46039f"
             ],
             [
              0.2222222222222222,
              "#7201a8"
             ],
             [
              0.3333333333333333,
              "#9c179e"
             ],
             [
              0.4444444444444444,
              "#bd3786"
             ],
             [
              0.5555555555555556,
              "#d8576b"
             ],
             [
              0.6666666666666666,
              "#ed7953"
             ],
             [
              0.7777777777777778,
              "#fb9f3a"
             ],
             [
              0.8888888888888888,
              "#fdca26"
             ],
             [
              1,
              "#f0f921"
             ]
            ],
            "type": "histogram2dcontour"
           }
          ],
          "mesh3d": [
           {
            "colorbar": {
             "outlinewidth": 0,
             "ticks": ""
            },
            "type": "mesh3d"
           }
          ],
          "parcoords": [
           {
            "line": {
             "colorbar": {
              "outlinewidth": 0,
              "ticks": ""
             }
            },
            "type": "parcoords"
           }
          ],
          "pie": [
           {
            "automargin": true,
            "type": "pie"
           }
          ],
          "scatter": [
           {
            "marker": {
             "colorbar": {
              "outlinewidth": 0,
              "ticks": ""
             }
            },
            "type": "scatter"
           }
          ],
          "scatter3d": [
           {
            "line": {
             "colorbar": {
              "outlinewidth": 0,
              "ticks": ""
             }
            },
            "marker": {
             "colorbar": {
              "outlinewidth": 0,
              "ticks": ""
             }
            },
            "type": "scatter3d"
           }
          ],
          "scattercarpet": [
           {
            "marker": {
             "colorbar": {
              "outlinewidth": 0,
              "ticks": ""
             }
            },
            "type": "scattercarpet"
           }
          ],
          "scattergeo": [
           {
            "marker": {
             "colorbar": {
              "outlinewidth": 0,
              "ticks": ""
             }
            },
            "type": "scattergeo"
           }
          ],
          "scattergl": [
           {
            "marker": {
             "colorbar": {
              "outlinewidth": 0,
              "ticks": ""
             }
            },
            "type": "scattergl"
           }
          ],
          "scattermapbox": [
           {
            "marker": {
             "colorbar": {
              "outlinewidth": 0,
              "ticks": ""
             }
            },
            "type": "scattermapbox"
           }
          ],
          "scatterpolar": [
           {
            "marker": {
             "colorbar": {
              "outlinewidth": 0,
              "ticks": ""
             }
            },
            "type": "scatterpolar"
           }
          ],
          "scatterpolargl": [
           {
            "marker": {
             "colorbar": {
              "outlinewidth": 0,
              "ticks": ""
             }
            },
            "type": "scatterpolargl"
           }
          ],
          "scatterternary": [
           {
            "marker": {
             "colorbar": {
              "outlinewidth": 0,
              "ticks": ""
             }
            },
            "type": "scatterternary"
           }
          ],
          "surface": [
           {
            "colorbar": {
             "outlinewidth": 0,
             "ticks": ""
            },
            "colorscale": [
             [
              0,
              "#0d0887"
             ],
             [
              0.1111111111111111,
              "#46039f"
             ],
             [
              0.2222222222222222,
              "#7201a8"
             ],
             [
              0.3333333333333333,
              "#9c179e"
             ],
             [
              0.4444444444444444,
              "#bd3786"
             ],
             [
              0.5555555555555556,
              "#d8576b"
             ],
             [
              0.6666666666666666,
              "#ed7953"
             ],
             [
              0.7777777777777778,
              "#fb9f3a"
             ],
             [
              0.8888888888888888,
              "#fdca26"
             ],
             [
              1,
              "#f0f921"
             ]
            ],
            "type": "surface"
           }
          ],
          "table": [
           {
            "cells": {
             "fill": {
              "color": "#EBF0F8"
             },
             "line": {
              "color": "white"
             }
            },
            "header": {
             "fill": {
              "color": "#C8D4E3"
             },
             "line": {
              "color": "white"
             }
            },
            "type": "table"
           }
          ]
         },
         "layout": {
          "annotationdefaults": {
           "arrowcolor": "#2a3f5f",
           "arrowhead": 0,
           "arrowwidth": 1
          },
          "coloraxis": {
           "colorbar": {
            "outlinewidth": 0,
            "ticks": ""
           }
          },
          "colorscale": {
           "diverging": [
            [
             0,
             "#8e0152"
            ],
            [
             0.1,
             "#c51b7d"
            ],
            [
             0.2,
             "#de77ae"
            ],
            [
             0.3,
             "#f1b6da"
            ],
            [
             0.4,
             "#fde0ef"
            ],
            [
             0.5,
             "#f7f7f7"
            ],
            [
             0.6,
             "#e6f5d0"
            ],
            [
             0.7,
             "#b8e186"
            ],
            [
             0.8,
             "#7fbc41"
            ],
            [
             0.9,
             "#4d9221"
            ],
            [
             1,
             "#276419"
            ]
           ],
           "sequential": [
            [
             0,
             "#0d0887"
            ],
            [
             0.1111111111111111,
             "#46039f"
            ],
            [
             0.2222222222222222,
             "#7201a8"
            ],
            [
             0.3333333333333333,
             "#9c179e"
            ],
            [
             0.4444444444444444,
             "#bd3786"
            ],
            [
             0.5555555555555556,
             "#d8576b"
            ],
            [
             0.6666666666666666,
             "#ed7953"
            ],
            [
             0.7777777777777778,
             "#fb9f3a"
            ],
            [
             0.8888888888888888,
             "#fdca26"
            ],
            [
             1,
             "#f0f921"
            ]
           ],
           "sequentialminus": [
            [
             0,
             "#0d0887"
            ],
            [
             0.1111111111111111,
             "#46039f"
            ],
            [
             0.2222222222222222,
             "#7201a8"
            ],
            [
             0.3333333333333333,
             "#9c179e"
            ],
            [
             0.4444444444444444,
             "#bd3786"
            ],
            [
             0.5555555555555556,
             "#d8576b"
            ],
            [
             0.6666666666666666,
             "#ed7953"
            ],
            [
             0.7777777777777778,
             "#fb9f3a"
            ],
            [
             0.8888888888888888,
             "#fdca26"
            ],
            [
             1,
             "#f0f921"
            ]
           ]
          },
          "colorway": [
           "#636efa",
           "#EF553B",
           "#00cc96",
           "#ab63fa",
           "#FFA15A",
           "#19d3f3",
           "#FF6692",
           "#B6E880",
           "#FF97FF",
           "#FECB52"
          ],
          "font": {
           "color": "#2a3f5f"
          },
          "geo": {
           "bgcolor": "white",
           "lakecolor": "white",
           "landcolor": "#E5ECF6",
           "showlakes": true,
           "showland": true,
           "subunitcolor": "white"
          },
          "hoverlabel": {
           "align": "left"
          },
          "hovermode": "closest",
          "mapbox": {
           "style": "light"
          },
          "paper_bgcolor": "white",
          "plot_bgcolor": "#E5ECF6",
          "polar": {
           "angularaxis": {
            "gridcolor": "white",
            "linecolor": "white",
            "ticks": ""
           },
           "bgcolor": "#E5ECF6",
           "radialaxis": {
            "gridcolor": "white",
            "linecolor": "white",
            "ticks": ""
           }
          },
          "scene": {
           "xaxis": {
            "backgroundcolor": "#E5ECF6",
            "gridcolor": "white",
            "gridwidth": 2,
            "linecolor": "white",
            "showbackground": true,
            "ticks": "",
            "zerolinecolor": "white"
           },
           "yaxis": {
            "backgroundcolor": "#E5ECF6",
            "gridcolor": "white",
            "gridwidth": 2,
            "linecolor": "white",
            "showbackground": true,
            "ticks": "",
            "zerolinecolor": "white"
           },
           "zaxis": {
            "backgroundcolor": "#E5ECF6",
            "gridcolor": "white",
            "gridwidth": 2,
            "linecolor": "white",
            "showbackground": true,
            "ticks": "",
            "zerolinecolor": "white"
           }
          },
          "shapedefaults": {
           "line": {
            "color": "#2a3f5f"
           }
          },
          "ternary": {
           "aaxis": {
            "gridcolor": "white",
            "linecolor": "white",
            "ticks": ""
           },
           "baxis": {
            "gridcolor": "white",
            "linecolor": "white",
            "ticks": ""
           },
           "bgcolor": "#E5ECF6",
           "caxis": {
            "gridcolor": "white",
            "linecolor": "white",
            "ticks": ""
           }
          },
          "title": {
           "x": 0.05
          },
          "xaxis": {
           "automargin": true,
           "gridcolor": "white",
           "linecolor": "white",
           "ticks": "",
           "title": {
            "standoff": 15
           },
           "zerolinecolor": "white",
           "zerolinewidth": 2
          },
          "yaxis": {
           "automargin": true,
           "gridcolor": "white",
           "linecolor": "white",
           "ticks": "",
           "title": {
            "standoff": 15
           },
           "zerolinecolor": "white",
           "zerolinewidth": 2
          }
         }
        },
        "title": {
         "font": {
          "color": "#4D5663"
         },
         "text": "Top 10 Country with CoronaVirus Cases and Death Cases"
        },
        "xaxis": {
         "gridcolor": "#E1E5ED",
         "showgrid": true,
         "tickfont": {
          "color": "#4D5663"
         },
         "title": {
          "font": {
           "color": "#4D5663"
          },
          "text": "Country"
         },
         "zerolinecolor": "#E1E5ED"
        },
        "yaxis": {
         "gridcolor": "#E1E5ED",
         "showgrid": true,
         "tickfont": {
          "color": "#4D5663"
         },
         "title": {
          "font": {
           "color": "#4D5663"
          },
          "text": "Number of Cases"
         },
         "zerolinecolor": "#E1E5ED"
        }
       }
      },
      "text/html": [
       "<div>                            <div id=\"0f822547-70ac-4680-8f75-2b19b6db37be\" class=\"plotly-graph-div\" style=\"height:525px; width:100%;\"></div>            <script type=\"text/javascript\">                require([\"plotly\"], function(Plotly) {                    window.PLOTLYENV=window.PLOTLYENV || {};\n",
       "                    window.PLOTLYENV.BASE_URL='https://plot.ly';                                    if (document.getElementById(\"0f822547-70ac-4680-8f75-2b19b6db37be\")) {                    Plotly.newPlot(                        \"0f822547-70ac-4680-8f75-2b19b6db37be\",                        [{\"marker\": {\"color\": \"rgba(255, 153, 51, 0.6)\", \"line\": {\"color\": \"rgba(255, 153, 51, 1.0)\", \"width\": 1}}, \"name\": \"total_cases\", \"orientation\": \"v\", \"text\": \"\", \"type\": \"bar\", \"x\": [\"United States\", \"India\", \"Brazil\", \"Russia\", \"Colombia\", \"Argentina\", \"Peru\", \"Mexico\", \"France\", \"South Africa\"], \"y\": [7718947, 7053806, 5082637, 1285084, 902747, 883883, 846088, 814328, 718873, 690896]}, {\"marker\": {\"color\": \"rgba(55, 128, 191, 0.6)\", \"line\": {\"color\": \"rgba(55, 128, 191, 1.0)\", \"width\": 1}}, \"name\": \"total_deaths\", \"orientation\": \"v\", \"text\": \"\", \"type\": \"bar\", \"x\": [\"United States\", \"India\", \"Brazil\", \"Russia\", \"Colombia\", \"Argentina\", \"Peru\", \"Mexico\", \"France\", \"South Africa\"], \"y\": [214377, 108334, 150198, 22454, 27660, 23581, 33223, 83642, 32684, 17673]}],                        {\"legend\": {\"bgcolor\": \"#F5F6F9\", \"font\": {\"color\": \"#4D5663\"}}, \"paper_bgcolor\": \"#F5F6F9\", \"plot_bgcolor\": \"#F5F6F9\", \"template\": {\"data\": {\"bar\": [{\"error_x\": {\"color\": \"#2a3f5f\"}, \"error_y\": {\"color\": \"#2a3f5f\"}, \"marker\": {\"line\": {\"color\": \"#E5ECF6\", \"width\": 0.5}}, \"type\": \"bar\"}], \"barpolar\": [{\"marker\": {\"line\": {\"color\": \"#E5ECF6\", \"width\": 0.5}}, \"type\": \"barpolar\"}], \"carpet\": [{\"aaxis\": {\"endlinecolor\": \"#2a3f5f\", \"gridcolor\": \"white\", \"linecolor\": \"white\", \"minorgridcolor\": \"white\", \"startlinecolor\": \"#2a3f5f\"}, \"baxis\": {\"endlinecolor\": \"#2a3f5f\", \"gridcolor\": \"white\", \"linecolor\": \"white\", \"minorgridcolor\": \"white\", \"startlinecolor\": \"#2a3f5f\"}, \"type\": \"carpet\"}], \"choropleth\": [{\"colorbar\": {\"outlinewidth\": 0, \"ticks\": \"\"}, \"type\": \"choropleth\"}], \"contour\": [{\"colorbar\": {\"outlinewidth\": 0, \"ticks\": \"\"}, \"colorscale\": [[0.0, \"#0d0887\"], [0.1111111111111111, \"#46039f\"], [0.2222222222222222, \"#7201a8\"], [0.3333333333333333, \"#9c179e\"], [0.4444444444444444, \"#bd3786\"], [0.5555555555555556, \"#d8576b\"], [0.6666666666666666, \"#ed7953\"], [0.7777777777777778, \"#fb9f3a\"], [0.8888888888888888, \"#fdca26\"], [1.0, \"#f0f921\"]], \"type\": \"contour\"}], \"contourcarpet\": [{\"colorbar\": {\"outlinewidth\": 0, \"ticks\": \"\"}, \"type\": \"contourcarpet\"}], \"heatmap\": [{\"colorbar\": {\"outlinewidth\": 0, \"ticks\": \"\"}, \"colorscale\": [[0.0, \"#0d0887\"], [0.1111111111111111, \"#46039f\"], [0.2222222222222222, \"#7201a8\"], [0.3333333333333333, \"#9c179e\"], [0.4444444444444444, \"#bd3786\"], [0.5555555555555556, \"#d8576b\"], [0.6666666666666666, \"#ed7953\"], [0.7777777777777778, \"#fb9f3a\"], [0.8888888888888888, \"#fdca26\"], [1.0, \"#f0f921\"]], \"type\": \"heatmap\"}], \"heatmapgl\": [{\"colorbar\": {\"outlinewidth\": 0, \"ticks\": \"\"}, \"colorscale\": [[0.0, \"#0d0887\"], [0.1111111111111111, \"#46039f\"], [0.2222222222222222, \"#7201a8\"], [0.3333333333333333, \"#9c179e\"], [0.4444444444444444, \"#bd3786\"], [0.5555555555555556, \"#d8576b\"], [0.6666666666666666, \"#ed7953\"], [0.7777777777777778, \"#fb9f3a\"], [0.8888888888888888, \"#fdca26\"], [1.0, \"#f0f921\"]], \"type\": \"heatmapgl\"}], \"histogram\": [{\"marker\": {\"colorbar\": {\"outlinewidth\": 0, \"ticks\": \"\"}}, \"type\": \"histogram\"}], \"histogram2d\": [{\"colorbar\": {\"outlinewidth\": 0, \"ticks\": \"\"}, \"colorscale\": [[0.0, \"#0d0887\"], [0.1111111111111111, \"#46039f\"], [0.2222222222222222, \"#7201a8\"], [0.3333333333333333, \"#9c179e\"], [0.4444444444444444, \"#bd3786\"], [0.5555555555555556, \"#d8576b\"], [0.6666666666666666, \"#ed7953\"], [0.7777777777777778, \"#fb9f3a\"], [0.8888888888888888, \"#fdca26\"], [1.0, \"#f0f921\"]], \"type\": \"histogram2d\"}], \"histogram2dcontour\": [{\"colorbar\": {\"outlinewidth\": 0, \"ticks\": \"\"}, \"colorscale\": [[0.0, \"#0d0887\"], [0.1111111111111111, \"#46039f\"], [0.2222222222222222, \"#7201a8\"], [0.3333333333333333, \"#9c179e\"], [0.4444444444444444, \"#bd3786\"], [0.5555555555555556, \"#d8576b\"], [0.6666666666666666, \"#ed7953\"], [0.7777777777777778, \"#fb9f3a\"], [0.8888888888888888, \"#fdca26\"], [1.0, \"#f0f921\"]], \"type\": \"histogram2dcontour\"}], \"mesh3d\": [{\"colorbar\": {\"outlinewidth\": 0, \"ticks\": \"\"}, \"type\": \"mesh3d\"}], \"parcoords\": [{\"line\": {\"colorbar\": {\"outlinewidth\": 0, \"ticks\": \"\"}}, \"type\": \"parcoords\"}], \"pie\": [{\"automargin\": true, \"type\": \"pie\"}], \"scatter\": [{\"marker\": {\"colorbar\": {\"outlinewidth\": 0, \"ticks\": \"\"}}, \"type\": \"scatter\"}], \"scatter3d\": [{\"line\": {\"colorbar\": {\"outlinewidth\": 0, \"ticks\": \"\"}}, \"marker\": {\"colorbar\": {\"outlinewidth\": 0, \"ticks\": \"\"}}, \"type\": \"scatter3d\"}], \"scattercarpet\": [{\"marker\": {\"colorbar\": {\"outlinewidth\": 0, \"ticks\": \"\"}}, \"type\": \"scattercarpet\"}], \"scattergeo\": [{\"marker\": {\"colorbar\": {\"outlinewidth\": 0, \"ticks\": \"\"}}, \"type\": \"scattergeo\"}], \"scattergl\": [{\"marker\": {\"colorbar\": {\"outlinewidth\": 0, \"ticks\": \"\"}}, \"type\": \"scattergl\"}], \"scattermapbox\": [{\"marker\": {\"colorbar\": {\"outlinewidth\": 0, \"ticks\": \"\"}}, \"type\": \"scattermapbox\"}], \"scatterpolar\": [{\"marker\": {\"colorbar\": {\"outlinewidth\": 0, \"ticks\": \"\"}}, \"type\": \"scatterpolar\"}], \"scatterpolargl\": [{\"marker\": {\"colorbar\": {\"outlinewidth\": 0, \"ticks\": \"\"}}, \"type\": \"scatterpolargl\"}], \"scatterternary\": [{\"marker\": {\"colorbar\": {\"outlinewidth\": 0, \"ticks\": \"\"}}, \"type\": \"scatterternary\"}], \"surface\": [{\"colorbar\": {\"outlinewidth\": 0, \"ticks\": \"\"}, \"colorscale\": [[0.0, \"#0d0887\"], [0.1111111111111111, \"#46039f\"], [0.2222222222222222, \"#7201a8\"], [0.3333333333333333, \"#9c179e\"], [0.4444444444444444, \"#bd3786\"], [0.5555555555555556, \"#d8576b\"], [0.6666666666666666, \"#ed7953\"], [0.7777777777777778, \"#fb9f3a\"], [0.8888888888888888, \"#fdca26\"], [1.0, \"#f0f921\"]], \"type\": \"surface\"}], \"table\": [{\"cells\": {\"fill\": {\"color\": \"#EBF0F8\"}, \"line\": {\"color\": \"white\"}}, \"header\": {\"fill\": {\"color\": \"#C8D4E3\"}, \"line\": {\"color\": \"white\"}}, \"type\": \"table\"}]}, \"layout\": {\"annotationdefaults\": {\"arrowcolor\": \"#2a3f5f\", \"arrowhead\": 0, \"arrowwidth\": 1}, \"coloraxis\": {\"colorbar\": {\"outlinewidth\": 0, \"ticks\": \"\"}}, \"colorscale\": {\"diverging\": [[0, \"#8e0152\"], [0.1, \"#c51b7d\"], [0.2, \"#de77ae\"], [0.3, \"#f1b6da\"], [0.4, \"#fde0ef\"], [0.5, \"#f7f7f7\"], [0.6, \"#e6f5d0\"], [0.7, \"#b8e186\"], [0.8, \"#7fbc41\"], [0.9, \"#4d9221\"], [1, \"#276419\"]], \"sequential\": [[0.0, \"#0d0887\"], [0.1111111111111111, \"#46039f\"], [0.2222222222222222, \"#7201a8\"], [0.3333333333333333, \"#9c179e\"], [0.4444444444444444, \"#bd3786\"], [0.5555555555555556, \"#d8576b\"], [0.6666666666666666, \"#ed7953\"], [0.7777777777777778, \"#fb9f3a\"], [0.8888888888888888, \"#fdca26\"], [1.0, \"#f0f921\"]], \"sequentialminus\": [[0.0, \"#0d0887\"], [0.1111111111111111, \"#46039f\"], [0.2222222222222222, \"#7201a8\"], [0.3333333333333333, \"#9c179e\"], [0.4444444444444444, \"#bd3786\"], [0.5555555555555556, \"#d8576b\"], [0.6666666666666666, \"#ed7953\"], [0.7777777777777778, \"#fb9f3a\"], [0.8888888888888888, \"#fdca26\"], [1.0, \"#f0f921\"]]}, \"colorway\": [\"#636efa\", \"#EF553B\", \"#00cc96\", \"#ab63fa\", \"#FFA15A\", \"#19d3f3\", \"#FF6692\", \"#B6E880\", \"#FF97FF\", \"#FECB52\"], \"font\": {\"color\": \"#2a3f5f\"}, \"geo\": {\"bgcolor\": \"white\", \"lakecolor\": \"white\", \"landcolor\": \"#E5ECF6\", \"showlakes\": true, \"showland\": true, \"subunitcolor\": \"white\"}, \"hoverlabel\": {\"align\": \"left\"}, \"hovermode\": \"closest\", \"mapbox\": {\"style\": \"light\"}, \"paper_bgcolor\": \"white\", \"plot_bgcolor\": \"#E5ECF6\", \"polar\": {\"angularaxis\": {\"gridcolor\": \"white\", \"linecolor\": \"white\", \"ticks\": \"\"}, \"bgcolor\": \"#E5ECF6\", \"radialaxis\": {\"gridcolor\": \"white\", \"linecolor\": \"white\", \"ticks\": \"\"}}, \"scene\": {\"xaxis\": {\"backgroundcolor\": \"#E5ECF6\", \"gridcolor\": \"white\", \"gridwidth\": 2, \"linecolor\": \"white\", \"showbackground\": true, \"ticks\": \"\", \"zerolinecolor\": \"white\"}, \"yaxis\": {\"backgroundcolor\": \"#E5ECF6\", \"gridcolor\": \"white\", \"gridwidth\": 2, \"linecolor\": \"white\", \"showbackground\": true, \"ticks\": \"\", \"zerolinecolor\": \"white\"}, \"zaxis\": {\"backgroundcolor\": \"#E5ECF6\", \"gridcolor\": \"white\", \"gridwidth\": 2, \"linecolor\": \"white\", \"showbackground\": true, \"ticks\": \"\", \"zerolinecolor\": \"white\"}}, \"shapedefaults\": {\"line\": {\"color\": \"#2a3f5f\"}}, \"ternary\": {\"aaxis\": {\"gridcolor\": \"white\", \"linecolor\": \"white\", \"ticks\": \"\"}, \"baxis\": {\"gridcolor\": \"white\", \"linecolor\": \"white\", \"ticks\": \"\"}, \"bgcolor\": \"#E5ECF6\", \"caxis\": {\"gridcolor\": \"white\", \"linecolor\": \"white\", \"ticks\": \"\"}}, \"title\": {\"x\": 0.05}, \"xaxis\": {\"automargin\": true, \"gridcolor\": \"white\", \"linecolor\": \"white\", \"ticks\": \"\", \"title\": {\"standoff\": 15}, \"zerolinecolor\": \"white\", \"zerolinewidth\": 2}, \"yaxis\": {\"automargin\": true, \"gridcolor\": \"white\", \"linecolor\": \"white\", \"ticks\": \"\", \"title\": {\"standoff\": 15}, \"zerolinecolor\": \"white\", \"zerolinewidth\": 2}}}, \"title\": {\"font\": {\"color\": \"#4D5663\"}, \"text\": \"Top 10 Country with CoronaVirus Cases and Death Cases\"}, \"xaxis\": {\"gridcolor\": \"#E1E5ED\", \"showgrid\": true, \"tickfont\": {\"color\": \"#4D5663\"}, \"title\": {\"font\": {\"color\": \"#4D5663\"}, \"text\": \"Country\"}, \"zerolinecolor\": \"#E1E5ED\"}, \"yaxis\": {\"gridcolor\": \"#E1E5ED\", \"showgrid\": true, \"tickfont\": {\"color\": \"#4D5663\"}, \"title\": {\"font\": {\"color\": \"#4D5663\"}, \"text\": \"Number of Cases\"}, \"zerolinecolor\": \"#E1E5ED\"}},                        {\"showLink\": true, \"linkText\": \"Export to plot.ly\", \"plotlyServerURL\": \"https://plot.ly\", \"responsive\": true}                    ).then(function(){\n",
       "                            \n",
       "var gd = document.getElementById('0f822547-70ac-4680-8f75-2b19b6db37be');\n",
       "var x = new MutationObserver(function (mutations, observer) {{\n",
       "        var display = window.getComputedStyle(gd).display;\n",
       "        if (!display || display === 'none') {{\n",
       "            console.log([gd, 'removed!']);\n",
       "            Plotly.purge(gd);\n",
       "            observer.disconnect();\n",
       "        }}\n",
       "}});\n",
       "\n",
       "// Listen for the removal of the full notebook cells\n",
       "var notebookContainer = gd.closest('#notebook-container');\n",
       "if (notebookContainer) {{\n",
       "    x.observe(notebookContainer, {childList: true});\n",
       "}}\n",
       "\n",
       "// Listen for the clearing of the current output cell\n",
       "var outputEl = gd.closest('.output');\n",
       "if (outputEl) {{\n",
       "    x.observe(outputEl, {childList: true});\n",
       "}}\n",
       "\n",
       "                        })                };                });            </script>        </div>"
      ]
     },
     "metadata": {},
     "output_type": "display_data"
    }
   ],
   "source": [
    "full_data_total_sort = full_data_total.sort_values('total_cases', ascending=False)\n",
    "full_data_total_10 = full_data_total_sort[:10]\n",
    "\n",
    "full_data_total_10.iplot(x='location', y=['total_cases', 'total_deaths'], kind='bar', xTitle='Country', yTitle='Number of Cases', title='Top 10 Country with CoronaVirus Cases and Death Cases')"
   ]
  },
  {
   "cell_type": "markdown",
   "metadata": {},
   "source": [
    "# Interesting Facts\n",
    "\n",
    "1. Top country having highest cases USA, India and Brazil\n",
    "2. USA has the highest Corona cases and death cases\n",
    "3. Even having less number of Corona Cases than India, Brazil has more death cases"
   ]
  },
  {
   "cell_type": "markdown",
   "metadata": {},
   "source": [
    "# Analyzing Nepals Data"
   ]
  },
  {
   "cell_type": "markdown",
   "metadata": {},
   "source": [
    "# Plotting only the graph of Nepal(TimeSeries)"
   ]
  },
  {
   "cell_type": "code",
   "execution_count": 9,
   "metadata": {
    "_kg_hide-input": true
   },
   "outputs": [
    {
     "data": {
      "application/vnd.plotly.v1+json": {
       "config": {
        "plotlyServerURL": "https://plot.ly"
       },
       "data": [
        {
         "fill": "tozeroy",
         "name": "Total Cases",
         "type": "scatter",
         "x": [
          "2019-12-31T00:00:00",
          "2020-01-01T00:00:00",
          "2020-01-02T00:00:00",
          "2020-01-03T00:00:00",
          "2020-01-04T00:00:00",
          "2020-01-05T00:00:00",
          "2020-01-06T00:00:00",
          "2020-01-07T00:00:00",
          "2020-01-08T00:00:00",
          "2020-01-09T00:00:00",
          "2020-01-10T00:00:00",
          "2020-01-11T00:00:00",
          "2020-01-12T00:00:00",
          "2020-01-13T00:00:00",
          "2020-01-14T00:00:00",
          "2020-01-15T00:00:00",
          "2020-01-16T00:00:00",
          "2020-01-17T00:00:00",
          "2020-01-18T00:00:00",
          "2020-01-19T00:00:00",
          "2020-01-20T00:00:00",
          "2020-01-21T00:00:00",
          "2020-01-22T00:00:00",
          "2020-01-23T00:00:00",
          "2020-01-24T00:00:00",
          "2020-01-25T00:00:00",
          "2020-01-26T00:00:00",
          "2020-01-27T00:00:00",
          "2020-01-28T00:00:00",
          "2020-01-29T00:00:00",
          "2020-01-30T00:00:00",
          "2020-01-31T00:00:00",
          "2020-02-01T00:00:00",
          "2020-02-02T00:00:00",
          "2020-02-03T00:00:00",
          "2020-02-04T00:00:00",
          "2020-02-05T00:00:00",
          "2020-02-06T00:00:00",
          "2020-02-07T00:00:00",
          "2020-02-08T00:00:00",
          "2020-02-09T00:00:00",
          "2020-02-10T00:00:00",
          "2020-02-11T00:00:00",
          "2020-02-12T00:00:00",
          "2020-02-13T00:00:00",
          "2020-02-14T00:00:00",
          "2020-02-15T00:00:00",
          "2020-02-16T00:00:00",
          "2020-02-17T00:00:00",
          "2020-02-18T00:00:00",
          "2020-02-19T00:00:00",
          "2020-02-20T00:00:00",
          "2020-02-21T00:00:00",
          "2020-02-22T00:00:00",
          "2020-02-23T00:00:00",
          "2020-02-24T00:00:00",
          "2020-02-25T00:00:00",
          "2020-02-26T00:00:00",
          "2020-02-27T00:00:00",
          "2020-02-28T00:00:00",
          "2020-02-29T00:00:00",
          "2020-03-01T00:00:00",
          "2020-03-02T00:00:00",
          "2020-03-03T00:00:00",
          "2020-03-04T00:00:00",
          "2020-03-05T00:00:00",
          "2020-03-06T00:00:00",
          "2020-03-07T00:00:00",
          "2020-03-08T00:00:00",
          "2020-03-09T00:00:00",
          "2020-03-10T00:00:00",
          "2020-03-11T00:00:00",
          "2020-03-12T00:00:00",
          "2020-03-13T00:00:00",
          "2020-03-14T00:00:00",
          "2020-03-15T00:00:00",
          "2020-03-16T00:00:00",
          "2020-03-17T00:00:00",
          "2020-03-18T00:00:00",
          "2020-03-19T00:00:00",
          "2020-03-20T00:00:00",
          "2020-03-21T00:00:00",
          "2020-03-22T00:00:00",
          "2020-03-23T00:00:00",
          "2020-03-24T00:00:00",
          "2020-03-25T00:00:00",
          "2020-03-26T00:00:00",
          "2020-03-27T00:00:00",
          "2020-03-28T00:00:00",
          "2020-03-29T00:00:00",
          "2020-03-30T00:00:00",
          "2020-03-31T00:00:00",
          "2020-04-01T00:00:00",
          "2020-04-02T00:00:00",
          "2020-04-03T00:00:00",
          "2020-04-04T00:00:00",
          "2020-04-05T00:00:00",
          "2020-04-06T00:00:00",
          "2020-04-07T00:00:00",
          "2020-04-08T00:00:00",
          "2020-04-09T00:00:00",
          "2020-04-10T00:00:00",
          "2020-04-11T00:00:00",
          "2020-04-12T00:00:00",
          "2020-04-13T00:00:00",
          "2020-04-14T00:00:00",
          "2020-04-15T00:00:00",
          "2020-04-16T00:00:00",
          "2020-04-17T00:00:00",
          "2020-04-18T00:00:00",
          "2020-04-19T00:00:00",
          "2020-04-20T00:00:00",
          "2020-04-21T00:00:00",
          "2020-04-22T00:00:00",
          "2020-04-23T00:00:00",
          "2020-04-24T00:00:00",
          "2020-04-25T00:00:00",
          "2020-04-26T00:00:00",
          "2020-04-27T00:00:00",
          "2020-04-28T00:00:00",
          "2020-04-29T00:00:00",
          "2020-04-30T00:00:00",
          "2020-05-01T00:00:00",
          "2020-05-02T00:00:00",
          "2020-05-03T00:00:00",
          "2020-05-04T00:00:00",
          "2020-05-05T00:00:00",
          "2020-05-06T00:00:00",
          "2020-05-07T00:00:00",
          "2020-05-08T00:00:00",
          "2020-05-09T00:00:00",
          "2020-05-10T00:00:00",
          "2020-05-11T00:00:00",
          "2020-05-12T00:00:00",
          "2020-05-13T00:00:00",
          "2020-05-14T00:00:00",
          "2020-05-15T00:00:00",
          "2020-05-16T00:00:00",
          "2020-05-17T00:00:00",
          "2020-05-18T00:00:00",
          "2020-05-19T00:00:00",
          "2020-05-20T00:00:00",
          "2020-05-21T00:00:00",
          "2020-05-22T00:00:00",
          "2020-05-23T00:00:00",
          "2020-05-24T00:00:00",
          "2020-05-25T00:00:00",
          "2020-05-26T00:00:00",
          "2020-05-27T00:00:00",
          "2020-05-28T00:00:00",
          "2020-05-29T00:00:00",
          "2020-05-30T00:00:00",
          "2020-05-31T00:00:00",
          "2020-06-01T00:00:00",
          "2020-06-02T00:00:00",
          "2020-06-03T00:00:00",
          "2020-06-04T00:00:00",
          "2020-06-05T00:00:00",
          "2020-06-06T00:00:00",
          "2020-06-07T00:00:00",
          "2020-06-08T00:00:00",
          "2020-06-09T00:00:00",
          "2020-06-10T00:00:00",
          "2020-06-11T00:00:00",
          "2020-06-12T00:00:00",
          "2020-06-13T00:00:00",
          "2020-06-14T00:00:00",
          "2020-06-15T00:00:00",
          "2020-06-16T00:00:00",
          "2020-06-17T00:00:00",
          "2020-06-18T00:00:00",
          "2020-06-19T00:00:00",
          "2020-06-20T00:00:00",
          "2020-06-21T00:00:00",
          "2020-06-22T00:00:00",
          "2020-06-23T00:00:00",
          "2020-06-24T00:00:00",
          "2020-06-25T00:00:00",
          "2020-06-26T00:00:00",
          "2020-06-27T00:00:00",
          "2020-06-28T00:00:00",
          "2020-06-29T00:00:00",
          "2020-06-30T00:00:00",
          "2020-07-01T00:00:00",
          "2020-07-02T00:00:00",
          "2020-07-03T00:00:00",
          "2020-07-04T00:00:00",
          "2020-07-05T00:00:00",
          "2020-07-06T00:00:00",
          "2020-07-07T00:00:00",
          "2020-07-08T00:00:00",
          "2020-07-09T00:00:00",
          "2020-07-10T00:00:00",
          "2020-07-11T00:00:00",
          "2020-07-12T00:00:00",
          "2020-07-13T00:00:00",
          "2020-07-14T00:00:00",
          "2020-07-15T00:00:00",
          "2020-07-16T00:00:00",
          "2020-07-17T00:00:00",
          "2020-07-18T00:00:00",
          "2020-07-19T00:00:00",
          "2020-07-20T00:00:00",
          "2020-07-21T00:00:00",
          "2020-07-22T00:00:00",
          "2020-07-23T00:00:00",
          "2020-07-24T00:00:00",
          "2020-07-25T00:00:00",
          "2020-07-26T00:00:00",
          "2020-07-27T00:00:00",
          "2020-07-28T00:00:00",
          "2020-07-29T00:00:00",
          "2020-07-30T00:00:00",
          "2020-07-31T00:00:00",
          "2020-08-01T00:00:00",
          "2020-08-02T00:00:00",
          "2020-08-03T00:00:00",
          "2020-08-04T00:00:00",
          "2020-08-05T00:00:00",
          "2020-08-06T00:00:00",
          "2020-08-07T00:00:00",
          "2020-08-08T00:00:00",
          "2020-08-09T00:00:00",
          "2020-08-10T00:00:00",
          "2020-08-11T00:00:00",
          "2020-08-12T00:00:00",
          "2020-08-13T00:00:00",
          "2020-08-14T00:00:00",
          "2020-08-15T00:00:00",
          "2020-08-16T00:00:00",
          "2020-08-17T00:00:00",
          "2020-08-18T00:00:00",
          "2020-08-19T00:00:00",
          "2020-08-20T00:00:00",
          "2020-08-21T00:00:00",
          "2020-08-22T00:00:00",
          "2020-08-23T00:00:00",
          "2020-08-24T00:00:00",
          "2020-08-25T00:00:00",
          "2020-08-26T00:00:00",
          "2020-08-27T00:00:00",
          "2020-08-28T00:00:00",
          "2020-08-29T00:00:00",
          "2020-08-30T00:00:00",
          "2020-08-31T00:00:00",
          "2020-09-01T00:00:00",
          "2020-09-02T00:00:00",
          "2020-09-03T00:00:00",
          "2020-09-04T00:00:00",
          "2020-09-05T00:00:00",
          "2020-09-06T00:00:00",
          "2020-09-07T00:00:00",
          "2020-09-08T00:00:00",
          "2020-09-09T00:00:00",
          "2020-09-10T00:00:00",
          "2020-09-11T00:00:00",
          "2020-09-12T00:00:00",
          "2020-09-13T00:00:00",
          "2020-09-14T00:00:00",
          "2020-09-15T00:00:00",
          "2020-09-16T00:00:00",
          "2020-09-17T00:00:00",
          "2020-09-18T00:00:00",
          "2020-09-19T00:00:00",
          "2020-09-20T00:00:00",
          "2020-09-21T00:00:00",
          "2020-09-22T00:00:00",
          "2020-09-23T00:00:00",
          "2020-09-24T00:00:00",
          "2020-09-25T00:00:00",
          "2020-09-26T00:00:00",
          "2020-09-27T00:00:00",
          "2020-09-28T00:00:00",
          "2020-09-29T00:00:00",
          "2020-09-30T00:00:00",
          "2020-10-01T00:00:00",
          "2020-10-02T00:00:00",
          "2020-10-03T00:00:00",
          "2020-10-04T00:00:00",
          "2020-10-05T00:00:00",
          "2020-10-06T00:00:00",
          "2020-10-07T00:00:00",
          "2020-10-08T00:00:00",
          "2020-10-09T00:00:00",
          "2020-10-10T00:00:00",
          "2020-10-11T00:00:00"
         ],
         "y": [
          0,
          0,
          0,
          0,
          0,
          0,
          0,
          0,
          0,
          0,
          0,
          0,
          0,
          0,
          0,
          0,
          0,
          0,
          0,
          0,
          0,
          0,
          0,
          0,
          0,
          1,
          1,
          1,
          1,
          1,
          1,
          1,
          1,
          1,
          1,
          1,
          1,
          1,
          1,
          1,
          1,
          1,
          1,
          1,
          1,
          1,
          1,
          1,
          1,
          1,
          1,
          1,
          1,
          1,
          1,
          1,
          1,
          1,
          1,
          1,
          1,
          1,
          1,
          0,
          0,
          0,
          0,
          0,
          0,
          0,
          0,
          0,
          0,
          0,
          0,
          1,
          0,
          1,
          1,
          1,
          1,
          1,
          1,
          1,
          2,
          3,
          3,
          3,
          3,
          5,
          5,
          5,
          5,
          5,
          5,
          6,
          6,
          9,
          9,
          9,
          9,
          9,
          9,
          9,
          12,
          14,
          16,
          16,
          16,
          30,
          31,
          31,
          31,
          42,
          45,
          48,
          49,
          49,
          52,
          52,
          54,
          57,
          57,
          59,
          59,
          75,
          82,
          82,
          99,
          101,
          101,
          109,
          120,
          134,
          217,
          219,
          258,
          276,
          291,
          304,
          375,
          402,
          444,
          487,
          548,
          584,
          603,
          682,
          772,
          886,
          1042,
          1212,
          1401,
          1572,
          1798,
          2099,
          2300,
          2634,
          2912,
          2912,
          3448,
          3762,
          4085,
          4364,
          4614,
          5062,
          5335,
          5760,
          6211,
          6591,
          7177,
          7848,
          8274,
          8605,
          9026,
          9026,
          9026,
          10728,
          11162,
          11755,
          11755,
          12772,
          13248,
          13564,
          14046,
          14519,
          15259,
          15491,
          15784,
          15964,
          15964,
          16423,
          16531,
          16649,
          16719,
          16801,
          16945,
          17061,
          17177,
          17344,
          17445,
          17502,
          17658,
          17844,
          17944,
          18094,
          18241,
          18374,
          18483,
          18613,
          18752,
          19063,
          19273,
          19547,
          19771,
          20086,
          20332,
          20750,
          21009,
          21390,
          21750,
          22214,
          22592,
          22972,
          23310,
          23948,
          24432,
          24957,
          25551,
          26019,
          26660,
          27241,
          28257,
          28938,
          29645,
          30483,
          31117,
          31935,
          32678,
          33533,
          34418,
          35529,
          36456,
          37340,
          38561,
          39460,
          40529,
          41649,
          42877,
          44236,
          45277,
          46257,
          47236,
          48138,
          49219,
          50465,
          51919,
          53120,
          54159,
          55329,
          56788,
          58327,
          59573,
          61593,
          62797,
          64122,
          65276,
          66632,
          67804,
          69301,
          70614,
          71821,
          73394,
          74745,
          76258,
          77817,
          79728,
          82450,
          84570,
          86823,
          89263,
          90814,
          94253,
          98617,
          100676,
          105684
         ]
        },
        {
         "fill": "tozeroy",
         "name": "Total Death",
         "type": "scatter",
         "x": [
          "2019-12-31T00:00:00",
          "2020-01-01T00:00:00",
          "2020-01-02T00:00:00",
          "2020-01-03T00:00:00",
          "2020-01-04T00:00:00",
          "2020-01-05T00:00:00",
          "2020-01-06T00:00:00",
          "2020-01-07T00:00:00",
          "2020-01-08T00:00:00",
          "2020-01-09T00:00:00",
          "2020-01-10T00:00:00",
          "2020-01-11T00:00:00",
          "2020-01-12T00:00:00",
          "2020-01-13T00:00:00",
          "2020-01-14T00:00:00",
          "2020-01-15T00:00:00",
          "2020-01-16T00:00:00",
          "2020-01-17T00:00:00",
          "2020-01-18T00:00:00",
          "2020-01-19T00:00:00",
          "2020-01-20T00:00:00",
          "2020-01-21T00:00:00",
          "2020-01-22T00:00:00",
          "2020-01-23T00:00:00",
          "2020-01-24T00:00:00",
          "2020-01-25T00:00:00",
          "2020-01-26T00:00:00",
          "2020-01-27T00:00:00",
          "2020-01-28T00:00:00",
          "2020-01-29T00:00:00",
          "2020-01-30T00:00:00",
          "2020-01-31T00:00:00",
          "2020-02-01T00:00:00",
          "2020-02-02T00:00:00",
          "2020-02-03T00:00:00",
          "2020-02-04T00:00:00",
          "2020-02-05T00:00:00",
          "2020-02-06T00:00:00",
          "2020-02-07T00:00:00",
          "2020-02-08T00:00:00",
          "2020-02-09T00:00:00",
          "2020-02-10T00:00:00",
          "2020-02-11T00:00:00",
          "2020-02-12T00:00:00",
          "2020-02-13T00:00:00",
          "2020-02-14T00:00:00",
          "2020-02-15T00:00:00",
          "2020-02-16T00:00:00",
          "2020-02-17T00:00:00",
          "2020-02-18T00:00:00",
          "2020-02-19T00:00:00",
          "2020-02-20T00:00:00",
          "2020-02-21T00:00:00",
          "2020-02-22T00:00:00",
          "2020-02-23T00:00:00",
          "2020-02-24T00:00:00",
          "2020-02-25T00:00:00",
          "2020-02-26T00:00:00",
          "2020-02-27T00:00:00",
          "2020-02-28T00:00:00",
          "2020-02-29T00:00:00",
          "2020-03-01T00:00:00",
          "2020-03-02T00:00:00",
          "2020-03-03T00:00:00",
          "2020-03-04T00:00:00",
          "2020-03-05T00:00:00",
          "2020-03-06T00:00:00",
          "2020-03-07T00:00:00",
          "2020-03-08T00:00:00",
          "2020-03-09T00:00:00",
          "2020-03-10T00:00:00",
          "2020-03-11T00:00:00",
          "2020-03-12T00:00:00",
          "2020-03-13T00:00:00",
          "2020-03-14T00:00:00",
          "2020-03-15T00:00:00",
          "2020-03-16T00:00:00",
          "2020-03-17T00:00:00",
          "2020-03-18T00:00:00",
          "2020-03-19T00:00:00",
          "2020-03-20T00:00:00",
          "2020-03-21T00:00:00",
          "2020-03-22T00:00:00",
          "2020-03-23T00:00:00",
          "2020-03-24T00:00:00",
          "2020-03-25T00:00:00",
          "2020-03-26T00:00:00",
          "2020-03-27T00:00:00",
          "2020-03-28T00:00:00",
          "2020-03-29T00:00:00",
          "2020-03-30T00:00:00",
          "2020-03-31T00:00:00",
          "2020-04-01T00:00:00",
          "2020-04-02T00:00:00",
          "2020-04-03T00:00:00",
          "2020-04-04T00:00:00",
          "2020-04-05T00:00:00",
          "2020-04-06T00:00:00",
          "2020-04-07T00:00:00",
          "2020-04-08T00:00:00",
          "2020-04-09T00:00:00",
          "2020-04-10T00:00:00",
          "2020-04-11T00:00:00",
          "2020-04-12T00:00:00",
          "2020-04-13T00:00:00",
          "2020-04-14T00:00:00",
          "2020-04-15T00:00:00",
          "2020-04-16T00:00:00",
          "2020-04-17T00:00:00",
          "2020-04-18T00:00:00",
          "2020-04-19T00:00:00",
          "2020-04-20T00:00:00",
          "2020-04-21T00:00:00",
          "2020-04-22T00:00:00",
          "2020-04-23T00:00:00",
          "2020-04-24T00:00:00",
          "2020-04-25T00:00:00",
          "2020-04-26T00:00:00",
          "2020-04-27T00:00:00",
          "2020-04-28T00:00:00",
          "2020-04-29T00:00:00",
          "2020-04-30T00:00:00",
          "2020-05-01T00:00:00",
          "2020-05-02T00:00:00",
          "2020-05-03T00:00:00",
          "2020-05-04T00:00:00",
          "2020-05-05T00:00:00",
          "2020-05-06T00:00:00",
          "2020-05-07T00:00:00",
          "2020-05-08T00:00:00",
          "2020-05-09T00:00:00",
          "2020-05-10T00:00:00",
          "2020-05-11T00:00:00",
          "2020-05-12T00:00:00",
          "2020-05-13T00:00:00",
          "2020-05-14T00:00:00",
          "2020-05-15T00:00:00",
          "2020-05-16T00:00:00",
          "2020-05-17T00:00:00",
          "2020-05-18T00:00:00",
          "2020-05-19T00:00:00",
          "2020-05-20T00:00:00",
          "2020-05-21T00:00:00",
          "2020-05-22T00:00:00",
          "2020-05-23T00:00:00",
          "2020-05-24T00:00:00",
          "2020-05-25T00:00:00",
          "2020-05-26T00:00:00",
          "2020-05-27T00:00:00",
          "2020-05-28T00:00:00",
          "2020-05-29T00:00:00",
          "2020-05-30T00:00:00",
          "2020-05-31T00:00:00",
          "2020-06-01T00:00:00",
          "2020-06-02T00:00:00",
          "2020-06-03T00:00:00",
          "2020-06-04T00:00:00",
          "2020-06-05T00:00:00",
          "2020-06-06T00:00:00",
          "2020-06-07T00:00:00",
          "2020-06-08T00:00:00",
          "2020-06-09T00:00:00",
          "2020-06-10T00:00:00",
          "2020-06-11T00:00:00",
          "2020-06-12T00:00:00",
          "2020-06-13T00:00:00",
          "2020-06-14T00:00:00",
          "2020-06-15T00:00:00",
          "2020-06-16T00:00:00",
          "2020-06-17T00:00:00",
          "2020-06-18T00:00:00",
          "2020-06-19T00:00:00",
          "2020-06-20T00:00:00",
          "2020-06-21T00:00:00",
          "2020-06-22T00:00:00",
          "2020-06-23T00:00:00",
          "2020-06-24T00:00:00",
          "2020-06-25T00:00:00",
          "2020-06-26T00:00:00",
          "2020-06-27T00:00:00",
          "2020-06-28T00:00:00",
          "2020-06-29T00:00:00",
          "2020-06-30T00:00:00",
          "2020-07-01T00:00:00",
          "2020-07-02T00:00:00",
          "2020-07-03T00:00:00",
          "2020-07-04T00:00:00",
          "2020-07-05T00:00:00",
          "2020-07-06T00:00:00",
          "2020-07-07T00:00:00",
          "2020-07-08T00:00:00",
          "2020-07-09T00:00:00",
          "2020-07-10T00:00:00",
          "2020-07-11T00:00:00",
          "2020-07-12T00:00:00",
          "2020-07-13T00:00:00",
          "2020-07-14T00:00:00",
          "2020-07-15T00:00:00",
          "2020-07-16T00:00:00",
          "2020-07-17T00:00:00",
          "2020-07-18T00:00:00",
          "2020-07-19T00:00:00",
          "2020-07-20T00:00:00",
          "2020-07-21T00:00:00",
          "2020-07-22T00:00:00",
          "2020-07-23T00:00:00",
          "2020-07-24T00:00:00",
          "2020-07-25T00:00:00",
          "2020-07-26T00:00:00",
          "2020-07-27T00:00:00",
          "2020-07-28T00:00:00",
          "2020-07-29T00:00:00",
          "2020-07-30T00:00:00",
          "2020-07-31T00:00:00",
          "2020-08-01T00:00:00",
          "2020-08-02T00:00:00",
          "2020-08-03T00:00:00",
          "2020-08-04T00:00:00",
          "2020-08-05T00:00:00",
          "2020-08-06T00:00:00",
          "2020-08-07T00:00:00",
          "2020-08-08T00:00:00",
          "2020-08-09T00:00:00",
          "2020-08-10T00:00:00",
          "2020-08-11T00:00:00",
          "2020-08-12T00:00:00",
          "2020-08-13T00:00:00",
          "2020-08-14T00:00:00",
          "2020-08-15T00:00:00",
          "2020-08-16T00:00:00",
          "2020-08-17T00:00:00",
          "2020-08-18T00:00:00",
          "2020-08-19T00:00:00",
          "2020-08-20T00:00:00",
          "2020-08-21T00:00:00",
          "2020-08-22T00:00:00",
          "2020-08-23T00:00:00",
          "2020-08-24T00:00:00",
          "2020-08-25T00:00:00",
          "2020-08-26T00:00:00",
          "2020-08-27T00:00:00",
          "2020-08-28T00:00:00",
          "2020-08-29T00:00:00",
          "2020-08-30T00:00:00",
          "2020-08-31T00:00:00",
          "2020-09-01T00:00:00",
          "2020-09-02T00:00:00",
          "2020-09-03T00:00:00",
          "2020-09-04T00:00:00",
          "2020-09-05T00:00:00",
          "2020-09-06T00:00:00",
          "2020-09-07T00:00:00",
          "2020-09-08T00:00:00",
          "2020-09-09T00:00:00",
          "2020-09-10T00:00:00",
          "2020-09-11T00:00:00",
          "2020-09-12T00:00:00",
          "2020-09-13T00:00:00",
          "2020-09-14T00:00:00",
          "2020-09-15T00:00:00",
          "2020-09-16T00:00:00",
          "2020-09-17T00:00:00",
          "2020-09-18T00:00:00",
          "2020-09-19T00:00:00",
          "2020-09-20T00:00:00",
          "2020-09-21T00:00:00",
          "2020-09-22T00:00:00",
          "2020-09-23T00:00:00",
          "2020-09-24T00:00:00",
          "2020-09-25T00:00:00",
          "2020-09-26T00:00:00",
          "2020-09-27T00:00:00",
          "2020-09-28T00:00:00",
          "2020-09-29T00:00:00",
          "2020-09-30T00:00:00",
          "2020-10-01T00:00:00",
          "2020-10-02T00:00:00",
          "2020-10-03T00:00:00",
          "2020-10-04T00:00:00",
          "2020-10-05T00:00:00",
          "2020-10-06T00:00:00",
          "2020-10-07T00:00:00",
          "2020-10-08T00:00:00",
          "2020-10-09T00:00:00",
          "2020-10-10T00:00:00",
          "2020-10-11T00:00:00"
         ],
         "y": [
          0,
          0,
          0,
          0,
          0,
          0,
          0,
          0,
          0,
          0,
          0,
          0,
          0,
          0,
          0,
          0,
          0,
          0,
          0,
          0,
          0,
          0,
          0,
          0,
          0,
          0,
          0,
          0,
          0,
          0,
          0,
          0,
          0,
          0,
          0,
          0,
          0,
          0,
          0,
          0,
          0,
          0,
          0,
          0,
          0,
          0,
          0,
          0,
          0,
          0,
          0,
          0,
          0,
          0,
          0,
          0,
          0,
          0,
          0,
          0,
          0,
          0,
          0,
          0,
          0,
          0,
          0,
          0,
          0,
          0,
          0,
          0,
          0,
          0,
          0,
          0,
          0,
          0,
          0,
          0,
          0,
          0,
          0,
          0,
          0,
          0,
          0,
          0,
          0,
          0,
          0,
          0,
          0,
          0,
          0,
          0,
          0,
          0,
          0,
          0,
          0,
          0,
          0,
          0,
          0,
          0,
          0,
          0,
          0,
          0,
          0,
          0,
          0,
          0,
          0,
          0,
          0,
          0,
          0,
          0,
          0,
          0,
          0,
          0,
          0,
          0,
          0,
          0,
          0,
          0,
          0,
          0,
          0,
          0,
          0,
          0,
          0,
          0,
          1,
          2,
          2,
          2,
          2,
          3,
          3,
          3,
          3,
          4,
          4,
          4,
          5,
          6,
          6,
          8,
          8,
          8,
          9,
          10,
          11,
          11,
          13,
          14,
          15,
          15,
          15,
          16,
          18,
          19,
          19,
          19,
          20,
          22,
          22,
          22,
          23,
          23,
          23,
          23,
          26,
          27,
          27,
          28,
          29,
          29,
          30,
          31,
          32,
          34,
          34,
          35,
          35,
          35,
          35,
          35,
          38,
          38,
          38,
          38,
          39,
          39,
          40,
          40,
          40,
          40,
          40,
          42,
          43,
          44,
          45,
          45,
          48,
          49,
          49,
          52,
          56,
          56,
          57,
          57,
          58,
          60,
          65,
          70,
          73,
          75,
          79,
          83,
          91,
          95,
          99,
          102,
          104,
          107,
          114,
          120,
          126,
          137,
          146,
          149,
          157,
          164,
          175,
          183,
          195,
          207,
          221,
          228,
          239,
          251,
          257,
          271,
          280,
          289,
          300,
          306,
          312,
          317,
          322,
          336,
          345,
          360,
          371,
          379,
          383,
          390,
          401,
          411,
          427,
          429,
          436,
          453,
          459,
          467,
          477,
          481,
          491,
          498,
          509,
          520,
          528,
          535,
          554,
          563,
          578,
          590,
          600,
          614
         ]
        }
       ],
       "layout": {
        "template": {
         "data": {
          "bar": [
           {
            "error_x": {
             "color": "#2a3f5f"
            },
            "error_y": {
             "color": "#2a3f5f"
            },
            "marker": {
             "line": {
              "color": "#E5ECF6",
              "width": 0.5
             }
            },
            "type": "bar"
           }
          ],
          "barpolar": [
           {
            "marker": {
             "line": {
              "color": "#E5ECF6",
              "width": 0.5
             }
            },
            "type": "barpolar"
           }
          ],
          "carpet": [
           {
            "aaxis": {
             "endlinecolor": "#2a3f5f",
             "gridcolor": "white",
             "linecolor": "white",
             "minorgridcolor": "white",
             "startlinecolor": "#2a3f5f"
            },
            "baxis": {
             "endlinecolor": "#2a3f5f",
             "gridcolor": "white",
             "linecolor": "white",
             "minorgridcolor": "white",
             "startlinecolor": "#2a3f5f"
            },
            "type": "carpet"
           }
          ],
          "choropleth": [
           {
            "colorbar": {
             "outlinewidth": 0,
             "ticks": ""
            },
            "type": "choropleth"
           }
          ],
          "contour": [
           {
            "colorbar": {
             "outlinewidth": 0,
             "ticks": ""
            },
            "colorscale": [
             [
              0,
              "#0d0887"
             ],
             [
              0.1111111111111111,
              "#46039f"
             ],
             [
              0.2222222222222222,
              "#7201a8"
             ],
             [
              0.3333333333333333,
              "#9c179e"
             ],
             [
              0.4444444444444444,
              "#bd3786"
             ],
             [
              0.5555555555555556,
              "#d8576b"
             ],
             [
              0.6666666666666666,
              "#ed7953"
             ],
             [
              0.7777777777777778,
              "#fb9f3a"
             ],
             [
              0.8888888888888888,
              "#fdca26"
             ],
             [
              1,
              "#f0f921"
             ]
            ],
            "type": "contour"
           }
          ],
          "contourcarpet": [
           {
            "colorbar": {
             "outlinewidth": 0,
             "ticks": ""
            },
            "type": "contourcarpet"
           }
          ],
          "heatmap": [
           {
            "colorbar": {
             "outlinewidth": 0,
             "ticks": ""
            },
            "colorscale": [
             [
              0,
              "#0d0887"
             ],
             [
              0.1111111111111111,
              "#46039f"
             ],
             [
              0.2222222222222222,
              "#7201a8"
             ],
             [
              0.3333333333333333,
              "#9c179e"
             ],
             [
              0.4444444444444444,
              "#bd3786"
             ],
             [
              0.5555555555555556,
              "#d8576b"
             ],
             [
              0.6666666666666666,
              "#ed7953"
             ],
             [
              0.7777777777777778,
              "#fb9f3a"
             ],
             [
              0.8888888888888888,
              "#fdca26"
             ],
             [
              1,
              "#f0f921"
             ]
            ],
            "type": "heatmap"
           }
          ],
          "heatmapgl": [
           {
            "colorbar": {
             "outlinewidth": 0,
             "ticks": ""
            },
            "colorscale": [
             [
              0,
              "#0d0887"
             ],
             [
              0.1111111111111111,
              "#46039f"
             ],
             [
              0.2222222222222222,
              "#7201a8"
             ],
             [
              0.3333333333333333,
              "#9c179e"
             ],
             [
              0.4444444444444444,
              "#bd3786"
             ],
             [
              0.5555555555555556,
              "#d8576b"
             ],
             [
              0.6666666666666666,
              "#ed7953"
             ],
             [
              0.7777777777777778,
              "#fb9f3a"
             ],
             [
              0.8888888888888888,
              "#fdca26"
             ],
             [
              1,
              "#f0f921"
             ]
            ],
            "type": "heatmapgl"
           }
          ],
          "histogram": [
           {
            "marker": {
             "colorbar": {
              "outlinewidth": 0,
              "ticks": ""
             }
            },
            "type": "histogram"
           }
          ],
          "histogram2d": [
           {
            "colorbar": {
             "outlinewidth": 0,
             "ticks": ""
            },
            "colorscale": [
             [
              0,
              "#0d0887"
             ],
             [
              0.1111111111111111,
              "#46039f"
             ],
             [
              0.2222222222222222,
              "#7201a8"
             ],
             [
              0.3333333333333333,
              "#9c179e"
             ],
             [
              0.4444444444444444,
              "#bd3786"
             ],
             [
              0.5555555555555556,
              "#d8576b"
             ],
             [
              0.6666666666666666,
              "#ed7953"
             ],
             [
              0.7777777777777778,
              "#fb9f3a"
             ],
             [
              0.8888888888888888,
              "#fdca26"
             ],
             [
              1,
              "#f0f921"
             ]
            ],
            "type": "histogram2d"
           }
          ],
          "histogram2dcontour": [
           {
            "colorbar": {
             "outlinewidth": 0,
             "ticks": ""
            },
            "colorscale": [
             [
              0,
              "#0d0887"
             ],
             [
              0.1111111111111111,
              "#46039f"
             ],
             [
              0.2222222222222222,
              "#7201a8"
             ],
             [
              0.3333333333333333,
              "#9c179e"
             ],
             [
              0.4444444444444444,
              "#bd3786"
             ],
             [
              0.5555555555555556,
              "#d8576b"
             ],
             [
              0.6666666666666666,
              "#ed7953"
             ],
             [
              0.7777777777777778,
              "#fb9f3a"
             ],
             [
              0.8888888888888888,
              "#fdca26"
             ],
             [
              1,
              "#f0f921"
             ]
            ],
            "type": "histogram2dcontour"
           }
          ],
          "mesh3d": [
           {
            "colorbar": {
             "outlinewidth": 0,
             "ticks": ""
            },
            "type": "mesh3d"
           }
          ],
          "parcoords": [
           {
            "line": {
             "colorbar": {
              "outlinewidth": 0,
              "ticks": ""
             }
            },
            "type": "parcoords"
           }
          ],
          "pie": [
           {
            "automargin": true,
            "type": "pie"
           }
          ],
          "scatter": [
           {
            "marker": {
             "colorbar": {
              "outlinewidth": 0,
              "ticks": ""
             }
            },
            "type": "scatter"
           }
          ],
          "scatter3d": [
           {
            "line": {
             "colorbar": {
              "outlinewidth": 0,
              "ticks": ""
             }
            },
            "marker": {
             "colorbar": {
              "outlinewidth": 0,
              "ticks": ""
             }
            },
            "type": "scatter3d"
           }
          ],
          "scattercarpet": [
           {
            "marker": {
             "colorbar": {
              "outlinewidth": 0,
              "ticks": ""
             }
            },
            "type": "scattercarpet"
           }
          ],
          "scattergeo": [
           {
            "marker": {
             "colorbar": {
              "outlinewidth": 0,
              "ticks": ""
             }
            },
            "type": "scattergeo"
           }
          ],
          "scattergl": [
           {
            "marker": {
             "colorbar": {
              "outlinewidth": 0,
              "ticks": ""
             }
            },
            "type": "scattergl"
           }
          ],
          "scattermapbox": [
           {
            "marker": {
             "colorbar": {
              "outlinewidth": 0,
              "ticks": ""
             }
            },
            "type": "scattermapbox"
           }
          ],
          "scatterpolar": [
           {
            "marker": {
             "colorbar": {
              "outlinewidth": 0,
              "ticks": ""
             }
            },
            "type": "scatterpolar"
           }
          ],
          "scatterpolargl": [
           {
            "marker": {
             "colorbar": {
              "outlinewidth": 0,
              "ticks": ""
             }
            },
            "type": "scatterpolargl"
           }
          ],
          "scatterternary": [
           {
            "marker": {
             "colorbar": {
              "outlinewidth": 0,
              "ticks": ""
             }
            },
            "type": "scatterternary"
           }
          ],
          "surface": [
           {
            "colorbar": {
             "outlinewidth": 0,
             "ticks": ""
            },
            "colorscale": [
             [
              0,
              "#0d0887"
             ],
             [
              0.1111111111111111,
              "#46039f"
             ],
             [
              0.2222222222222222,
              "#7201a8"
             ],
             [
              0.3333333333333333,
              "#9c179e"
             ],
             [
              0.4444444444444444,
              "#bd3786"
             ],
             [
              0.5555555555555556,
              "#d8576b"
             ],
             [
              0.6666666666666666,
              "#ed7953"
             ],
             [
              0.7777777777777778,
              "#fb9f3a"
             ],
             [
              0.8888888888888888,
              "#fdca26"
             ],
             [
              1,
              "#f0f921"
             ]
            ],
            "type": "surface"
           }
          ],
          "table": [
           {
            "cells": {
             "fill": {
              "color": "#EBF0F8"
             },
             "line": {
              "color": "white"
             }
            },
            "header": {
             "fill": {
              "color": "#C8D4E3"
             },
             "line": {
              "color": "white"
             }
            },
            "type": "table"
           }
          ]
         },
         "layout": {
          "annotationdefaults": {
           "arrowcolor": "#2a3f5f",
           "arrowhead": 0,
           "arrowwidth": 1
          },
          "coloraxis": {
           "colorbar": {
            "outlinewidth": 0,
            "ticks": ""
           }
          },
          "colorscale": {
           "diverging": [
            [
             0,
             "#8e0152"
            ],
            [
             0.1,
             "#c51b7d"
            ],
            [
             0.2,
             "#de77ae"
            ],
            [
             0.3,
             "#f1b6da"
            ],
            [
             0.4,
             "#fde0ef"
            ],
            [
             0.5,
             "#f7f7f7"
            ],
            [
             0.6,
             "#e6f5d0"
            ],
            [
             0.7,
             "#b8e186"
            ],
            [
             0.8,
             "#7fbc41"
            ],
            [
             0.9,
             "#4d9221"
            ],
            [
             1,
             "#276419"
            ]
           ],
           "sequential": [
            [
             0,
             "#0d0887"
            ],
            [
             0.1111111111111111,
             "#46039f"
            ],
            [
             0.2222222222222222,
             "#7201a8"
            ],
            [
             0.3333333333333333,
             "#9c179e"
            ],
            [
             0.4444444444444444,
             "#bd3786"
            ],
            [
             0.5555555555555556,
             "#d8576b"
            ],
            [
             0.6666666666666666,
             "#ed7953"
            ],
            [
             0.7777777777777778,
             "#fb9f3a"
            ],
            [
             0.8888888888888888,
             "#fdca26"
            ],
            [
             1,
             "#f0f921"
            ]
           ],
           "sequentialminus": [
            [
             0,
             "#0d0887"
            ],
            [
             0.1111111111111111,
             "#46039f"
            ],
            [
             0.2222222222222222,
             "#7201a8"
            ],
            [
             0.3333333333333333,
             "#9c179e"
            ],
            [
             0.4444444444444444,
             "#bd3786"
            ],
            [
             0.5555555555555556,
             "#d8576b"
            ],
            [
             0.6666666666666666,
             "#ed7953"
            ],
            [
             0.7777777777777778,
             "#fb9f3a"
            ],
            [
             0.8888888888888888,
             "#fdca26"
            ],
            [
             1,
             "#f0f921"
            ]
           ]
          },
          "colorway": [
           "#636efa",
           "#EF553B",
           "#00cc96",
           "#ab63fa",
           "#FFA15A",
           "#19d3f3",
           "#FF6692",
           "#B6E880",
           "#FF97FF",
           "#FECB52"
          ],
          "font": {
           "color": "#2a3f5f"
          },
          "geo": {
           "bgcolor": "white",
           "lakecolor": "white",
           "landcolor": "#E5ECF6",
           "showlakes": true,
           "showland": true,
           "subunitcolor": "white"
          },
          "hoverlabel": {
           "align": "left"
          },
          "hovermode": "closest",
          "mapbox": {
           "style": "light"
          },
          "paper_bgcolor": "white",
          "plot_bgcolor": "#E5ECF6",
          "polar": {
           "angularaxis": {
            "gridcolor": "white",
            "linecolor": "white",
            "ticks": ""
           },
           "bgcolor": "#E5ECF6",
           "radialaxis": {
            "gridcolor": "white",
            "linecolor": "white",
            "ticks": ""
           }
          },
          "scene": {
           "xaxis": {
            "backgroundcolor": "#E5ECF6",
            "gridcolor": "white",
            "gridwidth": 2,
            "linecolor": "white",
            "showbackground": true,
            "ticks": "",
            "zerolinecolor": "white"
           },
           "yaxis": {
            "backgroundcolor": "#E5ECF6",
            "gridcolor": "white",
            "gridwidth": 2,
            "linecolor": "white",
            "showbackground": true,
            "ticks": "",
            "zerolinecolor": "white"
           },
           "zaxis": {
            "backgroundcolor": "#E5ECF6",
            "gridcolor": "white",
            "gridwidth": 2,
            "linecolor": "white",
            "showbackground": true,
            "ticks": "",
            "zerolinecolor": "white"
           }
          },
          "shapedefaults": {
           "line": {
            "color": "#2a3f5f"
           }
          },
          "ternary": {
           "aaxis": {
            "gridcolor": "white",
            "linecolor": "white",
            "ticks": ""
           },
           "baxis": {
            "gridcolor": "white",
            "linecolor": "white",
            "ticks": ""
           },
           "bgcolor": "#E5ECF6",
           "caxis": {
            "gridcolor": "white",
            "linecolor": "white",
            "ticks": ""
           }
          },
          "title": {
           "x": 0.05
          },
          "xaxis": {
           "automargin": true,
           "gridcolor": "white",
           "linecolor": "white",
           "ticks": "",
           "title": {
            "standoff": 15
           },
           "zerolinecolor": "white",
           "zerolinewidth": 2
          },
          "yaxis": {
           "automargin": true,
           "gridcolor": "white",
           "linecolor": "white",
           "ticks": "",
           "title": {
            "standoff": 15
           },
           "zerolinecolor": "white",
           "zerolinewidth": 2
          }
         }
        },
        "xaxis": {
         "title": {
          "text": "Year"
         }
        },
        "yaxis": {
         "title": {
          "text": "Number of Cases"
         }
        }
       }
      },
      "text/html": [
       "<div>                            <div id=\"b95c5bbb-f5ad-4936-b11c-a008ca9f8726\" class=\"plotly-graph-div\" style=\"height:525px; width:100%;\"></div>            <script type=\"text/javascript\">                require([\"plotly\"], function(Plotly) {                    window.PLOTLYENV=window.PLOTLYENV || {};                                    if (document.getElementById(\"b95c5bbb-f5ad-4936-b11c-a008ca9f8726\")) {                    Plotly.newPlot(                        \"b95c5bbb-f5ad-4936-b11c-a008ca9f8726\",                        [{\"fill\": \"tozeroy\", \"name\": \"Total Cases\", \"type\": \"scatter\", \"x\": [\"2019-12-31T00:00:00\", \"2020-01-01T00:00:00\", \"2020-01-02T00:00:00\", \"2020-01-03T00:00:00\", \"2020-01-04T00:00:00\", \"2020-01-05T00:00:00\", \"2020-01-06T00:00:00\", \"2020-01-07T00:00:00\", \"2020-01-08T00:00:00\", \"2020-01-09T00:00:00\", \"2020-01-10T00:00:00\", \"2020-01-11T00:00:00\", \"2020-01-12T00:00:00\", \"2020-01-13T00:00:00\", \"2020-01-14T00:00:00\", \"2020-01-15T00:00:00\", \"2020-01-16T00:00:00\", \"2020-01-17T00:00:00\", \"2020-01-18T00:00:00\", \"2020-01-19T00:00:00\", \"2020-01-20T00:00:00\", \"2020-01-21T00:00:00\", \"2020-01-22T00:00:00\", \"2020-01-23T00:00:00\", \"2020-01-24T00:00:00\", \"2020-01-25T00:00:00\", \"2020-01-26T00:00:00\", \"2020-01-27T00:00:00\", \"2020-01-28T00:00:00\", \"2020-01-29T00:00:00\", \"2020-01-30T00:00:00\", \"2020-01-31T00:00:00\", \"2020-02-01T00:00:00\", \"2020-02-02T00:00:00\", \"2020-02-03T00:00:00\", \"2020-02-04T00:00:00\", \"2020-02-05T00:00:00\", \"2020-02-06T00:00:00\", \"2020-02-07T00:00:00\", \"2020-02-08T00:00:00\", \"2020-02-09T00:00:00\", \"2020-02-10T00:00:00\", \"2020-02-11T00:00:00\", \"2020-02-12T00:00:00\", \"2020-02-13T00:00:00\", \"2020-02-14T00:00:00\", \"2020-02-15T00:00:00\", \"2020-02-16T00:00:00\", \"2020-02-17T00:00:00\", \"2020-02-18T00:00:00\", \"2020-02-19T00:00:00\", \"2020-02-20T00:00:00\", \"2020-02-21T00:00:00\", \"2020-02-22T00:00:00\", \"2020-02-23T00:00:00\", \"2020-02-24T00:00:00\", \"2020-02-25T00:00:00\", \"2020-02-26T00:00:00\", \"2020-02-27T00:00:00\", \"2020-02-28T00:00:00\", \"2020-02-29T00:00:00\", \"2020-03-01T00:00:00\", \"2020-03-02T00:00:00\", \"2020-03-03T00:00:00\", \"2020-03-04T00:00:00\", \"2020-03-05T00:00:00\", \"2020-03-06T00:00:00\", \"2020-03-07T00:00:00\", \"2020-03-08T00:00:00\", \"2020-03-09T00:00:00\", \"2020-03-10T00:00:00\", \"2020-03-11T00:00:00\", \"2020-03-12T00:00:00\", \"2020-03-13T00:00:00\", \"2020-03-14T00:00:00\", \"2020-03-15T00:00:00\", \"2020-03-16T00:00:00\", \"2020-03-17T00:00:00\", \"2020-03-18T00:00:00\", \"2020-03-19T00:00:00\", \"2020-03-20T00:00:00\", \"2020-03-21T00:00:00\", \"2020-03-22T00:00:00\", \"2020-03-23T00:00:00\", \"2020-03-24T00:00:00\", \"2020-03-25T00:00:00\", \"2020-03-26T00:00:00\", \"2020-03-27T00:00:00\", \"2020-03-28T00:00:00\", \"2020-03-29T00:00:00\", \"2020-03-30T00:00:00\", \"2020-03-31T00:00:00\", \"2020-04-01T00:00:00\", \"2020-04-02T00:00:00\", \"2020-04-03T00:00:00\", \"2020-04-04T00:00:00\", \"2020-04-05T00:00:00\", \"2020-04-06T00:00:00\", \"2020-04-07T00:00:00\", \"2020-04-08T00:00:00\", \"2020-04-09T00:00:00\", \"2020-04-10T00:00:00\", \"2020-04-11T00:00:00\", \"2020-04-12T00:00:00\", \"2020-04-13T00:00:00\", \"2020-04-14T00:00:00\", \"2020-04-15T00:00:00\", \"2020-04-16T00:00:00\", \"2020-04-17T00:00:00\", \"2020-04-18T00:00:00\", \"2020-04-19T00:00:00\", \"2020-04-20T00:00:00\", \"2020-04-21T00:00:00\", \"2020-04-22T00:00:00\", \"2020-04-23T00:00:00\", \"2020-04-24T00:00:00\", \"2020-04-25T00:00:00\", \"2020-04-26T00:00:00\", \"2020-04-27T00:00:00\", \"2020-04-28T00:00:00\", \"2020-04-29T00:00:00\", \"2020-04-30T00:00:00\", \"2020-05-01T00:00:00\", \"2020-05-02T00:00:00\", \"2020-05-03T00:00:00\", \"2020-05-04T00:00:00\", \"2020-05-05T00:00:00\", \"2020-05-06T00:00:00\", \"2020-05-07T00:00:00\", \"2020-05-08T00:00:00\", \"2020-05-09T00:00:00\", \"2020-05-10T00:00:00\", \"2020-05-11T00:00:00\", \"2020-05-12T00:00:00\", \"2020-05-13T00:00:00\", \"2020-05-14T00:00:00\", \"2020-05-15T00:00:00\", \"2020-05-16T00:00:00\", \"2020-05-17T00:00:00\", \"2020-05-18T00:00:00\", \"2020-05-19T00:00:00\", \"2020-05-20T00:00:00\", \"2020-05-21T00:00:00\", \"2020-05-22T00:00:00\", \"2020-05-23T00:00:00\", \"2020-05-24T00:00:00\", \"2020-05-25T00:00:00\", \"2020-05-26T00:00:00\", \"2020-05-27T00:00:00\", \"2020-05-28T00:00:00\", \"2020-05-29T00:00:00\", \"2020-05-30T00:00:00\", \"2020-05-31T00:00:00\", \"2020-06-01T00:00:00\", \"2020-06-02T00:00:00\", \"2020-06-03T00:00:00\", \"2020-06-04T00:00:00\", \"2020-06-05T00:00:00\", \"2020-06-06T00:00:00\", \"2020-06-07T00:00:00\", \"2020-06-08T00:00:00\", \"2020-06-09T00:00:00\", \"2020-06-10T00:00:00\", \"2020-06-11T00:00:00\", \"2020-06-12T00:00:00\", \"2020-06-13T00:00:00\", \"2020-06-14T00:00:00\", \"2020-06-15T00:00:00\", \"2020-06-16T00:00:00\", \"2020-06-17T00:00:00\", \"2020-06-18T00:00:00\", \"2020-06-19T00:00:00\", \"2020-06-20T00:00:00\", \"2020-06-21T00:00:00\", \"2020-06-22T00:00:00\", \"2020-06-23T00:00:00\", \"2020-06-24T00:00:00\", \"2020-06-25T00:00:00\", \"2020-06-26T00:00:00\", \"2020-06-27T00:00:00\", \"2020-06-28T00:00:00\", \"2020-06-29T00:00:00\", \"2020-06-30T00:00:00\", \"2020-07-01T00:00:00\", \"2020-07-02T00:00:00\", \"2020-07-03T00:00:00\", \"2020-07-04T00:00:00\", \"2020-07-05T00:00:00\", \"2020-07-06T00:00:00\", \"2020-07-07T00:00:00\", \"2020-07-08T00:00:00\", \"2020-07-09T00:00:00\", \"2020-07-10T00:00:00\", \"2020-07-11T00:00:00\", \"2020-07-12T00:00:00\", \"2020-07-13T00:00:00\", \"2020-07-14T00:00:00\", \"2020-07-15T00:00:00\", \"2020-07-16T00:00:00\", \"2020-07-17T00:00:00\", \"2020-07-18T00:00:00\", \"2020-07-19T00:00:00\", \"2020-07-20T00:00:00\", \"2020-07-21T00:00:00\", \"2020-07-22T00:00:00\", \"2020-07-23T00:00:00\", \"2020-07-24T00:00:00\", \"2020-07-25T00:00:00\", \"2020-07-26T00:00:00\", \"2020-07-27T00:00:00\", \"2020-07-28T00:00:00\", \"2020-07-29T00:00:00\", \"2020-07-30T00:00:00\", \"2020-07-31T00:00:00\", \"2020-08-01T00:00:00\", \"2020-08-02T00:00:00\", \"2020-08-03T00:00:00\", \"2020-08-04T00:00:00\", \"2020-08-05T00:00:00\", \"2020-08-06T00:00:00\", \"2020-08-07T00:00:00\", \"2020-08-08T00:00:00\", \"2020-08-09T00:00:00\", \"2020-08-10T00:00:00\", \"2020-08-11T00:00:00\", \"2020-08-12T00:00:00\", \"2020-08-13T00:00:00\", \"2020-08-14T00:00:00\", \"2020-08-15T00:00:00\", \"2020-08-16T00:00:00\", \"2020-08-17T00:00:00\", \"2020-08-18T00:00:00\", \"2020-08-19T00:00:00\", \"2020-08-20T00:00:00\", \"2020-08-21T00:00:00\", \"2020-08-22T00:00:00\", \"2020-08-23T00:00:00\", \"2020-08-24T00:00:00\", \"2020-08-25T00:00:00\", \"2020-08-26T00:00:00\", \"2020-08-27T00:00:00\", \"2020-08-28T00:00:00\", \"2020-08-29T00:00:00\", \"2020-08-30T00:00:00\", \"2020-08-31T00:00:00\", \"2020-09-01T00:00:00\", \"2020-09-02T00:00:00\", \"2020-09-03T00:00:00\", \"2020-09-04T00:00:00\", \"2020-09-05T00:00:00\", \"2020-09-06T00:00:00\", \"2020-09-07T00:00:00\", \"2020-09-08T00:00:00\", \"2020-09-09T00:00:00\", \"2020-09-10T00:00:00\", \"2020-09-11T00:00:00\", \"2020-09-12T00:00:00\", \"2020-09-13T00:00:00\", \"2020-09-14T00:00:00\", \"2020-09-15T00:00:00\", \"2020-09-16T00:00:00\", \"2020-09-17T00:00:00\", \"2020-09-18T00:00:00\", \"2020-09-19T00:00:00\", \"2020-09-20T00:00:00\", \"2020-09-21T00:00:00\", \"2020-09-22T00:00:00\", \"2020-09-23T00:00:00\", \"2020-09-24T00:00:00\", \"2020-09-25T00:00:00\", \"2020-09-26T00:00:00\", \"2020-09-27T00:00:00\", \"2020-09-28T00:00:00\", \"2020-09-29T00:00:00\", \"2020-09-30T00:00:00\", \"2020-10-01T00:00:00\", \"2020-10-02T00:00:00\", \"2020-10-03T00:00:00\", \"2020-10-04T00:00:00\", \"2020-10-05T00:00:00\", \"2020-10-06T00:00:00\", \"2020-10-07T00:00:00\", \"2020-10-08T00:00:00\", \"2020-10-09T00:00:00\", \"2020-10-10T00:00:00\", \"2020-10-11T00:00:00\"], \"y\": [0, 0, 0, 0, 0, 0, 0, 0, 0, 0, 0, 0, 0, 0, 0, 0, 0, 0, 0, 0, 0, 0, 0, 0, 0, 1, 1, 1, 1, 1, 1, 1, 1, 1, 1, 1, 1, 1, 1, 1, 1, 1, 1, 1, 1, 1, 1, 1, 1, 1, 1, 1, 1, 1, 1, 1, 1, 1, 1, 1, 1, 1, 1, 0, 0, 0, 0, 0, 0, 0, 0, 0, 0, 0, 0, 1, 0, 1, 1, 1, 1, 1, 1, 1, 2, 3, 3, 3, 3, 5, 5, 5, 5, 5, 5, 6, 6, 9, 9, 9, 9, 9, 9, 9, 12, 14, 16, 16, 16, 30, 31, 31, 31, 42, 45, 48, 49, 49, 52, 52, 54, 57, 57, 59, 59, 75, 82, 82, 99, 101, 101, 109, 120, 134, 217, 219, 258, 276, 291, 304, 375, 402, 444, 487, 548, 584, 603, 682, 772, 886, 1042, 1212, 1401, 1572, 1798, 2099, 2300, 2634, 2912, 2912, 3448, 3762, 4085, 4364, 4614, 5062, 5335, 5760, 6211, 6591, 7177, 7848, 8274, 8605, 9026, 9026, 9026, 10728, 11162, 11755, 11755, 12772, 13248, 13564, 14046, 14519, 15259, 15491, 15784, 15964, 15964, 16423, 16531, 16649, 16719, 16801, 16945, 17061, 17177, 17344, 17445, 17502, 17658, 17844, 17944, 18094, 18241, 18374, 18483, 18613, 18752, 19063, 19273, 19547, 19771, 20086, 20332, 20750, 21009, 21390, 21750, 22214, 22592, 22972, 23310, 23948, 24432, 24957, 25551, 26019, 26660, 27241, 28257, 28938, 29645, 30483, 31117, 31935, 32678, 33533, 34418, 35529, 36456, 37340, 38561, 39460, 40529, 41649, 42877, 44236, 45277, 46257, 47236, 48138, 49219, 50465, 51919, 53120, 54159, 55329, 56788, 58327, 59573, 61593, 62797, 64122, 65276, 66632, 67804, 69301, 70614, 71821, 73394, 74745, 76258, 77817, 79728, 82450, 84570, 86823, 89263, 90814, 94253, 98617, 100676, 105684]}, {\"fill\": \"tozeroy\", \"name\": \"Total Death\", \"type\": \"scatter\", \"x\": [\"2019-12-31T00:00:00\", \"2020-01-01T00:00:00\", \"2020-01-02T00:00:00\", \"2020-01-03T00:00:00\", \"2020-01-04T00:00:00\", \"2020-01-05T00:00:00\", \"2020-01-06T00:00:00\", \"2020-01-07T00:00:00\", \"2020-01-08T00:00:00\", \"2020-01-09T00:00:00\", \"2020-01-10T00:00:00\", \"2020-01-11T00:00:00\", \"2020-01-12T00:00:00\", \"2020-01-13T00:00:00\", \"2020-01-14T00:00:00\", \"2020-01-15T00:00:00\", \"2020-01-16T00:00:00\", \"2020-01-17T00:00:00\", \"2020-01-18T00:00:00\", \"2020-01-19T00:00:00\", \"2020-01-20T00:00:00\", \"2020-01-21T00:00:00\", \"2020-01-22T00:00:00\", \"2020-01-23T00:00:00\", \"2020-01-24T00:00:00\", \"2020-01-25T00:00:00\", \"2020-01-26T00:00:00\", \"2020-01-27T00:00:00\", \"2020-01-28T00:00:00\", \"2020-01-29T00:00:00\", \"2020-01-30T00:00:00\", \"2020-01-31T00:00:00\", \"2020-02-01T00:00:00\", \"2020-02-02T00:00:00\", \"2020-02-03T00:00:00\", \"2020-02-04T00:00:00\", \"2020-02-05T00:00:00\", \"2020-02-06T00:00:00\", \"2020-02-07T00:00:00\", \"2020-02-08T00:00:00\", \"2020-02-09T00:00:00\", \"2020-02-10T00:00:00\", \"2020-02-11T00:00:00\", \"2020-02-12T00:00:00\", \"2020-02-13T00:00:00\", \"2020-02-14T00:00:00\", \"2020-02-15T00:00:00\", \"2020-02-16T00:00:00\", \"2020-02-17T00:00:00\", \"2020-02-18T00:00:00\", \"2020-02-19T00:00:00\", \"2020-02-20T00:00:00\", \"2020-02-21T00:00:00\", \"2020-02-22T00:00:00\", \"2020-02-23T00:00:00\", \"2020-02-24T00:00:00\", \"2020-02-25T00:00:00\", \"2020-02-26T00:00:00\", \"2020-02-27T00:00:00\", \"2020-02-28T00:00:00\", \"2020-02-29T00:00:00\", \"2020-03-01T00:00:00\", \"2020-03-02T00:00:00\", \"2020-03-03T00:00:00\", \"2020-03-04T00:00:00\", \"2020-03-05T00:00:00\", \"2020-03-06T00:00:00\", \"2020-03-07T00:00:00\", \"2020-03-08T00:00:00\", \"2020-03-09T00:00:00\", \"2020-03-10T00:00:00\", \"2020-03-11T00:00:00\", \"2020-03-12T00:00:00\", \"2020-03-13T00:00:00\", \"2020-03-14T00:00:00\", \"2020-03-15T00:00:00\", \"2020-03-16T00:00:00\", \"2020-03-17T00:00:00\", \"2020-03-18T00:00:00\", \"2020-03-19T00:00:00\", \"2020-03-20T00:00:00\", \"2020-03-21T00:00:00\", \"2020-03-22T00:00:00\", \"2020-03-23T00:00:00\", \"2020-03-24T00:00:00\", \"2020-03-25T00:00:00\", \"2020-03-26T00:00:00\", \"2020-03-27T00:00:00\", \"2020-03-28T00:00:00\", \"2020-03-29T00:00:00\", \"2020-03-30T00:00:00\", \"2020-03-31T00:00:00\", \"2020-04-01T00:00:00\", \"2020-04-02T00:00:00\", \"2020-04-03T00:00:00\", \"2020-04-04T00:00:00\", \"2020-04-05T00:00:00\", \"2020-04-06T00:00:00\", \"2020-04-07T00:00:00\", \"2020-04-08T00:00:00\", \"2020-04-09T00:00:00\", \"2020-04-10T00:00:00\", \"2020-04-11T00:00:00\", \"2020-04-12T00:00:00\", \"2020-04-13T00:00:00\", \"2020-04-14T00:00:00\", \"2020-04-15T00:00:00\", \"2020-04-16T00:00:00\", \"2020-04-17T00:00:00\", \"2020-04-18T00:00:00\", \"2020-04-19T00:00:00\", \"2020-04-20T00:00:00\", \"2020-04-21T00:00:00\", \"2020-04-22T00:00:00\", \"2020-04-23T00:00:00\", \"2020-04-24T00:00:00\", \"2020-04-25T00:00:00\", \"2020-04-26T00:00:00\", \"2020-04-27T00:00:00\", \"2020-04-28T00:00:00\", \"2020-04-29T00:00:00\", \"2020-04-30T00:00:00\", \"2020-05-01T00:00:00\", \"2020-05-02T00:00:00\", \"2020-05-03T00:00:00\", \"2020-05-04T00:00:00\", \"2020-05-05T00:00:00\", \"2020-05-06T00:00:00\", \"2020-05-07T00:00:00\", \"2020-05-08T00:00:00\", \"2020-05-09T00:00:00\", \"2020-05-10T00:00:00\", \"2020-05-11T00:00:00\", \"2020-05-12T00:00:00\", \"2020-05-13T00:00:00\", \"2020-05-14T00:00:00\", \"2020-05-15T00:00:00\", \"2020-05-16T00:00:00\", \"2020-05-17T00:00:00\", \"2020-05-18T00:00:00\", \"2020-05-19T00:00:00\", \"2020-05-20T00:00:00\", \"2020-05-21T00:00:00\", \"2020-05-22T00:00:00\", \"2020-05-23T00:00:00\", \"2020-05-24T00:00:00\", \"2020-05-25T00:00:00\", \"2020-05-26T00:00:00\", \"2020-05-27T00:00:00\", \"2020-05-28T00:00:00\", \"2020-05-29T00:00:00\", \"2020-05-30T00:00:00\", \"2020-05-31T00:00:00\", \"2020-06-01T00:00:00\", \"2020-06-02T00:00:00\", \"2020-06-03T00:00:00\", \"2020-06-04T00:00:00\", \"2020-06-05T00:00:00\", \"2020-06-06T00:00:00\", \"2020-06-07T00:00:00\", \"2020-06-08T00:00:00\", \"2020-06-09T00:00:00\", \"2020-06-10T00:00:00\", \"2020-06-11T00:00:00\", \"2020-06-12T00:00:00\", \"2020-06-13T00:00:00\", \"2020-06-14T00:00:00\", \"2020-06-15T00:00:00\", \"2020-06-16T00:00:00\", \"2020-06-17T00:00:00\", \"2020-06-18T00:00:00\", \"2020-06-19T00:00:00\", \"2020-06-20T00:00:00\", \"2020-06-21T00:00:00\", \"2020-06-22T00:00:00\", \"2020-06-23T00:00:00\", \"2020-06-24T00:00:00\", \"2020-06-25T00:00:00\", \"2020-06-26T00:00:00\", \"2020-06-27T00:00:00\", \"2020-06-28T00:00:00\", \"2020-06-29T00:00:00\", \"2020-06-30T00:00:00\", \"2020-07-01T00:00:00\", \"2020-07-02T00:00:00\", \"2020-07-03T00:00:00\", \"2020-07-04T00:00:00\", \"2020-07-05T00:00:00\", \"2020-07-06T00:00:00\", \"2020-07-07T00:00:00\", \"2020-07-08T00:00:00\", \"2020-07-09T00:00:00\", \"2020-07-10T00:00:00\", \"2020-07-11T00:00:00\", \"2020-07-12T00:00:00\", \"2020-07-13T00:00:00\", \"2020-07-14T00:00:00\", \"2020-07-15T00:00:00\", \"2020-07-16T00:00:00\", \"2020-07-17T00:00:00\", \"2020-07-18T00:00:00\", \"2020-07-19T00:00:00\", \"2020-07-20T00:00:00\", \"2020-07-21T00:00:00\", \"2020-07-22T00:00:00\", \"2020-07-23T00:00:00\", \"2020-07-24T00:00:00\", \"2020-07-25T00:00:00\", \"2020-07-26T00:00:00\", \"2020-07-27T00:00:00\", \"2020-07-28T00:00:00\", \"2020-07-29T00:00:00\", \"2020-07-30T00:00:00\", \"2020-07-31T00:00:00\", \"2020-08-01T00:00:00\", \"2020-08-02T00:00:00\", \"2020-08-03T00:00:00\", \"2020-08-04T00:00:00\", \"2020-08-05T00:00:00\", \"2020-08-06T00:00:00\", \"2020-08-07T00:00:00\", \"2020-08-08T00:00:00\", \"2020-08-09T00:00:00\", \"2020-08-10T00:00:00\", \"2020-08-11T00:00:00\", \"2020-08-12T00:00:00\", \"2020-08-13T00:00:00\", \"2020-08-14T00:00:00\", \"2020-08-15T00:00:00\", \"2020-08-16T00:00:00\", \"2020-08-17T00:00:00\", \"2020-08-18T00:00:00\", \"2020-08-19T00:00:00\", \"2020-08-20T00:00:00\", \"2020-08-21T00:00:00\", \"2020-08-22T00:00:00\", \"2020-08-23T00:00:00\", \"2020-08-24T00:00:00\", \"2020-08-25T00:00:00\", \"2020-08-26T00:00:00\", \"2020-08-27T00:00:00\", \"2020-08-28T00:00:00\", \"2020-08-29T00:00:00\", \"2020-08-30T00:00:00\", \"2020-08-31T00:00:00\", \"2020-09-01T00:00:00\", \"2020-09-02T00:00:00\", \"2020-09-03T00:00:00\", \"2020-09-04T00:00:00\", \"2020-09-05T00:00:00\", \"2020-09-06T00:00:00\", \"2020-09-07T00:00:00\", \"2020-09-08T00:00:00\", \"2020-09-09T00:00:00\", \"2020-09-10T00:00:00\", \"2020-09-11T00:00:00\", \"2020-09-12T00:00:00\", \"2020-09-13T00:00:00\", \"2020-09-14T00:00:00\", \"2020-09-15T00:00:00\", \"2020-09-16T00:00:00\", \"2020-09-17T00:00:00\", \"2020-09-18T00:00:00\", \"2020-09-19T00:00:00\", \"2020-09-20T00:00:00\", \"2020-09-21T00:00:00\", \"2020-09-22T00:00:00\", \"2020-09-23T00:00:00\", \"2020-09-24T00:00:00\", \"2020-09-25T00:00:00\", \"2020-09-26T00:00:00\", \"2020-09-27T00:00:00\", \"2020-09-28T00:00:00\", \"2020-09-29T00:00:00\", \"2020-09-30T00:00:00\", \"2020-10-01T00:00:00\", \"2020-10-02T00:00:00\", \"2020-10-03T00:00:00\", \"2020-10-04T00:00:00\", \"2020-10-05T00:00:00\", \"2020-10-06T00:00:00\", \"2020-10-07T00:00:00\", \"2020-10-08T00:00:00\", \"2020-10-09T00:00:00\", \"2020-10-10T00:00:00\", \"2020-10-11T00:00:00\"], \"y\": [0, 0, 0, 0, 0, 0, 0, 0, 0, 0, 0, 0, 0, 0, 0, 0, 0, 0, 0, 0, 0, 0, 0, 0, 0, 0, 0, 0, 0, 0, 0, 0, 0, 0, 0, 0, 0, 0, 0, 0, 0, 0, 0, 0, 0, 0, 0, 0, 0, 0, 0, 0, 0, 0, 0, 0, 0, 0, 0, 0, 0, 0, 0, 0, 0, 0, 0, 0, 0, 0, 0, 0, 0, 0, 0, 0, 0, 0, 0, 0, 0, 0, 0, 0, 0, 0, 0, 0, 0, 0, 0, 0, 0, 0, 0, 0, 0, 0, 0, 0, 0, 0, 0, 0, 0, 0, 0, 0, 0, 0, 0, 0, 0, 0, 0, 0, 0, 0, 0, 0, 0, 0, 0, 0, 0, 0, 0, 0, 0, 0, 0, 0, 0, 0, 0, 0, 0, 0, 1, 2, 2, 2, 2, 3, 3, 3, 3, 4, 4, 4, 5, 6, 6, 8, 8, 8, 9, 10, 11, 11, 13, 14, 15, 15, 15, 16, 18, 19, 19, 19, 20, 22, 22, 22, 23, 23, 23, 23, 26, 27, 27, 28, 29, 29, 30, 31, 32, 34, 34, 35, 35, 35, 35, 35, 38, 38, 38, 38, 39, 39, 40, 40, 40, 40, 40, 42, 43, 44, 45, 45, 48, 49, 49, 52, 56, 56, 57, 57, 58, 60, 65, 70, 73, 75, 79, 83, 91, 95, 99, 102, 104, 107, 114, 120, 126, 137, 146, 149, 157, 164, 175, 183, 195, 207, 221, 228, 239, 251, 257, 271, 280, 289, 300, 306, 312, 317, 322, 336, 345, 360, 371, 379, 383, 390, 401, 411, 427, 429, 436, 453, 459, 467, 477, 481, 491, 498, 509, 520, 528, 535, 554, 563, 578, 590, 600, 614]}],                        {\"template\": {\"data\": {\"bar\": [{\"error_x\": {\"color\": \"#2a3f5f\"}, \"error_y\": {\"color\": \"#2a3f5f\"}, \"marker\": {\"line\": {\"color\": \"#E5ECF6\", \"width\": 0.5}}, \"type\": \"bar\"}], \"barpolar\": [{\"marker\": {\"line\": {\"color\": \"#E5ECF6\", \"width\": 0.5}}, \"type\": \"barpolar\"}], \"carpet\": [{\"aaxis\": {\"endlinecolor\": \"#2a3f5f\", \"gridcolor\": \"white\", \"linecolor\": \"white\", \"minorgridcolor\": \"white\", \"startlinecolor\": \"#2a3f5f\"}, \"baxis\": {\"endlinecolor\": \"#2a3f5f\", \"gridcolor\": \"white\", \"linecolor\": \"white\", \"minorgridcolor\": \"white\", \"startlinecolor\": \"#2a3f5f\"}, \"type\": \"carpet\"}], \"choropleth\": [{\"colorbar\": {\"outlinewidth\": 0, \"ticks\": \"\"}, \"type\": \"choropleth\"}], \"contour\": [{\"colorbar\": {\"outlinewidth\": 0, \"ticks\": \"\"}, \"colorscale\": [[0.0, \"#0d0887\"], [0.1111111111111111, \"#46039f\"], [0.2222222222222222, \"#7201a8\"], [0.3333333333333333, \"#9c179e\"], [0.4444444444444444, \"#bd3786\"], [0.5555555555555556, \"#d8576b\"], [0.6666666666666666, \"#ed7953\"], [0.7777777777777778, \"#fb9f3a\"], [0.8888888888888888, \"#fdca26\"], [1.0, \"#f0f921\"]], \"type\": \"contour\"}], \"contourcarpet\": [{\"colorbar\": {\"outlinewidth\": 0, \"ticks\": \"\"}, \"type\": \"contourcarpet\"}], \"heatmap\": [{\"colorbar\": {\"outlinewidth\": 0, \"ticks\": \"\"}, \"colorscale\": [[0.0, \"#0d0887\"], [0.1111111111111111, \"#46039f\"], [0.2222222222222222, \"#7201a8\"], [0.3333333333333333, \"#9c179e\"], [0.4444444444444444, \"#bd3786\"], [0.5555555555555556, \"#d8576b\"], [0.6666666666666666, \"#ed7953\"], [0.7777777777777778, \"#fb9f3a\"], [0.8888888888888888, \"#fdca26\"], [1.0, \"#f0f921\"]], \"type\": \"heatmap\"}], \"heatmapgl\": [{\"colorbar\": {\"outlinewidth\": 0, \"ticks\": \"\"}, \"colorscale\": [[0.0, \"#0d0887\"], [0.1111111111111111, \"#46039f\"], [0.2222222222222222, \"#7201a8\"], [0.3333333333333333, \"#9c179e\"], [0.4444444444444444, \"#bd3786\"], [0.5555555555555556, \"#d8576b\"], [0.6666666666666666, \"#ed7953\"], [0.7777777777777778, \"#fb9f3a\"], [0.8888888888888888, \"#fdca26\"], [1.0, \"#f0f921\"]], \"type\": \"heatmapgl\"}], \"histogram\": [{\"marker\": {\"colorbar\": {\"outlinewidth\": 0, \"ticks\": \"\"}}, \"type\": \"histogram\"}], \"histogram2d\": [{\"colorbar\": {\"outlinewidth\": 0, \"ticks\": \"\"}, \"colorscale\": [[0.0, \"#0d0887\"], [0.1111111111111111, \"#46039f\"], [0.2222222222222222, \"#7201a8\"], [0.3333333333333333, \"#9c179e\"], [0.4444444444444444, \"#bd3786\"], [0.5555555555555556, \"#d8576b\"], [0.6666666666666666, \"#ed7953\"], [0.7777777777777778, \"#fb9f3a\"], [0.8888888888888888, \"#fdca26\"], [1.0, \"#f0f921\"]], \"type\": \"histogram2d\"}], \"histogram2dcontour\": [{\"colorbar\": {\"outlinewidth\": 0, \"ticks\": \"\"}, \"colorscale\": [[0.0, \"#0d0887\"], [0.1111111111111111, \"#46039f\"], [0.2222222222222222, \"#7201a8\"], [0.3333333333333333, \"#9c179e\"], [0.4444444444444444, \"#bd3786\"], [0.5555555555555556, \"#d8576b\"], [0.6666666666666666, \"#ed7953\"], [0.7777777777777778, \"#fb9f3a\"], [0.8888888888888888, \"#fdca26\"], [1.0, \"#f0f921\"]], \"type\": \"histogram2dcontour\"}], \"mesh3d\": [{\"colorbar\": {\"outlinewidth\": 0, \"ticks\": \"\"}, \"type\": \"mesh3d\"}], \"parcoords\": [{\"line\": {\"colorbar\": {\"outlinewidth\": 0, \"ticks\": \"\"}}, \"type\": \"parcoords\"}], \"pie\": [{\"automargin\": true, \"type\": \"pie\"}], \"scatter\": [{\"marker\": {\"colorbar\": {\"outlinewidth\": 0, \"ticks\": \"\"}}, \"type\": \"scatter\"}], \"scatter3d\": [{\"line\": {\"colorbar\": {\"outlinewidth\": 0, \"ticks\": \"\"}}, \"marker\": {\"colorbar\": {\"outlinewidth\": 0, \"ticks\": \"\"}}, \"type\": \"scatter3d\"}], \"scattercarpet\": [{\"marker\": {\"colorbar\": {\"outlinewidth\": 0, \"ticks\": \"\"}}, \"type\": \"scattercarpet\"}], \"scattergeo\": [{\"marker\": {\"colorbar\": {\"outlinewidth\": 0, \"ticks\": \"\"}}, \"type\": \"scattergeo\"}], \"scattergl\": [{\"marker\": {\"colorbar\": {\"outlinewidth\": 0, \"ticks\": \"\"}}, \"type\": \"scattergl\"}], \"scattermapbox\": [{\"marker\": {\"colorbar\": {\"outlinewidth\": 0, \"ticks\": \"\"}}, \"type\": \"scattermapbox\"}], \"scatterpolar\": [{\"marker\": {\"colorbar\": {\"outlinewidth\": 0, \"ticks\": \"\"}}, \"type\": \"scatterpolar\"}], \"scatterpolargl\": [{\"marker\": {\"colorbar\": {\"outlinewidth\": 0, \"ticks\": \"\"}}, \"type\": \"scatterpolargl\"}], \"scatterternary\": [{\"marker\": {\"colorbar\": {\"outlinewidth\": 0, \"ticks\": \"\"}}, \"type\": \"scatterternary\"}], \"surface\": [{\"colorbar\": {\"outlinewidth\": 0, \"ticks\": \"\"}, \"colorscale\": [[0.0, \"#0d0887\"], [0.1111111111111111, \"#46039f\"], [0.2222222222222222, \"#7201a8\"], [0.3333333333333333, \"#9c179e\"], [0.4444444444444444, \"#bd3786\"], [0.5555555555555556, \"#d8576b\"], [0.6666666666666666, \"#ed7953\"], [0.7777777777777778, \"#fb9f3a\"], [0.8888888888888888, \"#fdca26\"], [1.0, \"#f0f921\"]], \"type\": \"surface\"}], \"table\": [{\"cells\": {\"fill\": {\"color\": \"#EBF0F8\"}, \"line\": {\"color\": \"white\"}}, \"header\": {\"fill\": {\"color\": \"#C8D4E3\"}, \"line\": {\"color\": \"white\"}}, \"type\": \"table\"}]}, \"layout\": {\"annotationdefaults\": {\"arrowcolor\": \"#2a3f5f\", \"arrowhead\": 0, \"arrowwidth\": 1}, \"coloraxis\": {\"colorbar\": {\"outlinewidth\": 0, \"ticks\": \"\"}}, \"colorscale\": {\"diverging\": [[0, \"#8e0152\"], [0.1, \"#c51b7d\"], [0.2, \"#de77ae\"], [0.3, \"#f1b6da\"], [0.4, \"#fde0ef\"], [0.5, \"#f7f7f7\"], [0.6, \"#e6f5d0\"], [0.7, \"#b8e186\"], [0.8, \"#7fbc41\"], [0.9, \"#4d9221\"], [1, \"#276419\"]], \"sequential\": [[0.0, \"#0d0887\"], [0.1111111111111111, \"#46039f\"], [0.2222222222222222, \"#7201a8\"], [0.3333333333333333, \"#9c179e\"], [0.4444444444444444, \"#bd3786\"], [0.5555555555555556, \"#d8576b\"], [0.6666666666666666, \"#ed7953\"], [0.7777777777777778, \"#fb9f3a\"], [0.8888888888888888, \"#fdca26\"], [1.0, \"#f0f921\"]], \"sequentialminus\": [[0.0, \"#0d0887\"], [0.1111111111111111, \"#46039f\"], [0.2222222222222222, \"#7201a8\"], [0.3333333333333333, \"#9c179e\"], [0.4444444444444444, \"#bd3786\"], [0.5555555555555556, \"#d8576b\"], [0.6666666666666666, \"#ed7953\"], [0.7777777777777778, \"#fb9f3a\"], [0.8888888888888888, \"#fdca26\"], [1.0, \"#f0f921\"]]}, \"colorway\": [\"#636efa\", \"#EF553B\", \"#00cc96\", \"#ab63fa\", \"#FFA15A\", \"#19d3f3\", \"#FF6692\", \"#B6E880\", \"#FF97FF\", \"#FECB52\"], \"font\": {\"color\": \"#2a3f5f\"}, \"geo\": {\"bgcolor\": \"white\", \"lakecolor\": \"white\", \"landcolor\": \"#E5ECF6\", \"showlakes\": true, \"showland\": true, \"subunitcolor\": \"white\"}, \"hoverlabel\": {\"align\": \"left\"}, \"hovermode\": \"closest\", \"mapbox\": {\"style\": \"light\"}, \"paper_bgcolor\": \"white\", \"plot_bgcolor\": \"#E5ECF6\", \"polar\": {\"angularaxis\": {\"gridcolor\": \"white\", \"linecolor\": \"white\", \"ticks\": \"\"}, \"bgcolor\": \"#E5ECF6\", \"radialaxis\": {\"gridcolor\": \"white\", \"linecolor\": \"white\", \"ticks\": \"\"}}, \"scene\": {\"xaxis\": {\"backgroundcolor\": \"#E5ECF6\", \"gridcolor\": \"white\", \"gridwidth\": 2, \"linecolor\": \"white\", \"showbackground\": true, \"ticks\": \"\", \"zerolinecolor\": \"white\"}, \"yaxis\": {\"backgroundcolor\": \"#E5ECF6\", \"gridcolor\": \"white\", \"gridwidth\": 2, \"linecolor\": \"white\", \"showbackground\": true, \"ticks\": \"\", \"zerolinecolor\": \"white\"}, \"zaxis\": {\"backgroundcolor\": \"#E5ECF6\", \"gridcolor\": \"white\", \"gridwidth\": 2, \"linecolor\": \"white\", \"showbackground\": true, \"ticks\": \"\", \"zerolinecolor\": \"white\"}}, \"shapedefaults\": {\"line\": {\"color\": \"#2a3f5f\"}}, \"ternary\": {\"aaxis\": {\"gridcolor\": \"white\", \"linecolor\": \"white\", \"ticks\": \"\"}, \"baxis\": {\"gridcolor\": \"white\", \"linecolor\": \"white\", \"ticks\": \"\"}, \"bgcolor\": \"#E5ECF6\", \"caxis\": {\"gridcolor\": \"white\", \"linecolor\": \"white\", \"ticks\": \"\"}}, \"title\": {\"x\": 0.05}, \"xaxis\": {\"automargin\": true, \"gridcolor\": \"white\", \"linecolor\": \"white\", \"ticks\": \"\", \"title\": {\"standoff\": 15}, \"zerolinecolor\": \"white\", \"zerolinewidth\": 2}, \"yaxis\": {\"automargin\": true, \"gridcolor\": \"white\", \"linecolor\": \"white\", \"ticks\": \"\", \"title\": {\"standoff\": 15}, \"zerolinecolor\": \"white\", \"zerolinewidth\": 2}}}, \"xaxis\": {\"title\": {\"text\": \"Year\"}}, \"yaxis\": {\"title\": {\"text\": \"Number of Cases\"}}},                        {\"responsive\": true}                    ).then(function(){\n",
       "                            \n",
       "var gd = document.getElementById('b95c5bbb-f5ad-4936-b11c-a008ca9f8726');\n",
       "var x = new MutationObserver(function (mutations, observer) {{\n",
       "        var display = window.getComputedStyle(gd).display;\n",
       "        if (!display || display === 'none') {{\n",
       "            console.log([gd, 'removed!']);\n",
       "            Plotly.purge(gd);\n",
       "            observer.disconnect();\n",
       "        }}\n",
       "}});\n",
       "\n",
       "// Listen for the removal of the full notebook cells\n",
       "var notebookContainer = gd.closest('#notebook-container');\n",
       "if (notebookContainer) {{\n",
       "    x.observe(notebookContainer, {childList: true});\n",
       "}}\n",
       "\n",
       "// Listen for the clearing of the current output cell\n",
       "var outputEl = gd.closest('.output');\n",
       "if (outputEl) {{\n",
       "    x.observe(outputEl, {childList: true});\n",
       "}}\n",
       "\n",
       "                        })                };                });            </script>        </div>"
      ]
     },
     "metadata": {},
     "output_type": "display_data"
    }
   ],
   "source": [
    "# Extracting only data of Nepal\n",
    "def return_nepal(location):\n",
    "    if(location in ['Nepal']):\n",
    "        return True\n",
    "    else:\n",
    "        return False\n",
    "\n",
    "full_data_nepal = full_data[full_data.location.apply(return_nepal)]\n",
    "\n",
    "# Visualizing the time Series data \n",
    "fig = go.Figure()\n",
    "fig.add_trace(go.Scatter(x=full_data_nepal['date'], y=full_data_nepal['total_cases'], fill='tozeroy',name='Total Cases'))\n",
    "fig.add_trace(go.Scatter(x=full_data_nepal['date'], y=full_data_nepal['total_deaths'], fill='tozeroy',name='Total Death'))\n",
    "\n",
    "\n",
    "# Set x-axis title\n",
    "fig.update_xaxes(title_text=\"Year\")\n",
    "fig.update_yaxes(title_text=\"Number of Cases\")\n",
    "fig.show()"
   ]
  },
  {
   "cell_type": "markdown",
   "metadata": {},
   "source": [
    "# Gaining more insight using BoxPlot"
   ]
  },
  {
   "cell_type": "code",
   "execution_count": 10,
   "metadata": {
    "_kg_hide-input": true
   },
   "outputs": [
    {
     "data": {
      "application/vnd.plotly.v1+json": {
       "config": {
        "plotlyServerURL": "https://plot.ly"
       },
       "data": [
        {
         "alignmentgroup": "True",
         "hovertemplate": "new_cases=%{y}<extra></extra>",
         "legendgroup": "",
         "marker": {
          "color": "#636efa"
         },
         "name": "",
         "notched": false,
         "offsetgroup": "",
         "orientation": "v",
         "showlegend": false,
         "type": "box",
         "x0": " ",
         "xaxis": "x",
         "y": [
          0,
          0,
          0,
          0,
          0,
          0,
          0,
          0,
          0,
          0,
          0,
          0,
          0,
          0,
          0,
          0,
          0,
          0,
          0,
          0,
          0,
          0,
          0,
          0,
          0,
          1,
          0,
          0,
          0,
          0,
          0,
          0,
          0,
          0,
          0,
          0,
          0,
          0,
          0,
          0,
          0,
          0,
          0,
          0,
          0,
          0,
          0,
          0,
          0,
          0,
          0,
          0,
          0,
          0,
          0,
          0,
          0,
          0,
          0,
          0,
          0,
          0,
          0,
          0,
          0,
          0,
          0,
          0,
          0,
          0,
          0,
          0,
          0,
          0,
          0,
          0,
          0,
          0,
          0,
          0,
          0,
          0,
          0,
          0,
          1,
          1,
          0,
          0,
          0,
          2,
          0,
          0,
          0,
          0,
          0,
          1,
          0,
          3,
          0,
          0,
          0,
          0,
          0,
          0,
          3,
          2,
          2,
          0,
          0,
          14,
          1,
          0,
          0,
          11,
          3,
          3,
          1,
          0,
          3,
          0,
          2,
          3,
          0,
          2,
          0,
          16,
          7,
          0,
          17,
          2,
          0,
          8,
          11,
          14,
          83,
          2,
          39,
          18,
          15,
          13,
          71,
          27,
          42,
          43,
          61,
          36,
          19,
          79,
          90,
          114,
          156,
          170,
          189,
          171,
          226,
          301,
          201,
          334,
          278,
          0,
          536,
          314,
          323,
          279,
          250,
          448,
          273,
          425,
          451,
          380,
          586,
          671,
          426,
          331,
          421,
          0,
          0,
          1702,
          434,
          593,
          0,
          1017,
          476,
          316,
          482,
          473,
          740,
          232,
          293,
          180,
          0,
          459,
          108,
          118,
          70,
          82,
          144,
          116,
          116,
          167,
          101,
          57,
          156,
          186,
          100,
          150,
          147,
          133,
          109,
          130,
          139,
          311,
          210,
          274,
          224,
          315,
          246,
          418,
          259,
          381,
          360,
          464,
          378,
          380,
          338,
          638,
          484,
          525,
          594,
          468,
          641,
          581,
          1016,
          681,
          707,
          838,
          634,
          818,
          743,
          855,
          885,
          1111,
          927,
          884,
          1221,
          899,
          1069,
          1120,
          1228,
          1359,
          1041,
          980,
          979,
          902,
          1081,
          1246,
          1454,
          1201,
          1039,
          1170,
          1459,
          1539,
          1246,
          2020,
          1204,
          1325,
          1154,
          1356,
          1172,
          1497,
          1313,
          1207,
          1573,
          1351,
          1513,
          1559,
          1911,
          2722,
          2120,
          2253,
          2440,
          1551,
          3439,
          4364,
          2059,
          5008
         ],
         "y0": " ",
         "yaxis": "y"
        }
       ],
       "layout": {
        "boxmode": "group",
        "legend": {
         "tracegroupgap": 0
        },
        "template": {
         "data": {
          "bar": [
           {
            "error_x": {
             "color": "#2a3f5f"
            },
            "error_y": {
             "color": "#2a3f5f"
            },
            "marker": {
             "line": {
              "color": "#E5ECF6",
              "width": 0.5
             }
            },
            "type": "bar"
           }
          ],
          "barpolar": [
           {
            "marker": {
             "line": {
              "color": "#E5ECF6",
              "width": 0.5
             }
            },
            "type": "barpolar"
           }
          ],
          "carpet": [
           {
            "aaxis": {
             "endlinecolor": "#2a3f5f",
             "gridcolor": "white",
             "linecolor": "white",
             "minorgridcolor": "white",
             "startlinecolor": "#2a3f5f"
            },
            "baxis": {
             "endlinecolor": "#2a3f5f",
             "gridcolor": "white",
             "linecolor": "white",
             "minorgridcolor": "white",
             "startlinecolor": "#2a3f5f"
            },
            "type": "carpet"
           }
          ],
          "choropleth": [
           {
            "colorbar": {
             "outlinewidth": 0,
             "ticks": ""
            },
            "type": "choropleth"
           }
          ],
          "contour": [
           {
            "colorbar": {
             "outlinewidth": 0,
             "ticks": ""
            },
            "colorscale": [
             [
              0,
              "#0d0887"
             ],
             [
              0.1111111111111111,
              "#46039f"
             ],
             [
              0.2222222222222222,
              "#7201a8"
             ],
             [
              0.3333333333333333,
              "#9c179e"
             ],
             [
              0.4444444444444444,
              "#bd3786"
             ],
             [
              0.5555555555555556,
              "#d8576b"
             ],
             [
              0.6666666666666666,
              "#ed7953"
             ],
             [
              0.7777777777777778,
              "#fb9f3a"
             ],
             [
              0.8888888888888888,
              "#fdca26"
             ],
             [
              1,
              "#f0f921"
             ]
            ],
            "type": "contour"
           }
          ],
          "contourcarpet": [
           {
            "colorbar": {
             "outlinewidth": 0,
             "ticks": ""
            },
            "type": "contourcarpet"
           }
          ],
          "heatmap": [
           {
            "colorbar": {
             "outlinewidth": 0,
             "ticks": ""
            },
            "colorscale": [
             [
              0,
              "#0d0887"
             ],
             [
              0.1111111111111111,
              "#46039f"
             ],
             [
              0.2222222222222222,
              "#7201a8"
             ],
             [
              0.3333333333333333,
              "#9c179e"
             ],
             [
              0.4444444444444444,
              "#bd3786"
             ],
             [
              0.5555555555555556,
              "#d8576b"
             ],
             [
              0.6666666666666666,
              "#ed7953"
             ],
             [
              0.7777777777777778,
              "#fb9f3a"
             ],
             [
              0.8888888888888888,
              "#fdca26"
             ],
             [
              1,
              "#f0f921"
             ]
            ],
            "type": "heatmap"
           }
          ],
          "heatmapgl": [
           {
            "colorbar": {
             "outlinewidth": 0,
             "ticks": ""
            },
            "colorscale": [
             [
              0,
              "#0d0887"
             ],
             [
              0.1111111111111111,
              "#46039f"
             ],
             [
              0.2222222222222222,
              "#7201a8"
             ],
             [
              0.3333333333333333,
              "#9c179e"
             ],
             [
              0.4444444444444444,
              "#bd3786"
             ],
             [
              0.5555555555555556,
              "#d8576b"
             ],
             [
              0.6666666666666666,
              "#ed7953"
             ],
             [
              0.7777777777777778,
              "#fb9f3a"
             ],
             [
              0.8888888888888888,
              "#fdca26"
             ],
             [
              1,
              "#f0f921"
             ]
            ],
            "type": "heatmapgl"
           }
          ],
          "histogram": [
           {
            "marker": {
             "colorbar": {
              "outlinewidth": 0,
              "ticks": ""
             }
            },
            "type": "histogram"
           }
          ],
          "histogram2d": [
           {
            "colorbar": {
             "outlinewidth": 0,
             "ticks": ""
            },
            "colorscale": [
             [
              0,
              "#0d0887"
             ],
             [
              0.1111111111111111,
              "#46039f"
             ],
             [
              0.2222222222222222,
              "#7201a8"
             ],
             [
              0.3333333333333333,
              "#9c179e"
             ],
             [
              0.4444444444444444,
              "#bd3786"
             ],
             [
              0.5555555555555556,
              "#d8576b"
             ],
             [
              0.6666666666666666,
              "#ed7953"
             ],
             [
              0.7777777777777778,
              "#fb9f3a"
             ],
             [
              0.8888888888888888,
              "#fdca26"
             ],
             [
              1,
              "#f0f921"
             ]
            ],
            "type": "histogram2d"
           }
          ],
          "histogram2dcontour": [
           {
            "colorbar": {
             "outlinewidth": 0,
             "ticks": ""
            },
            "colorscale": [
             [
              0,
              "#0d0887"
             ],
             [
              0.1111111111111111,
              "#46039f"
             ],
             [
              0.2222222222222222,
              "#7201a8"
             ],
             [
              0.3333333333333333,
              "#9c179e"
             ],
             [
              0.4444444444444444,
              "#bd3786"
             ],
             [
              0.5555555555555556,
              "#d8576b"
             ],
             [
              0.6666666666666666,
              "#ed7953"
             ],
             [
              0.7777777777777778,
              "#fb9f3a"
             ],
             [
              0.8888888888888888,
              "#fdca26"
             ],
             [
              1,
              "#f0f921"
             ]
            ],
            "type": "histogram2dcontour"
           }
          ],
          "mesh3d": [
           {
            "colorbar": {
             "outlinewidth": 0,
             "ticks": ""
            },
            "type": "mesh3d"
           }
          ],
          "parcoords": [
           {
            "line": {
             "colorbar": {
              "outlinewidth": 0,
              "ticks": ""
             }
            },
            "type": "parcoords"
           }
          ],
          "pie": [
           {
            "automargin": true,
            "type": "pie"
           }
          ],
          "scatter": [
           {
            "marker": {
             "colorbar": {
              "outlinewidth": 0,
              "ticks": ""
             }
            },
            "type": "scatter"
           }
          ],
          "scatter3d": [
           {
            "line": {
             "colorbar": {
              "outlinewidth": 0,
              "ticks": ""
             }
            },
            "marker": {
             "colorbar": {
              "outlinewidth": 0,
              "ticks": ""
             }
            },
            "type": "scatter3d"
           }
          ],
          "scattercarpet": [
           {
            "marker": {
             "colorbar": {
              "outlinewidth": 0,
              "ticks": ""
             }
            },
            "type": "scattercarpet"
           }
          ],
          "scattergeo": [
           {
            "marker": {
             "colorbar": {
              "outlinewidth": 0,
              "ticks": ""
             }
            },
            "type": "scattergeo"
           }
          ],
          "scattergl": [
           {
            "marker": {
             "colorbar": {
              "outlinewidth": 0,
              "ticks": ""
             }
            },
            "type": "scattergl"
           }
          ],
          "scattermapbox": [
           {
            "marker": {
             "colorbar": {
              "outlinewidth": 0,
              "ticks": ""
             }
            },
            "type": "scattermapbox"
           }
          ],
          "scatterpolar": [
           {
            "marker": {
             "colorbar": {
              "outlinewidth": 0,
              "ticks": ""
             }
            },
            "type": "scatterpolar"
           }
          ],
          "scatterpolargl": [
           {
            "marker": {
             "colorbar": {
              "outlinewidth": 0,
              "ticks": ""
             }
            },
            "type": "scatterpolargl"
           }
          ],
          "scatterternary": [
           {
            "marker": {
             "colorbar": {
              "outlinewidth": 0,
              "ticks": ""
             }
            },
            "type": "scatterternary"
           }
          ],
          "surface": [
           {
            "colorbar": {
             "outlinewidth": 0,
             "ticks": ""
            },
            "colorscale": [
             [
              0,
              "#0d0887"
             ],
             [
              0.1111111111111111,
              "#46039f"
             ],
             [
              0.2222222222222222,
              "#7201a8"
             ],
             [
              0.3333333333333333,
              "#9c179e"
             ],
             [
              0.4444444444444444,
              "#bd3786"
             ],
             [
              0.5555555555555556,
              "#d8576b"
             ],
             [
              0.6666666666666666,
              "#ed7953"
             ],
             [
              0.7777777777777778,
              "#fb9f3a"
             ],
             [
              0.8888888888888888,
              "#fdca26"
             ],
             [
              1,
              "#f0f921"
             ]
            ],
            "type": "surface"
           }
          ],
          "table": [
           {
            "cells": {
             "fill": {
              "color": "#EBF0F8"
             },
             "line": {
              "color": "white"
             }
            },
            "header": {
             "fill": {
              "color": "#C8D4E3"
             },
             "line": {
              "color": "white"
             }
            },
            "type": "table"
           }
          ]
         },
         "layout": {
          "annotationdefaults": {
           "arrowcolor": "#2a3f5f",
           "arrowhead": 0,
           "arrowwidth": 1
          },
          "coloraxis": {
           "colorbar": {
            "outlinewidth": 0,
            "ticks": ""
           }
          },
          "colorscale": {
           "diverging": [
            [
             0,
             "#8e0152"
            ],
            [
             0.1,
             "#c51b7d"
            ],
            [
             0.2,
             "#de77ae"
            ],
            [
             0.3,
             "#f1b6da"
            ],
            [
             0.4,
             "#fde0ef"
            ],
            [
             0.5,
             "#f7f7f7"
            ],
            [
             0.6,
             "#e6f5d0"
            ],
            [
             0.7,
             "#b8e186"
            ],
            [
             0.8,
             "#7fbc41"
            ],
            [
             0.9,
             "#4d9221"
            ],
            [
             1,
             "#276419"
            ]
           ],
           "sequential": [
            [
             0,
             "#0d0887"
            ],
            [
             0.1111111111111111,
             "#46039f"
            ],
            [
             0.2222222222222222,
             "#7201a8"
            ],
            [
             0.3333333333333333,
             "#9c179e"
            ],
            [
             0.4444444444444444,
             "#bd3786"
            ],
            [
             0.5555555555555556,
             "#d8576b"
            ],
            [
             0.6666666666666666,
             "#ed7953"
            ],
            [
             0.7777777777777778,
             "#fb9f3a"
            ],
            [
             0.8888888888888888,
             "#fdca26"
            ],
            [
             1,
             "#f0f921"
            ]
           ],
           "sequentialminus": [
            [
             0,
             "#0d0887"
            ],
            [
             0.1111111111111111,
             "#46039f"
            ],
            [
             0.2222222222222222,
             "#7201a8"
            ],
            [
             0.3333333333333333,
             "#9c179e"
            ],
            [
             0.4444444444444444,
             "#bd3786"
            ],
            [
             0.5555555555555556,
             "#d8576b"
            ],
            [
             0.6666666666666666,
             "#ed7953"
            ],
            [
             0.7777777777777778,
             "#fb9f3a"
            ],
            [
             0.8888888888888888,
             "#fdca26"
            ],
            [
             1,
             "#f0f921"
            ]
           ]
          },
          "colorway": [
           "#636efa",
           "#EF553B",
           "#00cc96",
           "#ab63fa",
           "#FFA15A",
           "#19d3f3",
           "#FF6692",
           "#B6E880",
           "#FF97FF",
           "#FECB52"
          ],
          "font": {
           "color": "#2a3f5f"
          },
          "geo": {
           "bgcolor": "white",
           "lakecolor": "white",
           "landcolor": "#E5ECF6",
           "showlakes": true,
           "showland": true,
           "subunitcolor": "white"
          },
          "hoverlabel": {
           "align": "left"
          },
          "hovermode": "closest",
          "mapbox": {
           "style": "light"
          },
          "paper_bgcolor": "white",
          "plot_bgcolor": "#E5ECF6",
          "polar": {
           "angularaxis": {
            "gridcolor": "white",
            "linecolor": "white",
            "ticks": ""
           },
           "bgcolor": "#E5ECF6",
           "radialaxis": {
            "gridcolor": "white",
            "linecolor": "white",
            "ticks": ""
           }
          },
          "scene": {
           "xaxis": {
            "backgroundcolor": "#E5ECF6",
            "gridcolor": "white",
            "gridwidth": 2,
            "linecolor": "white",
            "showbackground": true,
            "ticks": "",
            "zerolinecolor": "white"
           },
           "yaxis": {
            "backgroundcolor": "#E5ECF6",
            "gridcolor": "white",
            "gridwidth": 2,
            "linecolor": "white",
            "showbackground": true,
            "ticks": "",
            "zerolinecolor": "white"
           },
           "zaxis": {
            "backgroundcolor": "#E5ECF6",
            "gridcolor": "white",
            "gridwidth": 2,
            "linecolor": "white",
            "showbackground": true,
            "ticks": "",
            "zerolinecolor": "white"
           }
          },
          "shapedefaults": {
           "line": {
            "color": "#2a3f5f"
           }
          },
          "ternary": {
           "aaxis": {
            "gridcolor": "white",
            "linecolor": "white",
            "ticks": ""
           },
           "baxis": {
            "gridcolor": "white",
            "linecolor": "white",
            "ticks": ""
           },
           "bgcolor": "#E5ECF6",
           "caxis": {
            "gridcolor": "white",
            "linecolor": "white",
            "ticks": ""
           }
          },
          "title": {
           "x": 0.05
          },
          "xaxis": {
           "automargin": true,
           "gridcolor": "white",
           "linecolor": "white",
           "ticks": "",
           "title": {
            "standoff": 15
           },
           "zerolinecolor": "white",
           "zerolinewidth": 2
          },
          "yaxis": {
           "automargin": true,
           "gridcolor": "white",
           "linecolor": "white",
           "ticks": "",
           "title": {
            "standoff": 15
           },
           "zerolinecolor": "white",
           "zerolinewidth": 2
          }
         }
        },
        "title": {
         "text": "CoronaVirus New Cases Per Day"
        },
        "xaxis": {
         "anchor": "y",
         "domain": [
          0,
          1
         ]
        },
        "yaxis": {
         "anchor": "x",
         "domain": [
          0,
          1
         ],
         "title": {
          "text": "new_cases"
         }
        }
       }
      },
      "text/html": [
       "<div>                            <div id=\"5480834d-1957-412c-9edd-68b491d52324\" class=\"plotly-graph-div\" style=\"height:525px; width:100%;\"></div>            <script type=\"text/javascript\">                require([\"plotly\"], function(Plotly) {                    window.PLOTLYENV=window.PLOTLYENV || {};                                    if (document.getElementById(\"5480834d-1957-412c-9edd-68b491d52324\")) {                    Plotly.newPlot(                        \"5480834d-1957-412c-9edd-68b491d52324\",                        [{\"alignmentgroup\": \"True\", \"hovertemplate\": \"new_cases=%{y}<extra></extra>\", \"legendgroup\": \"\", \"marker\": {\"color\": \"#636efa\"}, \"name\": \"\", \"notched\": false, \"offsetgroup\": \"\", \"orientation\": \"v\", \"showlegend\": false, \"type\": \"box\", \"x0\": \" \", \"xaxis\": \"x\", \"y\": [0, 0, 0, 0, 0, 0, 0, 0, 0, 0, 0, 0, 0, 0, 0, 0, 0, 0, 0, 0, 0, 0, 0, 0, 0, 1, 0, 0, 0, 0, 0, 0, 0, 0, 0, 0, 0, 0, 0, 0, 0, 0, 0, 0, 0, 0, 0, 0, 0, 0, 0, 0, 0, 0, 0, 0, 0, 0, 0, 0, 0, 0, 0, 0, 0, 0, 0, 0, 0, 0, 0, 0, 0, 0, 0, 0, 0, 0, 0, 0, 0, 0, 0, 0, 1, 1, 0, 0, 0, 2, 0, 0, 0, 0, 0, 1, 0, 3, 0, 0, 0, 0, 0, 0, 3, 2, 2, 0, 0, 14, 1, 0, 0, 11, 3, 3, 1, 0, 3, 0, 2, 3, 0, 2, 0, 16, 7, 0, 17, 2, 0, 8, 11, 14, 83, 2, 39, 18, 15, 13, 71, 27, 42, 43, 61, 36, 19, 79, 90, 114, 156, 170, 189, 171, 226, 301, 201, 334, 278, 0, 536, 314, 323, 279, 250, 448, 273, 425, 451, 380, 586, 671, 426, 331, 421, 0, 0, 1702, 434, 593, 0, 1017, 476, 316, 482, 473, 740, 232, 293, 180, 0, 459, 108, 118, 70, 82, 144, 116, 116, 167, 101, 57, 156, 186, 100, 150, 147, 133, 109, 130, 139, 311, 210, 274, 224, 315, 246, 418, 259, 381, 360, 464, 378, 380, 338, 638, 484, 525, 594, 468, 641, 581, 1016, 681, 707, 838, 634, 818, 743, 855, 885, 1111, 927, 884, 1221, 899, 1069, 1120, 1228, 1359, 1041, 980, 979, 902, 1081, 1246, 1454, 1201, 1039, 1170, 1459, 1539, 1246, 2020, 1204, 1325, 1154, 1356, 1172, 1497, 1313, 1207, 1573, 1351, 1513, 1559, 1911, 2722, 2120, 2253, 2440, 1551, 3439, 4364, 2059, 5008], \"y0\": \" \", \"yaxis\": \"y\"}],                        {\"boxmode\": \"group\", \"legend\": {\"tracegroupgap\": 0}, \"template\": {\"data\": {\"bar\": [{\"error_x\": {\"color\": \"#2a3f5f\"}, \"error_y\": {\"color\": \"#2a3f5f\"}, \"marker\": {\"line\": {\"color\": \"#E5ECF6\", \"width\": 0.5}}, \"type\": \"bar\"}], \"barpolar\": [{\"marker\": {\"line\": {\"color\": \"#E5ECF6\", \"width\": 0.5}}, \"type\": \"barpolar\"}], \"carpet\": [{\"aaxis\": {\"endlinecolor\": \"#2a3f5f\", \"gridcolor\": \"white\", \"linecolor\": \"white\", \"minorgridcolor\": \"white\", \"startlinecolor\": \"#2a3f5f\"}, \"baxis\": {\"endlinecolor\": \"#2a3f5f\", \"gridcolor\": \"white\", \"linecolor\": \"white\", \"minorgridcolor\": \"white\", \"startlinecolor\": \"#2a3f5f\"}, \"type\": \"carpet\"}], \"choropleth\": [{\"colorbar\": {\"outlinewidth\": 0, \"ticks\": \"\"}, \"type\": \"choropleth\"}], \"contour\": [{\"colorbar\": {\"outlinewidth\": 0, \"ticks\": \"\"}, \"colorscale\": [[0.0, \"#0d0887\"], [0.1111111111111111, \"#46039f\"], [0.2222222222222222, \"#7201a8\"], [0.3333333333333333, \"#9c179e\"], [0.4444444444444444, \"#bd3786\"], [0.5555555555555556, \"#d8576b\"], [0.6666666666666666, \"#ed7953\"], [0.7777777777777778, \"#fb9f3a\"], [0.8888888888888888, \"#fdca26\"], [1.0, \"#f0f921\"]], \"type\": \"contour\"}], \"contourcarpet\": [{\"colorbar\": {\"outlinewidth\": 0, \"ticks\": \"\"}, \"type\": \"contourcarpet\"}], \"heatmap\": [{\"colorbar\": {\"outlinewidth\": 0, \"ticks\": \"\"}, \"colorscale\": [[0.0, \"#0d0887\"], [0.1111111111111111, \"#46039f\"], [0.2222222222222222, \"#7201a8\"], [0.3333333333333333, \"#9c179e\"], [0.4444444444444444, \"#bd3786\"], [0.5555555555555556, \"#d8576b\"], [0.6666666666666666, \"#ed7953\"], [0.7777777777777778, \"#fb9f3a\"], [0.8888888888888888, \"#fdca26\"], [1.0, \"#f0f921\"]], \"type\": \"heatmap\"}], \"heatmapgl\": [{\"colorbar\": {\"outlinewidth\": 0, \"ticks\": \"\"}, \"colorscale\": [[0.0, \"#0d0887\"], [0.1111111111111111, \"#46039f\"], [0.2222222222222222, \"#7201a8\"], [0.3333333333333333, \"#9c179e\"], [0.4444444444444444, \"#bd3786\"], [0.5555555555555556, \"#d8576b\"], [0.6666666666666666, \"#ed7953\"], [0.7777777777777778, \"#fb9f3a\"], [0.8888888888888888, \"#fdca26\"], [1.0, \"#f0f921\"]], \"type\": \"heatmapgl\"}], \"histogram\": [{\"marker\": {\"colorbar\": {\"outlinewidth\": 0, \"ticks\": \"\"}}, \"type\": \"histogram\"}], \"histogram2d\": [{\"colorbar\": {\"outlinewidth\": 0, \"ticks\": \"\"}, \"colorscale\": [[0.0, \"#0d0887\"], [0.1111111111111111, \"#46039f\"], [0.2222222222222222, \"#7201a8\"], [0.3333333333333333, \"#9c179e\"], [0.4444444444444444, \"#bd3786\"], [0.5555555555555556, \"#d8576b\"], [0.6666666666666666, \"#ed7953\"], [0.7777777777777778, \"#fb9f3a\"], [0.8888888888888888, \"#fdca26\"], [1.0, \"#f0f921\"]], \"type\": \"histogram2d\"}], \"histogram2dcontour\": [{\"colorbar\": {\"outlinewidth\": 0, \"ticks\": \"\"}, \"colorscale\": [[0.0, \"#0d0887\"], [0.1111111111111111, \"#46039f\"], [0.2222222222222222, \"#7201a8\"], [0.3333333333333333, \"#9c179e\"], [0.4444444444444444, \"#bd3786\"], [0.5555555555555556, \"#d8576b\"], [0.6666666666666666, \"#ed7953\"], [0.7777777777777778, \"#fb9f3a\"], [0.8888888888888888, \"#fdca26\"], [1.0, \"#f0f921\"]], \"type\": \"histogram2dcontour\"}], \"mesh3d\": [{\"colorbar\": {\"outlinewidth\": 0, \"ticks\": \"\"}, \"type\": \"mesh3d\"}], \"parcoords\": [{\"line\": {\"colorbar\": {\"outlinewidth\": 0, \"ticks\": \"\"}}, \"type\": \"parcoords\"}], \"pie\": [{\"automargin\": true, \"type\": \"pie\"}], \"scatter\": [{\"marker\": {\"colorbar\": {\"outlinewidth\": 0, \"ticks\": \"\"}}, \"type\": \"scatter\"}], \"scatter3d\": [{\"line\": {\"colorbar\": {\"outlinewidth\": 0, \"ticks\": \"\"}}, \"marker\": {\"colorbar\": {\"outlinewidth\": 0, \"ticks\": \"\"}}, \"type\": \"scatter3d\"}], \"scattercarpet\": [{\"marker\": {\"colorbar\": {\"outlinewidth\": 0, \"ticks\": \"\"}}, \"type\": \"scattercarpet\"}], \"scattergeo\": [{\"marker\": {\"colorbar\": {\"outlinewidth\": 0, \"ticks\": \"\"}}, \"type\": \"scattergeo\"}], \"scattergl\": [{\"marker\": {\"colorbar\": {\"outlinewidth\": 0, \"ticks\": \"\"}}, \"type\": \"scattergl\"}], \"scattermapbox\": [{\"marker\": {\"colorbar\": {\"outlinewidth\": 0, \"ticks\": \"\"}}, \"type\": \"scattermapbox\"}], \"scatterpolar\": [{\"marker\": {\"colorbar\": {\"outlinewidth\": 0, \"ticks\": \"\"}}, \"type\": \"scatterpolar\"}], \"scatterpolargl\": [{\"marker\": {\"colorbar\": {\"outlinewidth\": 0, \"ticks\": \"\"}}, \"type\": \"scatterpolargl\"}], \"scatterternary\": [{\"marker\": {\"colorbar\": {\"outlinewidth\": 0, \"ticks\": \"\"}}, \"type\": \"scatterternary\"}], \"surface\": [{\"colorbar\": {\"outlinewidth\": 0, \"ticks\": \"\"}, \"colorscale\": [[0.0, \"#0d0887\"], [0.1111111111111111, \"#46039f\"], [0.2222222222222222, \"#7201a8\"], [0.3333333333333333, \"#9c179e\"], [0.4444444444444444, \"#bd3786\"], [0.5555555555555556, \"#d8576b\"], [0.6666666666666666, \"#ed7953\"], [0.7777777777777778, \"#fb9f3a\"], [0.8888888888888888, \"#fdca26\"], [1.0, \"#f0f921\"]], \"type\": \"surface\"}], \"table\": [{\"cells\": {\"fill\": {\"color\": \"#EBF0F8\"}, \"line\": {\"color\": \"white\"}}, \"header\": {\"fill\": {\"color\": \"#C8D4E3\"}, \"line\": {\"color\": \"white\"}}, \"type\": \"table\"}]}, \"layout\": {\"annotationdefaults\": {\"arrowcolor\": \"#2a3f5f\", \"arrowhead\": 0, \"arrowwidth\": 1}, \"coloraxis\": {\"colorbar\": {\"outlinewidth\": 0, \"ticks\": \"\"}}, \"colorscale\": {\"diverging\": [[0, \"#8e0152\"], [0.1, \"#c51b7d\"], [0.2, \"#de77ae\"], [0.3, \"#f1b6da\"], [0.4, \"#fde0ef\"], [0.5, \"#f7f7f7\"], [0.6, \"#e6f5d0\"], [0.7, \"#b8e186\"], [0.8, \"#7fbc41\"], [0.9, \"#4d9221\"], [1, \"#276419\"]], \"sequential\": [[0.0, \"#0d0887\"], [0.1111111111111111, \"#46039f\"], [0.2222222222222222, \"#7201a8\"], [0.3333333333333333, \"#9c179e\"], [0.4444444444444444, \"#bd3786\"], [0.5555555555555556, \"#d8576b\"], [0.6666666666666666, \"#ed7953\"], [0.7777777777777778, \"#fb9f3a\"], [0.8888888888888888, \"#fdca26\"], [1.0, \"#f0f921\"]], \"sequentialminus\": [[0.0, \"#0d0887\"], [0.1111111111111111, \"#46039f\"], [0.2222222222222222, \"#7201a8\"], [0.3333333333333333, \"#9c179e\"], [0.4444444444444444, \"#bd3786\"], [0.5555555555555556, \"#d8576b\"], [0.6666666666666666, \"#ed7953\"], [0.7777777777777778, \"#fb9f3a\"], [0.8888888888888888, \"#fdca26\"], [1.0, \"#f0f921\"]]}, \"colorway\": [\"#636efa\", \"#EF553B\", \"#00cc96\", \"#ab63fa\", \"#FFA15A\", \"#19d3f3\", \"#FF6692\", \"#B6E880\", \"#FF97FF\", \"#FECB52\"], \"font\": {\"color\": \"#2a3f5f\"}, \"geo\": {\"bgcolor\": \"white\", \"lakecolor\": \"white\", \"landcolor\": \"#E5ECF6\", \"showlakes\": true, \"showland\": true, \"subunitcolor\": \"white\"}, \"hoverlabel\": {\"align\": \"left\"}, \"hovermode\": \"closest\", \"mapbox\": {\"style\": \"light\"}, \"paper_bgcolor\": \"white\", \"plot_bgcolor\": \"#E5ECF6\", \"polar\": {\"angularaxis\": {\"gridcolor\": \"white\", \"linecolor\": \"white\", \"ticks\": \"\"}, \"bgcolor\": \"#E5ECF6\", \"radialaxis\": {\"gridcolor\": \"white\", \"linecolor\": \"white\", \"ticks\": \"\"}}, \"scene\": {\"xaxis\": {\"backgroundcolor\": \"#E5ECF6\", \"gridcolor\": \"white\", \"gridwidth\": 2, \"linecolor\": \"white\", \"showbackground\": true, \"ticks\": \"\", \"zerolinecolor\": \"white\"}, \"yaxis\": {\"backgroundcolor\": \"#E5ECF6\", \"gridcolor\": \"white\", \"gridwidth\": 2, \"linecolor\": \"white\", \"showbackground\": true, \"ticks\": \"\", \"zerolinecolor\": \"white\"}, \"zaxis\": {\"backgroundcolor\": \"#E5ECF6\", \"gridcolor\": \"white\", \"gridwidth\": 2, \"linecolor\": \"white\", \"showbackground\": true, \"ticks\": \"\", \"zerolinecolor\": \"white\"}}, \"shapedefaults\": {\"line\": {\"color\": \"#2a3f5f\"}}, \"ternary\": {\"aaxis\": {\"gridcolor\": \"white\", \"linecolor\": \"white\", \"ticks\": \"\"}, \"baxis\": {\"gridcolor\": \"white\", \"linecolor\": \"white\", \"ticks\": \"\"}, \"bgcolor\": \"#E5ECF6\", \"caxis\": {\"gridcolor\": \"white\", \"linecolor\": \"white\", \"ticks\": \"\"}}, \"title\": {\"x\": 0.05}, \"xaxis\": {\"automargin\": true, \"gridcolor\": \"white\", \"linecolor\": \"white\", \"ticks\": \"\", \"title\": {\"standoff\": 15}, \"zerolinecolor\": \"white\", \"zerolinewidth\": 2}, \"yaxis\": {\"automargin\": true, \"gridcolor\": \"white\", \"linecolor\": \"white\", \"ticks\": \"\", \"title\": {\"standoff\": 15}, \"zerolinecolor\": \"white\", \"zerolinewidth\": 2}}}, \"title\": {\"text\": \"CoronaVirus New Cases Per Day\"}, \"xaxis\": {\"anchor\": \"y\", \"domain\": [0.0, 1.0]}, \"yaxis\": {\"anchor\": \"x\", \"domain\": [0.0, 1.0], \"title\": {\"text\": \"new_cases\"}}},                        {\"responsive\": true}                    ).then(function(){\n",
       "                            \n",
       "var gd = document.getElementById('5480834d-1957-412c-9edd-68b491d52324');\n",
       "var x = new MutationObserver(function (mutations, observer) {{\n",
       "        var display = window.getComputedStyle(gd).display;\n",
       "        if (!display || display === 'none') {{\n",
       "            console.log([gd, 'removed!']);\n",
       "            Plotly.purge(gd);\n",
       "            observer.disconnect();\n",
       "        }}\n",
       "}});\n",
       "\n",
       "// Listen for the removal of the full notebook cells\n",
       "var notebookContainer = gd.closest('#notebook-container');\n",
       "if (notebookContainer) {{\n",
       "    x.observe(notebookContainer, {childList: true});\n",
       "}}\n",
       "\n",
       "// Listen for the clearing of the current output cell\n",
       "var outputEl = gd.closest('.output');\n",
       "if (outputEl) {{\n",
       "    x.observe(outputEl, {childList: true});\n",
       "}}\n",
       "\n",
       "                        })                };                });            </script>        </div>"
      ]
     },
     "metadata": {},
     "output_type": "display_data"
    }
   ],
   "source": [
    "import plotly.express as px \n",
    "\n",
    "#New CoronaVirus Cases \n",
    "fig = px.box(full_data_nepal, y='new_cases', title='CoronaVirus New Cases Per Day')\n",
    "fig.show()"
   ]
  },
  {
   "cell_type": "code",
   "execution_count": 11,
   "metadata": {
    "_kg_hide-input": true
   },
   "outputs": [
    {
     "data": {
      "application/vnd.plotly.v1+json": {
       "config": {
        "plotlyServerURL": "https://plot.ly"
       },
       "data": [
        {
         "alignmentgroup": "True",
         "hovertemplate": "new_deaths=%{y}<extra></extra>",
         "legendgroup": "",
         "marker": {
          "color": "#636efa"
         },
         "name": "",
         "notched": false,
         "offsetgroup": "",
         "orientation": "v",
         "showlegend": false,
         "type": "box",
         "x0": " ",
         "xaxis": "x",
         "y": [
          0,
          0,
          0,
          0,
          0,
          0,
          0,
          0,
          0,
          0,
          0,
          0,
          0,
          0,
          0,
          0,
          0,
          0,
          0,
          0,
          0,
          0,
          0,
          0,
          0,
          0,
          0,
          0,
          0,
          0,
          0,
          0,
          0,
          0,
          0,
          0,
          0,
          0,
          0,
          0,
          0,
          0,
          0,
          0,
          0,
          0,
          0,
          0,
          0,
          0,
          0,
          0,
          0,
          0,
          0,
          0,
          0,
          0,
          0,
          0,
          0,
          0,
          0,
          0,
          0,
          0,
          0,
          0,
          0,
          0,
          0,
          0,
          0,
          0,
          0,
          0,
          0,
          0,
          0,
          0,
          0,
          0,
          0,
          0,
          0,
          0,
          0,
          0,
          0,
          0,
          0,
          0,
          0,
          0,
          0,
          0,
          0,
          0,
          0,
          0,
          0,
          0,
          0,
          0,
          0,
          0,
          0,
          0,
          0,
          0,
          0,
          0,
          0,
          0,
          0,
          0,
          0,
          0,
          0,
          0,
          0,
          0,
          0,
          0,
          0,
          0,
          0,
          0,
          0,
          0,
          0,
          0,
          0,
          0,
          0,
          0,
          0,
          0,
          1,
          1,
          0,
          0,
          0,
          1,
          0,
          0,
          0,
          1,
          0,
          0,
          1,
          1,
          0,
          2,
          0,
          0,
          1,
          1,
          1,
          0,
          2,
          1,
          1,
          0,
          0,
          1,
          2,
          1,
          0,
          0,
          1,
          2,
          0,
          0,
          1,
          0,
          0,
          0,
          3,
          1,
          0,
          1,
          1,
          0,
          1,
          1,
          1,
          2,
          0,
          1,
          0,
          0,
          0,
          0,
          3,
          0,
          0,
          0,
          1,
          0,
          1,
          0,
          0,
          0,
          0,
          2,
          1,
          1,
          1,
          0,
          3,
          1,
          0,
          3,
          4,
          0,
          1,
          0,
          1,
          2,
          5,
          5,
          3,
          2,
          4,
          4,
          8,
          4,
          4,
          3,
          2,
          3,
          7,
          6,
          6,
          11,
          9,
          3,
          8,
          7,
          11,
          8,
          12,
          12,
          14,
          7,
          11,
          12,
          6,
          14,
          9,
          9,
          11,
          6,
          6,
          5,
          5,
          14,
          9,
          15,
          11,
          8,
          4,
          7,
          11,
          10,
          16,
          2,
          7,
          17,
          6,
          8,
          10,
          4,
          10,
          7,
          11,
          11,
          8,
          7,
          19,
          9,
          15,
          12,
          10,
          14
         ],
         "y0": " ",
         "yaxis": "y"
        }
       ],
       "layout": {
        "boxmode": "group",
        "legend": {
         "tracegroupgap": 0
        },
        "template": {
         "data": {
          "bar": [
           {
            "error_x": {
             "color": "#2a3f5f"
            },
            "error_y": {
             "color": "#2a3f5f"
            },
            "marker": {
             "line": {
              "color": "#E5ECF6",
              "width": 0.5
             }
            },
            "type": "bar"
           }
          ],
          "barpolar": [
           {
            "marker": {
             "line": {
              "color": "#E5ECF6",
              "width": 0.5
             }
            },
            "type": "barpolar"
           }
          ],
          "carpet": [
           {
            "aaxis": {
             "endlinecolor": "#2a3f5f",
             "gridcolor": "white",
             "linecolor": "white",
             "minorgridcolor": "white",
             "startlinecolor": "#2a3f5f"
            },
            "baxis": {
             "endlinecolor": "#2a3f5f",
             "gridcolor": "white",
             "linecolor": "white",
             "minorgridcolor": "white",
             "startlinecolor": "#2a3f5f"
            },
            "type": "carpet"
           }
          ],
          "choropleth": [
           {
            "colorbar": {
             "outlinewidth": 0,
             "ticks": ""
            },
            "type": "choropleth"
           }
          ],
          "contour": [
           {
            "colorbar": {
             "outlinewidth": 0,
             "ticks": ""
            },
            "colorscale": [
             [
              0,
              "#0d0887"
             ],
             [
              0.1111111111111111,
              "#46039f"
             ],
             [
              0.2222222222222222,
              "#7201a8"
             ],
             [
              0.3333333333333333,
              "#9c179e"
             ],
             [
              0.4444444444444444,
              "#bd3786"
             ],
             [
              0.5555555555555556,
              "#d8576b"
             ],
             [
              0.6666666666666666,
              "#ed7953"
             ],
             [
              0.7777777777777778,
              "#fb9f3a"
             ],
             [
              0.8888888888888888,
              "#fdca26"
             ],
             [
              1,
              "#f0f921"
             ]
            ],
            "type": "contour"
           }
          ],
          "contourcarpet": [
           {
            "colorbar": {
             "outlinewidth": 0,
             "ticks": ""
            },
            "type": "contourcarpet"
           }
          ],
          "heatmap": [
           {
            "colorbar": {
             "outlinewidth": 0,
             "ticks": ""
            },
            "colorscale": [
             [
              0,
              "#0d0887"
             ],
             [
              0.1111111111111111,
              "#46039f"
             ],
             [
              0.2222222222222222,
              "#7201a8"
             ],
             [
              0.3333333333333333,
              "#9c179e"
             ],
             [
              0.4444444444444444,
              "#bd3786"
             ],
             [
              0.5555555555555556,
              "#d8576b"
             ],
             [
              0.6666666666666666,
              "#ed7953"
             ],
             [
              0.7777777777777778,
              "#fb9f3a"
             ],
             [
              0.8888888888888888,
              "#fdca26"
             ],
             [
              1,
              "#f0f921"
             ]
            ],
            "type": "heatmap"
           }
          ],
          "heatmapgl": [
           {
            "colorbar": {
             "outlinewidth": 0,
             "ticks": ""
            },
            "colorscale": [
             [
              0,
              "#0d0887"
             ],
             [
              0.1111111111111111,
              "#46039f"
             ],
             [
              0.2222222222222222,
              "#7201a8"
             ],
             [
              0.3333333333333333,
              "#9c179e"
             ],
             [
              0.4444444444444444,
              "#bd3786"
             ],
             [
              0.5555555555555556,
              "#d8576b"
             ],
             [
              0.6666666666666666,
              "#ed7953"
             ],
             [
              0.7777777777777778,
              "#fb9f3a"
             ],
             [
              0.8888888888888888,
              "#fdca26"
             ],
             [
              1,
              "#f0f921"
             ]
            ],
            "type": "heatmapgl"
           }
          ],
          "histogram": [
           {
            "marker": {
             "colorbar": {
              "outlinewidth": 0,
              "ticks": ""
             }
            },
            "type": "histogram"
           }
          ],
          "histogram2d": [
           {
            "colorbar": {
             "outlinewidth": 0,
             "ticks": ""
            },
            "colorscale": [
             [
              0,
              "#0d0887"
             ],
             [
              0.1111111111111111,
              "#46039f"
             ],
             [
              0.2222222222222222,
              "#7201a8"
             ],
             [
              0.3333333333333333,
              "#9c179e"
             ],
             [
              0.4444444444444444,
              "#bd3786"
             ],
             [
              0.5555555555555556,
              "#d8576b"
             ],
             [
              0.6666666666666666,
              "#ed7953"
             ],
             [
              0.7777777777777778,
              "#fb9f3a"
             ],
             [
              0.8888888888888888,
              "#fdca26"
             ],
             [
              1,
              "#f0f921"
             ]
            ],
            "type": "histogram2d"
           }
          ],
          "histogram2dcontour": [
           {
            "colorbar": {
             "outlinewidth": 0,
             "ticks": ""
            },
            "colorscale": [
             [
              0,
              "#0d0887"
             ],
             [
              0.1111111111111111,
              "#46039f"
             ],
             [
              0.2222222222222222,
              "#7201a8"
             ],
             [
              0.3333333333333333,
              "#9c179e"
             ],
             [
              0.4444444444444444,
              "#bd3786"
             ],
             [
              0.5555555555555556,
              "#d8576b"
             ],
             [
              0.6666666666666666,
              "#ed7953"
             ],
             [
              0.7777777777777778,
              "#fb9f3a"
             ],
             [
              0.8888888888888888,
              "#fdca26"
             ],
             [
              1,
              "#f0f921"
             ]
            ],
            "type": "histogram2dcontour"
           }
          ],
          "mesh3d": [
           {
            "colorbar": {
             "outlinewidth": 0,
             "ticks": ""
            },
            "type": "mesh3d"
           }
          ],
          "parcoords": [
           {
            "line": {
             "colorbar": {
              "outlinewidth": 0,
              "ticks": ""
             }
            },
            "type": "parcoords"
           }
          ],
          "pie": [
           {
            "automargin": true,
            "type": "pie"
           }
          ],
          "scatter": [
           {
            "marker": {
             "colorbar": {
              "outlinewidth": 0,
              "ticks": ""
             }
            },
            "type": "scatter"
           }
          ],
          "scatter3d": [
           {
            "line": {
             "colorbar": {
              "outlinewidth": 0,
              "ticks": ""
             }
            },
            "marker": {
             "colorbar": {
              "outlinewidth": 0,
              "ticks": ""
             }
            },
            "type": "scatter3d"
           }
          ],
          "scattercarpet": [
           {
            "marker": {
             "colorbar": {
              "outlinewidth": 0,
              "ticks": ""
             }
            },
            "type": "scattercarpet"
           }
          ],
          "scattergeo": [
           {
            "marker": {
             "colorbar": {
              "outlinewidth": 0,
              "ticks": ""
             }
            },
            "type": "scattergeo"
           }
          ],
          "scattergl": [
           {
            "marker": {
             "colorbar": {
              "outlinewidth": 0,
              "ticks": ""
             }
            },
            "type": "scattergl"
           }
          ],
          "scattermapbox": [
           {
            "marker": {
             "colorbar": {
              "outlinewidth": 0,
              "ticks": ""
             }
            },
            "type": "scattermapbox"
           }
          ],
          "scatterpolar": [
           {
            "marker": {
             "colorbar": {
              "outlinewidth": 0,
              "ticks": ""
             }
            },
            "type": "scatterpolar"
           }
          ],
          "scatterpolargl": [
           {
            "marker": {
             "colorbar": {
              "outlinewidth": 0,
              "ticks": ""
             }
            },
            "type": "scatterpolargl"
           }
          ],
          "scatterternary": [
           {
            "marker": {
             "colorbar": {
              "outlinewidth": 0,
              "ticks": ""
             }
            },
            "type": "scatterternary"
           }
          ],
          "surface": [
           {
            "colorbar": {
             "outlinewidth": 0,
             "ticks": ""
            },
            "colorscale": [
             [
              0,
              "#0d0887"
             ],
             [
              0.1111111111111111,
              "#46039f"
             ],
             [
              0.2222222222222222,
              "#7201a8"
             ],
             [
              0.3333333333333333,
              "#9c179e"
             ],
             [
              0.4444444444444444,
              "#bd3786"
             ],
             [
              0.5555555555555556,
              "#d8576b"
             ],
             [
              0.6666666666666666,
              "#ed7953"
             ],
             [
              0.7777777777777778,
              "#fb9f3a"
             ],
             [
              0.8888888888888888,
              "#fdca26"
             ],
             [
              1,
              "#f0f921"
             ]
            ],
            "type": "surface"
           }
          ],
          "table": [
           {
            "cells": {
             "fill": {
              "color": "#EBF0F8"
             },
             "line": {
              "color": "white"
             }
            },
            "header": {
             "fill": {
              "color": "#C8D4E3"
             },
             "line": {
              "color": "white"
             }
            },
            "type": "table"
           }
          ]
         },
         "layout": {
          "annotationdefaults": {
           "arrowcolor": "#2a3f5f",
           "arrowhead": 0,
           "arrowwidth": 1
          },
          "coloraxis": {
           "colorbar": {
            "outlinewidth": 0,
            "ticks": ""
           }
          },
          "colorscale": {
           "diverging": [
            [
             0,
             "#8e0152"
            ],
            [
             0.1,
             "#c51b7d"
            ],
            [
             0.2,
             "#de77ae"
            ],
            [
             0.3,
             "#f1b6da"
            ],
            [
             0.4,
             "#fde0ef"
            ],
            [
             0.5,
             "#f7f7f7"
            ],
            [
             0.6,
             "#e6f5d0"
            ],
            [
             0.7,
             "#b8e186"
            ],
            [
             0.8,
             "#7fbc41"
            ],
            [
             0.9,
             "#4d9221"
            ],
            [
             1,
             "#276419"
            ]
           ],
           "sequential": [
            [
             0,
             "#0d0887"
            ],
            [
             0.1111111111111111,
             "#46039f"
            ],
            [
             0.2222222222222222,
             "#7201a8"
            ],
            [
             0.3333333333333333,
             "#9c179e"
            ],
            [
             0.4444444444444444,
             "#bd3786"
            ],
            [
             0.5555555555555556,
             "#d8576b"
            ],
            [
             0.6666666666666666,
             "#ed7953"
            ],
            [
             0.7777777777777778,
             "#fb9f3a"
            ],
            [
             0.8888888888888888,
             "#fdca26"
            ],
            [
             1,
             "#f0f921"
            ]
           ],
           "sequentialminus": [
            [
             0,
             "#0d0887"
            ],
            [
             0.1111111111111111,
             "#46039f"
            ],
            [
             0.2222222222222222,
             "#7201a8"
            ],
            [
             0.3333333333333333,
             "#9c179e"
            ],
            [
             0.4444444444444444,
             "#bd3786"
            ],
            [
             0.5555555555555556,
             "#d8576b"
            ],
            [
             0.6666666666666666,
             "#ed7953"
            ],
            [
             0.7777777777777778,
             "#fb9f3a"
            ],
            [
             0.8888888888888888,
             "#fdca26"
            ],
            [
             1,
             "#f0f921"
            ]
           ]
          },
          "colorway": [
           "#636efa",
           "#EF553B",
           "#00cc96",
           "#ab63fa",
           "#FFA15A",
           "#19d3f3",
           "#FF6692",
           "#B6E880",
           "#FF97FF",
           "#FECB52"
          ],
          "font": {
           "color": "#2a3f5f"
          },
          "geo": {
           "bgcolor": "white",
           "lakecolor": "white",
           "landcolor": "#E5ECF6",
           "showlakes": true,
           "showland": true,
           "subunitcolor": "white"
          },
          "hoverlabel": {
           "align": "left"
          },
          "hovermode": "closest",
          "mapbox": {
           "style": "light"
          },
          "paper_bgcolor": "white",
          "plot_bgcolor": "#E5ECF6",
          "polar": {
           "angularaxis": {
            "gridcolor": "white",
            "linecolor": "white",
            "ticks": ""
           },
           "bgcolor": "#E5ECF6",
           "radialaxis": {
            "gridcolor": "white",
            "linecolor": "white",
            "ticks": ""
           }
          },
          "scene": {
           "xaxis": {
            "backgroundcolor": "#E5ECF6",
            "gridcolor": "white",
            "gridwidth": 2,
            "linecolor": "white",
            "showbackground": true,
            "ticks": "",
            "zerolinecolor": "white"
           },
           "yaxis": {
            "backgroundcolor": "#E5ECF6",
            "gridcolor": "white",
            "gridwidth": 2,
            "linecolor": "white",
            "showbackground": true,
            "ticks": "",
            "zerolinecolor": "white"
           },
           "zaxis": {
            "backgroundcolor": "#E5ECF6",
            "gridcolor": "white",
            "gridwidth": 2,
            "linecolor": "white",
            "showbackground": true,
            "ticks": "",
            "zerolinecolor": "white"
           }
          },
          "shapedefaults": {
           "line": {
            "color": "#2a3f5f"
           }
          },
          "ternary": {
           "aaxis": {
            "gridcolor": "white",
            "linecolor": "white",
            "ticks": ""
           },
           "baxis": {
            "gridcolor": "white",
            "linecolor": "white",
            "ticks": ""
           },
           "bgcolor": "#E5ECF6",
           "caxis": {
            "gridcolor": "white",
            "linecolor": "white",
            "ticks": ""
           }
          },
          "title": {
           "x": 0.05
          },
          "xaxis": {
           "automargin": true,
           "gridcolor": "white",
           "linecolor": "white",
           "ticks": "",
           "title": {
            "standoff": 15
           },
           "zerolinecolor": "white",
           "zerolinewidth": 2
          },
          "yaxis": {
           "automargin": true,
           "gridcolor": "white",
           "linecolor": "white",
           "ticks": "",
           "title": {
            "standoff": 15
           },
           "zerolinecolor": "white",
           "zerolinewidth": 2
          }
         }
        },
        "title": {
         "text": "CoronaVirus New Death Cases Per Day"
        },
        "xaxis": {
         "anchor": "y",
         "domain": [
          0,
          1
         ]
        },
        "yaxis": {
         "anchor": "x",
         "domain": [
          0,
          1
         ],
         "title": {
          "text": "new_deaths"
         }
        }
       }
      },
      "text/html": [
       "<div>                            <div id=\"132a9119-2b65-497c-94e0-7c86458b0999\" class=\"plotly-graph-div\" style=\"height:525px; width:100%;\"></div>            <script type=\"text/javascript\">                require([\"plotly\"], function(Plotly) {                    window.PLOTLYENV=window.PLOTLYENV || {};                                    if (document.getElementById(\"132a9119-2b65-497c-94e0-7c86458b0999\")) {                    Plotly.newPlot(                        \"132a9119-2b65-497c-94e0-7c86458b0999\",                        [{\"alignmentgroup\": \"True\", \"hovertemplate\": \"new_deaths=%{y}<extra></extra>\", \"legendgroup\": \"\", \"marker\": {\"color\": \"#636efa\"}, \"name\": \"\", \"notched\": false, \"offsetgroup\": \"\", \"orientation\": \"v\", \"showlegend\": false, \"type\": \"box\", \"x0\": \" \", \"xaxis\": \"x\", \"y\": [0, 0, 0, 0, 0, 0, 0, 0, 0, 0, 0, 0, 0, 0, 0, 0, 0, 0, 0, 0, 0, 0, 0, 0, 0, 0, 0, 0, 0, 0, 0, 0, 0, 0, 0, 0, 0, 0, 0, 0, 0, 0, 0, 0, 0, 0, 0, 0, 0, 0, 0, 0, 0, 0, 0, 0, 0, 0, 0, 0, 0, 0, 0, 0, 0, 0, 0, 0, 0, 0, 0, 0, 0, 0, 0, 0, 0, 0, 0, 0, 0, 0, 0, 0, 0, 0, 0, 0, 0, 0, 0, 0, 0, 0, 0, 0, 0, 0, 0, 0, 0, 0, 0, 0, 0, 0, 0, 0, 0, 0, 0, 0, 0, 0, 0, 0, 0, 0, 0, 0, 0, 0, 0, 0, 0, 0, 0, 0, 0, 0, 0, 0, 0, 0, 0, 0, 0, 0, 1, 1, 0, 0, 0, 1, 0, 0, 0, 1, 0, 0, 1, 1, 0, 2, 0, 0, 1, 1, 1, 0, 2, 1, 1, 0, 0, 1, 2, 1, 0, 0, 1, 2, 0, 0, 1, 0, 0, 0, 3, 1, 0, 1, 1, 0, 1, 1, 1, 2, 0, 1, 0, 0, 0, 0, 3, 0, 0, 0, 1, 0, 1, 0, 0, 0, 0, 2, 1, 1, 1, 0, 3, 1, 0, 3, 4, 0, 1, 0, 1, 2, 5, 5, 3, 2, 4, 4, 8, 4, 4, 3, 2, 3, 7, 6, 6, 11, 9, 3, 8, 7, 11, 8, 12, 12, 14, 7, 11, 12, 6, 14, 9, 9, 11, 6, 6, 5, 5, 14, 9, 15, 11, 8, 4, 7, 11, 10, 16, 2, 7, 17, 6, 8, 10, 4, 10, 7, 11, 11, 8, 7, 19, 9, 15, 12, 10, 14], \"y0\": \" \", \"yaxis\": \"y\"}],                        {\"boxmode\": \"group\", \"legend\": {\"tracegroupgap\": 0}, \"template\": {\"data\": {\"bar\": [{\"error_x\": {\"color\": \"#2a3f5f\"}, \"error_y\": {\"color\": \"#2a3f5f\"}, \"marker\": {\"line\": {\"color\": \"#E5ECF6\", \"width\": 0.5}}, \"type\": \"bar\"}], \"barpolar\": [{\"marker\": {\"line\": {\"color\": \"#E5ECF6\", \"width\": 0.5}}, \"type\": \"barpolar\"}], \"carpet\": [{\"aaxis\": {\"endlinecolor\": \"#2a3f5f\", \"gridcolor\": \"white\", \"linecolor\": \"white\", \"minorgridcolor\": \"white\", \"startlinecolor\": \"#2a3f5f\"}, \"baxis\": {\"endlinecolor\": \"#2a3f5f\", \"gridcolor\": \"white\", \"linecolor\": \"white\", \"minorgridcolor\": \"white\", \"startlinecolor\": \"#2a3f5f\"}, \"type\": \"carpet\"}], \"choropleth\": [{\"colorbar\": {\"outlinewidth\": 0, \"ticks\": \"\"}, \"type\": \"choropleth\"}], \"contour\": [{\"colorbar\": {\"outlinewidth\": 0, \"ticks\": \"\"}, \"colorscale\": [[0.0, \"#0d0887\"], [0.1111111111111111, \"#46039f\"], [0.2222222222222222, \"#7201a8\"], [0.3333333333333333, \"#9c179e\"], [0.4444444444444444, \"#bd3786\"], [0.5555555555555556, \"#d8576b\"], [0.6666666666666666, \"#ed7953\"], [0.7777777777777778, \"#fb9f3a\"], [0.8888888888888888, \"#fdca26\"], [1.0, \"#f0f921\"]], \"type\": \"contour\"}], \"contourcarpet\": [{\"colorbar\": {\"outlinewidth\": 0, \"ticks\": \"\"}, \"type\": \"contourcarpet\"}], \"heatmap\": [{\"colorbar\": {\"outlinewidth\": 0, \"ticks\": \"\"}, \"colorscale\": [[0.0, \"#0d0887\"], [0.1111111111111111, \"#46039f\"], [0.2222222222222222, \"#7201a8\"], [0.3333333333333333, \"#9c179e\"], [0.4444444444444444, \"#bd3786\"], [0.5555555555555556, \"#d8576b\"], [0.6666666666666666, \"#ed7953\"], [0.7777777777777778, \"#fb9f3a\"], [0.8888888888888888, \"#fdca26\"], [1.0, \"#f0f921\"]], \"type\": \"heatmap\"}], \"heatmapgl\": [{\"colorbar\": {\"outlinewidth\": 0, \"ticks\": \"\"}, \"colorscale\": [[0.0, \"#0d0887\"], [0.1111111111111111, \"#46039f\"], [0.2222222222222222, \"#7201a8\"], [0.3333333333333333, \"#9c179e\"], [0.4444444444444444, \"#bd3786\"], [0.5555555555555556, \"#d8576b\"], [0.6666666666666666, \"#ed7953\"], [0.7777777777777778, \"#fb9f3a\"], [0.8888888888888888, \"#fdca26\"], [1.0, \"#f0f921\"]], \"type\": \"heatmapgl\"}], \"histogram\": [{\"marker\": {\"colorbar\": {\"outlinewidth\": 0, \"ticks\": \"\"}}, \"type\": \"histogram\"}], \"histogram2d\": [{\"colorbar\": {\"outlinewidth\": 0, \"ticks\": \"\"}, \"colorscale\": [[0.0, \"#0d0887\"], [0.1111111111111111, \"#46039f\"], [0.2222222222222222, \"#7201a8\"], [0.3333333333333333, \"#9c179e\"], [0.4444444444444444, \"#bd3786\"], [0.5555555555555556, \"#d8576b\"], [0.6666666666666666, \"#ed7953\"], [0.7777777777777778, \"#fb9f3a\"], [0.8888888888888888, \"#fdca26\"], [1.0, \"#f0f921\"]], \"type\": \"histogram2d\"}], \"histogram2dcontour\": [{\"colorbar\": {\"outlinewidth\": 0, \"ticks\": \"\"}, \"colorscale\": [[0.0, \"#0d0887\"], [0.1111111111111111, \"#46039f\"], [0.2222222222222222, \"#7201a8\"], [0.3333333333333333, \"#9c179e\"], [0.4444444444444444, \"#bd3786\"], [0.5555555555555556, \"#d8576b\"], [0.6666666666666666, \"#ed7953\"], [0.7777777777777778, \"#fb9f3a\"], [0.8888888888888888, \"#fdca26\"], [1.0, \"#f0f921\"]], \"type\": \"histogram2dcontour\"}], \"mesh3d\": [{\"colorbar\": {\"outlinewidth\": 0, \"ticks\": \"\"}, \"type\": \"mesh3d\"}], \"parcoords\": [{\"line\": {\"colorbar\": {\"outlinewidth\": 0, \"ticks\": \"\"}}, \"type\": \"parcoords\"}], \"pie\": [{\"automargin\": true, \"type\": \"pie\"}], \"scatter\": [{\"marker\": {\"colorbar\": {\"outlinewidth\": 0, \"ticks\": \"\"}}, \"type\": \"scatter\"}], \"scatter3d\": [{\"line\": {\"colorbar\": {\"outlinewidth\": 0, \"ticks\": \"\"}}, \"marker\": {\"colorbar\": {\"outlinewidth\": 0, \"ticks\": \"\"}}, \"type\": \"scatter3d\"}], \"scattercarpet\": [{\"marker\": {\"colorbar\": {\"outlinewidth\": 0, \"ticks\": \"\"}}, \"type\": \"scattercarpet\"}], \"scattergeo\": [{\"marker\": {\"colorbar\": {\"outlinewidth\": 0, \"ticks\": \"\"}}, \"type\": \"scattergeo\"}], \"scattergl\": [{\"marker\": {\"colorbar\": {\"outlinewidth\": 0, \"ticks\": \"\"}}, \"type\": \"scattergl\"}], \"scattermapbox\": [{\"marker\": {\"colorbar\": {\"outlinewidth\": 0, \"ticks\": \"\"}}, \"type\": \"scattermapbox\"}], \"scatterpolar\": [{\"marker\": {\"colorbar\": {\"outlinewidth\": 0, \"ticks\": \"\"}}, \"type\": \"scatterpolar\"}], \"scatterpolargl\": [{\"marker\": {\"colorbar\": {\"outlinewidth\": 0, \"ticks\": \"\"}}, \"type\": \"scatterpolargl\"}], \"scatterternary\": [{\"marker\": {\"colorbar\": {\"outlinewidth\": 0, \"ticks\": \"\"}}, \"type\": \"scatterternary\"}], \"surface\": [{\"colorbar\": {\"outlinewidth\": 0, \"ticks\": \"\"}, \"colorscale\": [[0.0, \"#0d0887\"], [0.1111111111111111, \"#46039f\"], [0.2222222222222222, \"#7201a8\"], [0.3333333333333333, \"#9c179e\"], [0.4444444444444444, \"#bd3786\"], [0.5555555555555556, \"#d8576b\"], [0.6666666666666666, \"#ed7953\"], [0.7777777777777778, \"#fb9f3a\"], [0.8888888888888888, \"#fdca26\"], [1.0, \"#f0f921\"]], \"type\": \"surface\"}], \"table\": [{\"cells\": {\"fill\": {\"color\": \"#EBF0F8\"}, \"line\": {\"color\": \"white\"}}, \"header\": {\"fill\": {\"color\": \"#C8D4E3\"}, \"line\": {\"color\": \"white\"}}, \"type\": \"table\"}]}, \"layout\": {\"annotationdefaults\": {\"arrowcolor\": \"#2a3f5f\", \"arrowhead\": 0, \"arrowwidth\": 1}, \"coloraxis\": {\"colorbar\": {\"outlinewidth\": 0, \"ticks\": \"\"}}, \"colorscale\": {\"diverging\": [[0, \"#8e0152\"], [0.1, \"#c51b7d\"], [0.2, \"#de77ae\"], [0.3, \"#f1b6da\"], [0.4, \"#fde0ef\"], [0.5, \"#f7f7f7\"], [0.6, \"#e6f5d0\"], [0.7, \"#b8e186\"], [0.8, \"#7fbc41\"], [0.9, \"#4d9221\"], [1, \"#276419\"]], \"sequential\": [[0.0, \"#0d0887\"], [0.1111111111111111, \"#46039f\"], [0.2222222222222222, \"#7201a8\"], [0.3333333333333333, \"#9c179e\"], [0.4444444444444444, \"#bd3786\"], [0.5555555555555556, \"#d8576b\"], [0.6666666666666666, \"#ed7953\"], [0.7777777777777778, \"#fb9f3a\"], [0.8888888888888888, \"#fdca26\"], [1.0, \"#f0f921\"]], \"sequentialminus\": [[0.0, \"#0d0887\"], [0.1111111111111111, \"#46039f\"], [0.2222222222222222, \"#7201a8\"], [0.3333333333333333, \"#9c179e\"], [0.4444444444444444, \"#bd3786\"], [0.5555555555555556, \"#d8576b\"], [0.6666666666666666, \"#ed7953\"], [0.7777777777777778, \"#fb9f3a\"], [0.8888888888888888, \"#fdca26\"], [1.0, \"#f0f921\"]]}, \"colorway\": [\"#636efa\", \"#EF553B\", \"#00cc96\", \"#ab63fa\", \"#FFA15A\", \"#19d3f3\", \"#FF6692\", \"#B6E880\", \"#FF97FF\", \"#FECB52\"], \"font\": {\"color\": \"#2a3f5f\"}, \"geo\": {\"bgcolor\": \"white\", \"lakecolor\": \"white\", \"landcolor\": \"#E5ECF6\", \"showlakes\": true, \"showland\": true, \"subunitcolor\": \"white\"}, \"hoverlabel\": {\"align\": \"left\"}, \"hovermode\": \"closest\", \"mapbox\": {\"style\": \"light\"}, \"paper_bgcolor\": \"white\", \"plot_bgcolor\": \"#E5ECF6\", \"polar\": {\"angularaxis\": {\"gridcolor\": \"white\", \"linecolor\": \"white\", \"ticks\": \"\"}, \"bgcolor\": \"#E5ECF6\", \"radialaxis\": {\"gridcolor\": \"white\", \"linecolor\": \"white\", \"ticks\": \"\"}}, \"scene\": {\"xaxis\": {\"backgroundcolor\": \"#E5ECF6\", \"gridcolor\": \"white\", \"gridwidth\": 2, \"linecolor\": \"white\", \"showbackground\": true, \"ticks\": \"\", \"zerolinecolor\": \"white\"}, \"yaxis\": {\"backgroundcolor\": \"#E5ECF6\", \"gridcolor\": \"white\", \"gridwidth\": 2, \"linecolor\": \"white\", \"showbackground\": true, \"ticks\": \"\", \"zerolinecolor\": \"white\"}, \"zaxis\": {\"backgroundcolor\": \"#E5ECF6\", \"gridcolor\": \"white\", \"gridwidth\": 2, \"linecolor\": \"white\", \"showbackground\": true, \"ticks\": \"\", \"zerolinecolor\": \"white\"}}, \"shapedefaults\": {\"line\": {\"color\": \"#2a3f5f\"}}, \"ternary\": {\"aaxis\": {\"gridcolor\": \"white\", \"linecolor\": \"white\", \"ticks\": \"\"}, \"baxis\": {\"gridcolor\": \"white\", \"linecolor\": \"white\", \"ticks\": \"\"}, \"bgcolor\": \"#E5ECF6\", \"caxis\": {\"gridcolor\": \"white\", \"linecolor\": \"white\", \"ticks\": \"\"}}, \"title\": {\"x\": 0.05}, \"xaxis\": {\"automargin\": true, \"gridcolor\": \"white\", \"linecolor\": \"white\", \"ticks\": \"\", \"title\": {\"standoff\": 15}, \"zerolinecolor\": \"white\", \"zerolinewidth\": 2}, \"yaxis\": {\"automargin\": true, \"gridcolor\": \"white\", \"linecolor\": \"white\", \"ticks\": \"\", \"title\": {\"standoff\": 15}, \"zerolinecolor\": \"white\", \"zerolinewidth\": 2}}}, \"title\": {\"text\": \"CoronaVirus New Death Cases Per Day\"}, \"xaxis\": {\"anchor\": \"y\", \"domain\": [0.0, 1.0]}, \"yaxis\": {\"anchor\": \"x\", \"domain\": [0.0, 1.0], \"title\": {\"text\": \"new_deaths\"}}},                        {\"responsive\": true}                    ).then(function(){\n",
       "                            \n",
       "var gd = document.getElementById('132a9119-2b65-497c-94e0-7c86458b0999');\n",
       "var x = new MutationObserver(function (mutations, observer) {{\n",
       "        var display = window.getComputedStyle(gd).display;\n",
       "        if (!display || display === 'none') {{\n",
       "            console.log([gd, 'removed!']);\n",
       "            Plotly.purge(gd);\n",
       "            observer.disconnect();\n",
       "        }}\n",
       "}});\n",
       "\n",
       "// Listen for the removal of the full notebook cells\n",
       "var notebookContainer = gd.closest('#notebook-container');\n",
       "if (notebookContainer) {{\n",
       "    x.observe(notebookContainer, {childList: true});\n",
       "}}\n",
       "\n",
       "// Listen for the clearing of the current output cell\n",
       "var outputEl = gd.closest('.output');\n",
       "if (outputEl) {{\n",
       "    x.observe(outputEl, {childList: true});\n",
       "}}\n",
       "\n",
       "                        })                };                });            </script>        </div>"
      ]
     },
     "metadata": {},
     "output_type": "display_data"
    }
   ],
   "source": [
    "#New CoronaVirus Death Cases \n",
    "fig = px.box(full_data_nepal, y='new_deaths', title='CoronaVirus New Death Cases Per Day')\n",
    "fig.show()"
   ]
  },
  {
   "cell_type": "markdown",
   "metadata": {},
   "source": [
    "# Facts\n",
    "\n",
    "1. Highest CoronaVirus Cases in a Day is 5008\n",
    "1. Highest CoronaVirus Death Cases in a Day is 19"
   ]
  },
  {
   "cell_type": "markdown",
   "metadata": {},
   "source": [
    "* Removing the features which will not be with us in present condition for prediction\n",
    "* Task to forecast the new death"
   ]
  },
  {
   "cell_type": "code",
   "execution_count": 12,
   "metadata": {},
   "outputs": [
    {
     "data": {
      "text/html": [
       "<div>\n",
       "<style scoped>\n",
       "    .dataframe tbody tr th:only-of-type {\n",
       "        vertical-align: middle;\n",
       "    }\n",
       "\n",
       "    .dataframe tbody tr th {\n",
       "        vertical-align: top;\n",
       "    }\n",
       "\n",
       "    .dataframe thead th {\n",
       "        text-align: right;\n",
       "    }\n",
       "</style>\n",
       "<table border=\"1\" class=\"dataframe\">\n",
       "  <thead>\n",
       "    <tr style=\"text-align: right;\">\n",
       "      <th></th>\n",
       "      <th>date</th>\n",
       "      <th>location</th>\n",
       "      <th>new_cases</th>\n",
       "      <th>new_deaths</th>\n",
       "      <th>total_cases</th>\n",
       "      <th>total_deaths</th>\n",
       "      <th>weekly_cases</th>\n",
       "      <th>weekly_deaths</th>\n",
       "      <th>biweekly_cases</th>\n",
       "      <th>biweekly_deaths</th>\n",
       "    </tr>\n",
       "  </thead>\n",
       "  <tbody>\n",
       "    <tr>\n",
       "      <th>31202</th>\n",
       "      <td>2019-12-31</td>\n",
       "      <td>Nepal</td>\n",
       "      <td>0</td>\n",
       "      <td>0</td>\n",
       "      <td>0</td>\n",
       "      <td>0</td>\n",
       "      <td>0</td>\n",
       "      <td>0</td>\n",
       "      <td>0</td>\n",
       "      <td>0</td>\n",
       "    </tr>\n",
       "    <tr>\n",
       "      <th>31203</th>\n",
       "      <td>2020-01-01</td>\n",
       "      <td>Nepal</td>\n",
       "      <td>0</td>\n",
       "      <td>0</td>\n",
       "      <td>0</td>\n",
       "      <td>0</td>\n",
       "      <td>0</td>\n",
       "      <td>0</td>\n",
       "      <td>0</td>\n",
       "      <td>0</td>\n",
       "    </tr>\n",
       "    <tr>\n",
       "      <th>31204</th>\n",
       "      <td>2020-01-02</td>\n",
       "      <td>Nepal</td>\n",
       "      <td>0</td>\n",
       "      <td>0</td>\n",
       "      <td>0</td>\n",
       "      <td>0</td>\n",
       "      <td>0</td>\n",
       "      <td>0</td>\n",
       "      <td>0</td>\n",
       "      <td>0</td>\n",
       "    </tr>\n",
       "    <tr>\n",
       "      <th>31205</th>\n",
       "      <td>2020-01-03</td>\n",
       "      <td>Nepal</td>\n",
       "      <td>0</td>\n",
       "      <td>0</td>\n",
       "      <td>0</td>\n",
       "      <td>0</td>\n",
       "      <td>0</td>\n",
       "      <td>0</td>\n",
       "      <td>0</td>\n",
       "      <td>0</td>\n",
       "    </tr>\n",
       "    <tr>\n",
       "      <th>31206</th>\n",
       "      <td>2020-01-04</td>\n",
       "      <td>Nepal</td>\n",
       "      <td>0</td>\n",
       "      <td>0</td>\n",
       "      <td>0</td>\n",
       "      <td>0</td>\n",
       "      <td>0</td>\n",
       "      <td>0</td>\n",
       "      <td>0</td>\n",
       "      <td>0</td>\n",
       "    </tr>\n",
       "    <tr>\n",
       "      <th>...</th>\n",
       "      <td>...</td>\n",
       "      <td>...</td>\n",
       "      <td>...</td>\n",
       "      <td>...</td>\n",
       "      <td>...</td>\n",
       "      <td>...</td>\n",
       "      <td>...</td>\n",
       "      <td>...</td>\n",
       "      <td>...</td>\n",
       "      <td>...</td>\n",
       "    </tr>\n",
       "    <tr>\n",
       "      <th>31483</th>\n",
       "      <td>2020-10-07</td>\n",
       "      <td>Nepal</td>\n",
       "      <td>1551</td>\n",
       "      <td>9</td>\n",
       "      <td>90814</td>\n",
       "      <td>563</td>\n",
       "      <td>14556</td>\n",
       "      <td>72</td>\n",
       "      <td>24182</td>\n",
       "      <td>134</td>\n",
       "    </tr>\n",
       "    <tr>\n",
       "      <th>31484</th>\n",
       "      <td>2020-10-08</td>\n",
       "      <td>Nepal</td>\n",
       "      <td>3439</td>\n",
       "      <td>15</td>\n",
       "      <td>94253</td>\n",
       "      <td>578</td>\n",
       "      <td>16436</td>\n",
       "      <td>80</td>\n",
       "      <td>26449</td>\n",
       "      <td>142</td>\n",
       "    </tr>\n",
       "    <tr>\n",
       "      <th>31485</th>\n",
       "      <td>2020-10-09</td>\n",
       "      <td>Nepal</td>\n",
       "      <td>4364</td>\n",
       "      <td>12</td>\n",
       "      <td>98617</td>\n",
       "      <td>590</td>\n",
       "      <td>18889</td>\n",
       "      <td>81</td>\n",
       "      <td>29316</td>\n",
       "      <td>137</td>\n",
       "    </tr>\n",
       "    <tr>\n",
       "      <th>31486</th>\n",
       "      <td>2020-10-10</td>\n",
       "      <td>Nepal</td>\n",
       "      <td>2059</td>\n",
       "      <td>10</td>\n",
       "      <td>100676</td>\n",
       "      <td>600</td>\n",
       "      <td>18226</td>\n",
       "      <td>80</td>\n",
       "      <td>30062</td>\n",
       "      <td>141</td>\n",
       "    </tr>\n",
       "    <tr>\n",
       "      <th>31487</th>\n",
       "      <td>2020-10-11</td>\n",
       "      <td>Nepal</td>\n",
       "      <td>5008</td>\n",
       "      <td>14</td>\n",
       "      <td>105684</td>\n",
       "      <td>614</td>\n",
       "      <td>21114</td>\n",
       "      <td>86</td>\n",
       "      <td>33863</td>\n",
       "      <td>147</td>\n",
       "    </tr>\n",
       "  </tbody>\n",
       "</table>\n",
       "<p>286 rows × 10 columns</p>\n",
       "</div>"
      ],
      "text/plain": [
       "            date location  new_cases  new_deaths  total_cases  total_deaths  \\\n",
       "31202 2019-12-31    Nepal          0           0            0             0   \n",
       "31203 2020-01-01    Nepal          0           0            0             0   \n",
       "31204 2020-01-02    Nepal          0           0            0             0   \n",
       "31205 2020-01-03    Nepal          0           0            0             0   \n",
       "31206 2020-01-04    Nepal          0           0            0             0   \n",
       "...          ...      ...        ...         ...          ...           ...   \n",
       "31483 2020-10-07    Nepal       1551           9        90814           563   \n",
       "31484 2020-10-08    Nepal       3439          15        94253           578   \n",
       "31485 2020-10-09    Nepal       4364          12        98617           590   \n",
       "31486 2020-10-10    Nepal       2059          10       100676           600   \n",
       "31487 2020-10-11    Nepal       5008          14       105684           614   \n",
       "\n",
       "       weekly_cases  weekly_deaths  biweekly_cases  biweekly_deaths  \n",
       "31202             0              0               0                0  \n",
       "31203             0              0               0                0  \n",
       "31204             0              0               0                0  \n",
       "31205             0              0               0                0  \n",
       "31206             0              0               0                0  \n",
       "...             ...            ...             ...              ...  \n",
       "31483         14556             72           24182              134  \n",
       "31484         16436             80           26449              142  \n",
       "31485         18889             81           29316              137  \n",
       "31486         18226             80           30062              141  \n",
       "31487         21114             86           33863              147  \n",
       "\n",
       "[286 rows x 10 columns]"
      ]
     },
     "execution_count": 12,
     "metadata": {},
     "output_type": "execute_result"
    }
   ],
   "source": [
    "full_data_nepal"
   ]
  },
  {
   "cell_type": "code",
   "execution_count": 13,
   "metadata": {
    "_kg_hide-input": true
   },
   "outputs": [],
   "source": [
    "full_data_nepal_process = full_data_nepal[['date', 'new_cases', 'new_deaths', 'total_cases',\n",
    "       'weekly_cases', 'biweekly_cases'\n",
    "       ]]"
   ]
  },
  {
   "cell_type": "markdown",
   "metadata": {},
   "source": [
    "# Correlations between Data"
   ]
  },
  {
   "cell_type": "code",
   "execution_count": 14,
   "metadata": {
    "_kg_hide-input": true
   },
   "outputs": [
    {
     "data": {
      "image/png": "[encoded data removed]",
      "text/plain": [
       "<Figure size 1080x864 with 2 Axes>"
      ]
     },
     "metadata": {},
     "output_type": "display_data"
    }
   ],
   "source": [
    "full_data_nepal_process['date'] = full_data_nepal_process['date'].dt.strftime('%y%m%d')\n",
    "full_data_nepal_process['date'] = full_data_nepal_process['date'].astype(int)\n",
    "\n",
    "plt.rcParams['figure.figsize'] = (15, 12)\n",
    "sns.heatmap(full_data_nepal_process.corr(), cmap='gray', annot=True)\n",
    "plt.show()"
   ]
  },
  {
   "cell_type": "markdown",
   "metadata": {},
   "source": [
    "* Almost all features are highly correlated with eachother"
   ]
  },
  {
   "cell_type": "markdown",
   "metadata": {},
   "source": [
    "# New Death Case Prediction"
   ]
  },
  {
   "cell_type": "code",
   "execution_count": 15,
   "metadata": {
    "_kg_hide-input": true
   },
   "outputs": [],
   "source": [
    "full_data_nepal_process['date'].head()\n",
    "\n",
    "X = full_data_nepal_process[['date', 'total_cases', 'new_cases',\n",
    "        'weekly_cases', 'biweekly_cases'\n",
    "       ]].to_numpy()\n",
    "\n",
    "\n",
    "Y = full_data_nepal_process[['new_deaths']].to_numpy()\n",
    "\n",
    "from sklearn.model_selection import train_test_split\n",
    "\n",
    "#make the x for train and test (also called validation data) \n",
    "x_train,x_test,y_train,y_test = train_test_split(X,Y,train_size=0.9,random_state=42, shuffle=True)"
   ]
  },
  {
   "cell_type": "markdown",
   "metadata": {},
   "source": [
    "# Model Building\n",
    "\n",
    "Model building and tuning is done using PYCaret which is a AutoML Solution for Machine Learning"
   ]
  },
  {
   "cell_type": "code",
   "execution_count": 16,
   "metadata": {},
   "outputs": [],
   "source": [
    "from sklearn.neighbors import KNeighborsRegressor\n",
    "from joblib import dump, load\n",
    "\n",
    "def return_error(x_train,x_test,y_train):\n",
    "    model = KNeighborsRegressor(algorithm='ball_tree', leaf_size=50, metric='minkowski',\n",
    "                    metric_params=None, n_jobs=-1, n_neighbors=14, p=2,\n",
    "                    weights='uniform')\n",
    "    model.fit(x_train, y_train)\n",
    "    dump(model, 'regressor.joblib')\n",
    "    \n",
    "    predict = model.predict(x_test)\n",
    "    return predict"
   ]
  },
  {
   "cell_type": "code",
   "execution_count": 17,
   "metadata": {},
   "outputs": [],
   "source": [
    "y_train = y_train.ravel()\n",
    "predict = return_error(x_train,x_test,y_train)"
   ]
  },
  {
   "cell_type": "markdown",
   "metadata": {},
   "source": [
    "# Scatter Plot: Actual  VS Predict Salary"
   ]
  },
  {
   "cell_type": "markdown",
   "metadata": {},
   "source": [
    "# R2\n",
    "\n",
    "R Square is calculated by the sum of squared of prediction error divided by the total sum of square which replace the calculated prediction with mean. R Square value is between 0 to 1 and bigger value indicates a better fit between prediction and actual value.\n",
    "\n",
    "For more Info: [About Value of R2](https://www.researchgate.net/post/What_is_the_acceptable_R-squared_in_the_information_system_research_Can_you_provide_some_references)"
   ]
  },
  {
   "cell_type": "code",
   "execution_count": 18,
   "metadata": {
    "_kg_hide-input": true
   },
   "outputs": [
    {
     "data": {
      "text/plain": [
       "0.7737931711145996"
      ]
     },
     "execution_count": 18,
     "metadata": {},
     "output_type": "execute_result"
    }
   ],
   "source": [
    "from sklearn.metrics import r2_score\n",
    "\n",
    "#for total cases\n",
    "r2_score(y_test, predict)"
   ]
  },
  {
   "cell_type": "markdown",
   "metadata": {},
   "source": [
    "# MSE\n",
    "\n",
    "While R Square is a relative measure of how well the model fits dependent variables, Mean Square Error is an absolute measure of the goodness for the fit."
   ]
  },
  {
   "cell_type": "code",
   "execution_count": 19,
   "metadata": {
    "_kg_hide-input": true
   },
   "outputs": [
    {
     "data": {
      "text/plain": [
       "3.1889514426460246"
      ]
     },
     "execution_count": 19,
     "metadata": {},
     "output_type": "execute_result"
    }
   ],
   "source": [
    "from sklearn.metrics import mean_squared_error\n",
    "\n",
    "#for total cases\n",
    "mean_squared_error(y_test, predict)"
   ]
  },
  {
   "cell_type": "markdown",
   "metadata": {},
   "source": [
    "# Distribution Plot of Actual Deaths VS Predict Deaths"
   ]
  },
  {
   "cell_type": "code",
   "execution_count": 20,
   "metadata": {
    "_kg_hide-input": true
   },
   "outputs": [
    {
     "data": {
      "text/plain": [
       "<matplotlib.axes._subplots.AxesSubplot at 0x7f7e3090ebd0>"
      ]
     },
     "execution_count": 20,
     "metadata": {},
     "output_type": "execute_result"
    },
    {
     "data": {
      "image/png": "[encoded data removed]",
      "text/plain": [
       "<Figure size 1080x864 with 1 Axes>"
      ]
     },
     "metadata": {},
     "output_type": "display_data"
    }
   ],
   "source": [
    "import numpy as np\n",
    "import matplotlib.pyplot as plt\n",
    "\n",
    "hist1 = y_test\n",
    "hist2 = predict\n",
    "\n",
    "from scipy.stats import norm\n",
    "\n",
    "sns.distplot(hist1,color=\"b\",hist=False, label='Actual Death')\n",
    "sns.distplot(hist2,hist=False,color='red', label='Predicted Death')"
   ]
  },
  {
   "cell_type": "markdown",
   "metadata": {},
   "source": [
    "# More Analysis in Coming Days"
   ]
  }
 ],
 "metadata": {
  "kernelspec": {
   "display_name": "Python 3",
   "language": "python",
   "name": "python3"
  },
  "language_info": {
   "codemirror_mode": {
    "name": "ipython",
    "version": 3
   },
   "file_extension": ".py",
   "mimetype": "text/x-python",
   "name": "python",
   "nbconvert_exporter": "python",
   "pygments_lexer": "ipython3",
   "version": "3.6.12"
  }
 },
 "nbformat": 4,
 "nbformat_minor": 4
}
